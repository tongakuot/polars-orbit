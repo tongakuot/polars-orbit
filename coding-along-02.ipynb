{
 "cells": [
  {
   "cell_type": "code",
   "execution_count": 2,
   "metadata": {},
   "outputs": [],
   "source": [
    "# Load Libraries\n",
    "import polars as pl \n",
    "import polars.selectors as cs "
   ]
  },
  {
   "cell_type": "markdown",
   "metadata": {},
   "source": [
    "## Aggregations with Polars"
   ]
  },
  {
   "cell_type": "code",
   "execution_count": 3,
   "metadata": {},
   "outputs": [
    {
     "name": "stdout",
     "output_type": "stream",
     "text": [
      "shape: (4, 5)\n",
      "┌────────┬──────┬──────────────┬─────────┬─────────┐\n",
      "│ name   ┆ math ┆ data science ┆ english ┆ swahili │\n",
      "│ ---    ┆ ---  ┆ ---          ┆ ---     ┆ ---     │\n",
      "│ str    ┆ i64  ┆ i64          ┆ i64     ┆ i64     │\n",
      "╞════════╪══════╪══════════════╪═════════╪═════════╡\n",
      "│ Atong  ┆ 99   ┆ 92           ┆ 81      ┆ 94      │\n",
      "│ Deng   ┆ 98   ┆ null         ┆ 83      ┆ 92      │\n",
      "│ Nyapal ┆ 95   ┆ 99           ┆ 75      ┆ 99      │\n",
      "│ Ayen   ┆ 90   ┆ 88           ┆ 89      ┆ 98      │\n",
      "└────────┴──────┴──────────────┴─────────┴─────────┘\n"
     ]
    }
   ],
   "source": [
    "student_grades = pl.DataFrame(\n",
    "    {'name':['Atong', 'Deng', 'Nyapal', 'Ayen'],\n",
    "    'math':[99, 98, 95, 90],\n",
    "    'data science':[92, None, 99, 88],\n",
    "    'english':[81, 83, 75, 89],\n",
    "    'swahili':[94, 92, 99, 98]\n",
    "    })\n",
    "\n",
    "# Inspect the data\n",
    "print(student_grades)"
   ]
  },
  {
   "cell_type": "code",
   "execution_count": 4,
   "metadata": {},
   "outputs": [
    {
     "name": "stdout",
     "output_type": "stream",
     "text": [
      "shape: (4, 5)\n",
      "┌──────────────────┬──────────────────┬────────────────┬───────┬───────────┐\n",
      "│ scores           ┆ ordered_scores   ┆ trimmed_scores ┆ total ┆ avg_score │\n",
      "│ ---              ┆ ---              ┆ ---            ┆ ---   ┆ ---       │\n",
      "│ list[i64]        ┆ list[i64]        ┆ list[i64]      ┆ i64   ┆ i64       │\n",
      "╞══════════════════╪══════════════════╪════════════════╪═══════╪═══════════╡\n",
      "│ [99, 92, … 94]   ┆ [81, 92, … 99]   ┆ [94, 99]       ┆ 193   ┆ 81        │\n",
      "│ [98, null, … 92] ┆ [null, 83, … 98] ┆ [92, 98]       ┆ 190   ┆ 83        │\n",
      "│ [95, 99, … 99]   ┆ [75, 95, … 99]   ┆ [99, 99]       ┆ 198   ┆ 75        │\n",
      "│ [90, 88, … 98]   ┆ [88, 89, … 98]   ┆ [90, 98]       ┆ 188   ┆ 88        │\n",
      "└──────────────────┴──────────────────┴────────────────┴───────┴───────────┘\n"
     ]
    }
   ],
   "source": [
    "# Identifying and Removing the lowest two grades\n",
    "print(\n",
    "    student_grades\n",
    "    .select(scores=pl.concat_list(cs.integer(),))\n",
    "    .with_columns(ordered_scores=pl.col('scores').list.sort())\n",
    "    .with_columns(trimmed_scores=pl.col('ordered_scores').list.slice(2, 4))\n",
    "    .with_columns(total=pl.col('trimmed_scores').list.sum())\n",
    "    .with_columns(avg_score=pl.col('scores').list.mean())\n",
    "    .with_columns(avg_score=pl.col('scores').list.max())\n",
    "    .with_columns(avg_score=pl.col('scores').list.min())\n",
    ")"
   ]
  },
  {
   "cell_type": "code",
   "execution_count": 5,
   "metadata": {},
   "outputs": [
    {
     "name": "stdout",
     "output_type": "stream",
     "text": [
      "shape: (5, 14)\n",
      "┌────────────┬────────────┬────────────┬───────┬───┬───────────┬───────────┬───────────┬───────────┐\n",
      "│ Sector     ┆ Community  ┆ Category   ┆ Crime ┆ … ┆ Calgary   ┆ Ward Boun ┆ Ward Boun ┆ City      │\n",
      "│ ---        ┆ Name       ┆ ---        ┆ Count ┆   ┆ Communiti ┆ daries    ┆ daries    ┆ Quadrants │\n",
      "│ str        ┆ ---        ┆ str        ┆ ---   ┆   ┆ es        ┆ 2013-2017 ┆ ---       ┆ ---       │\n",
      "│            ┆ str        ┆            ┆ i64   ┆   ┆ ---       ┆ ---       ┆ i64       ┆ i64       │\n",
      "│            ┆            ┆            ┆       ┆   ┆ i64       ┆ i64       ┆           ┆           │\n",
      "╞════════════╪════════════╪════════════╪═══════╪═══╪═══════════╪═══════════╪═══════════╪═══════════╡\n",
      "│ NORTHWEST  ┆ 02E        ┆ Violence   ┆ 1     ┆ … ┆ 204       ┆ 10        ┆ 3         ┆ 2         │\n",
      "│            ┆            ┆ 'Other'    ┆       ┆   ┆           ┆           ┆           ┆           │\n",
      "│            ┆            ┆ (Non-domes ┆       ┆   ┆           ┆           ┆           ┆           │\n",
      "│            ┆            ┆ tic)       ┆       ┆   ┆           ┆           ┆           ┆           │\n",
      "│ SOUTHEAST  ┆ 12A        ┆ Theft OF   ┆ 2     ┆ … ┆ 226       ┆ 8         ┆ 4         ┆ 3         │\n",
      "│            ┆            ┆ Vehicle    ┆       ┆   ┆           ┆           ┆           ┆           │\n",
      "│ SOUTHEAST  ┆ 12J        ┆ Theft OF   ┆ 1     ┆ … ┆ 205       ┆ 8         ┆ 4         ┆ 3         │\n",
      "│            ┆            ┆ Vehicle    ┆       ┆   ┆           ┆           ┆           ┆           │\n",
      "│ NORTHEAST  ┆ ABBEYDALE  ┆ Assault    ┆ 1     ┆ … ┆ 94        ┆ 3         ┆ 12        ┆ 4         │\n",
      "│            ┆            ┆ (Non-domes ┆       ┆   ┆           ┆           ┆           ┆           │\n",
      "│            ┆            ┆ tic)       ┆       ┆   ┆           ┆           ┆           ┆           │\n",
      "│ NORTHEAST  ┆ ABBEYDALE  ┆ Break &    ┆ 2     ┆ … ┆ 94        ┆ 3         ┆ 12        ┆ 4         │\n",
      "│            ┆            ┆ Enter -    ┆       ┆   ┆           ┆           ┆           ┆           │\n",
      "│            ┆            ┆ Commercial ┆       ┆   ┆           ┆           ┆           ┆           │\n",
      "└────────────┴────────────┴────────────┴───────┴───┴───────────┴───────────┴───────────┴───────────┘\n"
     ]
    }
   ],
   "source": [
    "# Importing dataset\n",
    "url = 'https://raw.githubusercontent.com/tongakuot/alierwai-datastudio/main/case-studies/posts/2023/10/18/Community_Crime_Statistics.csv'\n",
    "\n",
    "crime_raw = pl.read_csv(url)\n",
    "\n",
    "print(crime_raw.head())"
   ]
  },
  {
   "cell_type": "code",
   "execution_count": 6,
   "metadata": {},
   "outputs": [
    {
     "data": {
      "text/plain": [
       "['Sector',\n",
       " 'Community Name',\n",
       " 'Category',\n",
       " 'Crime Count',\n",
       " 'Date',\n",
       " 'Year',\n",
       " 'Month',\n",
       " 'ID',\n",
       " 'Resident Count',\n",
       " 'Community Center Point',\n",
       " 'Calgary Communities',\n",
       " 'Ward Boundaries 2013-2017',\n",
       " 'Ward Boundaries',\n",
       " 'City Quadrants']"
      ]
     },
     "execution_count": 6,
     "metadata": {},
     "output_type": "execute_result"
    }
   ],
   "source": [
    "list(crime_raw.columns)"
   ]
  },
  {
   "cell_type": "code",
   "execution_count": 7,
   "metadata": {},
   "outputs": [
    {
     "name": "stdout",
     "output_type": "stream",
     "text": [
      "shape: (79_982, 7)\n",
      "┌───────────┬──────────────────────────┬────────────────────┬─────────────┬─────────┬──────┬───────┐\n",
      "│ sector    ┆ community_name           ┆ category           ┆ crime_count ┆ date    ┆ year ┆ month │\n",
      "│ ---       ┆ ---                      ┆ ---                ┆ ---         ┆ ---     ┆ ---  ┆ ---   │\n",
      "│ str       ┆ str                      ┆ str                ┆ i64         ┆ str     ┆ i64  ┆ str   │\n",
      "╞═══════════╪══════════════════════════╪════════════════════╪═════════════╪═════════╪══════╪═══════╡\n",
      "│ EAST      ┆ FOREST HEIGHTS           ┆ Street Robbery     ┆ 1           ┆ 2017/08 ┆ 2017 ┆ AUG   │\n",
      "│ NORTH     ┆ NORTH HAVEN              ┆ Theft OF Vehicle   ┆ 1           ┆ 2017/11 ┆ 2017 ┆ NOV   │\n",
      "│ WEST      ┆ GLAMORGAN                ┆ Street Robbery     ┆ 1           ┆ 2017/06 ┆ 2017 ┆ JUN   │\n",
      "│ NORTHWEST ┆ BRENTWOOD                ┆ Assault            ┆ 1           ┆ 2017/06 ┆ 2017 ┆ JUN   │\n",
      "│           ┆                          ┆ (Non-domestic)     ┆             ┆         ┆      ┆       │\n",
      "│ CENTRE    ┆ BEL-AIRE                 ┆ Theft OF Vehicle   ┆ 1           ┆ 2017/11 ┆ 2017 ┆ NOV   │\n",
      "│ …         ┆ …                        ┆ …                  ┆ …           ┆ …       ┆ …    ┆ …     │\n",
      "│ EAST      ┆ FOREST LAWN              ┆ Violence  'Other'  ┆ 6           ┆ 2023/02 ┆ 2023 ┆ FEB   │\n",
      "│           ┆                          ┆ (Non-domestic)     ┆             ┆         ┆      ┆       │\n",
      "│ CENTRE    ┆ DOWNTOWN COMMERCIAL CORE ┆ Violence Other     ┆ 10          ┆ 2023/03 ┆ 2023 ┆ MAR   │\n",
      "│           ┆                          ┆ (Non-domestic)     ┆             ┆         ┆      ┆       │\n",
      "│ EAST      ┆ FOREST LAWN INDUSTRIAL   ┆ Theft FROM Vehicle ┆ null        ┆ 2023/05 ┆ 2023 ┆ MAY   │\n",
      "│ CENTRE    ┆ DOWNTOWN COMMERCIAL CORE ┆ Violence  'Other'  ┆ 10          ┆ 2023/03 ┆ 2023 ┆ MAR   │\n",
      "│           ┆                          ┆ (Non-domestic)     ┆             ┆         ┆      ┆       │\n",
      "│ NORTH     ┆ BEDDINGTON HEIGHTS       ┆ Violence Other     ┆ 3           ┆ 2023/01 ┆ 2023 ┆ JAN   │\n",
      "│           ┆                          ┆ (Non-domestic)     ┆             ┆         ┆      ┆       │\n",
      "└───────────┴──────────────────────────┴────────────────────┴─────────────┴─────────┴──────┴───────┘\n"
     ]
    }
   ],
   "source": [
    "# Clean & transform crime data\n",
    "crime_df = (\n",
    "    crime_raw\n",
    "    .select(['Sector', 'Community Name', 'Category',\n",
    "             'Crime Count', 'Date', 'Year', 'Month'])\n",
    "    .select(pl.all().name.to_lowercase())\n",
    "    .rename({'crime count': 'crime_count', 'community name': 'community_name'})\n",
    "    .sort('year')\n",
    ")\n",
    "\n",
    "# Inspect the first 5 rows\n",
    "print(crime_df)"
   ]
  },
  {
   "cell_type": "code",
   "execution_count": 8,
   "metadata": {},
   "outputs": [
    {
     "name": "stdout",
     "output_type": "stream",
     "text": [
      "shape: (5, 12)\n",
      "┌───────────┬────────────┬───────────┬───────────┬───┬─────────┬───────────┬───────────┬───────────┐\n",
      "│ sector    ┆ community_ ┆ category  ┆ crime_cou ┆ … ┆ month_2 ┆ year_mont ┆ year_mont ┆ starts_wi │\n",
      "│ ---       ┆ name       ┆ ---       ┆ nt        ┆   ┆ ---     ┆ h         ┆ h_day     ┆ th_number │\n",
      "│ str       ┆ ---        ┆ str       ┆ ---       ┆   ┆ i8      ┆ ---       ┆ ---       ┆ ---       │\n",
      "│           ┆ str        ┆           ┆ i64       ┆   ┆         ┆ str       ┆ str       ┆ bool      │\n",
      "╞═══════════╪════════════╪═══════════╪═══════════╪═══╪═════════╪═══════════╪═══════════╪═══════════╡\n",
      "│ Northeast ┆ Abbeydale  ┆ Break-ins ┆ 1         ┆ … ┆ 8       ┆ 2017-08   ┆ 2017-08-0 ┆ false     │\n",
      "│           ┆            ┆ - Commerc ┆           ┆   ┆         ┆           ┆ 1         ┆           │\n",
      "│           ┆            ┆ ial       ┆           ┆   ┆         ┆           ┆           ┆           │\n",
      "│ Northeast ┆ Abbeydale  ┆ Non-domes ┆ 1         ┆ … ┆ 8       ┆ 2017-08   ┆ 2017-08-0 ┆ false     │\n",
      "│           ┆            ┆ tic       ┆           ┆   ┆         ┆           ┆ 1         ┆           │\n",
      "│           ┆            ┆ Violence  ┆           ┆   ┆         ┆           ┆           ┆           │\n",
      "│ Northeast ┆ Abbeydale  ┆ Break-ins ┆ 1         ┆ … ┆ 9       ┆ 2017-09   ┆ 2017-09-0 ┆ false     │\n",
      "│           ┆            ┆ - Other   ┆           ┆   ┆         ┆           ┆ 1         ┆           │\n",
      "│           ┆            ┆ premises  ┆           ┆   ┆         ┆           ┆           ┆           │\n",
      "│ Northeast ┆ Abbeydale  ┆ Break-ins ┆ 1         ┆ … ┆ 10      ┆ 2017-10   ┆ 2017-10-0 ┆ false     │\n",
      "│           ┆            ┆ - Residen ┆           ┆   ┆         ┆           ┆ 1         ┆           │\n",
      "│           ┆            ┆ tial      ┆           ┆   ┆         ┆           ┆           ┆           │\n",
      "│ Northeast ┆ Abbeydale  ┆ Non-domes ┆ 1         ┆ … ┆ 8       ┆ 2017-08   ┆ 2017-08-0 ┆ false     │\n",
      "│           ┆            ┆ tic       ┆           ┆   ┆         ┆           ┆ 1         ┆           │\n",
      "│           ┆            ┆ Violence  ┆           ┆   ┆         ┆           ┆           ┆           │\n",
      "└───────────┴────────────┴───────────┴───────────┴───┴─────────┴───────────┴───────────┴───────────┘\n"
     ]
    }
   ],
   "source": [
    "# Clean & transform - sector, community name, category and date columns\n",
    "cat_mappings = {\n",
    "    \"Assault (non-domestic)\": \"Non-domestic Violence\",\n",
    "    \"Break & Enter - Other Premises\": \"Break-ins - Other premises\",\n",
    "    \"Break & Enter - Dwelling\": \"Break-ins - Residential\",\n",
    "    \"Break & Enter - Commercial\": \"Break-ins - Commercial\",\n",
    "    \"Violence Other (non-domestic)\": \"Non-domestic Violence\",\n",
    "    \"Violence\\xa0 'other' (non-domestic)\": \"Non-domestic Violence\",\n",
    "    \"Commercial Robbery\": \"Robbery - Commercial\",\n",
    "    \"Theft Of Vehicle\": \"Theft of Vehicle\",\n",
    "    \"Theft From Vehicle\": \"Theft from Vehicle\",\n",
    "    \"Street Robbery\": \"Robbery - Street\"\n",
    "}\n",
    "\n",
    "crime_cleaned = (\n",
    "    crime_df    \n",
    "    .with_columns(cs.string().str.to_titlecase())\n",
    "    .with_columns(date=pl.col('date').str.to_datetime('%Y/%m').cast(pl.Datetime))\n",
    "    .with_columns(\n",
    "        year_2=pl.col('date').dt.year(),\n",
    "        month_2=pl.col('date').dt.month(),\n",
    "        year_month=pl.col('date').dt.strftime('%Y-%m'),\n",
    "        year_month_day=pl.col('date').dt.strftime('%Y-%m-%d'),\n",
    "        category=pl.col('category').str.strip_chars().replace(cat_mappings)\n",
    "    )\n",
    "    .with_columns(starts_with_number=pl.col('community_name').str.contains(r'^(\\d+)'))\n",
    "    .sort('community_name')\n",
    "    .filter(~pl.col('starts_with_number'))\n",
    ")\n",
    "\n",
    "# inspect the first 3 rows\n",
    "print(crime_cleaned.head())"
   ]
  },
  {
   "cell_type": "code",
   "execution_count": 9,
   "metadata": {},
   "outputs": [
    {
     "name": "stdout",
     "output_type": "stream",
     "text": [
      "shape: (8, 1)\n",
      "┌────────────────────────────┐\n",
      "│ category                   │\n",
      "│ ---                        │\n",
      "│ str                        │\n",
      "╞════════════════════════════╡\n",
      "│ Break-ins - Other premises │\n",
      "│ Break-ins - Commercial     │\n",
      "│ Robbery - Street           │\n",
      "│ Theft from Vehicle         │\n",
      "│ Theft of Vehicle           │\n",
      "│ Robbery - Commercial       │\n",
      "│ Break-ins - Residential    │\n",
      "│ Non-domestic Violence      │\n",
      "└────────────────────────────┘\n"
     ]
    }
   ],
   "source": [
    "# Clean & transform - category\n",
    "print(\n",
    "    crime_cleaned\n",
    "    .select('category')\n",
    "    .unique()\n",
    ")\n",
    "\n"
   ]
  },
  {
   "cell_type": "code",
   "execution_count": 10,
   "metadata": {},
   "outputs": [
    {
     "name": "stdout",
     "output_type": "stream",
     "text": [
      "shape: (5, 13)\n",
      "┌───────────┬────────────┬────────────┬────────────┬───┬────────────┬───────────┬───────────┬──────┐\n",
      "│ sector    ┆ community_ ┆ category   ┆ crime_coun ┆ … ┆ year_month ┆ year_mont ┆ starts_wi ┆ aa   │\n",
      "│ ---       ┆ name       ┆ ---        ┆ t          ┆   ┆ ---        ┆ h_day     ┆ th_number ┆ ---  │\n",
      "│ str       ┆ ---        ┆ str        ┆ ---        ┆   ┆ str        ┆ ---       ┆ ---       ┆ bool │\n",
      "│           ┆ str        ┆            ┆ i64        ┆   ┆            ┆ str       ┆ bool      ┆      │\n",
      "╞═══════════╪════════════╪════════════╪════════════╪═══╪════════════╪═══════════╪═══════════╪══════╡\n",
      "│ Northwest ┆ 01b        ┆ Theft from ┆ 1          ┆ … ┆ 2017-07    ┆ 2017-07-0 ┆ true      ┆ true │\n",
      "│           ┆            ┆ Vehicle    ┆            ┆   ┆            ┆ 1         ┆           ┆      │\n",
      "│ Northwest ┆ 01b        ┆ Theft from ┆ 1          ┆ … ┆ 2017-11    ┆ 2017-11-0 ┆ true      ┆ true │\n",
      "│           ┆            ┆ Vehicle    ┆            ┆   ┆            ┆ 1         ┆           ┆      │\n",
      "│ Northwest ┆ 01b        ┆ Theft from ┆ 1          ┆ … ┆ 2017-08    ┆ 2017-08-0 ┆ true      ┆ true │\n",
      "│           ┆            ┆ Vehicle    ┆            ┆   ┆            ┆ 1         ┆           ┆      │\n",
      "│ Northwest ┆ 01b        ┆ Theft from ┆ 1          ┆ … ┆ 2018-01    ┆ 2018-01-0 ┆ true      ┆ true │\n",
      "│           ┆            ┆ Vehicle    ┆            ┆   ┆            ┆ 1         ┆           ┆      │\n",
      "│ Northwest ┆ 01b        ┆ Theft from ┆ 1          ┆ … ┆ 2018-02    ┆ 2018-02-0 ┆ true      ┆ true │\n",
      "│           ┆            ┆ Vehicle    ┆            ┆   ┆            ┆ 1         ┆           ┆      │\n",
      "└───────────┴────────────┴────────────┴────────────┴───┴────────────┴───────────┴───────────┴──────┘\n"
     ]
    }
   ],
   "source": [
    "# Transforming category column with pl.when() method\n",
    "crime_data = (\n",
    "    crime_df    \n",
    "    .with_columns(cs.string().str.to_titlecase())\n",
    "    .with_columns(date=pl.col('date').str.to_datetime('%Y/%m').cast(pl.Datetime))\n",
    "    .with_columns(\n",
    "        year_2=pl.col('date').dt.year(),\n",
    "        month_2=pl.col('date').dt.month(),\n",
    "        year_month=pl.col('date').dt.strftime('%Y-%m'),\n",
    "        year_month_day=pl.col('date').dt.strftime('%Y-%m-%d'),\n",
    "        # category=pl.col('category').str.strip_chars().replace(cat_mappings)\n",
    "    )\n",
    "    .with_columns(\n",
    "        category=pl.when(pl.col('category').str.contains('Violence|Assault'))\n",
    "        .then(pl.lit('Non-domestic Violence'))\n",
    "        .when(pl.col('category').str.ends_with('Premises'))\n",
    "        .then(pl.lit('Break-ins - Other premises'))\n",
    "        .when(pl.col('category').str.ends_with('Dwelling'))\n",
    "        .then(pl.lit('Break-ins - Residential'))\n",
    "        .when(pl.col('category').str.ends_with('Commercial'))\n",
    "        .then(pl.lit('Break-ins - Commercial'))\n",
    "        .when(pl.col('category').str.starts_with('Commercial'))\n",
    "        .then(pl.lit('Robbery - Commercial'))\n",
    "        .when(pl.col('category').str.starts_with('Street'))\n",
    "        .then(pl.lit('Robbery - Street'))\n",
    "        .when(pl.col('category').str.starts_with('Theft From'))\n",
    "        .then(pl.lit('Theft from Vehicle'))\n",
    "        .otherwise(pl.lit('Theft of Vehicle'))\n",
    "    )\n",
    "    .with_columns(starts_with_number=pl.col('community_name').str.extract(r'^(\\d+)', 1).is_not_null())\n",
    "    .with_columns(aa=pl.col('community_name').str.contains(r'^(\\d+)'))\n",
    "    .sort('community_name')\n",
    ")\n",
    "\n",
    "# inspect the first 3 rows\n",
    "print(crime_data.head())"
   ]
  },
  {
   "cell_type": "code",
   "execution_count": 11,
   "metadata": {},
   "outputs": [
    {
     "name": "stdout",
     "output_type": "stream",
     "text": [
      "shape: (8, 1)\n",
      "┌────────────────────────────┐\n",
      "│ category                   │\n",
      "│ ---                        │\n",
      "│ str                        │\n",
      "╞════════════════════════════╡\n",
      "│ Break-ins - Commercial     │\n",
      "│ Robbery - Commercial       │\n",
      "│ Robbery - Street           │\n",
      "│ Break-ins - Other premises │\n",
      "│ Break-ins - Residential    │\n",
      "│ Theft from Vehicle         │\n",
      "│ Non-domestic Violence      │\n",
      "│ Theft of Vehicle           │\n",
      "└────────────────────────────┘\n"
     ]
    }
   ],
   "source": [
    "# Clean & transform - category\n",
    "print(\n",
    "    crime_data\n",
    "    .select('category')\n",
    "    .unique()\n",
    ")\n"
   ]
  },
  {
   "cell_type": "code",
   "execution_count": 12,
   "metadata": {},
   "outputs": [],
   "source": [
    "# Tweaking auto data\n",
    "def tweak_crime_data(df):\n",
    "        \"\"\"\n",
    "        Cleans and transforms crime data for analysis.\n",
    "    \n",
    "        This function processes a DataFrame containing crime data by performing the following steps:\n",
    "        1. Selects relevant columns and renames them to lowercase.\n",
    "        2. Renames specific columns to more descriptive names.\n",
    "        3. Converts string columns to title case.\n",
    "        4. Converts the 'date' column to a datetime object and extracts year and month information.\n",
    "        5. Maps specific crime categories to standardized categories.\n",
    "        6. Identifies and flags rows where the community name starts with a number.\n",
    "        7. Sorts the DataFrame by 'community_name' and 'year'.\n",
    "        8. Filters out rows where the community name starts with a number.\n",
    "        9. Selects and returns the final set of relevant columns for analysis.\n",
    "    \n",
    "        Args:\n",
    "            df (pl.DataFrame): The input DataFrame containing crime data with columns 'Sector', 'Community Name', 'Category', 'Crime Count', and 'Date'.\n",
    "    \n",
    "        Returns:\n",
    "            pl.DataFrame: A cleaned and transformed DataFrame with relevant columns for analysis.\n",
    "        \"\"\"\n",
    "        cat_mappings = {\n",
    "        \"Assault (non-domestic)\": \"Non-domestic Violence\",\n",
    "        \"Break & Enter - Other Premises\": \"Break-ins - Other premises\",\n",
    "        \"Break & Enter - Dwelling\": \"Break-ins - Residential\",\n",
    "        \"Break & Enter - Commercial\": \"Break-ins - Commercial\",\n",
    "        \"Violence Other (non-domestic)\": \"Non-domestic Violence\",\n",
    "        \"Violence\\xa0 'other' (non-domestic)\": \"Non-domestic Violence\",\n",
    "        \"Commercial Robbery\": \"Robbery - Commercial\",\n",
    "        \"Theft Of Vehicle\": \"Theft of Vehicle\",\n",
    "        \"Theft From Vehicle\": \"Theft from Vehicle\",\n",
    "        \"Street Robbery\": \"Robbery - Street\"\n",
    "        }\n",
    "\n",
    "        return(\n",
    "            df   \n",
    "            .select('Sector', 'Community Name', 'Category', 'Crime Count', 'Date')\n",
    "            .select(pl.all().name.to_lowercase())\n",
    "            .rename({'crime count': 'crime_count', 'community name': 'community_name'}) \n",
    "            .with_columns(cs.string().str.to_titlecase())\n",
    "            .with_columns(date=pl.col('date').str.to_datetime('%Y/%m').cast(pl.Datetime))\n",
    "            .with_columns(\n",
    "                year=pl.col('date').dt.year(),\n",
    "                month=pl.col('date').dt.month(),\n",
    "                year_month=pl.col('date').dt.strftime('%Y-%m'),\n",
    "                category=pl.col('category').str.strip_chars().replace(cat_mappings)\n",
    "            )\n",
    "           .with_columns(starts_with_number=pl.col('community_name').str.contains(r'^(\\d+)'))\n",
    "           .sort(['community_name', 'year'])\n",
    "           .filter(~pl.col('starts_with_number') & pl.col('sector').is_not_null())\n",
    "           .select('sector', 'community_name', 'category', 'crime_count', 'year_month', 'year', 'month')\n",
    "        )\n"
   ]
  },
  {
   "cell_type": "code",
   "execution_count": 13,
   "metadata": {},
   "outputs": [
    {
     "name": "stdout",
     "output_type": "stream",
     "text": [
      "shape: (78_775, 7)\n",
      "┌───────────┬────────────────┬─────────────────────────┬─────────────┬────────────┬──────┬───────┐\n",
      "│ sector    ┆ community_name ┆ category                ┆ crime_count ┆ year_month ┆ year ┆ month │\n",
      "│ ---       ┆ ---            ┆ ---                     ┆ ---         ┆ ---        ┆ ---  ┆ ---   │\n",
      "│ str       ┆ str            ┆ str                     ┆ i64         ┆ str        ┆ i32  ┆ i8    │\n",
      "╞═══════════╪════════════════╪═════════════════════════╪═════════════╪════════════╪══════╪═══════╡\n",
      "│ Northeast ┆ Abbeydale      ┆ Theft of Vehicle        ┆ 3           ┆ 2017-09    ┆ 2017 ┆ 9     │\n",
      "│ Northeast ┆ Abbeydale      ┆ Non-domestic Violence   ┆ 2           ┆ 2017-05    ┆ 2017 ┆ 5     │\n",
      "│ Northeast ┆ Abbeydale      ┆ Non-domestic Violence   ┆ 3           ┆ 2017-01    ┆ 2017 ┆ 1     │\n",
      "│ Northeast ┆ Abbeydale      ┆ Non-domestic Violence   ┆ 2           ┆ 2017-09    ┆ 2017 ┆ 9     │\n",
      "│ Northeast ┆ Abbeydale      ┆ Theft from Vehicle      ┆ 4           ┆ 2017-01    ┆ 2017 ┆ 1     │\n",
      "│ …         ┆ …              ┆ …                       ┆ …           ┆ …          ┆ …    ┆ …     │\n",
      "│ South     ┆ Yorkville      ┆ Break-ins - Residential ┆ 1           ┆ 2022-08    ┆ 2022 ┆ 8     │\n",
      "│ South     ┆ Yorkville      ┆ Theft from Vehicle      ┆ 1           ┆ 2022-11    ┆ 2022 ┆ 11    │\n",
      "│ South     ┆ Yorkville      ┆ Theft from Vehicle      ┆ 1           ┆ 2023-06    ┆ 2023 ┆ 6     │\n",
      "│ South     ┆ Yorkville      ┆ Theft from Vehicle      ┆ 1           ┆ 2023-02    ┆ 2023 ┆ 2     │\n",
      "│ South     ┆ Yorkville      ┆ Theft of Vehicle        ┆ 1           ┆ 2023-03    ┆ 2023 ┆ 3     │\n",
      "└───────────┴────────────────┴─────────────────────────┴─────────────┴────────────┴──────┴───────┘\n"
     ]
    }
   ],
   "source": [
    "# Let's our new function\n",
    "print(tweak_crime_data(crime_raw))"
   ]
  },
  {
   "cell_type": "code",
   "execution_count": 14,
   "metadata": {},
   "outputs": [
    {
     "data": {
      "text/html": [
       "\n",
       "            <div id=\"pbnpYX\"></div>\n",
       "            <script type=\"text/javascript\" data-lets-plot-script=\"library\">\n",
       "                if(!window.letsPlotCallQueue) {\n",
       "                    window.letsPlotCallQueue = [];\n",
       "                }; \n",
       "                window.letsPlotCall = function(f) {\n",
       "                    window.letsPlotCallQueue.push(f);\n",
       "                };\n",
       "                (function() {\n",
       "                    var script = document.createElement(\"script\");\n",
       "                    script.type = \"text/javascript\";\n",
       "                    script.src = \"https://cdn.jsdelivr.net/gh/JetBrains/lets-plot@v4.3.1/js-package/distr/lets-plot.min.js\";\n",
       "                    script.onload = function() {\n",
       "                        window.letsPlotCall = function(f) {f();};\n",
       "                        window.letsPlotCallQueue.forEach(function(f) {f();});\n",
       "                        window.letsPlotCallQueue = [];\n",
       "                        \n",
       "                    };\n",
       "                    script.onerror = function(event) {\n",
       "                        window.letsPlotCall = function(f) {};    // noop\n",
       "                        window.letsPlotCallQueue = [];\n",
       "                        var div = document.createElement(\"div\");\n",
       "                        div.style.color = 'darkred';\n",
       "                        div.textContent = 'Error loading Lets-Plot JS';\n",
       "                        document.getElementById(\"pbnpYX\").appendChild(div);\n",
       "                    };\n",
       "                    var e = document.getElementById(\"pbnpYX\");\n",
       "                    e.appendChild(script);\n",
       "                })()\n",
       "            </script>\n",
       "            "
      ]
     },
     "metadata": {},
     "output_type": "display_data"
    },
    {
     "data": {
      "text/html": [
       "   <div id=\"PWb9S5\"></div>\n",
       "   <script type=\"text/javascript\" data-lets-plot-script=\"plot\">\n",
       "       (function() {\n",
       "           var plotSpec={\n",
       "\"data\":{\n",
       "},\n",
       "\"mapping\":{\n",
       "\"x\":\"sector\",\n",
       "\"y\":\"crime_count\"\n",
       "},\n",
       "\"data_meta\":{\n",
       "},\n",
       "\"ggtitle\":{\n",
       "\"text\":\"Crime Activities by Region\"\n",
       "},\n",
       "\"kind\":\"plot\",\n",
       "\"scales\":[{\n",
       "\"name\":\"Regions of Calgary City\",\n",
       "\"aesthetic\":\"x\"\n",
       "},{\n",
       "\"name\":\"Crime Frequency\",\n",
       "\"aesthetic\":\"y\"\n",
       "}],\n",
       "\"layers\":[{\n",
       "\"geom\":\"bar\",\n",
       "\"mapping\":{\n",
       "},\n",
       "\"data_meta\":{\n",
       "},\n",
       "\"data\":{\n",
       "\"sector\":[\"Northeast\",\"South\",\"East\",\"Centre\",\"North\",\"Northwest\",\"West\",\"Southeast\"],\n",
       "\"crime_count\":[13687.0,12073.0,5930.0,20948.0,6573.0,7600.0,6722.0,5242.0]\n",
       "}\n",
       "}],\n",
       "\"metainfo_list\":[]\n",
       "};\n",
       "           var plotContainer = document.getElementById(\"PWb9S5\");\n",
       "           window.letsPlotCall(function() {{\n",
       "               LetsPlot.buildPlotFromProcessedSpecs(plotSpec, -1, -1, plotContainer);\n",
       "           }});\n",
       "       })();\n",
       "   </script>"
      ],
      "text/plain": [
       "<lets_plot.plot.core.PlotSpec at 0x13f52bf50>"
      ]
     },
     "execution_count": 14,
     "metadata": {},
     "output_type": "execute_result"
    }
   ],
   "source": [
    "df = tweak_crime_data(crime_raw)\n",
    "from lets_plot import *\n",
    "LetsPlot.setup_html()\n",
    "(\n",
    "    ggplot(df, aes('sector', 'crime_count')) +\n",
    "    geom_bar() +\n",
    "    labs(\n",
    "        x='Regions of Calgary City',\n",
    "        y='Crime Frequency',\n",
    "        title='Crime Activities by Region'\n",
    "    )\n",
    ")"
   ]
  },
  {
   "cell_type": "code",
   "execution_count": 15,
   "metadata": {},
   "outputs": [
    {
     "data": {
      "text/html": [
       "   <div id=\"EcOOl2\"></div>\n",
       "   <script type=\"text/javascript\" data-lets-plot-script=\"plot\">\n",
       "       (function() {\n",
       "           var plotSpec={\n",
       "\"data\":{\n",
       "\"category\":[\"Break-ins - Commercial\",\"Theft of Vehicle\",\"Break-ins - Residential\",\"Non-domestic Violence\",\"Robbery - Commercial\",\"Robbery - Street\",\"Break-ins - Other premises\",\"Theft from Vehicle\"],\n",
       "\"total\":[28969.0,35563.0,13520.0,45395.0,2229.0,3930.0,13753.0,81141.0]\n",
       "},\n",
       "\"mapping\":{\n",
       "\"x\":\"category\",\n",
       "\"y\":\"total\"\n",
       "},\n",
       "\"data_meta\":{\n",
       "},\n",
       "\"kind\":\"plot\",\n",
       "\"scales\":[{\n",
       "\"aesthetic\":\"y\",\n",
       "\"limits\":[0.0,100000.0]\n",
       "}],\n",
       "\"layers\":[{\n",
       "\"geom\":\"bar\",\n",
       "\"stat\":\"identity\",\n",
       "\"mapping\":{\n",
       "},\n",
       "\"data_meta\":{\n",
       "},\n",
       "\"data\":{\n",
       "}\n",
       "}],\n",
       "\"metainfo_list\":[]\n",
       "};\n",
       "           var plotContainer = document.getElementById(\"EcOOl2\");\n",
       "           window.letsPlotCall(function() {{\n",
       "               LetsPlot.buildPlotFromProcessedSpecs(plotSpec, -1, -1, plotContainer);\n",
       "           }});\n",
       "       })();\n",
       "   </script>"
      ],
      "text/plain": [
       "<lets_plot.plot.core.PlotSpec at 0x13f6a5a90>"
      ]
     },
     "execution_count": 15,
     "metadata": {},
     "output_type": "execute_result"
    }
   ],
   "source": [
    "aa = (\n",
    "    df\n",
    "    .group_by('category')\n",
    "    .agg(total=pl.col('crime_count').sum())\n",
    ")\n",
    "\n",
    "(\n",
    "    ggplot(aa, aes('category', 'total')) +\n",
    "    geom_bar(stat='identity') +\n",
    "    scale_y_continuous(limits=[0, 100_000])\n",
    ")"
   ]
  },
  {
   "cell_type": "code",
   "execution_count": null,
   "metadata": {},
   "outputs": [],
   "source": []
  }
 ],
 "metadata": {
  "kernelspec": {
   "display_name": "po-env",
   "language": "python",
   "name": "python3"
  },
  "language_info": {
   "codemirror_mode": {
    "name": "ipython",
    "version": 3
   },
   "file_extension": ".py",
   "mimetype": "text/x-python",
   "name": "python",
   "nbconvert_exporter": "python",
   "pygments_lexer": "ipython3",
   "version": "3.12.3"
  }
 },
 "nbformat": 4,
 "nbformat_minor": 2
}
