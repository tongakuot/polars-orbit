{
  "cells": [
    {
      "cell_type": "markdown",
      "id": "86ba6109",
      "metadata": {},
      "source": [
        "# Getting Started in Polars\n",
        "---\n",
        "**Alier Reng**\n",
        "\n",
        "**Date: 2024-04-20**\n"
      ]
    },
    {
      "cell_type": "markdown",
      "id": "f6f00c9e",
      "metadata": {},
      "source": [
        "# Motivation\n",
        "I've always been intrigued by the streamlined syntax and speed of the `Polars` library. However, my initial experience with it was challenging. I tried to clean and manipulate data with `Polars`, but I struggled to import the data correctly due to the required `null_values` argument in the import functions. This left me feeling discouraged, and I gave up. But I didn't lose hope and kept trying. Finally, I succeeded in creating a tutorial on the basics of the `Polars` library in May 2023, which I updated on April 20, 2024. This tutorial is my way of sharing my knowledge with those interested in learning about the `Polars` package. [That tutorial can be found here](https://github.com/tongakuot/python_tutorials/tree/main/Data%20Wrangling%20with%20Polars)\n",
        "\n",
        "This tutorial is the first of my **Learning the Polars Library the Right Way** series, which will be published on medium.com and later on alierwaidatastudio.com.\n",
        "\n",
        "# Getting Started\n",
        "First, I will import necessary libraries, read South Sudan's 2008 census data, and then showcase how to clean and transform this dataset with the `polar` library.\n",
        "\n",
        "As a bonus, I will demonstrate how to plot the data with the `lets-plot` Python library derived from `ggplto2` and tabulate data with the `great_tables` Python package, a Python version of the `R gt` package. My goal is to walk my readers through, step by step, from loading packages to data import data to data wrangling, visualization, and tabulation. I will conclude with a comprehensive summary."
      ]
    },
    {
      "cell_type": "markdown",
      "id": "3645672c",
      "metadata": {},
      "source": [
        "## Loading the Required Libraries\n",
        "Here, I will load `polars`, `lets_plot`, `great_tables`, `numpy`, `seaborn`, and `matplotlib.pyplot`."
      ]
    },
    {
      "cell_type": "code",
      "execution_count": 1,
      "id": "set-up",
      "metadata": {
        "message": false
      },
      "outputs": [
        {
          "data": {
            "text/html": [
              "\n",
              "            <div id=\"F6hTvT\"></div>\n",
              "            <script type=\"text/javascript\" data-lets-plot-script=\"library\">\n",
              "                if(!window.letsPlotCallQueue) {\n",
              "                    window.letsPlotCallQueue = [];\n",
              "                }; \n",
              "                window.letsPlotCall = function(f) {\n",
              "                    window.letsPlotCallQueue.push(f);\n",
              "                };\n",
              "                (function() {\n",
              "                    var script = document.createElement(\"script\");\n",
              "                    script.type = \"text/javascript\";\n",
              "                    script.src = \"https://cdn.jsdelivr.net/gh/JetBrains/lets-plot@v4.3.1/js-package/distr/lets-plot.min.js\";\n",
              "                    script.onload = function() {\n",
              "                        window.letsPlotCall = function(f) {f();};\n",
              "                        window.letsPlotCallQueue.forEach(function(f) {f();});\n",
              "                        window.letsPlotCallQueue = [];\n",
              "                        \n",
              "                    };\n",
              "                    script.onerror = function(event) {\n",
              "                        window.letsPlotCall = function(f) {};    // noop\n",
              "                        window.letsPlotCallQueue = [];\n",
              "                        var div = document.createElement(\"div\");\n",
              "                        div.style.color = 'darkred';\n",
              "                        div.textContent = 'Error loading Lets-Plot JS';\n",
              "                        document.getElementById(\"F6hTvT\").appendChild(div);\n",
              "                    };\n",
              "                    var e = document.getElementById(\"F6hTvT\");\n",
              "                    e.appendChild(script);\n",
              "                })()\n",
              "            </script>\n",
              "            "
            ]
          },
          "metadata": {},
          "output_type": "display_data"
        }
      ],
      "source": [
        "# Libraries -------\n",
        "import polars as pl\n",
        "import numpy as np\n",
        "import seaborn as sns\n",
        "import matplotlib.pyplot as plt\n",
        "from great_tables import GT, md, html, style, loc\n",
        "from lets_plot import *\n",
        "LetsPlot.setup_html()\n"
      ]
    },
    {
      "cell_type": "markdown",
      "id": "02a11999",
      "metadata": {},
      "source": [
        "## Importing Data\n"
      ]
    },
    {
      "cell_type": "code",
      "execution_count": 2,
      "id": "99b0cd2b",
      "metadata": {},
      "outputs": [
        {
          "name": "stdout",
          "output_type": "stream",
          "text": [
            "shape: (5, 10)\n",
            "┌────────┬─────────────┬───────────────────┬──────────┬───┬──────────┬───────┬─────────┬────────┐\n",
            "│ Region ┆ Region Name ┆ Region - RegionId ┆ Variable ┆ … ┆ Age Name ┆ Scale ┆ Units   ┆ 2008   │\n",
            "│ ---    ┆ ---         ┆ ---               ┆ ---      ┆   ┆ ---      ┆ ---   ┆ ---     ┆ ---    │\n",
            "│ str    ┆ str         ┆ str               ┆ str      ┆   ┆ str      ┆ str   ┆ str     ┆ i64    │\n",
            "╞════════╪═════════════╪═══════════════════╪══════════╪═══╪══════════╪═══════╪═════════╪════════╡\n",
            "│ KN.A2  ┆ Upper Nile  ┆ SS-NU             ┆ KN.B2    ┆ … ┆ Total    ┆ units ┆ Persons ┆ 964353 │\n",
            "│ KN.A2  ┆ Upper Nile  ┆ SS-NU             ┆ KN.B2    ┆ … ┆ 0 to 4   ┆ units ┆ Persons ┆ 150872 │\n",
            "│ KN.A2  ┆ Upper Nile  ┆ SS-NU             ┆ KN.B2    ┆ … ┆ 5 to 9   ┆ units ┆ Persons ┆ 151467 │\n",
            "│ KN.A2  ┆ Upper Nile  ┆ SS-NU             ┆ KN.B2    ┆ … ┆ 10 to 14 ┆ units ┆ Persons ┆ 126140 │\n",
            "│ KN.A2  ┆ Upper Nile  ┆ SS-NU             ┆ KN.B2    ┆ … ┆ 15 to 19 ┆ units ┆ Persons ┆ 103804 │\n",
            "└────────┴─────────────┴───────────────────┴──────────┴───┴──────────┴───────┴─────────┴────────┘\n"
          ]
        }
      ],
      "source": [
        "census_raw = pl.read_csv(\"data/ss_2008_census_data_raw.csv\", null_values=\"NA\")\n",
        "\n",
        "# Inspect the first 5 rows\n",
        "print(census_raw.head(5))"
      ]
    },
    {
      "cell_type": "markdown",
      "id": "7e09ea29",
      "metadata": {},
      "source": [
        "## Importing the Data Lazily\n"
      ]
    },
    {
      "cell_type": "code",
      "execution_count": 3,
      "id": "305a150e",
      "metadata": {},
      "outputs": [
        {
          "name": "stdout",
          "output_type": "stream",
          "text": [
            "shape: (5, 10)\n",
            "┌────────┬─────────────┬───────────────────┬──────────┬───┬──────────┬───────┬─────────┬────────┐\n",
            "│ Region ┆ Region Name ┆ Region - RegionId ┆ Variable ┆ … ┆ Age Name ┆ Scale ┆ Units   ┆ 2008   │\n",
            "│ ---    ┆ ---         ┆ ---               ┆ ---      ┆   ┆ ---      ┆ ---   ┆ ---     ┆ ---    │\n",
            "│ str    ┆ str         ┆ str               ┆ str      ┆   ┆ str      ┆ str   ┆ str     ┆ i64    │\n",
            "╞════════╪═════════════╪═══════════════════╪══════════╪═══╪══════════╪═══════╪═════════╪════════╡\n",
            "│ KN.A2  ┆ Upper Nile  ┆ SS-NU             ┆ KN.B2    ┆ … ┆ Total    ┆ units ┆ Persons ┆ 964353 │\n",
            "│ KN.A2  ┆ Upper Nile  ┆ SS-NU             ┆ KN.B2    ┆ … ┆ 0 to 4   ┆ units ┆ Persons ┆ 150872 │\n",
            "│ KN.A2  ┆ Upper Nile  ┆ SS-NU             ┆ KN.B2    ┆ … ┆ 5 to 9   ┆ units ┆ Persons ┆ 151467 │\n",
            "│ KN.A2  ┆ Upper Nile  ┆ SS-NU             ┆ KN.B2    ┆ … ┆ 10 to 14 ┆ units ┆ Persons ┆ 126140 │\n",
            "│ KN.A2  ┆ Upper Nile  ┆ SS-NU             ┆ KN.B2    ┆ … ┆ 15 to 19 ┆ units ┆ Persons ┆ 103804 │\n",
            "└────────┴─────────────┴───────────────────┴──────────┴───┴──────────┴───────┴─────────┴────────┘\n"
          ]
        }
      ],
      "source": [
        "census_lazy = pl.scan_csv(\n",
        "    'data/ss_2008_census_data_raw.csv', null_values='NA'\n",
        "    )\n",
        "\n",
        "# Inspect the first 5 rows\n",
        "print(census_lazy.collect().head(5))"
      ]
    },
    {
      "cell_type": "code",
      "execution_count": 4,
      "id": "153735fd",
      "metadata": {},
      "outputs": [
        {
          "name": "stdout",
          "output_type": "stream",
          "text": [
            "shape: (5, 10)\n",
            "┌───────────────┬────────────────────┬──────────┬──────────┬───┬──────────┬───────┬─────────┬──────┐\n",
            "│ Region        ┆ Region Name        ┆ Region - ┆ Variable ┆ … ┆ Age Name ┆ Scale ┆ Units   ┆ 2008 │\n",
            "│ ---           ┆ ---                ┆ RegionId ┆ ---      ┆   ┆ ---      ┆ ---   ┆ ---     ┆ ---  │\n",
            "│ str           ┆ str                ┆ ---      ┆ str      ┆   ┆ str      ┆ str   ┆ str     ┆ i64  │\n",
            "│               ┆                    ┆ str      ┆          ┆   ┆          ┆       ┆         ┆      │\n",
            "╞═══════════════╪════════════════════╪══════════╪══════════╪═══╪══════════╪═══════╪═════════╪══════╡\n",
            "│ KN.A11        ┆ Eastern Equatoria  ┆ SS-EE    ┆ KN.B8    ┆ … ┆ 60 to 64 ┆ units ┆ Persons ┆ 5274 │\n",
            "│ KN.A11        ┆ Eastern Equatoria  ┆ SS-EE    ┆ KN.B8    ┆ … ┆ 65+      ┆ units ┆ Persons ┆ 8637 │\n",
            "│ null          ┆ null               ┆ null     ┆ null     ┆ … ┆ null     ┆ null  ┆ null    ┆ null │\n",
            "│ Source:       ┆ National Bureau of ┆ null     ┆ null     ┆ … ┆ null     ┆ null  ┆ null    ┆ null │\n",
            "│               ┆ Statistics, S…     ┆          ┆          ┆   ┆          ┆       ┆         ┆      │\n",
            "│ Download URL: ┆ http://southsudan. ┆ null     ┆ null     ┆ … ┆ null     ┆ null  ┆ null    ┆ null │\n",
            "│               ┆ opendataforafr…    ┆          ┆          ┆   ┆          ┆       ┆         ┆      │\n",
            "└───────────────┴────────────────────┴──────────┴──────────┴───┴──────────┴───────┴─────────┴──────┘\n"
          ]
        }
      ],
      "source": [
        "# Inspect the last 5 rows\n",
        "print(census_raw.tail(5))"
      ]
    },
    {
      "cell_type": "code",
      "execution_count": 5,
      "id": "f776c025",
      "metadata": {},
      "outputs": [
        {
          "data": {
            "text/plain": [
              "['Eastern Equatoria',\n",
              " 'Eastern Equatoria',\n",
              " 'Eastern Equatoria',\n",
              " 'Eastern Equatoria',\n",
              " 'Eastern Equatoria',\n",
              " 'Eastern Equatoria',\n",
              " 'Eastern Equatoria',\n",
              " None,\n",
              " 'National Bureau of Statistics, South Sudan',\n",
              " 'http://southsudan.opendataforafrica.org/fvjqdpe/population-by-age-and-sex-2008-south-sudan']"
            ]
          },
          "execution_count": 5,
          "metadata": {},
          "output_type": "execute_result"
        }
      ],
      "source": [
        "list(census_raw['Region Name'].tail())"
      ]
    },
    {
      "cell_type": "code",
      "execution_count": 6,
      "id": "1486f3d5",
      "metadata": {},
      "outputs": [
        {
          "name": "stdout",
          "output_type": "stream",
          "text": [
            "shape: (5, 10)\n",
            "┌────────┬────────────────────────┬──────────┬──────────┬───┬──────────┬───────┬─────────┬─────────┐\n",
            "│ Region ┆ Region Name            ┆ Region - ┆ Variable ┆ … ┆ Age Name ┆ Scale ┆ Units   ┆ 2008    │\n",
            "│ ---    ┆ ---                    ┆ RegionId ┆ ---      ┆   ┆ ---      ┆ ---   ┆ ---     ┆ ---     │\n",
            "│ str    ┆ str                    ┆ ---      ┆ str      ┆   ┆ str      ┆ str   ┆ str     ┆ i64     │\n",
            "│        ┆                        ┆ str      ┆          ┆   ┆          ┆       ┆         ┆         │\n",
            "╞════════╪════════════════════════╪══════════╪══════════╪═══╪══════════╪═══════╪═════════╪═════════╡\n",
            "│ KN.A11 ┆ Eastern Equatoria      ┆ SS-EE    ┆ KN.B5    ┆ … ┆ 5 to 9   ┆ units ┆ Persons ┆ 74226   │\n",
            "│ KN.A7  ┆ Western Bahr el Ghazal ┆ SS-BW    ┆ KN.B5    ┆ … ┆ 20 to 24 ┆ units ┆ Persons ┆ 16258   │\n",
            "│ KN.A7  ┆ Western Bahr el Ghazal ┆ SS-BW    ┆ KN.B2    ┆ … ┆ 40 to 44 ┆ units ┆ Persons ┆ 14564   │\n",
            "│ KN.A3  ┆ Jonglei                ┆ SS-JG    ┆ KN.B2    ┆ … ┆ Total    ┆ units ┆ Persons ┆ 1358602 │\n",
            "│ KN.A7  ┆ Western Bahr el Ghazal ┆ SS-BW    ┆ KN.B5    ┆ … ┆ 60 to 64 ┆ units ┆ Persons ┆ 2338    │\n",
            "└────────┴────────────────────────┴──────────┴──────────┴───┴──────────┴───────┴─────────┴─────────┘\n"
          ]
        }
      ],
      "source": [
        "# Inspect random 5 rows\n",
        "print(census_raw.sample(5))"
      ]
    },
    {
      "cell_type": "markdown",
      "id": "f2ed25c5",
      "metadata": {},
      "source": [
        "## Checking for Missing Values\n"
      ]
    },
    {
      "cell_type": "code",
      "execution_count": 7,
      "id": "9d069355",
      "metadata": {},
      "outputs": [
        {
          "name": "stdout",
          "output_type": "stream",
          "text": [
            "shape: (1, 10)\n",
            "┌────────┬─────────────┬───────────────────┬──────────┬───┬──────────┬───────┬───────┬──────┐\n",
            "│ Region ┆ Region Name ┆ Region - RegionId ┆ Variable ┆ … ┆ Age Name ┆ Scale ┆ Units ┆ 2008 │\n",
            "│ ---    ┆ ---         ┆ ---               ┆ ---      ┆   ┆ ---      ┆ ---   ┆ ---   ┆ ---  │\n",
            "│ u32    ┆ u32         ┆ u32               ┆ u32      ┆   ┆ u32      ┆ u32   ┆ u32   ┆ u32  │\n",
            "╞════════╪═════════════╪═══════════════════╪══════════╪═══╪══════════╪═══════╪═══════╪══════╡\n",
            "│ 1      ┆ 1           ┆ 3                 ┆ 3        ┆ … ┆ 3        ┆ 3     ┆ 3     ┆ 3    │\n",
            "└────────┴─────────────┴───────────────────┴──────────┴───┴──────────┴───────┴───────┴──────┘\n"
          ]
        }
      ],
      "source": [
        "# Inspect the last 5 rows\n",
        "print(census_raw.null_count())"
      ]
    },
    {
      "cell_type": "code",
      "execution_count": 8,
      "id": "b7dc3110",
      "metadata": {},
      "outputs": [
        {
          "name": "stdout",
          "output_type": "stream",
          "text": [
            "shape: (1, 10)\n",
            "┌────────┬─────────────┬───────────────────┬──────────┬───┬──────────┬───────┬───────┬──────┐\n",
            "│ Region ┆ Region Name ┆ Region - RegionId ┆ Variable ┆ … ┆ Age Name ┆ Scale ┆ Units ┆ 2008 │\n",
            "│ ---    ┆ ---         ┆ ---               ┆ ---      ┆   ┆ ---      ┆ ---   ┆ ---   ┆ ---  │\n",
            "│ u32    ┆ u32         ┆ u32               ┆ u32      ┆   ┆ u32      ┆ u32   ┆ u32   ┆ u32  │\n",
            "╞════════╪═════════════╪═══════════════════╪══════════╪═══╪══════════╪═══════╪═══════╪══════╡\n",
            "│ 1      ┆ 1           ┆ 3                 ┆ 3        ┆ … ┆ 3        ┆ 3     ┆ 3     ┆ 3    │\n",
            "└────────┴─────────────┴───────────────────┴──────────┴───┴──────────┴───────┴───────┴──────┘\n"
          ]
        }
      ],
      "source": [
        "import polars.selectors as cs\n",
        "# Inspect the last 5 rows\n",
        "print(\n",
        "    census_raw\n",
        "    .select(cs.all().is_null().sum())\n",
        ")"
      ]
    },
    {
      "cell_type": "markdown",
      "id": "ecafa718",
      "metadata": {},
      "source": [
        "## Selecting Columns of Interest"
      ]
    },
    {
      "cell_type": "code",
      "execution_count": 9,
      "id": "6085139a",
      "metadata": {},
      "outputs": [
        {
          "name": "stdout",
          "output_type": "stream",
          "text": [
            "['Region Name', 'Variable Name', 'Age Name', '2008']\n"
          ]
        }
      ],
      "source": [
        "# Selecting columns of interest: polars provides various methods for selecting columns\n",
        "print(\n",
        "    census_raw\n",
        "    .select(cs.ends_with('Name'), '2008')\n",
        "    .columns\n",
        ")"
      ]
    },
    {
      "cell_type": "code",
      "execution_count": 10,
      "id": "e2160725",
      "metadata": {},
      "outputs": [],
      "source": [
        "age_mapping = {\n",
        "    \"0 to 4\": \"0-14\",\n",
        "    \"5 to 9\": \"0-14\",\n",
        "    \"10 to 14\": \"0-14\",\n",
        "    \"15 to 19\": \"15-24\",\n",
        "    \"20 to 24\": \"15-24\",\n",
        "    \"25 to 29\": \"25-34\",\n",
        "    \"30 to 34\": \"25-34\",\n",
        "    \"35 to 39\": \"35-44\",\n",
        "    \"40 to 44\": \"35-44\",\n",
        "    \"45 to 49\": \"45-54\",\n",
        "    \"50 to 54\": \"45-54\",\n",
        "    \"55 to 59\": \"55-64\",\n",
        "    \"60 to 64\": \"55-64\",\n",
        "    \"65+\": \"65 and above\",\n",
        "}\n",
        "census = (\n",
        "    census_raw\n",
        "    .select(\n",
        "        [\"Region Name\", \"Variable Name\", \"Age Name\", \"2008\"]\n",
        "    )\n",
        "    .rename(\n",
        "        {\n",
        "            \"Region Name\": \"state\",\n",
        "            \"Variable Name\": \"gender\",\n",
        "            \"Age Name\": \"age_category\",\n",
        "            \"2008\": \"population\",\n",
        "        }\n",
        "    )\n",
        "    .with_columns(\n",
        "        gender=pl.col(\"gender\").str.split(\" \").list.get(1),\n",
        "        age_category=pl.col(\"age_category\").replace(age_mapping),\n",
        "    )\n",
        "    .filter(\n",
        "        (pl.col(\"gender\") != \"Total\") & (pl.col(\"age_category\") != \"Total\")\n",
        "    )\n",
        "    .group_by(['state', 'gender', 'age_category'])\n",
        "    .agg(total=pl.col('population').sum())\n",
        "    .sort('total', descending=True)\n",
        ")"
      ]
    },
    {
      "cell_type": "markdown",
      "id": "6ee348c5",
      "metadata": {},
      "source": [
        "## "
      ]
    },
    {
      "cell_type": "code",
      "execution_count": 11,
      "id": "120e2a28",
      "metadata": {},
      "outputs": [
        {
          "name": "stdout",
          "output_type": "stream",
          "text": [
            "shape: (5, 4)\n",
            "┌───────────────────┬────────┬──────────────┬────────┐\n",
            "│ state             ┆ gender ┆ age_category ┆ total  │\n",
            "│ ---               ┆ ---    ┆ ---          ┆ ---    │\n",
            "│ str               ┆ str    ┆ str          ┆ i64    │\n",
            "╞═══════════════════╪════════╪══════════════╪════════╡\n",
            "│ Jonglei           ┆ Male   ┆ 0-14         ┆ 338443 │\n",
            "│ Jonglei           ┆ Female ┆ 0-14         ┆ 263646 │\n",
            "│ Central Equatoria ┆ Male   ┆ 0-14         ┆ 242247 │\n",
            "│ Upper Nile        ┆ Male   ┆ 0-14         ┆ 237461 │\n",
            "│ Warrap            ┆ Male   ┆ 0-14         ┆ 230854 │\n",
            "└───────────────────┴────────┴──────────────┴────────┘\n"
          ]
        }
      ],
      "source": [
        "print(census.head(5))"
      ]
    },
    {
      "cell_type": "markdown",
      "id": "a58028ad",
      "metadata": {},
      "source": [
        "# Tabulating Data with the Great Tables Package"
      ]
    },
    {
      "cell_type": "code",
      "execution_count": 12,
      "id": "46eb6592",
      "metadata": {},
      "outputs": [
        {
          "name": "stdout",
          "output_type": "stream",
          "text": [
            "shape: (10, 3)\n",
            "┌─────────────────────────┬────────┬────────┐\n",
            "│ state                   ┆ Male   ┆ Female │\n",
            "│ ---                     ┆ ---    ┆ ---    │\n",
            "│ str                     ┆ i64    ┆ i64    │\n",
            "╞═════════════════════════╪════════╪════════╡\n",
            "│ Jonglei                 ┆ 734327 ┆ 624275 │\n",
            "│ Central Equatoria       ┆ 581722 ┆ 521835 │\n",
            "│ Upper Nile              ┆ 525430 ┆ 438923 │\n",
            "│ Warrap                  ┆ 470734 ┆ 502194 │\n",
            "│ Eastern Equatoria       ┆ 465187 ┆ 440974 │\n",
            "│ Northern Bahr el Ghazal ┆ 348290 ┆ 372608 │\n",
            "│ Lakes                   ┆ 365880 ┆ 329850 │\n",
            "│ Western Equatoria       ┆ 318443 ┆ 300586 │\n",
            "│ Unity                   ┆ 300247 ┆ 285554 │\n",
            "│ Western Bahr el Ghazal  ┆ 177040 ┆ 156391 │\n",
            "└─────────────────────────┴────────┴────────┘\n"
          ]
        }
      ],
      "source": [
        "# Summarize data by state\n",
        "state = (\n",
        "    census\n",
        "    .group_by(['state', 'gender'])\n",
        "    .agg(total=pl.col('total').sum())\n",
        "    .sort('total', descending=True)\n",
        "    .pivot(index='state', columns='gender', values='total')\n",
        ")\n",
        "\n",
        "# Dispay output\n",
        "print(state)"
      ]
    },
    {
      "cell_type": "code",
      "execution_count": 13,
      "id": "0200222d",
      "metadata": {},
      "outputs": [
        {
          "data": {
            "text/html": [
              "<div id=\"dthrdizqxh\" style=\"padding-left:0px;padding-right:0px;padding-top:10px;padding-bottom:10px;overflow-x:auto;overflow-y:auto;width:auto;height:auto;\">\n",
              "<style>\n",
              "#dthrdizqxh table {\n",
              "          font-family: -apple-system, BlinkMacSystemFont, 'Segoe UI', Roboto, Oxygen, Ubuntu, Cantarell, 'Helvetica Neue', 'Fira Sans', 'Droid Sans', Arial, sans-serif;\n",
              "          -webkit-font-smoothing: antialiased;\n",
              "          -moz-osx-font-smoothing: grayscale;\n",
              "        }\n",
              "\n",
              "#dthrdizqxh thead, tbody, tfoot, tr, td, th { border-style: none !important; }\n",
              " tr { background-color: transparent !important; }\n",
              "#dthrdizqxh p { margin: 0 !important; padding: 0 !important; }\n",
              " #dthrdizqxh .gt_table { display: table !important; border-collapse: collapse !important; line-height: normal !important; margin-left: auto !important; margin-right: auto !important; color: #333333 !important; font-size: 16px !important; font-weight: normal !important; font-style: normal !important; background-color: #FFFFFF !important; width: auto !important; border-top-style: solid !important; border-top-width: 2px !important; border-top-color: #A8A8A8 !important; border-right-style: none !important; border-right-width: 2px !important; border-right-color: #D3D3D3 !important; border-bottom-style: solid !important; border-bottom-width: 2px !important; border-bottom-color: #A8A8A8 !important; border-left-style: none !important; border-left-width: 2px !important; border-left-color: #D3D3D3 !important; }\n",
              " #dthrdizqxh .gt_caption { padding-top: 4px !important; padding-bottom: 4px !important; }\n",
              " #dthrdizqxh .gt_title { color: #333333 !important; font-size: 125% !important; font-weight: initial !important; padding-top: 4px !important; padding-bottom: 4px !important; padding-left: 5px !important; padding-right: 5px !important; border-bottom-color: #FFFFFF !important; border-bottom-width: 0 !important; }\n",
              " #dthrdizqxh .gt_subtitle { color: #333333 !important; font-size: 85% !important; font-weight: initial !important; padding-top: 3px !important; padding-bottom: 5px !important; padding-left: 5px !important; padding-right: 5px !important; border-top-color: #FFFFFF !important; border-top-width: 0 !important; }\n",
              " #dthrdizqxh .gt_heading { background-color: #FFFFFF !important; text-align: left !important; border-bottom-color: #FFFFFF !important; border-left-style: none !important; border-left-width: 1px !important; border-left-color: #D3D3D3 !important; border-right-style: none !important; border-right-width: 1px !important; border-right-color: #D3D3D3 !important; }\n",
              " #dthrdizqxh .gt_bottom_border { border-bottom-style: solid !important; border-bottom-width: 2px !important; border-bottom-color: #D3D3D3 !important; }\n",
              " #dthrdizqxh .gt_col_headings { border-top-style: solid !important; border-top-width: 2px !important; border-top-color: #D3D3D3 !important; border-bottom-style: solid !important; border-bottom-width: 2px !important; border-bottom-color: #D3D3D3 !important; border-left-style: none !important; border-left-width: 1px !important; border-left-color: #D3D3D3 !important; border-right-style: none !important; border-right-width: 1px !important; border-right-color: #D3D3D3 !important; }\n",
              " #dthrdizqxh .gt_col_heading { color: #333333 !important; background-color: #FFFFFF !important; font-size: 100% !important; font-weight: normal !important; text-transform: inherit !important; border-left-style: none !important; border-left-width: 1px !important; border-left-color: #D3D3D3 !important; border-right-style: none !important; border-right-width: 1px !important; border-right-color: #D3D3D3 !important; vertical-align: bottom !important; padding-top: 5px !important; padding-bottom: 5px !important; padding-left: 5px !important; padding-right: 5px !important; overflow-x: hidden !important; }\n",
              " #dthrdizqxh .gt_column_spanner_outer { color: #333333 !important; background-color: #FFFFFF !important; font-size: 100% !important; font-weight: normal !important; text-transform: inherit !important; padding-top: 0 !important; padding-bottom: 0 !important; padding-left: 4px !important; padding-right: 4px !important; }\n",
              " #dthrdizqxh .gt_column_spanner_outer:first-child { padding-left: 0 !important; }\n",
              " #dthrdizqxh .gt_column_spanner_outer:last-child { padding-right: 0 !important; }\n",
              " #dthrdizqxh .gt_column_spanner { border-bottom-style: solid !important; border-bottom-width: 2px !important; border-bottom-color: #D3D3D3 !important; vertical-align: bottom !important; padding-top: 5px !important; padding-bottom: 5px !important; overflow-x: hidden !important; display: inline-block !important; width: 100% !important; }\n",
              " #dthrdizqxh .gt_spanner_row { border-bottom-style: hidden !important; }\n",
              " #dthrdizqxh .gt_group_heading { padding-top: 8px !important; padding-bottom: 8px !important; padding-left: 5px !important; padding-right: 5px !important; color: #333333 !important; background-color: #FFFFFF !important; font-size: 100% !important; font-weight: initial !important; text-transform: inherit !important; border-top-style: solid !important; border-top-width: 2px !important; border-top-color: #D3D3D3 !important; border-bottom-style: solid !important; border-bottom-width: 2px !important; border-bottom-color: #D3D3D3 !important; border-left-style: none !important; border-left-width: 1px !important; border-left-color: #D3D3D3 !important; border-right-style: none !important; border-right-width: 1px !important; border-right-color: #D3D3D3 !important; vertical-align: middle !important; text-align: left !important; }\n",
              " #dthrdizqxh .gt_empty_group_heading { padding: 0.5px !important; color: #333333 !important; background-color: #FFFFFF !important; font-size: 100% !important; font-weight: initial !important; border-top-style: solid !important; border-top-width: 2px !important; border-top-color: #D3D3D3 !important; border-bottom-style: solid !important; border-bottom-width: 2px !important; border-bottom-color: #D3D3D3 !important; vertical-align: middle !important; }\n",
              " #dthrdizqxh .gt_from_md> :first-child { margin-top: 0 !important; }\n",
              " #dthrdizqxh .gt_from_md> :last-child { margin-bottom: 0 !important; }\n",
              " #dthrdizqxh .gt_row { padding-top: 8px !important; padding-bottom: 8px !important; padding-left: 5px !important; padding-right: 5px !important; margin: 10px !important; border-top-style: solid !important; border-top-width: 1px !important; border-top-color: #D3D3D3 !important; border-left-style: none !important; border-left-width: 1px !important; border-left-color: #D3D3D3 !important; border-right-style: none !important; border-right-width: 1px !important; border-right-color: #D3D3D3 !important; vertical-align: middle !important; overflow-x: hidden !important; }\n",
              " #dthrdizqxh .gt_stub { color: #333333 !important; background-color: #FFFFFF !important; font-size: 100% !important; font-weight: initial !important; text-transform: inherit !important; border-right-style: solid !important; border-right-width: 2px !important; border-right-color: #D3D3D3 !important; padding-left: 5px !important; padding-right: 5px !important; }\n",
              " #dthrdizqxh .gt_stub_row_group { color: #333333 !important; background-color: #FFFFFF !important; font-size: 100% !important; font-weight: initial !important; text-transform: inherit !important; border-right-style: solid !important; border-right-width: 2px !important; border-right-color: #D3D3D3 !important; padding-left: 5px !important; padding-right: 5px !important; vertical-align: top !important; }\n",
              " #dthrdizqxh .gt_row_group_first td { border-top-width: 2px !important; }\n",
              " #dthrdizqxh .gt_row_group_first th { border-top-width: 2px !important; }\n",
              " #dthrdizqxh .gt_table_body { border-top-style: solid !important; border-top-width: 2px !important; border-top-color: #D3D3D3 !important; border-bottom-style: solid !important; border-bottom-width: 2px !important; border-bottom-color: #D3D3D3 !important; }\n",
              " #dthrdizqxh .gt_sourcenotes { color: #333333 !important; background-color: #FFFFFF !important; border-bottom-style: none !important; border-bottom-width: 2px !important; border-bottom-color: #D3D3D3 !important; border-left-style: none !important; border-left-width: 2px !important; border-left-color: #D3D3D3 !important; border-right-style: none !important; border-right-width: 2px !important; border-right-color: #D3D3D3 !important; }\n",
              " #dthrdizqxh .gt_sourcenote { font-size: 90% !important; padding-top: 4px !important; padding-bottom: 4px !important; padding-left: 5px !important; padding-right: 5px !important; text-align: left !important; }\n",
              " #dthrdizqxh .gt_left { text-align: left !important; }\n",
              " #dthrdizqxh .gt_center { text-align: center !important; }\n",
              " #dthrdizqxh .gt_right { text-align: right !important; font-variant-numeric: tabular-nums !important; }\n",
              " #dthrdizqxh .gt_font_normal { font-weight: normal !important; }\n",
              " #dthrdizqxh .gt_font_bold { font-weight: bold !important; }\n",
              " #dthrdizqxh .gt_font_italic { font-style: italic !important; }\n",
              " #dthrdizqxh .gt_super { font-size: 65% !important; }\n",
              " #dthrdizqxh .gt_footnote_marks { font-size: 75% !important; vertical-align: 0.4em !important; position: initial !important; }\n",
              " #dthrdizqxh .gt_asterisk { font-size: 100% !important; vertical-align: 0 !important; }\n",
              " \n",
              "</style>\n",
              "<table class=\"gt_table\" data-quarto-disable-processing=\"false\" data-quarto-bootstrap=\"false\">\n",
              "<thead class=\"gt_header\">\n",
              "  <tr>\n",
              "    <th colspan=\"3\" class=\"gt_heading gt_title gt_font_normal\">Jonglei State leads with over 13.6 million persons</th>\n",
              "  </tr>\n",
              "  <tr>\n",
              "    <th colspan=\"3\" class=\"gt_heading gt_subtitle gt_font_normal gt_bottom_border\">Western Bahr el Ghazal State has the lowest <br>population according to the 2008 census</th>\n",
              "  </tr>\n",
              "</thead>\n",
              "<tr class=\"gt_col_headings gt_spanner_row\">\n",
              "  <th class=\"gt_col_heading gt_columns_bottom_border gt_left\" rowspan=\"2\" colspan=\"1\" scope=\"col\" id=\"\"></th>\n",
              "  <th class=\"gt_center gt_columns_top_border gt_column_spanner_outer\" rowspan=\"1\" colspan=\"2\" scope=\"colgroup\" id=\"Population by Gender\">\n",
              "    <span class=\"gt_column_spanner\">Population by Gender</span>\n",
              "  </th>\n",
              "</tr>\n",
              "<tr class=\"gt_col_headings\">\n",
              "  <th class=\"gt_col_heading gt_columns_bottom_border gt_center\" rowspan=\"1\" colspan=\"1\" scope=\"col\" id=\"Male\">Male</th>\n",
              "  <th class=\"gt_col_heading gt_columns_bottom_border gt_center\" rowspan=\"1\" colspan=\"1\" scope=\"col\" id=\"Female\">Female</th>\n",
              "</tr>\n",
              "<tbody class=\"gt_table_body\">\n",
              "<tr>\n",
              "  <th class=\"gt_row gt_left gt_stub\">Jonglei</th>\n",
              "  <td class=\"gt_row gt_center\">734,327</td>\n",
              "  <td class=\"gt_row gt_center\">624,275</td>\n",
              "</tr>\n",
              "<tr>\n",
              "  <th class=\"gt_row gt_left gt_stub\">Central Equatoria</th>\n",
              "  <td class=\"gt_row gt_center\">581,722</td>\n",
              "  <td class=\"gt_row gt_center\">521,835</td>\n",
              "</tr>\n",
              "<tr>\n",
              "  <th class=\"gt_row gt_left gt_stub\">Upper Nile</th>\n",
              "  <td class=\"gt_row gt_center\">525,430</td>\n",
              "  <td class=\"gt_row gt_center\">438,923</td>\n",
              "</tr>\n",
              "<tr>\n",
              "  <th class=\"gt_row gt_left gt_stub\">Warrap</th>\n",
              "  <td class=\"gt_row gt_center\">470,734</td>\n",
              "  <td class=\"gt_row gt_center\">502,194</td>\n",
              "</tr>\n",
              "<tr>\n",
              "  <th class=\"gt_row gt_left gt_stub\">Eastern Equatoria</th>\n",
              "  <td class=\"gt_row gt_center\">465,187</td>\n",
              "  <td class=\"gt_row gt_center\">440,974</td>\n",
              "</tr>\n",
              "<tr>\n",
              "  <th class=\"gt_row gt_left gt_stub\">Northern Bahr el Ghazal</th>\n",
              "  <td class=\"gt_row gt_center\">348,290</td>\n",
              "  <td class=\"gt_row gt_center\">372,608</td>\n",
              "</tr>\n",
              "<tr>\n",
              "  <th class=\"gt_row gt_left gt_stub\">Lakes</th>\n",
              "  <td class=\"gt_row gt_center\">365,880</td>\n",
              "  <td class=\"gt_row gt_center\">329,850</td>\n",
              "</tr>\n",
              "<tr>\n",
              "  <th class=\"gt_row gt_left gt_stub\">Western Equatoria</th>\n",
              "  <td class=\"gt_row gt_center\">318,443</td>\n",
              "  <td class=\"gt_row gt_center\">300,586</td>\n",
              "</tr>\n",
              "<tr>\n",
              "  <th class=\"gt_row gt_left gt_stub\">Unity</th>\n",
              "  <td class=\"gt_row gt_center\">300,247</td>\n",
              "  <td class=\"gt_row gt_center\">285,554</td>\n",
              "</tr>\n",
              "<tr>\n",
              "  <th class=\"gt_row gt_left gt_stub\">Western Bahr el Ghazal</th>\n",
              "  <td class=\"gt_row gt_center\">177,040</td>\n",
              "  <td class=\"gt_row gt_center\">156,391</td>\n",
              "</tr>\n",
              "</tbody>\n",
              "  <tfoot class=\"gt_sourcenotes\">\n",
              "  \n",
              "  <tr>\n",
              "    <td class=\"gt_sourcenote\" colspan=\"3\"><a href=\"http://southsudan.opendataforafrica.org/fvjqdpe/population-by-age-and-sex-2008-south-sudan\"><strong>2008 Census: National Bureau of Statistics, South Sudan</strong></a></td>\n",
              "  </tr>\n",
              "\n",
              "</tfoot>\n",
              "\n",
              "</table>\n",
              "\n",
              "</div>\n",
              "        "
            ],
            "text/plain": [
              "GT(_tbl_data=shape: (10, 3)\n",
              "┌─────────────────────────┬────────┬────────┐\n",
              "│ state                   ┆ Male   ┆ Female │\n",
              "│ ---                     ┆ ---    ┆ ---    │\n",
              "│ str                     ┆ i64    ┆ i64    │\n",
              "╞═════════════════════════╪════════╪════════╡\n",
              "│ Jonglei                 ┆ 734327 ┆ 624275 │\n",
              "│ Central Equatoria       ┆ 581722 ┆ 521835 │\n",
              "│ Upper Nile              ┆ 525430 ┆ 438923 │\n",
              "│ Warrap                  ┆ 470734 ┆ 502194 │\n",
              "│ Eastern Equatoria       ┆ 465187 ┆ 440974 │\n",
              "│ Northern Bahr el Ghazal ┆ 348290 ┆ 372608 │\n",
              "│ Lakes                   ┆ 365880 ┆ 329850 │\n",
              "│ Western Equatoria       ┆ 318443 ┆ 300586 │\n",
              "│ Unity                   ┆ 300247 ┆ 285554 │\n",
              "│ Western Bahr el Ghazal  ┆ 177040 ┆ 156391 │\n",
              "└─────────────────────────┴────────┴────────┘, _body=<great_tables._gt_data.Body object at 0x152d979b0>, _boxhead=Boxhead([ColInfo(var='state', type=<ColInfoTypeEnum.stub: 2>, column_label='State', column_align='left', column_width=None), ColInfo(var='Male', type=<ColInfoTypeEnum.default: 1>, column_label='Male', column_align='center', column_width=None), ColInfo(var='Female', type=<ColInfoTypeEnum.default: 1>, column_label='Female', column_align='center', column_width=None)]), _stub=Stub([RowInfo(rownum_i=0, group_id=None, rowname='Jonglei', group_label=None, built=False), RowInfo(rownum_i=1, group_id=None, rowname='Central Equatoria', group_label=None, built=False), RowInfo(rownum_i=2, group_id=None, rowname='Upper Nile', group_label=None, built=False), RowInfo(rownum_i=3, group_id=None, rowname='Warrap', group_label=None, built=False), RowInfo(rownum_i=4, group_id=None, rowname='Eastern Equatoria', group_label=None, built=False), RowInfo(rownum_i=5, group_id=None, rowname='Northern Bahr el Ghazal', group_label=None, built=False), RowInfo(rownum_i=6, group_id=None, rowname='Lakes', group_label=None, built=False), RowInfo(rownum_i=7, group_id=None, rowname='Western Equatoria', group_label=None, built=False), RowInfo(rownum_i=8, group_id=None, rowname='Unity', group_label=None, built=False), RowInfo(rownum_i=9, group_id=None, rowname='Western Bahr el Ghazal', group_label=None, built=False)]), _row_groups=[], _group_rows=GroupRows([]), _spanners=Spanners([SpannerInfo(spanner_id='Population by Gender', spanner_level=0, spanner_label='Population by Gender', spanner_units=None, spanner_pattern=None, vars=['Male', 'Female'], built=None)]), _heading=Heading(title='Jonglei State leads with over 13.6 million persons', subtitle=Text(text='Western Bahr el Ghazal State has the lowest <br>population according to the 2008 census', type='from_markdown'), preheader=None), _stubhead=None, _source_notes=[Text(text='<a href=\"http://southsudan.opendataforafrica.org/fvjqdpe/population-by-age-and-sex-2008-south-sudan\"><strong>2008 Census: National Bureau of Statistics, South Sudan</strong></a>', type='html')], _footnotes=[], _styles=[], _locale=<great_tables._gt_data.Locale object at 0x15c3bd850>, _formats=[<great_tables._gt_data.FormatInfo object at 0x15b9eb050>], _substitutions=[], _options=Options(table_id=OptionsInfo(scss=False, category='table', type='value', value=None), table_caption=OptionsInfo(scss=False, category='table', type='value', value=None), table_width=OptionsInfo(scss=True, category='table', type='px', value='auto'), table_layout=OptionsInfo(scss=True, category='table', type='value', value='fixed'), table_margin_left=OptionsInfo(scss=True, category='table', type='px', value='auto'), table_margin_right=OptionsInfo(scss=True, category='table', type='px', value='auto'), table_background_color=OptionsInfo(scss=True, category='table', type='value', value='#FFFFFF'), table_font_names=OptionsInfo(scss=False, category='table', type='values', value=['-apple-system', 'BlinkMacSystemFont', 'Segoe UI', 'Roboto', 'Oxygen', 'Ubuntu', 'Cantarell', 'Helvetica Neue', 'Fira Sans', 'Droid Sans', 'Arial', 'sans-serif']), table_font_size=OptionsInfo(scss=True, category='table', type='px', value='16px'), table_font_weight=OptionsInfo(scss=True, category='table', type='value', value='normal'), table_font_style=OptionsInfo(scss=True, category='table', type='value', value='normal'), table_font_color=OptionsInfo(scss=True, category='table', type='value', value='#333333'), table_font_color_light=OptionsInfo(scss=True, category='table', type='value', value='#FFFFFF'), table_border_top_include=OptionsInfo(scss=False, category='table', type='boolean', value=True), table_border_top_style=OptionsInfo(scss=True, category='table', type='value', value='solid'), table_border_top_width=OptionsInfo(scss=True, category='table', type='px', value='2px'), table_border_top_color=OptionsInfo(scss=True, category='table', type='value', value='#A8A8A8'), table_border_right_style=OptionsInfo(scss=True, category='table', type='value', value='none'), table_border_right_width=OptionsInfo(scss=True, category='table', type='px', value='2px'), table_border_right_color=OptionsInfo(scss=True, category='table', type='value', value='#D3D3D3'), table_border_bottom_include=OptionsInfo(scss=False, category='table', type='boolean', value=True), table_border_bottom_style=OptionsInfo(scss=True, category='table', type='value', value='solid'), table_border_bottom_width=OptionsInfo(scss=True, category='table', type='px', value='2px'), table_border_bottom_color=OptionsInfo(scss=True, category='table', type='value', value='#A8A8A8'), table_border_left_style=OptionsInfo(scss=True, category='table', type='value', value='none'), table_border_left_width=OptionsInfo(scss=True, category='table', type='px', value='2px'), table_border_left_color=OptionsInfo(scss=True, category='table', type='value', value='#D3D3D3'), heading_background_color=OptionsInfo(scss=True, category='heading', type='value', value=None), heading_align=OptionsInfo(scss=True, category='heading', type='value', value='left'), heading_title_font_size=OptionsInfo(scss=True, category='heading', type='px', value='125%'), heading_title_font_weight=OptionsInfo(scss=True, category='heading', type='value', value='initial'), heading_subtitle_font_size=OptionsInfo(scss=True, category='heading', type='px', value='85%'), heading_subtitle_font_weight=OptionsInfo(scss=True, category='heading', type='value', value='initial'), heading_padding=OptionsInfo(scss=True, category='heading', type='px', value='4px'), heading_padding_horizontal=OptionsInfo(scss=True, category='heading', type='px', value='5px'), heading_border_bottom_style=OptionsInfo(scss=True, category='heading', type='value', value='solid'), heading_border_bottom_width=OptionsInfo(scss=True, category='heading', type='px', value='2px'), heading_border_bottom_color=OptionsInfo(scss=True, category='heading', type='value', value='#D3D3D3'), heading_border_lr_style=OptionsInfo(scss=True, category='heading', type='value', value='none'), heading_border_lr_width=OptionsInfo(scss=True, category='heading', type='px', value='1px'), heading_border_lr_color=OptionsInfo(scss=True, category='heading', type='value', value='#D3D3D3'), column_labels_background_color=OptionsInfo(scss=True, category='column_labels', type='value', value=None), column_labels_font_size=OptionsInfo(scss=True, category='column_labels', type='px', value='100%'), column_labels_font_weight=OptionsInfo(scss=True, category='column_labels', type='value', value='normal'), column_labels_text_transform=OptionsInfo(scss=True, category='column_labels', type='value', value='inherit'), column_labels_padding=OptionsInfo(scss=True, category='column_labels', type='px', value='5px'), column_labels_padding_horizontal=OptionsInfo(scss=True, category='column_labels', type='px', value='5px'), column_labels_vlines_style=OptionsInfo(scss=True, category='table_body', type='value', value='none'), column_labels_vlines_width=OptionsInfo(scss=True, category='table_body', type='px', value='1px'), column_labels_vlines_color=OptionsInfo(scss=True, category='table_body', type='value', value='#D3D3D3'), column_labels_border_top_style=OptionsInfo(scss=True, category='column_labels', type='value', value='solid'), column_labels_border_top_width=OptionsInfo(scss=True, category='column_labels', type='px', value='2px'), column_labels_border_top_color=OptionsInfo(scss=True, category='column_labels', type='value', value='#D3D3D3'), column_labels_border_bottom_style=OptionsInfo(scss=True, category='column_labels', type='value', value='solid'), column_labels_border_bottom_width=OptionsInfo(scss=True, category='column_labels', type='px', value='2px'), column_labels_border_bottom_color=OptionsInfo(scss=True, category='column_labels', type='value', value='#D3D3D3'), column_labels_border_lr_style=OptionsInfo(scss=True, category='column_labels', type='value', value='none'), column_labels_border_lr_width=OptionsInfo(scss=True, category='column_labels', type='px', value='1px'), column_labels_border_lr_color=OptionsInfo(scss=True, category='column_labels', type='value', value='#D3D3D3'), column_labels_hidden=OptionsInfo(scss=False, category='column_labels', type='boolean', value=False), row_group_background_color=OptionsInfo(scss=True, category='row_group', type='value', value=None), row_group_font_size=OptionsInfo(scss=True, category='row_group', type='px', value='100%'), row_group_font_weight=OptionsInfo(scss=True, category='row_group', type='value', value='initial'), row_group_text_transform=OptionsInfo(scss=True, category='row_group', type='value', value='inherit'), row_group_padding=OptionsInfo(scss=True, category='row_group', type='px', value='8px'), row_group_padding_horizontal=OptionsInfo(scss=True, category='row_group', type='px', value='5px'), row_group_border_top_style=OptionsInfo(scss=True, category='row_group', type='value', value='solid'), row_group_border_top_width=OptionsInfo(scss=True, category='row_group', type='px', value='2px'), row_group_border_top_color=OptionsInfo(scss=True, category='row_group', type='value', value='#D3D3D3'), row_group_border_right_style=OptionsInfo(scss=True, category='row_group', type='value', value='none'), row_group_border_right_width=OptionsInfo(scss=True, category='row_group', type='px', value='1px'), row_group_border_right_color=OptionsInfo(scss=True, category='row_group', type='value', value='#D3D3D3'), row_group_border_bottom_style=OptionsInfo(scss=True, category='row_group', type='value', value='solid'), row_group_border_bottom_width=OptionsInfo(scss=True, category='row_group', type='px', value='2px'), row_group_border_bottom_color=OptionsInfo(scss=True, category='row_group', type='value', value='#D3D3D3'), row_group_border_left_style=OptionsInfo(scss=True, category='row_group', type='value', value='none'), row_group_border_left_width=OptionsInfo(scss=True, category='row_group', type='px', value='1px'), row_group_border_left_color=OptionsInfo(scss=True, category='row_group', type='value', value='#D3D3D3'), row_group_as_column=OptionsInfo(scss=False, category='row_group', type='boolean', value=False), table_body_hlines_style=OptionsInfo(scss=True, category='table_body', type='value', value='solid'), table_body_hlines_width=OptionsInfo(scss=True, category='table_body', type='px', value='1px'), table_body_hlines_color=OptionsInfo(scss=True, category='table_body', type='value', value='#D3D3D3'), table_body_vlines_style=OptionsInfo(scss=True, category='table_body', type='value', value='none'), table_body_vlines_width=OptionsInfo(scss=True, category='table_body', type='px', value='1px'), table_body_vlines_color=OptionsInfo(scss=True, category='table_body', type='value', value='#D3D3D3'), table_body_border_top_style=OptionsInfo(scss=True, category='table_body', type='value', value='solid'), table_body_border_top_width=OptionsInfo(scss=True, category='table_body', type='px', value='2px'), table_body_border_top_color=OptionsInfo(scss=True, category='table_body', type='value', value='#D3D3D3'), table_body_border_bottom_style=OptionsInfo(scss=True, category='table_body', type='value', value='solid'), table_body_border_bottom_width=OptionsInfo(scss=True, category='table_body', type='px', value='2px'), table_body_border_bottom_color=OptionsInfo(scss=True, category='table_body', type='value', value='#D3D3D3'), data_row_padding=OptionsInfo(scss=True, category='data_row', type='px', value='8px'), data_row_padding_horizontal=OptionsInfo(scss=True, category='data_row', type='px', value='5px'), stub_background_color=OptionsInfo(scss=True, category='stub', type='value', value=None), stub_font_size=OptionsInfo(scss=True, category='stub', type='px', value='100%'), stub_font_weight=OptionsInfo(scss=True, category='stub', type='value', value='initial'), stub_text_transform=OptionsInfo(scss=True, category='stub', type='value', value='inherit'), stub_border_style=OptionsInfo(scss=True, category='stub', type='value', value='solid'), stub_border_width=OptionsInfo(scss=True, category='stub', type='px', value='2px'), stub_border_color=OptionsInfo(scss=True, category='stub', type='value', value='#D3D3D3'), stub_row_group_background_color=OptionsInfo(scss=True, category='stub', type='value', value=None), stub_row_group_font_size=OptionsInfo(scss=True, category='stub', type='px', value='100%'), stub_row_group_font_weight=OptionsInfo(scss=True, category='stub', type='value', value='initial'), stub_row_group_text_transform=OptionsInfo(scss=True, category='stub', type='value', value='inherit'), stub_row_group_border_style=OptionsInfo(scss=True, category='stub', type='value', value='solid'), stub_row_group_border_width=OptionsInfo(scss=True, category='stub', type='px', value='2px'), stub_row_group_border_color=OptionsInfo(scss=True, category='stub', type='value', value='#D3D3D3'), source_notes_padding=OptionsInfo(scss=True, category='source_notes', type='px', value='4px'), source_notes_padding_horizontal=OptionsInfo(scss=True, category='source_notes', type='px', value='5px'), source_notes_background_color=OptionsInfo(scss=True, category='source_notes', type='value', value=None), source_notes_font_size=OptionsInfo(scss=True, category='source_notes', type='px', value='90%'), source_notes_border_bottom_style=OptionsInfo(scss=True, category='source_notes', type='value', value='none'), source_notes_border_bottom_width=OptionsInfo(scss=True, category='source_notes', type='px', value='2px'), source_notes_border_bottom_color=OptionsInfo(scss=True, category='source_notes', type='value', value='#D3D3D3'), source_notes_border_lr_style=OptionsInfo(scss=True, category='source_notes', type='value', value='none'), source_notes_border_lr_width=OptionsInfo(scss=True, category='source_notes', type='px', value='2px'), source_notes_border_lr_color=OptionsInfo(scss=True, category='source_notes', type='value', value='#D3D3D3'), source_notes_multiline=OptionsInfo(scss=False, category='source_notes', type='boolean', value=True), source_notes_sep=OptionsInfo(scss=False, category='source_notes', type='value', value=' '), container_width=OptionsInfo(scss=False, category='container', type='px', value='auto'), container_height=OptionsInfo(scss=False, category='container', type='px', value='auto'), container_padding_x=OptionsInfo(scss=False, category='container', type='px', value='0px'), container_padding_y=OptionsInfo(scss=False, category='container', type='px', value='10px'), container_overflow_x=OptionsInfo(scss=False, category='container', type='overflow', value='auto'), container_overflow_y=OptionsInfo(scss=False, category='container', type='overflow', value='auto'), quarto_disable_processing=OptionsInfo(scss=False, category='quarto', type='logical', value=False), quarto_use_bootstrap=OptionsInfo(scss=False, category='quarto', type='logical', value=False)), _has_built=False)"
            ]
          },
          "execution_count": 13,
          "metadata": {},
          "output_type": "execute_result"
        }
      ],
      "source": [
        "# Tabulate state data frame\n",
        "import polars.selectors as cs\n",
        "(\n",
        "    GT(state, rowname_col='state')\n",
        "    .tab_header(\n",
        "        title='Jonglei State leads with over 13.6 million persons',\n",
        "        subtitle=md(\n",
        "            'Western Bahr el Ghazal State has the lowest <br>population according to the 2008 census'\n",
        "        )\n",
        "    )\n",
        "    .fmt_integer(columns=cs.integer(), use_seps=True)\n",
        "    .cols_align(align='center', columns=['Male', 'Female'])\n",
        "    .opt_align_table_header(align=\"left\")\n",
        "    .cols_label(state='State')\n",
        "    .tab_spanner(columns=cs.integer(), label='Population by Gender')\n",
        "    .tab_source_note(source_note=html('<a href=\"http://southsudan.opendataforafrica.org/fvjqdpe/population-by-age-and-sex-2008-south-sudan\"><strong>2008 Census: National Bureau of Statistics, South Sudan</strong></a>'))\n",
        ")"
      ]
    },
    {
      "cell_type": "code",
      "execution_count": 14,
      "id": "3096d758",
      "metadata": {},
      "outputs": [
        {
          "ename": "NameError",
          "evalue": "name 'st_gt' is not defined",
          "output_type": "error",
          "traceback": [
            "\u001b[0;31m---------------------------------------------------------------------------\u001b[0m",
            "\u001b[0;31mNameError\u001b[0m                                 Traceback (most recent call last)",
            "Cell \u001b[0;32mIn[14], line 2\u001b[0m\n\u001b[1;32m      1\u001b[0m \u001b[38;5;66;03m# Save gt table as a png file\u001b[39;00m\n\u001b[0;32m----> 2\u001b[0m GT\u001b[38;5;241m.\u001b[39msave(\u001b[43mst_gt\u001b[49m, file\u001b[38;5;241m=\u001b[39m\u001b[38;5;124m'\u001b[39m\u001b[38;5;124mimg/state.png\u001b[39m\u001b[38;5;124m'\u001b[39m)\n",
            "\u001b[0;31mNameError\u001b[0m: name 'st_gt' is not defined"
          ]
        }
      ],
      "source": [
        "# Save gt table as a png file\n",
        "GT.save(st_gt, file='img/state.png')"
      ]
    },
    {
      "cell_type": "markdown",
      "id": "d8a7cdc4",
      "metadata": {},
      "source": [
        "# Visualizing Census Data with Lets-Plot Package"
      ]
    },
    {
      "cell_type": "code",
      "execution_count": 15,
      "id": "a0ef1221",
      "metadata": {},
      "outputs": [
        {
          "name": "stdout",
          "output_type": "stream",
          "text": [
            "shape: (20, 3)\n",
            "┌────────────────────────┬────────┬────────┐\n",
            "│ state                  ┆ gender ┆ total  │\n",
            "│ ---                    ┆ ---    ┆ ---    │\n",
            "│ str                    ┆ str    ┆ i64    │\n",
            "╞════════════════════════╪════════╪════════╡\n",
            "│ Jonglei                ┆ Male   ┆ 734327 │\n",
            "│ Jonglei                ┆ Female ┆ 624275 │\n",
            "│ Central Equatoria      ┆ Male   ┆ 581722 │\n",
            "│ Upper Nile             ┆ Male   ┆ 525430 │\n",
            "│ Central Equatoria      ┆ Female ┆ 521835 │\n",
            "│ …                      ┆ …      ┆ …      │\n",
            "│ Western Equatoria      ┆ Female ┆ 300586 │\n",
            "│ Unity                  ┆ Male   ┆ 300247 │\n",
            "│ Unity                  ┆ Female ┆ 285554 │\n",
            "│ Western Bahr el Ghazal ┆ Male   ┆ 177040 │\n",
            "│ Western Bahr el Ghazal ┆ Female ┆ 156391 │\n",
            "└────────────────────────┴────────┴────────┘\n"
          ]
        }
      ],
      "source": [
        "state_by_gender = (\n",
        "    census\n",
        "    .group_by(['state', 'gender'])\n",
        "    .agg(total=pl.col('total').sum())\n",
        "    .sort('total', descending=True)\n",
        ")\n",
        "\n",
        "# Inspect output\n",
        "print(state_by_gender)"
      ]
    },
    {
      "cell_type": "code",
      "execution_count": 16,
      "id": "b6e378a0",
      "metadata": {},
      "outputs": [
        {
          "data": {
            "text/html": [
              "   <div id=\"tj1gAA\"></div>\n",
              "   <script type=\"text/javascript\" data-lets-plot-script=\"plot\">\n",
              "       (function() {\n",
              "           var plotSpec={\n",
              "\"data\":{\n",
              "\"state\":[\"Jonglei\",\"Jonglei\",\"Central Equatoria\",\"Upper Nile\",\"Central Equatoria\",\"Warrap\",\"Warrap\",\"Eastern Equatoria\",\"Eastern Equatoria\",\"Upper Nile\",\"Northern Bahr el Ghazal\",\"Lakes\",\"Northern Bahr el Ghazal\",\"Lakes\",\"Western Equatoria\",\"Western Equatoria\",\"Unity\",\"Unity\",\"Western Bahr el Ghazal\",\"Western Bahr el Ghazal\"],\n",
              "\"gender\":[\"Male\",\"Female\",\"Male\",\"Male\",\"Female\",\"Female\",\"Male\",\"Male\",\"Female\",\"Female\",\"Female\",\"Male\",\"Male\",\"Female\",\"Male\",\"Female\",\"Male\",\"Female\",\"Male\",\"Female\"],\n",
              "\"total\":[734327.0,624275.0,581722.0,525430.0,521835.0,502194.0,470734.0,465187.0,440974.0,438923.0,372608.0,365880.0,348290.0,329850.0,318443.0,300586.0,300247.0,285554.0,177040.0,156391.0]\n",
              "},\n",
              "\"mapping\":{\n",
              "\"x\":\"state\",\n",
              "\"y\":\"total\",\n",
              "\"fill\":\"gender\"\n",
              "},\n",
              "\"data_meta\":{\n",
              "},\n",
              "\"ggtitle\":{\n",
              "\"text\":\"Jonglei State leads in both categories\",\n",
              "\"subtitle\":\"Western Bahr el Ghazal State has the lowest \\ncount in both categories\"\n",
              "},\n",
              "\"theme\":{\n",
              "\"plot_title\":{\n",
              "\"family\":\"Arial\",\n",
              "\"size\":25.0,\n",
              "\"hjust\":0.0,\n",
              "\"blank\":false\n",
              "}\n",
              "},\n",
              "\"kind\":\"plot\",\n",
              "\"scales\":[{\n",
              "\"aesthetic\":\"y\",\n",
              "\"limits\":[0.0,1500000.0],\n",
              "\"format\":\"~e\"\n",
              "},{\n",
              "\"aesthetic\":\"fill\",\n",
              "\"values\":[\"#a9a9a9\",\"#4D5B68\"]\n",
              "},{\n",
              "\"name\":\"\",\n",
              "\"aesthetic\":\"x\"\n",
              "},{\n",
              "\"name\":\"Population (in persons)\",\n",
              "\"aesthetic\":\"y\"\n",
              "},{\n",
              "\"name\":\"Gender\",\n",
              "\"aesthetic\":\"fill\"\n",
              "}],\n",
              "\"layers\":[{\n",
              "\"geom\":\"bar\",\n",
              "\"stat\":\"identity\",\n",
              "\"mapping\":{\n",
              "},\n",
              "\"data_meta\":{\n",
              "},\n",
              "\"data\":{\n",
              "}\n",
              "}],\n",
              "\"metainfo_list\":[]\n",
              "};\n",
              "           var plotContainer = document.getElementById(\"tj1gAA\");\n",
              "           window.letsPlotCall(function() {{\n",
              "               LetsPlot.buildPlotFromProcessedSpecs(plotSpec, -1, -1, plotContainer);\n",
              "           }});\n",
              "       })();\n",
              "   </script>"
            ],
            "text/plain": [
              "<lets_plot.plot.core.PlotSpec at 0x10772b7d0>"
            ]
          },
          "execution_count": 16,
          "metadata": {},
          "output_type": "execute_result"
        }
      ],
      "source": [
        "# Plot state population by gender\n",
        "from lets_plot import *\n",
        "\n",
        "(\n",
        "    ggplot(\n",
        "        state_by_gender, \n",
        "        aes(x='state', y='total', fill='gender')\n",
        "    ) + \n",
        "    geom_bar(stat='identity') +\n",
        "    scale_y_continuous(limits=[0, 1_500_000], format='~e') +\n",
        "    scale_fill_manual(values=['#a9a9a9', '#4D5B68']) +\n",
        "    labs(\n",
        "        title='Jonglei State leads in both categories',\n",
        "        subtitle='Western Bahr el Ghazal State has the lowest \\ncount in both categories',\n",
        "        x='',\n",
        "        y='Population (in persons)',\n",
        "        fill='Gender'\n",
        "    ) +\n",
        "    theme(plot_title=element_text(hjust=0, size=25, family='Arial'))\n",
        ")"
      ]
    },
    {
      "cell_type": "code",
      "execution_count": 17,
      "id": "a35047cb",
      "metadata": {},
      "outputs": [
        {
          "name": "stdout",
          "output_type": "stream",
          "text": [
            "shape: (5, 4)\n",
            "┌───────────────────┬────────┬──────────────┬────────┐\n",
            "│ state             ┆ gender ┆ age_category ┆ total  │\n",
            "│ ---               ┆ ---    ┆ ---          ┆ ---    │\n",
            "│ str               ┆ str    ┆ str          ┆ i64    │\n",
            "╞═══════════════════╪════════╪══════════════╪════════╡\n",
            "│ Jonglei           ┆ Male   ┆ 0-14         ┆ 338443 │\n",
            "│ Jonglei           ┆ Female ┆ 0-14         ┆ 263646 │\n",
            "│ Central Equatoria ┆ Male   ┆ 0-14         ┆ 242247 │\n",
            "│ Upper Nile        ┆ Male   ┆ 0-14         ┆ 237461 │\n",
            "│ Warrap            ┆ Male   ┆ 0-14         ┆ 230854 │\n",
            "└───────────────────┴────────┴──────────────┴────────┘\n"
          ]
        }
      ],
      "source": [
        "# Visualize state data by age category\n",
        "census_by_age = (\n",
        "    census\n",
        "    .group_by(['state', 'gender', 'age_category'])\n",
        "    .agg(total=pl.col('total').sum())\n",
        "    .sort('total', descending=True)\n",
        ")\n",
        "\n",
        "# Inspect output\n",
        "print(census_by_age.head())"
      ]
    },
    {
      "cell_type": "code",
      "execution_count": 18,
      "id": "03a01a87",
      "metadata": {},
      "outputs": [
        {
          "data": {
            "text/html": [
              "\n",
              "            <div id=\"TuMfeM\"></div>\n",
              "            <script type=\"text/javascript\" data-lets-plot-script=\"library\">\n",
              "                if(!window.letsPlotCallQueue) {\n",
              "                    window.letsPlotCallQueue = [];\n",
              "                }; \n",
              "                window.letsPlotCall = function(f) {\n",
              "                    window.letsPlotCallQueue.push(f);\n",
              "                };\n",
              "                (function() {\n",
              "                    var script = document.createElement(\"script\");\n",
              "                    script.type = \"text/javascript\";\n",
              "                    script.src = \"https://cdn.jsdelivr.net/gh/JetBrains/lets-plot@v4.3.1/js-package/distr/lets-plot.min.js\";\n",
              "                    script.onload = function() {\n",
              "                        window.letsPlotCall = function(f) {f();};\n",
              "                        window.letsPlotCallQueue.forEach(function(f) {f();});\n",
              "                        window.letsPlotCallQueue = [];\n",
              "                        \n",
              "                    };\n",
              "                    script.onerror = function(event) {\n",
              "                        window.letsPlotCall = function(f) {};    // noop\n",
              "                        window.letsPlotCallQueue = [];\n",
              "                        var div = document.createElement(\"div\");\n",
              "                        div.style.color = 'darkred';\n",
              "                        div.textContent = 'Error loading Lets-Plot JS';\n",
              "                        document.getElementById(\"TuMfeM\").appendChild(div);\n",
              "                    };\n",
              "                    var e = document.getElementById(\"TuMfeM\");\n",
              "                    e.appendChild(script);\n",
              "                })()\n",
              "            </script>\n",
              "            "
            ]
          },
          "metadata": {},
          "output_type": "display_data"
        },
        {
          "data": {
            "text/html": [
              "   <div id=\"nM2nFl\"></div>\n",
              "   <script type=\"text/javascript\" data-lets-plot-script=\"plot\">\n",
              "       (function() {\n",
              "           var plotSpec={\n",
              "\"data\":{\n",
              "\"state\":[\"Jonglei\",\"Jonglei\",\"Central Equatoria\",\"Upper Nile\",\"Warrap\",\"Warrap\",\"Central Equatoria\",\"Eastern Equatoria\",\"Upper Nile\",\"Eastern Equatoria\",\"Northern Bahr el Ghazal\",\"Northern Bahr el Ghazal\",\"Lakes\",\"Unity\",\"Lakes\",\"Jonglei\",\"Unity\",\"Western Equatoria\",\"Jonglei\",\"Central Equatoria\",\"Central Equatoria\",\"Western Equatoria\",\"Jonglei\",\"Eastern Equatoria\",\"Upper Nile\",\"Eastern Equatoria\",\"Warrap\",\"Central Equatoria\",\"Jonglei\",\"Upper Nile\",\"Central Equatoria\",\"Warrap\",\"Warrap\",\"Western Bahr el Ghazal\",\"Upper Nile\",\"Lakes\",\"Eastern Equatoria\",\"Upper Nile\",\"Western Equatoria\",\"Western Bahr el Ghazal\",\"Jonglei\",\"Jonglei\",\"Western Equatoria\",\"Lakes\",\"Northern Bahr el Ghazal\",\"Eastern Equatoria\",\"Warrap\",\"Central Equatoria\",\"Northern Bahr el Ghazal\",\"Lakes\",\"Unity\",\"Unity\",\"Lakes\",\"Upper Nile\",\"Northern Bahr el Ghazal\",\"Western Equatoria\",\"Warrap\",\"Central Equatoria\",\"Western Equatoria\",\"Upper Nile\",\"Warrap\",\"Jonglei\",\"Eastern Equatoria\",\"Unity\",\"Northern Bahr el Ghazal\",\"Eastern Equatoria\",\"Unity\",\"Northern Bahr el Ghazal\",\"Lakes\",\"Jonglei\",\"Western Equatoria\",\"Western Bahr el Ghazal\",\"Western Equatoria\",\"Northern Bahr el Ghazal\",\"Central Equatoria\",\"Lakes\",\"Upper Nile\",\"Western Bahr el Ghazal\",\"Western Bahr el Ghazal\",\"Warrap\",\"Central Equatoria\",\"Warrap\",\"Western Bahr el Ghazal\",\"Unity\",\"Eastern Equatoria\",\"Jonglei\",\"Unity\",\"Upper Nile\",\"Eastern Equatoria\",\"Jonglei\",\"Lakes\",\"Northern Bahr el Ghazal\",\"Western Equatoria\",\"Northern Bahr el Ghazal\",\"Western Bahr el Ghazal\",\"Western Equatoria\",\"Lakes\",\"Upper Nile\",\"Unity\",\"Western Bahr el Ghazal\",\"Upper Nile\",\"Jonglei\",\"Central Equatoria\",\"Unity\",\"Warrap\",\"Northern Bahr el Ghazal\",\"Warrap\",\"Eastern Equatoria\",\"Northern Bahr el Ghazal\",\"Eastern Equatoria\",\"Jonglei\",\"Warrap\",\"Central Equatoria\",\"Northern Bahr el Ghazal\",\"Northern Bahr el Ghazal\",\"Upper Nile\",\"Western Equatoria\",\"Central Equatoria\",\"Lakes\",\"Eastern Equatoria\",\"Western Equatoria\",\"Warrap\",\"Western Bahr el Ghazal\",\"Upper Nile\",\"Lakes\",\"Lakes\",\"Unity\",\"Western Equatoria\",\"Unity\",\"Eastern Equatoria\",\"Central Equatoria\",\"Western Bahr el Ghazal\",\"Unity\",\"Unity\",\"Western Equatoria\",\"Lakes\",\"Western Bahr el Ghazal\",\"Western Bahr el Ghazal\",\"Western Bahr el Ghazal\",\"Western Bahr el Ghazal\"],\n",
              "\"gender\":[\"Male\",\"Female\",\"Male\",\"Male\",\"Male\",\"Female\",\"Female\",\"Male\",\"Female\",\"Female\",\"Male\",\"Female\",\"Male\",\"Male\",\"Female\",\"Male\",\"Female\",\"Male\",\"Female\",\"Male\",\"Female\",\"Female\",\"Female\",\"Male\",\"Male\",\"Female\",\"Female\",\"Male\",\"Male\",\"Female\",\"Female\",\"Female\",\"Male\",\"Male\",\"Male\",\"Male\",\"Female\",\"Female\",\"Female\",\"Female\",\"Female\",\"Male\",\"Male\",\"Female\",\"Female\",\"Male\",\"Male\",\"Male\",\"Female\",\"Female\",\"Female\",\"Male\",\"Male\",\"Male\",\"Male\",\"Female\",\"Female\",\"Female\",\"Male\",\"Female\",\"Male\",\"Male\",\"Female\",\"Female\",\"Male\",\"Male\",\"Male\",\"Female\",\"Male\",\"Female\",\"Male\",\"Male\",\"Female\",\"Male\",\"Male\",\"Female\",\"Male\",\"Female\",\"Male\",\"Male\",\"Female\",\"Female\",\"Female\",\"Female\",\"Male\",\"Male\",\"Male\",\"Female\",\"Female\",\"Male\",\"Male\",\"Male\",\"Male\",\"Female\",\"Male\",\"Female\",\"Female\",\"Male\",\"Male\",\"Female\",\"Male\",\"Female\",\"Male\",\"Female\",\"Male\",\"Male\",\"Female\",\"Male\",\"Female\",\"Male\",\"Female\",\"Male\",\"Female\",\"Female\",\"Male\",\"Female\",\"Male\",\"Male\",\"Male\",\"Female\",\"Male\",\"Female\",\"Male\",\"Female\",\"Male\",\"Female\",\"Male\",\"Female\",\"Male\",\"Female\",\"Female\",\"Female\",\"Female\",\"Female\",\"Female\",\"Female\",\"Male\",\"Male\",\"Female\",\"Female\"],\n",
              "\"age_category\":[\"0-14\",\"0-14\",\"0-14\",\"0-14\",\"0-14\",\"0-14\",\"0-14\",\"0-14\",\"0-14\",\"0-14\",\"0-14\",\"0-14\",\"0-14\",\"0-14\",\"0-14\",\"15-24\",\"0-14\",\"0-14\",\"15-24\",\"15-24\",\"15-24\",\"0-14\",\"25-34\",\"15-24\",\"15-24\",\"15-24\",\"15-24\",\"25-34\",\"25-34\",\"15-24\",\"25-34\",\"25-34\",\"15-24\",\"0-14\",\"25-34\",\"15-24\",\"25-34\",\"25-34\",\"15-24\",\"0-14\",\"35-44\",\"35-44\",\"15-24\",\"15-24\",\"15-24\",\"25-34\",\"25-34\",\"35-44\",\"25-34\",\"25-34\",\"15-24\",\"15-24\",\"25-34\",\"35-44\",\"15-24\",\"25-34\",\"35-44\",\"35-44\",\"25-34\",\"35-44\",\"35-44\",\"45-54\",\"35-44\",\"25-34\",\"25-34\",\"35-44\",\"25-34\",\"35-44\",\"35-44\",\"45-54\",\"35-44\",\"15-24\",\"35-44\",\"35-44\",\"45-54\",\"35-44\",\"45-54\",\"15-24\",\"25-34\",\"45-54\",\"45-54\",\"45-54\",\"25-34\",\"35-44\",\"45-54\",\"55-64\",\"35-44\",\"45-54\",\"45-54\",\"65 and above\",\"45-54\",\"45-54\",\"45-54\",\"45-54\",\"35-44\",\"45-54\",\"45-54\",\"55-64\",\"45-54\",\"35-44\",\"65 and above\",\"55-64\",\"55-64\",\"45-54\",\"55-64\",\"65 and above\",\"55-64\",\"55-64\",\"65 and above\",\"65 and above\",\"65 and above\",\"65 and above\",\"55-64\",\"55-64\",\"55-64\",\"55-64\",\"65 and above\",\"65 and above\",\"55-64\",\"55-64\",\"55-64\",\"65 and above\",\"45-54\",\"65 and above\",\"65 and above\",\"55-64\",\"65 and above\",\"55-64\",\"55-64\",\"65 and above\",\"65 and above\",\"45-54\",\"65 and above\",\"55-64\",\"65 and above\",\"65 and above\",\"55-64\",\"65 and above\",\"55-64\",\"65 and above\"],\n",
              "\"total\":[338443.0,263646.0,242247.0,237461.0,230854.0,222745.0,221216.0,212728.0,191018.0,187961.0,175357.0,168282.0,160815.0,149257.0,143171.0,142786.0,134815.0,125766.0,125241.0,124513.0,115726.0,111841.0,104354.0,100730.0,99908.0,96850.0,96100.0,95507.0,95272.0,86484.0,86092.0,81722.0,79293.0,74421.0,71031.0,70657.0,69910.0,68857.0,68412.0,67293.0,66971.0,66018.0,65642.0,65575.0,64698.0,60808.0,60546.0,59775.0,56574.0,55004.0,54670.0,54521.0,54328.0,52518.0,51538.0,51398.0,50875.0,50764.0,48113.0,46427.0,45602.0,44620.0,43393.0,41150.0,41105.0,40638.0,38151.0,37080.0,36257.0,35955.0,34746.0,34102.0,34048.0,32672.0,32567.0,32485.0,31790.0,31389.0,29068.0,28227.0,27182.0,27042.0,25936.0,25152.0,24710.0,24530.0,24319.0,24277.0,23209.0,22658.0,22397.0,21982.0,21753.0,21263.0,19933.0,18749.0,18164.0,16976.0,16343.0,15844.0,15746.0,15724.0,15704.0,14448.0,13867.0,13523.0,13085.0,13045.0,12585.0,12528.0,12384.0,12345.0,12259.0,12126.0,12113.0,11716.0,11541.0,11409.0,11326.0,11014.0,10882.0,10625.0,10364.0,10144.0,10100.0,9055.0,8999.0,8769.0,8657.0,8637.0,8596.0,8323.0,7801.0,7518.0,7369.0,6396.0,4981.0,4171.0,4079.0,3527.0]\n",
              "},\n",
              "\"mapping\":{\n",
              "\"x\":\"state\",\n",
              "\"y\":\"total\",\n",
              "\"fill\":\"gender\"\n",
              "},\n",
              "\"data_meta\":{\n",
              "},\n",
              "\"facet\":{\n",
              "\"name\":\"grid\",\n",
              "\"x\":\"gender\",\n",
              "\"y\":\"age_category\",\n",
              "\"scales\":\"free_y\",\n",
              "\"x_order\":1.0,\n",
              "\"y_order\":1.0\n",
              "},\n",
              "\"ggtitle\":{\n",
              "\"text\":\"Facet Grid Display of the South Sudan 2008 Census Data\"\n",
              "},\n",
              "\"theme\":{\n",
              "\"axis_ticks\":{\n",
              "\"color\":\"white\",\n",
              "\"blank\":false\n",
              "},\n",
              "\"axis_line_x\":\"blank\",\n",
              "\"legend_position\":\"none\",\n",
              "\"panel_grid_major_x\":\"blank\",\n",
              "\"plot_title\":{\n",
              "\"size\":20.0,\n",
              "\"margin\":[15.0,0.0,15.0,0.0],\n",
              "\"blank\":false\n",
              "},\n",
              "\"strip_background\":{\n",
              "\"fill\":\"white\",\n",
              "\"color\":\"black\",\n",
              "\"blank\":false\n",
              "},\n",
              "\"axis_tooltip\":{\n",
              "\"fill\":\"white\",\n",
              "\"color\":\"black\",\n",
              "\"blank\":false\n",
              "}\n",
              "},\n",
              "\"kind\":\"plot\",\n",
              "\"scales\":[{\n",
              "\"aesthetic\":\"fill\",\n",
              "\"discrete\":true\n",
              "},{\n",
              "\"aesthetic\":\"fill\",\n",
              "\"values\":[\"#5C6468\",\"#110D01\"]\n",
              "},{\n",
              "\"aesthetic\":\"y\",\n",
              "\"format\":\"~e\"\n",
              "},{\n",
              "\"name\":\"\",\n",
              "\"aesthetic\":\"x\"\n",
              "},{\n",
              "\"name\":\"Population (in persons)\",\n",
              "\"aesthetic\":\"y\"\n",
              "}],\n",
              "\"layers\":[{\n",
              "\"geom\":\"bar\",\n",
              "\"stat\":\"identity\",\n",
              "\"mapping\":{\n",
              "},\n",
              "\"show_legend\":\"none\",\n",
              "\"data_meta\":{\n",
              "},\n",
              "\"data\":{\n",
              "}\n",
              "}],\n",
              "\"metainfo_list\":[]\n",
              "};\n",
              "           var plotContainer = document.getElementById(\"nM2nFl\");\n",
              "           window.letsPlotCall(function() {{\n",
              "               LetsPlot.buildPlotFromProcessedSpecs(plotSpec, -1, -1, plotContainer);\n",
              "           }});\n",
              "       })();\n",
              "   </script>"
            ],
            "text/plain": [
              "<lets_plot.plot.core.PlotSpec at 0x15e9f9220>"
            ]
          },
          "execution_count": 18,
          "metadata": {},
          "output_type": "execute_result"
        }
      ],
      "source": [
        "# Plot census_by_age\n",
        "LetsPlot.setup_html()\n",
        "(\n",
        "    ggplot(census_by_age, aes('state', 'total', fill='gender')) +\n",
        "    geom_bar(stat='identity', show_legend='none') +\n",
        "    scale_fill_discrete() +\n",
        "    scale_fill_manual(values=['#5C6468', '#110D01']) +\n",
        "    facet_grid(x='gender', y='age_category', scales='free_y') +\n",
        "    scale_y_continuous(format='~e') +\n",
        "    labs(\n",
        "        title='Facet Grid Display of the South Sudan 2008 Census Data',\n",
        "        x='',\n",
        "        y='Population (in persons)'\n",
        "    ) +\n",
        "    theme(\n",
        "        plot_title=element_text(size=20, margin=[15, 0, 15, 0]),\n",
        "        axis_line_x='blank', \n",
        "        axis_ticks=element_line(color='white'), \n",
        "        panel_grid_major_x='blank', \n",
        "        strip_background=element_rect(color='black', fill='white'), \n",
        "        axis_tooltip=element_rect(color='black', fill='white'),\n",
        "        legend_position='none'\n",
        "    )\n",
        ")\n"
      ]
    },
    {
      "cell_type": "code",
      "execution_count": 19,
      "id": "934d8f2b",
      "metadata": {},
      "outputs": [
        {
          "name": "stdout",
          "output_type": "stream",
          "text": [
            "shape: (5, 12)\n",
            "┌─────┬──────────────┬───────┬───────┬───┬─────┬─────┬─────┬─────────┐\n",
            "│     ┆ manufacturer ┆ model ┆ displ ┆ … ┆ cty ┆ hwy ┆ fl  ┆ class   │\n",
            "│ --- ┆ ---          ┆ ---   ┆ ---   ┆   ┆ --- ┆ --- ┆ --- ┆ ---     │\n",
            "│ i64 ┆ str          ┆ str   ┆ f64   ┆   ┆ i64 ┆ i64 ┆ str ┆ str     │\n",
            "╞═════╪══════════════╪═══════╪═══════╪═══╪═════╪═════╪═════╪═════════╡\n",
            "│ 1   ┆ audi         ┆ a4    ┆ 1.8   ┆ … ┆ 18  ┆ 29  ┆ p   ┆ compact │\n",
            "│ 2   ┆ audi         ┆ a4    ┆ 1.8   ┆ … ┆ 21  ┆ 29  ┆ p   ┆ compact │\n",
            "│ 3   ┆ audi         ┆ a4    ┆ 2.0   ┆ … ┆ 20  ┆ 31  ┆ p   ┆ compact │\n",
            "│ 4   ┆ audi         ┆ a4    ┆ 2.0   ┆ … ┆ 21  ┆ 30  ┆ p   ┆ compact │\n",
            "│ 5   ┆ audi         ┆ a4    ┆ 2.8   ┆ … ┆ 16  ┆ 26  ┆ p   ┆ compact │\n",
            "└─────┴──────────────┴───────┴───────┴───┴─────┴─────┴─────┴─────────┘\n"
          ]
        }
      ],
      "source": [
        "df = pl.read_csv('https://raw.githubusercontent.com/JetBrains/lets-plot-docs/master/data/mpg.csv')\n",
        "print(df.head())"
      ]
    },
    {
      "cell_type": "code",
      "execution_count": 20,
      "id": "42f79c0f",
      "metadata": {},
      "outputs": [
        {
          "data": {
            "text/html": [
              "\n",
              "            <div id=\"YoYSEI\"></div>\n",
              "            <script type=\"text/javascript\" data-lets-plot-script=\"library\">\n",
              "                if(!window.letsPlotCallQueue) {\n",
              "                    window.letsPlotCallQueue = [];\n",
              "                }; \n",
              "                window.letsPlotCall = function(f) {\n",
              "                    window.letsPlotCallQueue.push(f);\n",
              "                };\n",
              "                (function() {\n",
              "                    var script = document.createElement(\"script\");\n",
              "                    script.type = \"text/javascript\";\n",
              "                    script.src = \"https://cdn.jsdelivr.net/gh/JetBrains/lets-plot@v4.3.1/js-package/distr/lets-plot.min.js\";\n",
              "                    script.onload = function() {\n",
              "                        window.letsPlotCall = function(f) {f();};\n",
              "                        window.letsPlotCallQueue.forEach(function(f) {f();});\n",
              "                        window.letsPlotCallQueue = [];\n",
              "                        \n",
              "                    };\n",
              "                    script.onerror = function(event) {\n",
              "                        window.letsPlotCall = function(f) {};    // noop\n",
              "                        window.letsPlotCallQueue = [];\n",
              "                        var div = document.createElement(\"div\");\n",
              "                        div.style.color = 'darkred';\n",
              "                        div.textContent = 'Error loading Lets-Plot JS';\n",
              "                        document.getElementById(\"YoYSEI\").appendChild(div);\n",
              "                    };\n",
              "                    var e = document.getElementById(\"YoYSEI\");\n",
              "                    e.appendChild(script);\n",
              "                })()\n",
              "            </script>\n",
              "            "
            ]
          },
          "metadata": {},
          "output_type": "display_data"
        },
        {
          "data": {
            "text/html": [
              "   <div id=\"hkabu3\"></div>\n",
              "   <script type=\"text/javascript\" data-lets-plot-script=\"plot\">\n",
              "       (function() {\n",
              "           var plotSpec={\n",
              "\"data\":{\n",
              "\"model\":[\"a4\",\"a4\",\"a4\",\"a4\",\"a4\",\"a4\",\"a4\",\"a4 quattro\",\"a4 quattro\",\"a4 quattro\",\"a4 quattro\",\"a4 quattro\",\"a4 quattro\",\"a4 quattro\",\"a4 quattro\",\"a6 quattro\",\"a6 quattro\",\"a6 quattro\",\"c1500 suburban 2wd\",\"c1500 suburban 2wd\",\"c1500 suburban 2wd\",\"c1500 suburban 2wd\",\"c1500 suburban 2wd\",\"corvette\",\"corvette\",\"corvette\",\"corvette\",\"corvette\",\"k1500 tahoe 4wd\",\"k1500 tahoe 4wd\",\"k1500 tahoe 4wd\",\"k1500 tahoe 4wd\",\"malibu\",\"malibu\",\"malibu\",\"malibu\",\"malibu\",\"caravan 2wd\",\"caravan 2wd\",\"caravan 2wd\",\"caravan 2wd\",\"caravan 2wd\",\"caravan 2wd\",\"caravan 2wd\",\"caravan 2wd\",\"caravan 2wd\",\"caravan 2wd\",\"caravan 2wd\",\"dakota pickup 4wd\",\"dakota pickup 4wd\",\"dakota pickup 4wd\",\"dakota pickup 4wd\",\"dakota pickup 4wd\",\"dakota pickup 4wd\",\"dakota pickup 4wd\",\"dakota pickup 4wd\",\"dakota pickup 4wd\",\"durango 4wd\",\"durango 4wd\",\"durango 4wd\",\"durango 4wd\",\"durango 4wd\",\"durango 4wd\",\"durango 4wd\",\"ram 1500 pickup 4wd\",\"ram 1500 pickup 4wd\",\"ram 1500 pickup 4wd\",\"ram 1500 pickup 4wd\",\"ram 1500 pickup 4wd\",\"ram 1500 pickup 4wd\",\"ram 1500 pickup 4wd\",\"ram 1500 pickup 4wd\",\"ram 1500 pickup 4wd\",\"ram 1500 pickup 4wd\",\"expedition 2wd\",\"expedition 2wd\",\"expedition 2wd\",\"explorer 4wd\",\"explorer 4wd\",\"explorer 4wd\",\"explorer 4wd\",\"explorer 4wd\",\"explorer 4wd\",\"f150 pickup 4wd\",\"f150 pickup 4wd\",\"f150 pickup 4wd\",\"f150 pickup 4wd\",\"f150 pickup 4wd\",\"f150 pickup 4wd\",\"f150 pickup 4wd\",\"mustang\",\"mustang\",\"mustang\",\"mustang\",\"mustang\",\"mustang\",\"mustang\",\"mustang\",\"mustang\",\"civic\",\"civic\",\"civic\",\"civic\",\"civic\",\"civic\",\"civic\",\"civic\",\"civic\",\"sonata\",\"sonata\",\"sonata\",\"sonata\",\"sonata\",\"sonata\",\"sonata\",\"tiburon\",\"tiburon\",\"tiburon\",\"tiburon\",\"tiburon\",\"tiburon\",\"tiburon\",\"grand cherokee 4wd\",\"grand cherokee 4wd\",\"grand cherokee 4wd\",\"grand cherokee 4wd\",\"grand cherokee 4wd\",\"grand cherokee 4wd\",\"grand cherokee 4wd\",\"grand cherokee 4wd\",\"range rover\",\"range rover\",\"range rover\",\"range rover\",\"navigator 2wd\",\"navigator 2wd\",\"navigator 2wd\",\"mountaineer 4wd\",\"mountaineer 4wd\",\"mountaineer 4wd\",\"mountaineer 4wd\",\"altima\",\"altima\",\"altima\",\"altima\",\"altima\",\"altima\",\"maxima\",\"maxima\",\"maxima\",\"pathfinder 4wd\",\"pathfinder 4wd\",\"pathfinder 4wd\",\"pathfinder 4wd\",\"grand prix\",\"grand prix\",\"grand prix\",\"grand prix\",\"grand prix\",\"forester awd\",\"forester awd\",\"forester awd\",\"forester awd\",\"forester awd\",\"forester awd\",\"impreza awd\",\"impreza awd\",\"impreza awd\",\"impreza awd\",\"impreza awd\",\"impreza awd\",\"impreza awd\",\"impreza awd\",\"4runner 4wd\",\"4runner 4wd\",\"4runner 4wd\",\"4runner 4wd\",\"4runner 4wd\",\"4runner 4wd\",\"camry\",\"camry\",\"camry\",\"camry\",\"camry\",\"camry\",\"camry\",\"camry solara\",\"camry solara\",\"camry solara\",\"camry solara\",\"camry solara\",\"camry solara\",\"camry solara\",\"corolla\",\"corolla\",\"corolla\",\"corolla\",\"corolla\",\"land cruiser wagon 4wd\",\"land cruiser wagon 4wd\",\"toyota tacoma 4wd\",\"toyota tacoma 4wd\",\"toyota tacoma 4wd\",\"toyota tacoma 4wd\",\"toyota tacoma 4wd\",\"toyota tacoma 4wd\",\"toyota tacoma 4wd\",\"gti\",\"gti\",\"gti\",\"gti\",\"gti\",\"jetta\",\"jetta\",\"jetta\",\"jetta\",\"jetta\",\"jetta\",\"jetta\",\"jetta\",\"jetta\",\"new beetle\",\"new beetle\",\"new beetle\",\"new beetle\",\"new beetle\",\"new beetle\",\"passat\",\"passat\",\"passat\",\"passat\",\"passat\",\"passat\",\"passat\"],\n",
              "\"hwy\":[29.0,29.0,31.0,30.0,26.0,26.0,27.0,26.0,25.0,28.0,27.0,25.0,25.0,25.0,25.0,24.0,25.0,23.0,20.0,15.0,20.0,17.0,17.0,26.0,23.0,26.0,25.0,24.0,19.0,14.0,15.0,17.0,27.0,30.0,26.0,29.0,26.0,24.0,24.0,22.0,22.0,24.0,24.0,17.0,22.0,21.0,23.0,23.0,19.0,18.0,17.0,17.0,19.0,19.0,12.0,17.0,15.0,17.0,17.0,12.0,17.0,16.0,18.0,15.0,16.0,12.0,17.0,17.0,16.0,12.0,15.0,16.0,17.0,15.0,17.0,17.0,18.0,17.0,19.0,17.0,19.0,19.0,17.0,17.0,17.0,16.0,16.0,17.0,15.0,17.0,26.0,25.0,26.0,24.0,21.0,22.0,23.0,22.0,20.0,33.0,32.0,32.0,29.0,32.0,34.0,36.0,36.0,29.0,26.0,27.0,30.0,31.0,26.0,26.0,28.0,26.0,29.0,28.0,27.0,24.0,24.0,24.0,22.0,19.0,20.0,17.0,12.0,19.0,18.0,14.0,15.0,18.0,18.0,15.0,17.0,16.0,18.0,17.0,19.0,19.0,17.0,29.0,27.0,31.0,32.0,27.0,26.0,26.0,25.0,25.0,17.0,17.0,20.0,18.0,26.0,26.0,27.0,28.0,25.0,25.0,24.0,27.0,25.0,26.0,23.0,26.0,26.0,26.0,26.0,25.0,27.0,25.0,27.0,20.0,20.0,19.0,17.0,20.0,17.0,29.0,27.0,31.0,31.0,26.0,26.0,28.0,27.0,29.0,31.0,31.0,26.0,26.0,27.0,30.0,33.0,35.0,37.0,35.0,15.0,18.0,20.0,20.0,22.0,17.0,19.0,18.0,20.0,29.0,26.0,29.0,29.0,24.0,44.0,29.0,26.0,29.0,29.0,29.0,29.0,23.0,24.0,44.0,41.0,29.0,26.0,28.0,29.0,29.0,29.0,28.0,29.0,26.0,26.0,26.0]\n",
              "},\n",
              "\"mapping\":{\n",
              "\"x\":\"model\",\n",
              "\"y\":\"hwy\",\n",
              "\"fill\":\"hwy\"\n",
              "},\n",
              "\"data_meta\":{\n",
              "},\n",
              "\"ggsize\":{\n",
              "\"width\":1250.0,\n",
              "\"height\":950.0\n",
              "},\n",
              "\"coord\":{\n",
              "\"name\":\"polar\",\n",
              "\"transform_bkgr\":false\n",
              "},\n",
              "\"theme\":{\n",
              "\"axis_text_x\":{\n",
              "\"angle\":12.0,\n",
              "\"blank\":false\n",
              "},\n",
              "\"axis_ticks_x\":{\n",
              "\"size\":3.0,\n",
              "\"blank\":false\n",
              "},\n",
              "\"axis_ticks_y\":{\n",
              "\"size\":5.0,\n",
              "\"blank\":false\n",
              "},\n",
              "\"axis_ticks_length_x\":10.0,\n",
              "\"axis_ticks_length_y\":5.0,\n",
              "\"axis_line_x\":{\n",
              "\"size\":2.0,\n",
              "\"blank\":false\n",
              "},\n",
              "\"axis_line_y\":{\n",
              "\"size\":2.0,\n",
              "\"blank\":false\n",
              "},\n",
              "\"panel_inset\":[20.0,140.0,30.0,135.0]\n",
              "},\n",
              "\"kind\":\"plot\",\n",
              "\"scales\":[{\n",
              "\"aesthetic\":\"fill\",\n",
              "\"limits\":[5.0,50.0],\n",
              "\"palette\":\"YlOrRd\",\n",
              "\"scale_mapper_kind\":\"color_brewer\"\n",
              "},{\n",
              "\"name\":\"\",\n",
              "\"aesthetic\":\"x\"\n",
              "},{\n",
              "\"name\":\"\",\n",
              "\"aesthetic\":\"y\"\n",
              "},{\n",
              "\"name\":\"Highway\",\n",
              "\"aesthetic\":\"fill\"\n",
              "}],\n",
              "\"layers\":[{\n",
              "\"geom\":\"bar\",\n",
              "\"stat\":\"identity\",\n",
              "\"mapping\":{\n",
              "},\n",
              "\"data_meta\":{\n",
              "},\n",
              "\"data\":{\n",
              "}\n",
              "}],\n",
              "\"metainfo_list\":[]\n",
              "};\n",
              "           var plotContainer = document.getElementById(\"hkabu3\");\n",
              "           window.letsPlotCall(function() {{\n",
              "               LetsPlot.buildPlotFromProcessedSpecs(plotSpec, -1, -1, plotContainer);\n",
              "           }});\n",
              "       })();\n",
              "   </script>"
            ],
            "text/plain": [
              "<lets_plot.plot.core.PlotSpec at 0x15ea08b90>"
            ]
          },
          "execution_count": 20,
          "metadata": {},
          "output_type": "execute_result"
        }
      ],
      "source": [
        "LetsPlot.setup_html()\n",
        "(\n",
        "    ggplot(df, aes('model', 'hwy', fill='hwy')) +\n",
        "    geom_bar(stat='identity') +\n",
        "    scale_fill_brewer(limits = [5, 50], palette = 'YlOrRd') +\n",
        "    ggsize(1250, 950) +\n",
        "    coord_polar(transform_bkgr=False) +  \n",
        "    labs(x='', y='', fill='Highway') +  \n",
        "    theme(\n",
        "        axis_line_y=element_line(size=2),\n",
        "        axis_line_x=element_line(size=2),\n",
        "        axis_ticks_length_y=5,\n",
        "        axis_ticks_length_x=10,\n",
        "        axis_ticks_y=element_line(size=5),\n",
        "        axis_ticks_x = element_line(size=3),\n",
        "        axis_text_x = element_text(angle=12),\n",
        "        panel_inset=[20, 140, 30, 135]\n",
        "    ) \n",
        ")"
      ]
    },
    {
      "cell_type": "code",
      "execution_count": null,
      "id": "17f873ad",
      "metadata": {},
      "outputs": [],
      "source": []
    }
  ],
  "metadata": {
    "kernelspec": {
      "display_name": "po-env",
      "language": "python",
      "name": "python3"
    },
    "language_info": {
      "codemirror_mode": {
        "name": "ipython",
        "version": 3
      },
      "file_extension": ".py",
      "mimetype": "text/x-python",
      "name": "python",
      "nbconvert_exporter": "python",
      "pygments_lexer": "ipython3",
      "version": "3.12.3"
    }
  },
  "nbformat": 4,
  "nbformat_minor": 5
}
