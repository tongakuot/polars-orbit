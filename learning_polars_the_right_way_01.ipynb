{
  "cells": [
    {
      "cell_type": "markdown",
      "id": "86ba6109",
      "metadata": {},
      "source": [
        "# Getting Started in Polars\n",
        "---\n",
        "**Alier Reng**\n",
        "\n",
        "**Date: 2024-04-20**\n"
      ]
    },
    {
      "cell_type": "markdown",
      "id": "f6f00c9e",
      "metadata": {},
      "source": [
        "# Motivation\n",
        "I've always been intrigued by the streamlined syntax and speed of the `Polars` library. However, my initial experience with it was challenging. I tried to clean and manipulate data with `Polars`, but I struggled to import the data correctly due to the required `null_values` argument in the import functions. This left me feeling discouraged, and I gave up. But I didn't lose hope and kept trying. Finally, I succeeded in creating a tutorial on the basics of the `Polars` library in May 2023, which I updated on April 20, 2024. This tutorial is my way of sharing my knowledge with those interested in learning about the `Polars` package. [That tutorial can be found here](https://github.com/tongakuot/python_tutorials/tree/main/Data%20Wrangling%20with%20Polars)\n",
        "\n",
        "This tutorial is the first of my **Learning the Polars Library the Right Way** series, which will be published on medium.com and later on alierwaidatastudio.com.\n",
        "\n",
        "# Getting Started\n",
        "First, I will import necessary libraries, read South Sudan's 2008 census data, and then showcase how to clean and transform this dataset with the `polar` library.\n",
        "\n",
        "As a bonus, I will demonstrate how to plot the data with the `lets-plot` Python library derived from `ggplto2` and tabulate data with the `great_tables` Python package, a Python version of the `R gt` package. My goal is to walk my readers through, step by step, from loading packages to data import data to data wrangling, visualization, and tabulation. I will conclude with a comprehensive summary."
      ]
    },
    {
      "cell_type": "markdown",
      "id": "3645672c",
      "metadata": {},
      "source": [
        "## Loading the Required Libraries\n",
        "Here, I will load `polars`, `lets_plot`, `great_tables`, `numpy`, `seaborn`, and `matplotlib.pyplot`."
      ]
    },
    {
      "cell_type": "code",
      "execution_count": 2,
      "id": "set-up",
      "metadata": {
        "message": false
      },
      "outputs": [
        {
          "data": {
            "text/html": [
              "\n",
              "            <div id=\"oALjeS\"></div>\n",
              "            <script type=\"text/javascript\" data-lets-plot-script=\"library\">\n",
              "                if(!window.letsPlotCallQueue) {\n",
              "                    window.letsPlotCallQueue = [];\n",
              "                }; \n",
              "                window.letsPlotCall = function(f) {\n",
              "                    window.letsPlotCallQueue.push(f);\n",
              "                };\n",
              "                (function() {\n",
              "                    var script = document.createElement(\"script\");\n",
              "                    script.type = \"text/javascript\";\n",
              "                    script.src = \"https://cdn.jsdelivr.net/gh/JetBrains/lets-plot@v4.3.1/js-package/distr/lets-plot.min.js\";\n",
              "                    script.onload = function() {\n",
              "                        window.letsPlotCall = function(f) {f();};\n",
              "                        window.letsPlotCallQueue.forEach(function(f) {f();});\n",
              "                        window.letsPlotCallQueue = [];\n",
              "                        \n",
              "                    };\n",
              "                    script.onerror = function(event) {\n",
              "                        window.letsPlotCall = function(f) {};    // noop\n",
              "                        window.letsPlotCallQueue = [];\n",
              "                        var div = document.createElement(\"div\");\n",
              "                        div.style.color = 'darkred';\n",
              "                        div.textContent = 'Error loading Lets-Plot JS';\n",
              "                        document.getElementById(\"oALjeS\").appendChild(div);\n",
              "                    };\n",
              "                    var e = document.getElementById(\"oALjeS\");\n",
              "                    e.appendChild(script);\n",
              "                })()\n",
              "            </script>\n",
              "            "
            ]
          },
          "metadata": {},
          "output_type": "display_data"
        }
      ],
      "source": [
        "# Libraries -------\n",
        "import polars as pl\n",
        "import numpy as np\n",
        "import seaborn as sns\n",
        "import matplotlib.pyplot as plt\n",
        "from great_tables import GT, md, html, style, loc\n",
        "from lets_plot import *\n",
        "LetsPlot.setup_html()\n"
      ]
    },
    {
      "cell_type": "markdown",
      "id": "02a11999",
      "metadata": {},
      "source": [
        "## Importing Data\n"
      ]
    },
    {
      "cell_type": "code",
      "execution_count": 3,
      "id": "99b0cd2b",
      "metadata": {},
      "outputs": [
        {
          "name": "stdout",
          "output_type": "stream",
          "text": [
            "shape: (5, 10)\n",
            "┌────────┬─────────────┬───────────────────┬──────────┬───┬──────────┬───────┬─────────┬────────┐\n",
            "│ Region ┆ Region Name ┆ Region - RegionId ┆ Variable ┆ … ┆ Age Name ┆ Scale ┆ Units   ┆ 2008   │\n",
            "│ ---    ┆ ---         ┆ ---               ┆ ---      ┆   ┆ ---      ┆ ---   ┆ ---     ┆ ---    │\n",
            "│ str    ┆ str         ┆ str               ┆ str      ┆   ┆ str      ┆ str   ┆ str     ┆ i64    │\n",
            "╞════════╪═════════════╪═══════════════════╪══════════╪═══╪══════════╪═══════╪═════════╪════════╡\n",
            "│ KN.A2  ┆ Upper Nile  ┆ SS-NU             ┆ KN.B2    ┆ … ┆ Total    ┆ units ┆ Persons ┆ 964353 │\n",
            "│ KN.A2  ┆ Upper Nile  ┆ SS-NU             ┆ KN.B2    ┆ … ┆ 0 to 4   ┆ units ┆ Persons ┆ 150872 │\n",
            "│ KN.A2  ┆ Upper Nile  ┆ SS-NU             ┆ KN.B2    ┆ … ┆ 5 to 9   ┆ units ┆ Persons ┆ 151467 │\n",
            "│ KN.A2  ┆ Upper Nile  ┆ SS-NU             ┆ KN.B2    ┆ … ┆ 10 to 14 ┆ units ┆ Persons ┆ 126140 │\n",
            "│ KN.A2  ┆ Upper Nile  ┆ SS-NU             ┆ KN.B2    ┆ … ┆ 15 to 19 ┆ units ┆ Persons ┆ 103804 │\n",
            "└────────┴─────────────┴───────────────────┴──────────┴───┴──────────┴───────┴─────────┴────────┘\n"
          ]
        }
      ],
      "source": [
        "census_raw = pl.read_csv(\"data/ss_2008_census_data_raw.csv\", null_values=\"NA\")\n",
        "\n",
        "# Inspect the first 5 rows\n",
        "print(census_raw.head(5))"
      ]
    },
    {
      "cell_type": "markdown",
      "id": "7e09ea29",
      "metadata": {},
      "source": [
        "## Importing the Data Lazily\n"
      ]
    },
    {
      "cell_type": "code",
      "execution_count": 4,
      "id": "305a150e",
      "metadata": {},
      "outputs": [
        {
          "name": "stdout",
          "output_type": "stream",
          "text": [
            "shape: (5, 10)\n",
            "┌────────┬─────────────┬───────────────────┬──────────┬───┬──────────┬───────┬─────────┬────────┐\n",
            "│ Region ┆ Region Name ┆ Region - RegionId ┆ Variable ┆ … ┆ Age Name ┆ Scale ┆ Units   ┆ 2008   │\n",
            "│ ---    ┆ ---         ┆ ---               ┆ ---      ┆   ┆ ---      ┆ ---   ┆ ---     ┆ ---    │\n",
            "│ str    ┆ str         ┆ str               ┆ str      ┆   ┆ str      ┆ str   ┆ str     ┆ i64    │\n",
            "╞════════╪═════════════╪═══════════════════╪══════════╪═══╪══════════╪═══════╪═════════╪════════╡\n",
            "│ KN.A2  ┆ Upper Nile  ┆ SS-NU             ┆ KN.B2    ┆ … ┆ Total    ┆ units ┆ Persons ┆ 964353 │\n",
            "│ KN.A2  ┆ Upper Nile  ┆ SS-NU             ┆ KN.B2    ┆ … ┆ 0 to 4   ┆ units ┆ Persons ┆ 150872 │\n",
            "│ KN.A2  ┆ Upper Nile  ┆ SS-NU             ┆ KN.B2    ┆ … ┆ 5 to 9   ┆ units ┆ Persons ┆ 151467 │\n",
            "│ KN.A2  ┆ Upper Nile  ┆ SS-NU             ┆ KN.B2    ┆ … ┆ 10 to 14 ┆ units ┆ Persons ┆ 126140 │\n",
            "│ KN.A2  ┆ Upper Nile  ┆ SS-NU             ┆ KN.B2    ┆ … ┆ 15 to 19 ┆ units ┆ Persons ┆ 103804 │\n",
            "└────────┴─────────────┴───────────────────┴──────────┴───┴──────────┴───────┴─────────┴────────┘\n"
          ]
        }
      ],
      "source": [
        "census_lazy = pl.scan_csv(\n",
        "    'data/ss_2008_census_data_raw.csv', null_values='NA'\n",
        "    )\n",
        "\n",
        "# Inspect the first 5 rows\n",
        "print(census_lazy.collect().head(5))"
      ]
    },
    {
      "cell_type": "code",
      "execution_count": 5,
      "id": "153735fd",
      "metadata": {},
      "outputs": [
        {
          "name": "stdout",
          "output_type": "stream",
          "text": [
            "shape: (5, 10)\n",
            "┌───────────────┬────────────────────┬──────────┬──────────┬───┬──────────┬───────┬─────────┬──────┐\n",
            "│ Region        ┆ Region Name        ┆ Region - ┆ Variable ┆ … ┆ Age Name ┆ Scale ┆ Units   ┆ 2008 │\n",
            "│ ---           ┆ ---                ┆ RegionId ┆ ---      ┆   ┆ ---      ┆ ---   ┆ ---     ┆ ---  │\n",
            "│ str           ┆ str                ┆ ---      ┆ str      ┆   ┆ str      ┆ str   ┆ str     ┆ i64  │\n",
            "│               ┆                    ┆ str      ┆          ┆   ┆          ┆       ┆         ┆      │\n",
            "╞═══════════════╪════════════════════╪══════════╪══════════╪═══╪══════════╪═══════╪═════════╪══════╡\n",
            "│ KN.A11        ┆ Eastern Equatoria  ┆ SS-EE    ┆ KN.B8    ┆ … ┆ 60 to 64 ┆ units ┆ Persons ┆ 5274 │\n",
            "│ KN.A11        ┆ Eastern Equatoria  ┆ SS-EE    ┆ KN.B8    ┆ … ┆ 65+      ┆ units ┆ Persons ┆ 8637 │\n",
            "│ null          ┆ null               ┆ null     ┆ null     ┆ … ┆ null     ┆ null  ┆ null    ┆ null │\n",
            "│ Source:       ┆ National Bureau of ┆ null     ┆ null     ┆ … ┆ null     ┆ null  ┆ null    ┆ null │\n",
            "│               ┆ Statistics, S…     ┆          ┆          ┆   ┆          ┆       ┆         ┆      │\n",
            "│ Download URL: ┆ http://southsudan. ┆ null     ┆ null     ┆ … ┆ null     ┆ null  ┆ null    ┆ null │\n",
            "│               ┆ opendataforafr…    ┆          ┆          ┆   ┆          ┆       ┆         ┆      │\n",
            "└───────────────┴────────────────────┴──────────┴──────────┴───┴──────────┴───────┴─────────┴──────┘\n"
          ]
        }
      ],
      "source": [
        "# Inspect the last 5 rows\n",
        "print(census_raw.tail(5))"
      ]
    },
    {
      "cell_type": "code",
      "execution_count": 44,
      "id": "f776c025",
      "metadata": {},
      "outputs": [
        {
          "data": {
            "text/plain": [
              "['Eastern Equatoria',\n",
              " 'Eastern Equatoria',\n",
              " 'Eastern Equatoria',\n",
              " 'Eastern Equatoria',\n",
              " 'Eastern Equatoria',\n",
              " 'Eastern Equatoria',\n",
              " 'Eastern Equatoria',\n",
              " None,\n",
              " 'National Bureau of Statistics, South Sudan',\n",
              " 'http://southsudan.opendataforafrica.org/fvjqdpe/population-by-age-and-sex-2008-south-sudan']"
            ]
          },
          "execution_count": 44,
          "metadata": {},
          "output_type": "execute_result"
        }
      ],
      "source": [
        "list(census_raw['Region Name'].tail())"
      ]
    },
    {
      "cell_type": "code",
      "execution_count": 6,
      "id": "1486f3d5",
      "metadata": {},
      "outputs": [
        {
          "name": "stdout",
          "output_type": "stream",
          "text": [
            "shape: (5, 10)\n",
            "┌────────┬─────────────────────────┬──────────┬──────────┬───┬──────────┬───────┬─────────┬────────┐\n",
            "│ Region ┆ Region Name             ┆ Region - ┆ Variable ┆ … ┆ Age Name ┆ Scale ┆ Units   ┆ 2008   │\n",
            "│ ---    ┆ ---                     ┆ RegionId ┆ ---      ┆   ┆ ---      ┆ ---   ┆ ---     ┆ ---    │\n",
            "│ str    ┆ str                     ┆ ---      ┆ str      ┆   ┆ str      ┆ str   ┆ str     ┆ i64    │\n",
            "│        ┆                         ┆ str      ┆          ┆   ┆          ┆       ┆         ┆        │\n",
            "╞════════╪═════════════════════════╪══════════╪══════════╪═══╪══════════╪═══════╪═════════╪════════╡\n",
            "│ KN.A8  ┆ Lakes                   ┆ SS-LK    ┆ KN.B2    ┆ … ┆ 30 to 34 ┆ units ┆ Persons ┆ 47137  │\n",
            "│ KN.A11 ┆ Eastern Equatoria       ┆ SS-EE    ┆ KN.B2    ┆ … ┆ 0 to 4   ┆ units ┆ Persons ┆ 126467 │\n",
            "│ KN.A5  ┆ Warrap                  ┆ SS-WR    ┆ KN.B2    ┆ … ┆ 60 to 64 ┆ units ┆ Persons ┆ 12243  │\n",
            "│ KN.A6  ┆ Northern Bahr el Ghazal ┆ SS-BN    ┆ KN.B5    ┆ … ┆ 65+      ┆ units ┆ Persons ┆ 13523  │\n",
            "│ KN.A10 ┆ Central Equatoria       ┆ SS-EC    ┆ KN.B2    ┆ … ┆ 40 to 44 ┆ units ┆ Persons ┆ 43986  │\n",
            "└────────┴─────────────────────────┴──────────┴──────────┴───┴──────────┴───────┴─────────┴────────┘\n"
          ]
        }
      ],
      "source": [
        "# Inspect random 5 rows\n",
        "print(census_raw.sample(5))"
      ]
    },
    {
      "cell_type": "markdown",
      "id": "f2ed25c5",
      "metadata": {},
      "source": [
        "## Checking for Missing Values\n"
      ]
    },
    {
      "cell_type": "code",
      "execution_count": 7,
      "id": "9d069355",
      "metadata": {},
      "outputs": [
        {
          "name": "stdout",
          "output_type": "stream",
          "text": [
            "shape: (1, 10)\n",
            "┌────────┬─────────────┬───────────────────┬──────────┬───┬──────────┬───────┬───────┬──────┐\n",
            "│ Region ┆ Region Name ┆ Region - RegionId ┆ Variable ┆ … ┆ Age Name ┆ Scale ┆ Units ┆ 2008 │\n",
            "│ ---    ┆ ---         ┆ ---               ┆ ---      ┆   ┆ ---      ┆ ---   ┆ ---   ┆ ---  │\n",
            "│ u32    ┆ u32         ┆ u32               ┆ u32      ┆   ┆ u32      ┆ u32   ┆ u32   ┆ u32  │\n",
            "╞════════╪═════════════╪═══════════════════╪══════════╪═══╪══════════╪═══════╪═══════╪══════╡\n",
            "│ 1      ┆ 1           ┆ 3                 ┆ 3        ┆ … ┆ 3        ┆ 3     ┆ 3     ┆ 3    │\n",
            "└────────┴─────────────┴───────────────────┴──────────┴───┴──────────┴───────┴───────┴──────┘\n"
          ]
        }
      ],
      "source": [
        "# Inspect the last 5 rows\n",
        "print(census_raw.null_count())"
      ]
    },
    {
      "cell_type": "code",
      "execution_count": 8,
      "id": "b7dc3110",
      "metadata": {},
      "outputs": [
        {
          "name": "stdout",
          "output_type": "stream",
          "text": [
            "shape: (1, 10)\n",
            "┌────────┬─────────────┬───────────────────┬──────────┬───┬──────────┬───────┬───────┬──────┐\n",
            "│ Region ┆ Region Name ┆ Region - RegionId ┆ Variable ┆ … ┆ Age Name ┆ Scale ┆ Units ┆ 2008 │\n",
            "│ ---    ┆ ---         ┆ ---               ┆ ---      ┆   ┆ ---      ┆ ---   ┆ ---   ┆ ---  │\n",
            "│ u32    ┆ u32         ┆ u32               ┆ u32      ┆   ┆ u32      ┆ u32   ┆ u32   ┆ u32  │\n",
            "╞════════╪═════════════╪═══════════════════╪══════════╪═══╪══════════╪═══════╪═══════╪══════╡\n",
            "│ 1      ┆ 1           ┆ 3                 ┆ 3        ┆ … ┆ 3        ┆ 3     ┆ 3     ┆ 3    │\n",
            "└────────┴─────────────┴───────────────────┴──────────┴───┴──────────┴───────┴───────┴──────┘\n"
          ]
        }
      ],
      "source": [
        "import polars.selectors as cs\n",
        "# Inspect the last 5 rows\n",
        "print(\n",
        "    census_raw\n",
        "    .select(cs.all().is_null().sum())\n",
        ")"
      ]
    },
    {
      "cell_type": "markdown",
      "id": "ecafa718",
      "metadata": {},
      "source": [
        "## Selecting Columns of Interest"
      ]
    },
    {
      "cell_type": "code",
      "execution_count": 9,
      "id": "6085139a",
      "metadata": {},
      "outputs": [
        {
          "name": "stdout",
          "output_type": "stream",
          "text": [
            "['Region Name', 'Variable Name', 'Age Name', '2008']\n"
          ]
        }
      ],
      "source": [
        "# Selecting columns of interest: polars provides various methods for selecting columns\n",
        "print(\n",
        "    census_raw\n",
        "    .select(cs.ends_with('Name'), '2008')\n",
        "    .columns\n",
        ")"
      ]
    },
    {
      "cell_type": "code",
      "execution_count": 10,
      "id": "e2160725",
      "metadata": {},
      "outputs": [],
      "source": [
        "age_mapping = {\n",
        "    \"0 to 4\": \"0-14\",\n",
        "    \"5 to 9\": \"0-14\",\n",
        "    \"10 to 14\": \"0-14\",\n",
        "    \"15 to 19\": \"15-24\",\n",
        "    \"20 to 24\": \"15-24\",\n",
        "    \"25 to 29\": \"25-34\",\n",
        "    \"30 to 34\": \"25-34\",\n",
        "    \"35 to 39\": \"35-44\",\n",
        "    \"40 to 44\": \"35-44\",\n",
        "    \"45 to 49\": \"45-54\",\n",
        "    \"50 to 54\": \"45-54\",\n",
        "    \"55 to 59\": \"55-64\",\n",
        "    \"60 to 64\": \"55-64\",\n",
        "    \"65+\": \"65 and above\",\n",
        "}\n",
        "census = (\n",
        "    census_raw\n",
        "    .select(\n",
        "        [\"Region Name\", \"Variable Name\", \"Age Name\", \"2008\"]\n",
        "    )\n",
        "    .rename(\n",
        "        {\n",
        "            \"Region Name\": \"state\",\n",
        "            \"Variable Name\": \"gender\",\n",
        "            \"Age Name\": \"age_category\",\n",
        "            \"2008\": \"population\",\n",
        "        }\n",
        "    )\n",
        "    .with_columns(\n",
        "        gender=pl.col(\"gender\").str.split(\" \").list.get(1),\n",
        "        age_category=pl.col(\"age_category\").replace(age_mapping),\n",
        "    )\n",
        "    .filter(\n",
        "        (pl.col(\"gender\") != \"Total\") & (pl.col(\"age_category\") != \"Total\")\n",
        "    )\n",
        "    .group_by(['state', 'gender', 'age_category'])\n",
        "    .agg(total=pl.col('population').sum())\n",
        "    .sort('total', descending=True)\n",
        ")"
      ]
    },
    {
      "cell_type": "markdown",
      "id": "6ee348c5",
      "metadata": {},
      "source": [
        "## "
      ]
    },
    {
      "cell_type": "code",
      "execution_count": 11,
      "id": "120e2a28",
      "metadata": {},
      "outputs": [
        {
          "name": "stdout",
          "output_type": "stream",
          "text": [
            "shape: (5, 4)\n",
            "┌───────────────────┬────────┬──────────────┬────────┐\n",
            "│ state             ┆ gender ┆ age_category ┆ total  │\n",
            "│ ---               ┆ ---    ┆ ---          ┆ ---    │\n",
            "│ str               ┆ str    ┆ str          ┆ i64    │\n",
            "╞═══════════════════╪════════╪══════════════╪════════╡\n",
            "│ Jonglei           ┆ Male   ┆ 0-14         ┆ 338443 │\n",
            "│ Jonglei           ┆ Female ┆ 0-14         ┆ 263646 │\n",
            "│ Central Equatoria ┆ Male   ┆ 0-14         ┆ 242247 │\n",
            "│ Upper Nile        ┆ Male   ┆ 0-14         ┆ 237461 │\n",
            "│ Warrap            ┆ Male   ┆ 0-14         ┆ 230854 │\n",
            "└───────────────────┴────────┴──────────────┴────────┘\n"
          ]
        }
      ],
      "source": [
        "print(census.head(5))"
      ]
    },
    {
      "cell_type": "markdown",
      "id": "a58028ad",
      "metadata": {},
      "source": [
        "# Tabulating Data with the Great Tables Package"
      ]
    },
    {
      "cell_type": "code",
      "execution_count": 40,
      "id": "46eb6592",
      "metadata": {},
      "outputs": [
        {
          "name": "stdout",
          "output_type": "stream",
          "text": [
            "shape: (10, 3)\n",
            "┌─────────────────────────┬────────┬────────┐\n",
            "│ state                   ┆ Male   ┆ Female │\n",
            "│ ---                     ┆ ---    ┆ ---    │\n",
            "│ str                     ┆ i64    ┆ i64    │\n",
            "╞═════════════════════════╪════════╪════════╡\n",
            "│ Jonglei                 ┆ 734327 ┆ 624275 │\n",
            "│ Central Equatoria       ┆ 581722 ┆ 521835 │\n",
            "│ Upper Nile              ┆ 525430 ┆ 438923 │\n",
            "│ Warrap                  ┆ 470734 ┆ 502194 │\n",
            "│ Eastern Equatoria       ┆ 465187 ┆ 440974 │\n",
            "│ Northern Bahr el Ghazal ┆ 348290 ┆ 372608 │\n",
            "│ Lakes                   ┆ 365880 ┆ 329850 │\n",
            "│ Western Equatoria       ┆ 318443 ┆ 300586 │\n",
            "│ Unity                   ┆ 300247 ┆ 285554 │\n",
            "│ Western Bahr el Ghazal  ┆ 177040 ┆ 156391 │\n",
            "└─────────────────────────┴────────┴────────┘\n"
          ]
        }
      ],
      "source": [
        "# Summarize data by state\n",
        "state = (\n",
        "    census\n",
        "    .group_by(['state', 'gender'])\n",
        "    .agg(total=pl.col('total').sum())\n",
        "    .sort('total', descending=True)\n",
        "    .pivot(index='state', columns='gender', values='total')\n",
        "    .join(\n",
        "        census\n",
        "        .group_by(['state', 'gender'])\n",
        "        .agg(total=pl.col('total').sum())\n",
        "        .with_columns(\n",
        "            map_total=pl.col('total').to_struct()\n",
        "        )\n",
        "    )\n",
        ")\n",
        "\n",
        "# Dispay output\n",
        "print(state)"
      ]
    },
    {
      "cell_type": "code",
      "execution_count": 86,
      "id": "0200222d",
      "metadata": {},
      "outputs": [],
      "source": [
        "# Tabulate state data frame\n",
        "import polars.selectors as cs\n",
        "st_gt = (\n",
        "    GT(state, rowname_col='state')\n",
        "    .tab_header(\n",
        "        title='Jonglei State leads with over 13.6 million persons',\n",
        "        subtitle=md(\n",
        "            'Western Bahr el Ghazal State has the lowest <br>population according to the 2008 census'\n",
        "        )\n",
        "    )\n",
        "    .fmt_integer(columns=cs.integer(), use_seps=True)\n",
        "    .cols_align(align='center', columns=['Male', 'Female'])\n",
        "    .opt_align_table_header(align=\"left\")\n",
        "    .cols_label(state='State')\n",
        "    .tab_spanner(columns=cs.integer(), label='Population by Gender')\n",
        "    .tab_source_note(source_note=html('<a href=\"http://southsudan.opendataforafrica.org/fvjqdpe/population-by-age-and-sex-2008-south-sudan\"><strong>2008 Census: National Bureau of Statistics, South Sudan</strong></a>'))\n",
        ")"
      ]
    },
    {
      "cell_type": "code",
      "execution_count": 75,
      "id": "3096d758",
      "metadata": {},
      "outputs": [],
      "source": [
        "# Save gt table as a png file\n",
        "GT.save(st_gt, file='img/state.png')"
      ]
    },
    {
      "cell_type": "markdown",
      "id": "d8a7cdc4",
      "metadata": {},
      "source": [
        "# Visualizing Census Data with Lets-Plot Package"
      ]
    },
    {
      "cell_type": "code",
      "execution_count": 216,
      "id": "a0ef1221",
      "metadata": {},
      "outputs": [
        {
          "name": "stdout",
          "output_type": "stream",
          "text": [
            "shape: (20, 3)\n",
            "┌────────────────────────┬────────┬────────┐\n",
            "│ state                  ┆ gender ┆ total  │\n",
            "│ ---                    ┆ ---    ┆ ---    │\n",
            "│ str                    ┆ str    ┆ i64    │\n",
            "╞════════════════════════╪════════╪════════╡\n",
            "│ Jonglei                ┆ Male   ┆ 734327 │\n",
            "│ Jonglei                ┆ Female ┆ 624275 │\n",
            "│ Central Equatoria      ┆ Male   ┆ 581722 │\n",
            "│ Upper Nile             ┆ Male   ┆ 525430 │\n",
            "│ Central Equatoria      ┆ Female ┆ 521835 │\n",
            "│ …                      ┆ …      ┆ …      │\n",
            "│ Western Equatoria      ┆ Female ┆ 300586 │\n",
            "│ Unity                  ┆ Male   ┆ 300247 │\n",
            "│ Unity                  ┆ Female ┆ 285554 │\n",
            "│ Western Bahr el Ghazal ┆ Male   ┆ 177040 │\n",
            "│ Western Bahr el Ghazal ┆ Female ┆ 156391 │\n",
            "└────────────────────────┴────────┴────────┘\n"
          ]
        }
      ],
      "source": [
        "state_by_gender = (\n",
        "    census\n",
        "    .group_by(['state', 'gender'])\n",
        "    .agg(total=pl.col('total').sum())\n",
        "    .sort('total', descending=True)\n",
        ")\n",
        "\n",
        "# Inspect output\n",
        "print(state_by_gender)"
      ]
    },
    {
      "cell_type": "code",
      "execution_count": 217,
      "id": "b6e378a0",
      "metadata": {},
      "outputs": [
        {
          "data": {
            "text/html": [
              "   <div id=\"jpyulY\"></div>\n",
              "   <script type=\"text/javascript\" data-lets-plot-script=\"plot\">\n",
              "       (function() {\n",
              "           var plotSpec={\n",
              "\"data\":{\n",
              "\"state\":[\"Jonglei\",\"Jonglei\",\"Central Equatoria\",\"Upper Nile\",\"Central Equatoria\",\"Warrap\",\"Warrap\",\"Eastern Equatoria\",\"Eastern Equatoria\",\"Upper Nile\",\"Northern Bahr el Ghazal\",\"Lakes\",\"Northern Bahr el Ghazal\",\"Lakes\",\"Western Equatoria\",\"Western Equatoria\",\"Unity\",\"Unity\",\"Western Bahr el Ghazal\",\"Western Bahr el Ghazal\"],\n",
              "\"gender\":[\"Male\",\"Female\",\"Male\",\"Male\",\"Female\",\"Female\",\"Male\",\"Male\",\"Female\",\"Female\",\"Female\",\"Male\",\"Male\",\"Female\",\"Male\",\"Female\",\"Male\",\"Female\",\"Male\",\"Female\"],\n",
              "\"total\":[734327.0,624275.0,581722.0,525430.0,521835.0,502194.0,470734.0,465187.0,440974.0,438923.0,372608.0,365880.0,348290.0,329850.0,318443.0,300586.0,300247.0,285554.0,177040.0,156391.0]\n",
              "},\n",
              "\"mapping\":{\n",
              "\"x\":\"state\",\n",
              "\"y\":\"total\",\n",
              "\"fill\":\"gender\"\n",
              "},\n",
              "\"data_meta\":{\n",
              "},\n",
              "\"ggtitle\":{\n",
              "\"text\":\"Jonglei State leads in both categories\",\n",
              "\"subtitle\":\"Western Bahr el Ghazal State has the lowest \\ncount in both categories\"\n",
              "},\n",
              "\"theme\":{\n",
              "\"plot_title\":{\n",
              "\"family\":\"Arial\",\n",
              "\"size\":25.0,\n",
              "\"hjust\":0.0,\n",
              "\"blank\":false\n",
              "}\n",
              "},\n",
              "\"kind\":\"plot\",\n",
              "\"scales\":[{\n",
              "\"aesthetic\":\"y\",\n",
              "\"limits\":[0.0,1500000.0],\n",
              "\"format\":\"~e\"\n",
              "},{\n",
              "\"aesthetic\":\"fill\",\n",
              "\"values\":[\"#a9a9a9\",\"#4D5B68\"]\n",
              "},{\n",
              "\"name\":\"\",\n",
              "\"aesthetic\":\"x\"\n",
              "},{\n",
              "\"name\":\"Population (in persons)\",\n",
              "\"aesthetic\":\"y\"\n",
              "},{\n",
              "\"name\":\"Gender\",\n",
              "\"aesthetic\":\"fill\"\n",
              "}],\n",
              "\"layers\":[{\n",
              "\"geom\":\"bar\",\n",
              "\"stat\":\"identity\",\n",
              "\"mapping\":{\n",
              "},\n",
              "\"data_meta\":{\n",
              "},\n",
              "\"data\":{\n",
              "}\n",
              "}],\n",
              "\"metainfo_list\":[]\n",
              "};\n",
              "           var plotContainer = document.getElementById(\"jpyulY\");\n",
              "           window.letsPlotCall(function() {{\n",
              "               LetsPlot.buildPlotFromProcessedSpecs(plotSpec, -1, -1, plotContainer);\n",
              "           }});\n",
              "       })();\n",
              "   </script>"
            ],
            "text/plain": [
              "<lets_plot.plot.core.PlotSpec at 0x301c19dc0>"
            ]
          },
          "execution_count": 217,
          "metadata": {},
          "output_type": "execute_result"
        }
      ],
      "source": [
        "# Plot state population by gender\n",
        "from lets_plot import *\n",
        "\n",
        "(\n",
        "    ggplot(\n",
        "        state_by_gender, \n",
        "        aes(x='state', y='total', fill='gender')\n",
        "    ) + \n",
        "    geom_bar(stat='identity') +\n",
        "    scale_y_continuous(limits=[0, 1_500_000], format='~e') +\n",
        "    scale_fill_manual(values=['#a9a9a9', '#4D5B68']) +\n",
        "    labs(\n",
        "        title='Jonglei State leads in both categories',\n",
        "        subtitle='Western Bahr el Ghazal State has the lowest \\ncount in both categories',\n",
        "        x='',\n",
        "        y='Population (in persons)',\n",
        "        fill='Gender'\n",
        "    ) +\n",
        "    theme(plot_title=element_text(hjust=0, size=25, family='Arial'))\n",
        ")"
      ]
    },
    {
      "cell_type": "code",
      "execution_count": 172,
      "id": "a35047cb",
      "metadata": {},
      "outputs": [
        {
          "name": "stdout",
          "output_type": "stream",
          "text": [
            "shape: (5, 4)\n",
            "┌───────────────────┬────────┬──────────────┬────────┐\n",
            "│ state             ┆ gender ┆ age_category ┆ total  │\n",
            "│ ---               ┆ ---    ┆ ---          ┆ ---    │\n",
            "│ str               ┆ str    ┆ str          ┆ i64    │\n",
            "╞═══════════════════╪════════╪══════════════╪════════╡\n",
            "│ Jonglei           ┆ Male   ┆ 0-14         ┆ 338443 │\n",
            "│ Jonglei           ┆ Female ┆ 0-14         ┆ 263646 │\n",
            "│ Central Equatoria ┆ Male   ┆ 0-14         ┆ 242247 │\n",
            "│ Upper Nile        ┆ Male   ┆ 0-14         ┆ 237461 │\n",
            "│ Warrap            ┆ Male   ┆ 0-14         ┆ 230854 │\n",
            "└───────────────────┴────────┴──────────────┴────────┘\n"
          ]
        }
      ],
      "source": [
        "# Visualize state data by age category\n",
        "census_by_age = (\n",
        "    census\n",
        "    .group_by(['state', 'gender', 'age_category'])\n",
        "    .agg(total=pl.col('total').sum())\n",
        "    .sort('total', descending=True)\n",
        ")\n",
        "\n",
        "# Inspect output\n",
        "print(census_by_age.head())"
      ]
    },
    {
      "cell_type": "code",
      "execution_count": 215,
      "id": "03a01a87",
      "metadata": {},
      "outputs": [
        {
          "data": {
            "text/html": [
              "   <div id=\"TmlANG\"></div>\n",
              "   <script type=\"text/javascript\" data-lets-plot-script=\"plot\">\n",
              "       (function() {\n",
              "           var plotSpec={\n",
              "\"data\":{\n",
              "\"state\":[\"Jonglei\",\"Jonglei\",\"Central Equatoria\",\"Upper Nile\",\"Warrap\",\"Warrap\",\"Central Equatoria\",\"Eastern Equatoria\",\"Upper Nile\",\"Eastern Equatoria\",\"Northern Bahr el Ghazal\",\"Northern Bahr el Ghazal\",\"Lakes\",\"Unity\",\"Lakes\",\"Jonglei\",\"Unity\",\"Western Equatoria\",\"Jonglei\",\"Central Equatoria\",\"Central Equatoria\",\"Western Equatoria\",\"Jonglei\",\"Eastern Equatoria\",\"Upper Nile\",\"Eastern Equatoria\",\"Warrap\",\"Central Equatoria\",\"Jonglei\",\"Upper Nile\",\"Central Equatoria\",\"Warrap\",\"Warrap\",\"Western Bahr el Ghazal\",\"Upper Nile\",\"Lakes\",\"Eastern Equatoria\",\"Upper Nile\",\"Western Equatoria\",\"Western Bahr el Ghazal\",\"Jonglei\",\"Jonglei\",\"Western Equatoria\",\"Lakes\",\"Northern Bahr el Ghazal\",\"Eastern Equatoria\",\"Warrap\",\"Central Equatoria\",\"Northern Bahr el Ghazal\",\"Lakes\",\"Unity\",\"Unity\",\"Lakes\",\"Upper Nile\",\"Northern Bahr el Ghazal\",\"Western Equatoria\",\"Warrap\",\"Central Equatoria\",\"Western Equatoria\",\"Upper Nile\",\"Warrap\",\"Jonglei\",\"Eastern Equatoria\",\"Unity\",\"Northern Bahr el Ghazal\",\"Eastern Equatoria\",\"Unity\",\"Northern Bahr el Ghazal\",\"Lakes\",\"Jonglei\",\"Western Equatoria\",\"Western Bahr el Ghazal\",\"Western Equatoria\",\"Northern Bahr el Ghazal\",\"Central Equatoria\",\"Lakes\",\"Upper Nile\",\"Western Bahr el Ghazal\",\"Western Bahr el Ghazal\",\"Warrap\",\"Central Equatoria\",\"Warrap\",\"Western Bahr el Ghazal\",\"Unity\",\"Eastern Equatoria\",\"Jonglei\",\"Unity\",\"Upper Nile\",\"Eastern Equatoria\",\"Jonglei\",\"Lakes\",\"Northern Bahr el Ghazal\",\"Western Equatoria\",\"Northern Bahr el Ghazal\",\"Western Bahr el Ghazal\",\"Western Equatoria\",\"Lakes\",\"Upper Nile\",\"Unity\",\"Western Bahr el Ghazal\",\"Upper Nile\",\"Jonglei\",\"Central Equatoria\",\"Unity\",\"Warrap\",\"Northern Bahr el Ghazal\",\"Warrap\",\"Eastern Equatoria\",\"Northern Bahr el Ghazal\",\"Eastern Equatoria\",\"Jonglei\",\"Warrap\",\"Central Equatoria\",\"Northern Bahr el Ghazal\",\"Northern Bahr el Ghazal\",\"Upper Nile\",\"Western Equatoria\",\"Central Equatoria\",\"Lakes\",\"Eastern Equatoria\",\"Western Equatoria\",\"Warrap\",\"Western Bahr el Ghazal\",\"Upper Nile\",\"Lakes\",\"Lakes\",\"Unity\",\"Western Equatoria\",\"Unity\",\"Eastern Equatoria\",\"Central Equatoria\",\"Western Bahr el Ghazal\",\"Unity\",\"Unity\",\"Western Equatoria\",\"Lakes\",\"Western Bahr el Ghazal\",\"Western Bahr el Ghazal\",\"Western Bahr el Ghazal\",\"Western Bahr el Ghazal\"],\n",
              "\"gender\":[\"Male\",\"Female\",\"Male\",\"Male\",\"Male\",\"Female\",\"Female\",\"Male\",\"Female\",\"Female\",\"Male\",\"Female\",\"Male\",\"Male\",\"Female\",\"Male\",\"Female\",\"Male\",\"Female\",\"Male\",\"Female\",\"Female\",\"Female\",\"Male\",\"Male\",\"Female\",\"Female\",\"Male\",\"Male\",\"Female\",\"Female\",\"Female\",\"Male\",\"Male\",\"Male\",\"Male\",\"Female\",\"Female\",\"Female\",\"Female\",\"Female\",\"Male\",\"Male\",\"Female\",\"Female\",\"Male\",\"Male\",\"Male\",\"Female\",\"Female\",\"Female\",\"Male\",\"Male\",\"Male\",\"Male\",\"Female\",\"Female\",\"Female\",\"Male\",\"Female\",\"Male\",\"Male\",\"Female\",\"Female\",\"Male\",\"Male\",\"Male\",\"Female\",\"Male\",\"Female\",\"Male\",\"Male\",\"Female\",\"Male\",\"Male\",\"Female\",\"Male\",\"Female\",\"Male\",\"Male\",\"Female\",\"Female\",\"Female\",\"Female\",\"Male\",\"Male\",\"Male\",\"Female\",\"Female\",\"Male\",\"Male\",\"Male\",\"Male\",\"Female\",\"Male\",\"Female\",\"Female\",\"Male\",\"Male\",\"Female\",\"Male\",\"Female\",\"Male\",\"Female\",\"Male\",\"Male\",\"Female\",\"Male\",\"Female\",\"Male\",\"Female\",\"Male\",\"Female\",\"Female\",\"Male\",\"Female\",\"Male\",\"Male\",\"Male\",\"Female\",\"Male\",\"Female\",\"Male\",\"Female\",\"Male\",\"Female\",\"Male\",\"Female\",\"Male\",\"Female\",\"Female\",\"Female\",\"Female\",\"Female\",\"Female\",\"Female\",\"Male\",\"Male\",\"Female\",\"Female\"],\n",
              "\"age_category\":[\"0-14\",\"0-14\",\"0-14\",\"0-14\",\"0-14\",\"0-14\",\"0-14\",\"0-14\",\"0-14\",\"0-14\",\"0-14\",\"0-14\",\"0-14\",\"0-14\",\"0-14\",\"15-24\",\"0-14\",\"0-14\",\"15-24\",\"15-24\",\"15-24\",\"0-14\",\"25-34\",\"15-24\",\"15-24\",\"15-24\",\"15-24\",\"25-34\",\"25-34\",\"15-24\",\"25-34\",\"25-34\",\"15-24\",\"0-14\",\"25-34\",\"15-24\",\"25-34\",\"25-34\",\"15-24\",\"0-14\",\"35-44\",\"35-44\",\"15-24\",\"15-24\",\"15-24\",\"25-34\",\"25-34\",\"35-44\",\"25-34\",\"25-34\",\"15-24\",\"15-24\",\"25-34\",\"35-44\",\"15-24\",\"25-34\",\"35-44\",\"35-44\",\"25-34\",\"35-44\",\"35-44\",\"45-54\",\"35-44\",\"25-34\",\"25-34\",\"35-44\",\"25-34\",\"35-44\",\"35-44\",\"45-54\",\"35-44\",\"15-24\",\"35-44\",\"35-44\",\"45-54\",\"35-44\",\"45-54\",\"15-24\",\"25-34\",\"45-54\",\"45-54\",\"45-54\",\"25-34\",\"35-44\",\"45-54\",\"55-64\",\"35-44\",\"45-54\",\"45-54\",\"65 and above\",\"45-54\",\"45-54\",\"45-54\",\"45-54\",\"35-44\",\"45-54\",\"45-54\",\"55-64\",\"45-54\",\"35-44\",\"65 and above\",\"55-64\",\"55-64\",\"45-54\",\"55-64\",\"65 and above\",\"55-64\",\"55-64\",\"65 and above\",\"65 and above\",\"65 and above\",\"65 and above\",\"55-64\",\"55-64\",\"55-64\",\"55-64\",\"65 and above\",\"65 and above\",\"55-64\",\"55-64\",\"55-64\",\"65 and above\",\"45-54\",\"65 and above\",\"65 and above\",\"55-64\",\"65 and above\",\"55-64\",\"55-64\",\"65 and above\",\"65 and above\",\"45-54\",\"65 and above\",\"55-64\",\"65 and above\",\"65 and above\",\"55-64\",\"65 and above\",\"55-64\",\"65 and above\"],\n",
              "\"total\":[338443.0,263646.0,242247.0,237461.0,230854.0,222745.0,221216.0,212728.0,191018.0,187961.0,175357.0,168282.0,160815.0,149257.0,143171.0,142786.0,134815.0,125766.0,125241.0,124513.0,115726.0,111841.0,104354.0,100730.0,99908.0,96850.0,96100.0,95507.0,95272.0,86484.0,86092.0,81722.0,79293.0,74421.0,71031.0,70657.0,69910.0,68857.0,68412.0,67293.0,66971.0,66018.0,65642.0,65575.0,64698.0,60808.0,60546.0,59775.0,56574.0,55004.0,54670.0,54521.0,54328.0,52518.0,51538.0,51398.0,50875.0,50764.0,48113.0,46427.0,45602.0,44620.0,43393.0,41150.0,41105.0,40638.0,38151.0,37080.0,36257.0,35955.0,34746.0,34102.0,34048.0,32672.0,32567.0,32485.0,31790.0,31389.0,29068.0,28227.0,27182.0,27042.0,25936.0,25152.0,24710.0,24530.0,24319.0,24277.0,23209.0,22658.0,22397.0,21982.0,21753.0,21263.0,19933.0,18749.0,18164.0,16976.0,16343.0,15844.0,15746.0,15724.0,15704.0,14448.0,13867.0,13523.0,13085.0,13045.0,12585.0,12528.0,12384.0,12345.0,12259.0,12126.0,12113.0,11716.0,11541.0,11409.0,11326.0,11014.0,10882.0,10625.0,10364.0,10144.0,10100.0,9055.0,8999.0,8769.0,8657.0,8637.0,8596.0,8323.0,7801.0,7518.0,7369.0,6396.0,4981.0,4171.0,4079.0,3527.0]\n",
              "},\n",
              "\"mapping\":{\n",
              "\"x\":\"state\",\n",
              "\"y\":\"total\",\n",
              "\"fill\":\"gender\"\n",
              "},\n",
              "\"data_meta\":{\n",
              "},\n",
              "\"facet\":{\n",
              "\"name\":\"grid\",\n",
              "\"x\":\"gender\",\n",
              "\"y\":\"age_category\",\n",
              "\"scales\":\"free_y\",\n",
              "\"x_order\":1.0,\n",
              "\"y_order\":1.0\n",
              "},\n",
              "\"ggtitle\":{\n",
              "\"text\":\"Facet Grid Display of the South Sudan 2008 Census Data\"\n",
              "},\n",
              "\"theme\":{\n",
              "\"axis_ticks\":{\n",
              "\"color\":\"white\",\n",
              "\"blank\":false\n",
              "},\n",
              "\"axis_line_x\":\"blank\",\n",
              "\"legend_position\":\"none\",\n",
              "\"panel_grid_major_x\":\"blank\",\n",
              "\"plot_title\":{\n",
              "\"size\":20.0,\n",
              "\"margin\":[15.0,0.0,15.0,0.0],\n",
              "\"blank\":false\n",
              "},\n",
              "\"strip_background\":{\n",
              "\"fill\":\"white\",\n",
              "\"color\":\"black\",\n",
              "\"blank\":false\n",
              "},\n",
              "\"axis_tooltip\":{\n",
              "\"fill\":\"white\",\n",
              "\"color\":\"black\",\n",
              "\"blank\":false\n",
              "}\n",
              "},\n",
              "\"kind\":\"plot\",\n",
              "\"scales\":[{\n",
              "\"aesthetic\":\"fill\",\n",
              "\"discrete\":true\n",
              "},{\n",
              "\"aesthetic\":\"fill\",\n",
              "\"values\":[\"#5C6468\",\"#110D01\"]\n",
              "},{\n",
              "\"aesthetic\":\"y\",\n",
              "\"format\":\"~e\"\n",
              "},{\n",
              "\"name\":\"\",\n",
              "\"aesthetic\":\"x\"\n",
              "},{\n",
              "\"name\":\"Population (in persons)\",\n",
              "\"aesthetic\":\"y\"\n",
              "}],\n",
              "\"layers\":[{\n",
              "\"geom\":\"bar\",\n",
              "\"stat\":\"identity\",\n",
              "\"mapping\":{\n",
              "},\n",
              "\"show_legend\":\"none\",\n",
              "\"data_meta\":{\n",
              "},\n",
              "\"data\":{\n",
              "}\n",
              "}],\n",
              "\"metainfo_list\":[]\n",
              "};\n",
              "           var plotContainer = document.getElementById(\"TmlANG\");\n",
              "           window.letsPlotCall(function() {{\n",
              "               LetsPlot.buildPlotFromProcessedSpecs(plotSpec, -1, -1, plotContainer);\n",
              "           }});\n",
              "       })();\n",
              "   </script>"
            ],
            "text/plain": [
              "<lets_plot.plot.core.PlotSpec at 0x301fbdee0>"
            ]
          },
          "execution_count": 215,
          "metadata": {},
          "output_type": "execute_result"
        }
      ],
      "source": [
        "# Plot census_by_age\n",
        "(\n",
        "    ggplot(census_by_age, aes('state', 'total', fill='gender')) +\n",
        "    geom_bar(stat='identity', show_legend='none') +\n",
        "    scale_fill_discrete() +\n",
        "    scale_fill_manual(values=['#5C6468', '#110D01']) +\n",
        "    facet_grid(x='gender', y='age_category', scales='free_y') +\n",
        "    scale_y_continuous(format='~e') +\n",
        "    labs(\n",
        "        title='Facet Grid Display of the South Sudan 2008 Census Data',\n",
        "        x='',\n",
        "        y='Population (in persons)'\n",
        "    ) +\n",
        "    theme(\n",
        "        plot_title=element_text(size=20, margin=[15, 0, 15, 0]),\n",
        "        axis_line_x='blank', \n",
        "        axis_ticks=element_line(color='white'), \n",
        "        panel_grid_major_x='blank', \n",
        "        strip_background=element_rect(color='black', fill='white'), \n",
        "        axis_tooltip=element_rect(color='black', fill='white'),\n",
        "        legend_position='none'\n",
        "    )\n",
        ")\n"
      ]
    },
    {
      "cell_type": "code",
      "execution_count": null,
      "id": "934d8f2b",
      "metadata": {},
      "outputs": [],
      "source": []
    }
  ],
  "metadata": {
    "kernelspec": {
      "display_name": "po-env",
      "language": "python",
      "name": "python3"
    },
    "language_info": {
      "codemirror_mode": {
        "name": "ipython",
        "version": 3
      },
      "file_extension": ".py",
      "mimetype": "text/x-python",
      "name": "python",
      "nbconvert_exporter": "python",
      "pygments_lexer": "ipython3",
      "version": "3.12.3"
    }
  },
  "nbformat": 4,
  "nbformat_minor": 5
}
