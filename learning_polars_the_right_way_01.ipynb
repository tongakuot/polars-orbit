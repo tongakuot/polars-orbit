{
  "cells": [
    {
      "cell_type": "markdown",
      "id": "86ba6109",
      "metadata": {},
      "source": [
        "---\n",
        "title: 'Getting Started in Polars'\n",
        "author: 'Alier Reng'\n",
        "date: 2024-04-20\n",
        "format: html\n",
        "jupyter: python3\n",
        "---"
      ]
    },
    {
      "cell_type": "markdown",
      "id": "f6f00c9e",
      "metadata": {},
      "source": [
        "# Motivation\n",
        "\n",
        "# Getting Started\n",
        "\n",
        "## Loading the Required Libraries\n"
      ]
    },
    {
      "cell_type": "code",
      "execution_count": 12,
      "id": "set-up",
      "metadata": {
        "message": false
      },
      "outputs": [],
      "source": [
        "#| warning: false\n",
        "#| label: set-up\n",
        "# Libraries -------\n",
        "import polars as pl\n",
        "import numpy as np\n",
        "import seaborn as sns\n",
        "import matplotlib.pyplot as plt\n"
      ]
    },
    {
      "cell_type": "markdown",
      "id": "02a11999",
      "metadata": {},
      "source": [
        "## Importing Data\n"
      ]
    },
    {
      "cell_type": "code",
      "execution_count": 13,
      "id": "99b0cd2b",
      "metadata": {},
      "outputs": [
        {
          "name": "stdout",
          "output_type": "stream",
          "text": [
            "shape: (5, 10)\n",
            "┌────────┬─────────────┬───────────────────┬──────────┬───┬──────────┬───────┬─────────┬────────┐\n",
            "│ Region ┆ Region Name ┆ Region - RegionId ┆ Variable ┆ … ┆ Age Name ┆ Scale ┆ Units   ┆ 2008   │\n",
            "│ ---    ┆ ---         ┆ ---               ┆ ---      ┆   ┆ ---      ┆ ---   ┆ ---     ┆ ---    │\n",
            "│ str    ┆ str         ┆ str               ┆ str      ┆   ┆ str      ┆ str   ┆ str     ┆ i64    │\n",
            "╞════════╪═════════════╪═══════════════════╪══════════╪═══╪══════════╪═══════╪═════════╪════════╡\n",
            "│ KN.A2  ┆ Upper Nile  ┆ SS-NU             ┆ KN.B2    ┆ … ┆ Total    ┆ units ┆ Persons ┆ 964353 │\n",
            "│ KN.A2  ┆ Upper Nile  ┆ SS-NU             ┆ KN.B2    ┆ … ┆ 0 to 4   ┆ units ┆ Persons ┆ 150872 │\n",
            "│ KN.A2  ┆ Upper Nile  ┆ SS-NU             ┆ KN.B2    ┆ … ┆ 5 to 9   ┆ units ┆ Persons ┆ 151467 │\n",
            "│ KN.A2  ┆ Upper Nile  ┆ SS-NU             ┆ KN.B2    ┆ … ┆ 10 to 14 ┆ units ┆ Persons ┆ 126140 │\n",
            "│ KN.A2  ┆ Upper Nile  ┆ SS-NU             ┆ KN.B2    ┆ … ┆ 15 to 19 ┆ units ┆ Persons ┆ 103804 │\n",
            "└────────┴─────────────┴───────────────────┴──────────┴───┴──────────┴───────┴─────────┴────────┘\n"
          ]
        }
      ],
      "source": [
        "census_raw = pl.read_csv(\"data/ss_2008_census_data_raw.csv\", null_values=\"NA\")\n",
        "\n",
        "# Inspect the first 5 rows\n",
        "print(census_raw.head(5))"
      ]
    },
    {
      "cell_type": "markdown",
      "id": "7e09ea29",
      "metadata": {},
      "source": [
        "## Importing the Data Lazily\n"
      ]
    },
    {
      "cell_type": "code",
      "execution_count": 14,
      "id": "305a150e",
      "metadata": {},
      "outputs": [
        {
          "name": "stdout",
          "output_type": "stream",
          "text": [
            "shape: (5, 10)\n",
            "┌────────┬─────────────┬───────────────────┬──────────┬───┬──────────┬───────┬─────────┬────────┐\n",
            "│ Region ┆ Region Name ┆ Region - RegionId ┆ Variable ┆ … ┆ Age Name ┆ Scale ┆ Units   ┆ 2008   │\n",
            "│ ---    ┆ ---         ┆ ---               ┆ ---      ┆   ┆ ---      ┆ ---   ┆ ---     ┆ ---    │\n",
            "│ str    ┆ str         ┆ str               ┆ str      ┆   ┆ str      ┆ str   ┆ str     ┆ i64    │\n",
            "╞════════╪═════════════╪═══════════════════╪══════════╪═══╪══════════╪═══════╪═════════╪════════╡\n",
            "│ KN.A2  ┆ Upper Nile  ┆ SS-NU             ┆ KN.B2    ┆ … ┆ Total    ┆ units ┆ Persons ┆ 964353 │\n",
            "│ KN.A2  ┆ Upper Nile  ┆ SS-NU             ┆ KN.B2    ┆ … ┆ 0 to 4   ┆ units ┆ Persons ┆ 150872 │\n",
            "│ KN.A2  ┆ Upper Nile  ┆ SS-NU             ┆ KN.B2    ┆ … ┆ 5 to 9   ┆ units ┆ Persons ┆ 151467 │\n",
            "│ KN.A2  ┆ Upper Nile  ┆ SS-NU             ┆ KN.B2    ┆ … ┆ 10 to 14 ┆ units ┆ Persons ┆ 126140 │\n",
            "│ KN.A2  ┆ Upper Nile  ┆ SS-NU             ┆ KN.B2    ┆ … ┆ 15 to 19 ┆ units ┆ Persons ┆ 103804 │\n",
            "└────────┴─────────────┴───────────────────┴──────────┴───┴──────────┴───────┴─────────┴────────┘\n"
          ]
        }
      ],
      "source": [
        "census_lazy = pl.scan_csv(\n",
        "    'data/ss_2008_census_data_raw.csv', null_values='NA'\n",
        "    )\n",
        "\n",
        "# Inspect the first 5 rows\n",
        "print(census_lazy.collect().head(5))"
      ]
    },
    {
      "cell_type": "code",
      "execution_count": 15,
      "id": "153735fd",
      "metadata": {},
      "outputs": [
        {
          "name": "stdout",
          "output_type": "stream",
          "text": [
            "shape: (5, 10)\n",
            "┌───────────────┬────────────────────┬──────────┬──────────┬───┬──────────┬───────┬─────────┬──────┐\n",
            "│ Region        ┆ Region Name        ┆ Region - ┆ Variable ┆ … ┆ Age Name ┆ Scale ┆ Units   ┆ 2008 │\n",
            "│ ---           ┆ ---                ┆ RegionId ┆ ---      ┆   ┆ ---      ┆ ---   ┆ ---     ┆ ---  │\n",
            "│ str           ┆ str                ┆ ---      ┆ str      ┆   ┆ str      ┆ str   ┆ str     ┆ i64  │\n",
            "│               ┆                    ┆ str      ┆          ┆   ┆          ┆       ┆         ┆      │\n",
            "╞═══════════════╪════════════════════╪══════════╪══════════╪═══╪══════════╪═══════╪═════════╪══════╡\n",
            "│ KN.A11        ┆ Eastern Equatoria  ┆ SS-EE    ┆ KN.B8    ┆ … ┆ 60 to 64 ┆ units ┆ Persons ┆ 5274 │\n",
            "│ KN.A11        ┆ Eastern Equatoria  ┆ SS-EE    ┆ KN.B8    ┆ … ┆ 65+      ┆ units ┆ Persons ┆ 8637 │\n",
            "│ null          ┆ null               ┆ null     ┆ null     ┆ … ┆ null     ┆ null  ┆ null    ┆ null │\n",
            "│ Source:       ┆ National Bureau of ┆ null     ┆ null     ┆ … ┆ null     ┆ null  ┆ null    ┆ null │\n",
            "│               ┆ Statistics, S…     ┆          ┆          ┆   ┆          ┆       ┆         ┆      │\n",
            "│ Download URL: ┆ http://southsudan. ┆ null     ┆ null     ┆ … ┆ null     ┆ null  ┆ null    ┆ null │\n",
            "│               ┆ opendataforafr…    ┆          ┆          ┆   ┆          ┆       ┆         ┆      │\n",
            "└───────────────┴────────────────────┴──────────┴──────────┴───┴──────────┴───────┴─────────┴──────┘\n"
          ]
        }
      ],
      "source": [
        "# Inspect the last 5 rows\n",
        "print(census_raw.tail(5))"
      ]
    },
    {
      "cell_type": "code",
      "execution_count": 16,
      "id": "1486f3d5",
      "metadata": {},
      "outputs": [
        {
          "name": "stdout",
          "output_type": "stream",
          "text": [
            "shape: (5, 10)\n",
            "┌────────┬─────────────┬───────────────────┬──────────┬───┬──────────┬───────┬─────────┬───────┐\n",
            "│ Region ┆ Region Name ┆ Region - RegionId ┆ Variable ┆ … ┆ Age Name ┆ Scale ┆ Units   ┆ 2008  │\n",
            "│ ---    ┆ ---         ┆ ---               ┆ ---      ┆   ┆ ---      ┆ ---   ┆ ---     ┆ ---   │\n",
            "│ str    ┆ str         ┆ str               ┆ str      ┆   ┆ str      ┆ str   ┆ str     ┆ i64   │\n",
            "╞════════╪═════════════╪═══════════════════╪══════════╪═══╪══════════╪═══════╪═════════╪═══════╡\n",
            "│ KN.A4  ┆ Unity       ┆ SS-UY             ┆ KN.B2    ┆ … ┆ 30 to 34 ┆ units ┆ Persons ┆ 34200 │\n",
            "│ KN.A4  ┆ Unity       ┆ SS-UY             ┆ KN.B5    ┆ … ┆ 60 to 64 ┆ units ┆ Persons ┆ 4160  │\n",
            "│ KN.A4  ┆ Unity       ┆ SS-UY             ┆ KN.B2    ┆ … ┆ 15 to 19 ┆ units ┆ Persons ┆ 59342 │\n",
            "│ KN.A11 ┆ Eastern     ┆ SS-EE             ┆ KN.B8    ┆ … ┆ 35 to 39 ┆ units ┆ Persons ┆ 25808 │\n",
            "│        ┆ Equatoria   ┆                   ┆          ┆   ┆          ┆       ┆         ┆       │\n",
            "│ KN.A9  ┆ Western     ┆ SS-EW             ┆ KN.B5    ┆ … ┆ 20 to 24 ┆ units ┆ Persons ┆ 29084 │\n",
            "│        ┆ Equatoria   ┆                   ┆          ┆   ┆          ┆       ┆         ┆       │\n",
            "└────────┴─────────────┴───────────────────┴──────────┴───┴──────────┴───────┴─────────┴───────┘\n"
          ]
        }
      ],
      "source": [
        "# Inspect random 5 rows\n",
        "print(census_raw.sample(5))"
      ]
    },
    {
      "cell_type": "markdown",
      "id": "f2ed25c5",
      "metadata": {},
      "source": [
        "## Checking for Missing Values\n"
      ]
    },
    {
      "cell_type": "code",
      "execution_count": 17,
      "id": "9d069355",
      "metadata": {},
      "outputs": [
        {
          "name": "stdout",
          "output_type": "stream",
          "text": [
            "shape: (1, 10)\n",
            "┌────────┬─────────────┬───────────────────┬──────────┬───┬──────────┬───────┬───────┬──────┐\n",
            "│ Region ┆ Region Name ┆ Region - RegionId ┆ Variable ┆ … ┆ Age Name ┆ Scale ┆ Units ┆ 2008 │\n",
            "│ ---    ┆ ---         ┆ ---               ┆ ---      ┆   ┆ ---      ┆ ---   ┆ ---   ┆ ---  │\n",
            "│ u32    ┆ u32         ┆ u32               ┆ u32      ┆   ┆ u32      ┆ u32   ┆ u32   ┆ u32  │\n",
            "╞════════╪═════════════╪═══════════════════╪══════════╪═══╪══════════╪═══════╪═══════╪══════╡\n",
            "│ 1      ┆ 1           ┆ 3                 ┆ 3        ┆ … ┆ 3        ┆ 3     ┆ 3     ┆ 3    │\n",
            "└────────┴─────────────┴───────────────────┴──────────┴───┴──────────┴───────┴───────┴──────┘\n"
          ]
        }
      ],
      "source": [
        "# Inspect the last 5 rows\n",
        "print(census_raw.null_count())"
      ]
    },
    {
      "cell_type": "code",
      "execution_count": 18,
      "id": "b7dc3110",
      "metadata": {},
      "outputs": [
        {
          "name": "stdout",
          "output_type": "stream",
          "text": [
            "shape: (1, 10)\n",
            "┌────────┬─────────────┬───────────────────┬──────────┬───┬──────────┬───────┬───────┬──────┐\n",
            "│ Region ┆ Region Name ┆ Region - RegionId ┆ Variable ┆ … ┆ Age Name ┆ Scale ┆ Units ┆ 2008 │\n",
            "│ ---    ┆ ---         ┆ ---               ┆ ---      ┆   ┆ ---      ┆ ---   ┆ ---   ┆ ---  │\n",
            "│ u32    ┆ u32         ┆ u32               ┆ u32      ┆   ┆ u32      ┆ u32   ┆ u32   ┆ u32  │\n",
            "╞════════╪═════════════╪═══════════════════╪══════════╪═══╪══════════╪═══════╪═══════╪══════╡\n",
            "│ 1      ┆ 1           ┆ 3                 ┆ 3        ┆ … ┆ 3        ┆ 3     ┆ 3     ┆ 3    │\n",
            "└────────┴─────────────┴───────────────────┴──────────┴───┴──────────┴───────┴───────┴──────┘\n"
          ]
        }
      ],
      "source": [
        "import polars.selectors as cs\n",
        "# Inspect the last 5 rows\n",
        "print(\n",
        "    census_raw\n",
        "    .select(cs.all().is_null().sum())\n",
        ")"
      ]
    },
    {
      "cell_type": "markdown",
      "id": "ecafa718",
      "metadata": {},
      "source": [
        "## Selecting Columns of Interest"
      ]
    },
    {
      "cell_type": "code",
      "execution_count": 19,
      "id": "6085139a",
      "metadata": {},
      "outputs": [
        {
          "name": "stdout",
          "output_type": "stream",
          "text": [
            "['Region Name', 'Variable Name', 'Age Name', '2008']\n"
          ]
        }
      ],
      "source": [
        "# Selecting columns of interest: polars provides various methods for selecting columns\n",
        "print(\n",
        "    census_raw\n",
        "    .select(cs.ends_with('Name'), '2008')\n",
        "    .columns\n",
        ")"
      ]
    },
    {
      "cell_type": "code",
      "execution_count": 20,
      "id": "e2160725",
      "metadata": {},
      "outputs": [],
      "source": [
        "age_mapping = {\n",
        "    \"0 to 4\": \"0-14\",\n",
        "    \"5 to 9\": \"0-14\",\n",
        "    \"10 to 14\": \"0-14\",\n",
        "    \"15 to 19\": \"15-24\",\n",
        "    \"20 to 24\": \"15-24\",\n",
        "    \"25 to 29\": \"25-34\",\n",
        "    \"30 to 34\": \"25-34\",\n",
        "    \"35 to 39\": \"35-44\",\n",
        "    \"40 to 44\": \"35-44\",\n",
        "    \"45 to 49\": \"45-54\",\n",
        "    \"50 to 54\": \"45-54\",\n",
        "    \"55 to 59\": \"55-64\",\n",
        "    \"60 to 64\": \"55-64\",\n",
        "    \"65+\": \"65 and above\",\n",
        "}\n",
        "census = (\n",
        "    census_raw\n",
        "    .select(\n",
        "        [\"Region Name\", \"Variable Name\", \"Age Name\", \"2008\"]\n",
        "    )\n",
        "    .rename(\n",
        "        {\n",
        "            \"Region Name\": \"state\",\n",
        "            \"Variable Name\": \"gender\",\n",
        "            \"Age Name\": \"age_category\",\n",
        "            \"2008\": \"population\",\n",
        "        }\n",
        "    )\n",
        "    .with_columns(\n",
        "        gender=pl.col(\"gender\").str.split(\" \").list.get(1),\n",
        "        age_category=pl.col(\"age_category\").replace(age_mapping),\n",
        "    )\n",
        "    .filter(\n",
        "        (pl.col(\"gender\") != \"Total\") & (pl.col(\"age_category\") != \"Total\")\n",
        "    )\n",
        "    .group_by(['state', 'gender', 'age_category'])\n",
        "    .agg(total=pl.col('population').sum())\n",
        "    .sort('total', descending=True)\n",
        ")"
      ]
    },
    {
      "cell_type": "markdown",
      "id": "6ee348c5",
      "metadata": {},
      "source": [
        "## "
      ]
    },
    {
      "cell_type": "code",
      "execution_count": 21,
      "id": "120e2a28",
      "metadata": {},
      "outputs": [
        {
          "name": "stdout",
          "output_type": "stream",
          "text": [
            "shape: (5, 4)\n",
            "┌───────────────────┬────────┬──────────────┬────────┐\n",
            "│ state             ┆ gender ┆ age_category ┆ total  │\n",
            "│ ---               ┆ ---    ┆ ---          ┆ ---    │\n",
            "│ str               ┆ str    ┆ str          ┆ i64    │\n",
            "╞═══════════════════╪════════╪══════════════╪════════╡\n",
            "│ Jonglei           ┆ Male   ┆ 0-14         ┆ 338443 │\n",
            "│ Jonglei           ┆ Female ┆ 0-14         ┆ 263646 │\n",
            "│ Central Equatoria ┆ Male   ┆ 0-14         ┆ 242247 │\n",
            "│ Upper Nile        ┆ Male   ┆ 0-14         ┆ 237461 │\n",
            "│ Warrap            ┆ Male   ┆ 0-14         ┆ 230854 │\n",
            "└───────────────────┴────────┴──────────────┴────────┘\n"
          ]
        }
      ],
      "source": [
        "print(census.head(5))"
      ]
    }
  ],
  "metadata": {
    "kernelspec": {
      "display_name": "po-env",
      "language": "python",
      "name": "python3"
    },
    "language_info": {
      "codemirror_mode": {
        "name": "ipython",
        "version": 3
      },
      "file_extension": ".py",
      "mimetype": "text/x-python",
      "name": "python",
      "nbconvert_exporter": "python",
      "pygments_lexer": "ipython3",
      "version": "3.12.3"
    }
  },
  "nbformat": 4,
  "nbformat_minor": 5
}
