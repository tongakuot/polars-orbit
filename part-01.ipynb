{
  "cells": [
    {
      "cell_type": "markdown",
      "id": "86ba6109",
      "metadata": {},
      "source": [
        "# Getting Started in Polars\n",
        "---\n",
        "**Alier Reng**\n",
        "\n",
        "**Date: 2024-04-20**\n"
      ]
    },
    {
      "cell_type": "markdown",
      "id": "f6f00c9e",
      "metadata": {},
      "source": [
        "# Motivation\n",
        "I've always been intrigued by the streamlined syntax and speed of the `Polars` library. However, my initial experience with it was challenging. I tried to clean and manipulate data with `Polars`, but I struggled to import the data correctly due to the required `null_values` argument in the import functions. This left me feeling discouraged, and I gave up. But I didn't lose hope and kept trying. Finally, I succeeded in creating a tutorial on the basics of the `Polars` library in May 2023, which I updated on April 20, 2024. This tutorial is my way of sharing my knowledge with those interested in learning about the `Polars` package. [That tutorial can be found here](https://github.com/tongakuot/python_tutorials/tree/main/Data%20Wrangling%20with%20Polars)\n",
        "\n",
        "This tutorial is the first of my **Learning the Polars Library the Right Way** series, which will be published on medium.com and later on alierwaidatastudio.com.\n",
        "\n",
        "# Getting Started\n",
        "First, I will import necessary libraries, read South Sudan's 2008 census data, and then showcase how to clean and transform this dataset with the `polar` library.\n",
        "\n",
        "As a bonus, I will demonstrate how to plot the data with the `lets-plot` Python library derived from `ggplto2` and tabulate data with the `great_tables` Python package, a Python version of the `R gt` package. My goal is to walk my readers through, step by step, from loading packages to data import data to data wrangling, visualization, and tabulation. I will conclude with a comprehensive summary."
      ]
    },
    {
      "cell_type": "markdown",
      "id": "3645672c",
      "metadata": {},
      "source": [
        "## Loading the Required Libraries\n",
        "Here, I will load `polars` and `great_tables`."
      ]
    },
    {
      "cell_type": "code",
      "execution_count": 1,
      "id": "set-up",
      "metadata": {
        "message": false
      },
      "outputs": [],
      "source": [
        "# Libraries -------\n",
        "import polars as pl\n",
        "import polars.selectors as cs \n",
        "from great_tables import GT, md, html, style, loc\n",
        "\n",
        "# pl.__version__"
      ]
    },
    {
      "cell_type": "markdown",
      "id": "02a11999",
      "metadata": {},
      "source": [
        "## Importing Data\n"
      ]
    },
    {
      "cell_type": "code",
      "execution_count": 2,
      "id": "99b0cd2b",
      "metadata": {},
      "outputs": [
        {
          "name": "stdout",
          "output_type": "stream",
          "text": [
            "shape: (5, 10)\n",
            "┌────────┬─────────────┬───────────────────┬──────────┬───┬──────────┬───────┬─────────┬────────┐\n",
            "│ Region ┆ Region Name ┆ Region - RegionId ┆ Variable ┆ … ┆ Age Name ┆ Scale ┆ Units   ┆ 2008   │\n",
            "│ ---    ┆ ---         ┆ ---               ┆ ---      ┆   ┆ ---      ┆ ---   ┆ ---     ┆ ---    │\n",
            "│ str    ┆ str         ┆ str               ┆ str      ┆   ┆ str      ┆ str   ┆ str     ┆ i64    │\n",
            "╞════════╪═════════════╪═══════════════════╪══════════╪═══╪══════════╪═══════╪═════════╪════════╡\n",
            "│ KN.A2  ┆ Upper Nile  ┆ SS-NU             ┆ KN.B2    ┆ … ┆ Total    ┆ units ┆ Persons ┆ 964353 │\n",
            "│ KN.A2  ┆ Upper Nile  ┆ SS-NU             ┆ KN.B2    ┆ … ┆ 0 to 4   ┆ units ┆ Persons ┆ 150872 │\n",
            "│ KN.A2  ┆ Upper Nile  ┆ SS-NU             ┆ KN.B2    ┆ … ┆ 5 to 9   ┆ units ┆ Persons ┆ 151467 │\n",
            "│ KN.A2  ┆ Upper Nile  ┆ SS-NU             ┆ KN.B2    ┆ … ┆ 10 to 14 ┆ units ┆ Persons ┆ 126140 │\n",
            "│ KN.A2  ┆ Upper Nile  ┆ SS-NU             ┆ KN.B2    ┆ … ┆ 15 to 19 ┆ units ┆ Persons ┆ 103804 │\n",
            "└────────┴─────────────┴───────────────────┴──────────┴───┴──────────┴───────┴─────────┴────────┘\n"
          ]
        }
      ],
      "source": [
        "# Load the dataset\n",
        "census_raw = pl.read_csv(\n",
        "    'data/ss_2008_census_data_raw.csv', \n",
        "    null_values='NA'\n",
        ")\n",
        "\n",
        "# Inspect the first 5 rows\n",
        "print(census_raw.head(5))"
      ]
    },
    {
      "cell_type": "markdown",
      "id": "7e09ea29",
      "metadata": {},
      "source": [
        "## Importing the Data Lazily\n"
      ]
    },
    {
      "cell_type": "code",
      "execution_count": 3,
      "id": "305a150e",
      "metadata": {},
      "outputs": [
        {
          "name": "stdout",
          "output_type": "stream",
          "text": [
            "shape: (5, 10)\n",
            "┌────────┬─────────────┬───────────────────┬──────────┬───┬──────────┬───────┬─────────┬────────┐\n",
            "│ Region ┆ Region Name ┆ Region - RegionId ┆ Variable ┆ … ┆ Age Name ┆ Scale ┆ Units   ┆ 2008   │\n",
            "│ ---    ┆ ---         ┆ ---               ┆ ---      ┆   ┆ ---      ┆ ---   ┆ ---     ┆ ---    │\n",
            "│ str    ┆ str         ┆ str               ┆ str      ┆   ┆ str      ┆ str   ┆ str     ┆ i64    │\n",
            "╞════════╪═════════════╪═══════════════════╪══════════╪═══╪══════════╪═══════╪═════════╪════════╡\n",
            "│ KN.A2  ┆ Upper Nile  ┆ SS-NU             ┆ KN.B2    ┆ … ┆ Total    ┆ units ┆ Persons ┆ 964353 │\n",
            "│ KN.A2  ┆ Upper Nile  ┆ SS-NU             ┆ KN.B2    ┆ … ┆ 0 to 4   ┆ units ┆ Persons ┆ 150872 │\n",
            "│ KN.A2  ┆ Upper Nile  ┆ SS-NU             ┆ KN.B2    ┆ … ┆ 5 to 9   ┆ units ┆ Persons ┆ 151467 │\n",
            "│ KN.A2  ┆ Upper Nile  ┆ SS-NU             ┆ KN.B2    ┆ … ┆ 10 to 14 ┆ units ┆ Persons ┆ 126140 │\n",
            "│ KN.A2  ┆ Upper Nile  ┆ SS-NU             ┆ KN.B2    ┆ … ┆ 15 to 19 ┆ units ┆ Persons ┆ 103804 │\n",
            "└────────┴─────────────┴───────────────────┴──────────┴───┴──────────┴───────┴─────────┴────────┘\n"
          ]
        }
      ],
      "source": [
        "# Load the dataset lazily\n",
        "census_lazy = pl.scan_csv(\n",
        "    'data/ss_2008_census_data_raw.csv', \n",
        "    null_values='NA'\n",
        ")\n",
        "\n",
        "# Inspect the first 5 rows\n",
        "print(census_lazy.collect().head(5))"
      ]
    },
    {
      "cell_type": "code",
      "execution_count": 4,
      "id": "153735fd",
      "metadata": {},
      "outputs": [
        {
          "name": "stdout",
          "output_type": "stream",
          "text": [
            "shape: (5, 10)\n",
            "┌───────────────┬────────────────────┬──────────┬──────────┬───┬──────────┬───────┬─────────┬──────┐\n",
            "│ Region        ┆ Region Name        ┆ Region - ┆ Variable ┆ … ┆ Age Name ┆ Scale ┆ Units   ┆ 2008 │\n",
            "│ ---           ┆ ---                ┆ RegionId ┆ ---      ┆   ┆ ---      ┆ ---   ┆ ---     ┆ ---  │\n",
            "│ str           ┆ str                ┆ ---      ┆ str      ┆   ┆ str      ┆ str   ┆ str     ┆ i64  │\n",
            "│               ┆                    ┆ str      ┆          ┆   ┆          ┆       ┆         ┆      │\n",
            "╞═══════════════╪════════════════════╪══════════╪══════════╪═══╪══════════╪═══════╪═════════╪══════╡\n",
            "│ KN.A11        ┆ Eastern Equatoria  ┆ SS-EE    ┆ KN.B8    ┆ … ┆ 60 to 64 ┆ units ┆ Persons ┆ 5274 │\n",
            "│ KN.A11        ┆ Eastern Equatoria  ┆ SS-EE    ┆ KN.B8    ┆ … ┆ 65+      ┆ units ┆ Persons ┆ 8637 │\n",
            "│ null          ┆ null               ┆ null     ┆ null     ┆ … ┆ null     ┆ null  ┆ null    ┆ null │\n",
            "│ Source:       ┆ National Bureau of ┆ null     ┆ null     ┆ … ┆ null     ┆ null  ┆ null    ┆ null │\n",
            "│               ┆ Statistics,…       ┆          ┆          ┆   ┆          ┆       ┆         ┆      │\n",
            "│ Download URL: ┆ http://southsudan. ┆ null     ┆ null     ┆ … ┆ null     ┆ null  ┆ null    ┆ null │\n",
            "│               ┆ opendatafora…      ┆          ┆          ┆   ┆          ┆       ┆         ┆      │\n",
            "└───────────────┴────────────────────┴──────────┴──────────┴───┴──────────┴───────┴─────────┴──────┘\n"
          ]
        }
      ],
      "source": [
        "# Inspect the last 5 rows\n",
        "print(census_raw.tail(5))"
      ]
    },
    {
      "cell_type": "code",
      "execution_count": 5,
      "id": "f776c025",
      "metadata": {},
      "outputs": [
        {
          "data": {
            "text/plain": [
              "['Eastern Equatoria',\n",
              " 'Eastern Equatoria',\n",
              " 'Eastern Equatoria',\n",
              " 'Eastern Equatoria',\n",
              " 'Eastern Equatoria',\n",
              " 'Eastern Equatoria',\n",
              " 'Eastern Equatoria',\n",
              " None,\n",
              " 'National Bureau of Statistics, South Sudan',\n",
              " 'http://southsudan.opendataforafrica.org/fvjqdpe/population-by-age-and-sex-2008-south-sudan']"
            ]
          },
          "execution_count": 5,
          "metadata": {},
          "output_type": "execute_result"
        }
      ],
      "source": [
        "# Pull out any column and inspect its values; \n",
        "# format the output with the list()\n",
        "list(\n",
        "    census_raw.get_column('Region Name')\n",
        "    .tail()\n",
        ")"
      ]
    },
    {
      "cell_type": "code",
      "execution_count": 6,
      "id": "96fda2f2",
      "metadata": {},
      "outputs": [
        {
          "data": {
            "text/plain": [
              "[None,\n",
              " 'Central Equatoria',\n",
              " 'Eastern Equatoria',\n",
              " 'Jonglei',\n",
              " 'Lakes',\n",
              " 'National Bureau of Statistics, South Sudan',\n",
              " 'Northern Bahr el Ghazal',\n",
              " 'Unity',\n",
              " 'Upper Nile',\n",
              " 'Warrap',\n",
              " 'Western Bahr el Ghazal',\n",
              " 'Western Equatoria',\n",
              " 'http://southsudan.opendataforafrica.org/fvjqdpe/population-by-age-and-sex-2008-south-sudan']"
            ]
          },
          "execution_count": 6,
          "metadata": {},
          "output_type": "execute_result"
        }
      ],
      "source": [
        "# Pull out any column and inspect its values; \n",
        "# format the output with the list()\n",
        "list(\n",
        "    census_raw\n",
        "    .get_column('Region Name')\n",
        "    .unique()\n",
        "    .sort()\n",
        ")"
      ]
    },
    {
      "cell_type": "code",
      "execution_count": 7,
      "id": "1486f3d5",
      "metadata": {},
      "outputs": [
        {
          "name": "stdout",
          "output_type": "stream",
          "text": [
            "shape: (5, 10)\n",
            "┌────────┬─────────────┬───────────────────┬──────────┬───┬──────────┬───────┬─────────┬───────┐\n",
            "│ Region ┆ Region Name ┆ Region - RegionId ┆ Variable ┆ … ┆ Age Name ┆ Scale ┆ Units   ┆ 2008  │\n",
            "│ ---    ┆ ---         ┆ ---               ┆ ---      ┆   ┆ ---      ┆ ---   ┆ ---     ┆ ---   │\n",
            "│ str    ┆ str         ┆ str               ┆ str      ┆   ┆ str      ┆ str   ┆ str     ┆ i64   │\n",
            "╞════════╪═════════════╪═══════════════════╪══════════╪═══╪══════════╪═══════╪═════════╪═══════╡\n",
            "│ KN.A11 ┆ Eastern     ┆ SS-EE             ┆ KN.B2    ┆ … ┆ 30 to 34 ┆ units ┆ Persons ┆ 57187 │\n",
            "│        ┆ Equatoria   ┆                   ┆          ┆   ┆          ┆       ┆         ┆       │\n",
            "│ KN.A8  ┆ Lakes       ┆ SS-LK             ┆ KN.B5    ┆ … ┆ 65+      ┆ units ┆ Persons ┆ 10100 │\n",
            "│ KN.A9  ┆ Western     ┆ SS-EW             ┆ KN.B2    ┆ … ┆ 30 to 34 ┆ units ┆ Persons ┆ 42527 │\n",
            "│        ┆ Equatoria   ┆                   ┆          ┆   ┆          ┆       ┆         ┆       │\n",
            "│ KN.A10 ┆ Central     ┆ SS-EC             ┆ KN.B8    ┆ … ┆ 5 to 9   ┆ units ┆ Persons ┆ 77375 │\n",
            "│        ┆ Equatoria   ┆                   ┆          ┆   ┆          ┆       ┆         ┆       │\n",
            "│ KN.A9  ┆ Western     ┆ SS-EW             ┆ KN.B8    ┆ … ┆ 10 to 14 ┆ units ┆ Persons ┆ 33109 │\n",
            "│        ┆ Equatoria   ┆                   ┆          ┆   ┆          ┆       ┆         ┆       │\n",
            "└────────┴─────────────┴───────────────────┴──────────┴───┴──────────┴───────┴─────────┴───────┘\n"
          ]
        }
      ],
      "source": [
        "# Inspect random 5 rows\n",
        "print(census_raw.sample(5, seed=254, with_replacement=True))"
      ]
    },
    {
      "cell_type": "markdown",
      "id": "f2ed25c5",
      "metadata": {},
      "source": [
        "## Checking for Missing Values\n"
      ]
    },
    {
      "cell_type": "code",
      "execution_count": 8,
      "id": "9d069355",
      "metadata": {},
      "outputs": [
        {
          "name": "stdout",
          "output_type": "stream",
          "text": [
            "shape: (1, 10)\n",
            "┌────────┬─────────────┬───────────────────┬──────────┬───┬──────────┬───────┬───────┬──────┐\n",
            "│ Region ┆ Region Name ┆ Region - RegionId ┆ Variable ┆ … ┆ Age Name ┆ Scale ┆ Units ┆ 2008 │\n",
            "│ ---    ┆ ---         ┆ ---               ┆ ---      ┆   ┆ ---      ┆ ---   ┆ ---   ┆ ---  │\n",
            "│ u32    ┆ u32         ┆ u32               ┆ u32      ┆   ┆ u32      ┆ u32   ┆ u32   ┆ u32  │\n",
            "╞════════╪═════════════╪═══════════════════╪══════════╪═══╪══════════╪═══════╪═══════╪══════╡\n",
            "│ 1      ┆ 1           ┆ 3                 ┆ 3        ┆ … ┆ 3        ┆ 3     ┆ 3     ┆ 3    │\n",
            "└────────┴─────────────┴───────────────────┴──────────┴───┴──────────┴───────┴───────┴──────┘\n"
          ]
        }
      ],
      "source": [
        "# Inspect the dataset for missing values using .null_count()\n",
        "print(census_raw.null_count())"
      ]
    },
    {
      "cell_type": "code",
      "execution_count": 9,
      "id": "b7dc3110",
      "metadata": {},
      "outputs": [
        {
          "name": "stdout",
          "output_type": "stream",
          "text": [
            "shape: (1, 10)\n",
            "┌────────┬─────────────┬───────────────────┬──────────┬───┬──────────┬───────┬───────┬──────┐\n",
            "│ Region ┆ Region Name ┆ Region - RegionId ┆ Variable ┆ … ┆ Age Name ┆ Scale ┆ Units ┆ 2008 │\n",
            "│ ---    ┆ ---         ┆ ---               ┆ ---      ┆   ┆ ---      ┆ ---   ┆ ---   ┆ ---  │\n",
            "│ u32    ┆ u32         ┆ u32               ┆ u32      ┆   ┆ u32      ┆ u32   ┆ u32   ┆ u32  │\n",
            "╞════════╪═════════════╪═══════════════════╪══════════╪═══╪══════════╪═══════╪═══════╪══════╡\n",
            "│ 1      ┆ 1           ┆ 3                 ┆ 3        ┆ … ┆ 3        ┆ 3     ┆ 3     ┆ 3    │\n",
            "└────────┴─────────────┴───────────────────┴──────────┴───┴──────────┴───────┴───────┴──────┘\n"
          ]
        }
      ],
      "source": [
        "# Inspect the dataset for missing values with the help of the polars selectors\n",
        "print(\n",
        "    census_raw\n",
        "    .select(cs.all().is_null().sum())\n",
        ")"
      ]
    },
    {
      "cell_type": "markdown",
      "id": "ecafa718",
      "metadata": {},
      "source": [
        "## Selecting Columns of Interest"
      ]
    },
    {
      "cell_type": "code",
      "execution_count": 10,
      "id": "6085139a",
      "metadata": {},
      "outputs": [
        {
          "name": "stdout",
          "output_type": "stream",
          "text": [
            "['Region Name', 'Variable Name', 'Age Name', '2008']\n"
          ]
        }
      ],
      "source": [
        "# Selecting columns of interest: \n",
        "# polars provides various methods for selecting columns\n",
        "print(\n",
        "    census_raw\n",
        "    .select(cs.ends_with('Name'), '2008')\n",
        "    .columns\n",
        ")"
      ]
    },
    {
      "cell_type": "code",
      "execution_count": 11,
      "id": "ad70c944",
      "metadata": {},
      "outputs": [
        {
          "name": "stdout",
          "output_type": "stream",
          "text": [
            "shape: (453, 4)\n",
            "┌─────────────────────────────────┬─────────────────────────────┬──────────┬────────┐\n",
            "│ Region Name                     ┆ Variable Name               ┆ Age Name ┆ 2008   │\n",
            "│ ---                             ┆ ---                         ┆ ---      ┆ ---    │\n",
            "│ str                             ┆ str                         ┆ str      ┆ i64    │\n",
            "╞═════════════════════════════════╪═════════════════════════════╪══════════╪════════╡\n",
            "│ Upper Nile                      ┆ Population, Total (Number)  ┆ Total    ┆ 964353 │\n",
            "│ Upper Nile                      ┆ Population, Total (Number)  ┆ 0 to 4   ┆ 150872 │\n",
            "│ Upper Nile                      ┆ Population, Total (Number)  ┆ 5 to 9   ┆ 151467 │\n",
            "│ Upper Nile                      ┆ Population, Total (Number)  ┆ 10 to 14 ┆ 126140 │\n",
            "│ Upper Nile                      ┆ Population, Total (Number)  ┆ 15 to 19 ┆ 103804 │\n",
            "│ …                               ┆ …                           ┆ …        ┆ …      │\n",
            "│ Eastern Equatoria               ┆ Population, Female (Number) ┆ 60 to 64 ┆ 5274   │\n",
            "│ Eastern Equatoria               ┆ Population, Female (Number) ┆ 65+      ┆ 8637   │\n",
            "│ null                            ┆ null                        ┆ null     ┆ null   │\n",
            "│ National Bureau of Statistics,… ┆ null                        ┆ null     ┆ null   │\n",
            "│ http://southsudan.opendatafora… ┆ null                        ┆ null     ┆ null   │\n",
            "└─────────────────────────────────┴─────────────────────────────┴──────────┴────────┘\n"
          ]
        }
      ],
      "source": [
        "# Selecting multiple columns - pass in a list of column names\n",
        "print(\n",
        "    census_raw\n",
        "    .select(['Region Name', 'Variable Name', 'Age Name', '2008'])\n",
        ")"
      ]
    },
    {
      "cell_type": "code",
      "execution_count": 12,
      "id": "8dc4968e",
      "metadata": {},
      "outputs": [
        {
          "name": "stdout",
          "output_type": "stream",
          "text": [
            "shape: (453, 4)\n",
            "┌─────────────────────────────────┬─────────────────────────────┬──────────┬────────┐\n",
            "│ Region Name                     ┆ Variable Name               ┆ Age Name ┆ 2008   │\n",
            "│ ---                             ┆ ---                         ┆ ---      ┆ ---    │\n",
            "│ str                             ┆ str                         ┆ str      ┆ i64    │\n",
            "╞═════════════════════════════════╪═════════════════════════════╪══════════╪════════╡\n",
            "│ Upper Nile                      ┆ Population, Total (Number)  ┆ Total    ┆ 964353 │\n",
            "│ Upper Nile                      ┆ Population, Total (Number)  ┆ 0 to 4   ┆ 150872 │\n",
            "│ Upper Nile                      ┆ Population, Total (Number)  ┆ 5 to 9   ┆ 151467 │\n",
            "│ Upper Nile                      ┆ Population, Total (Number)  ┆ 10 to 14 ┆ 126140 │\n",
            "│ Upper Nile                      ┆ Population, Total (Number)  ┆ 15 to 19 ┆ 103804 │\n",
            "│ …                               ┆ …                           ┆ …        ┆ …      │\n",
            "│ Eastern Equatoria               ┆ Population, Female (Number) ┆ 60 to 64 ┆ 5274   │\n",
            "│ Eastern Equatoria               ┆ Population, Female (Number) ┆ 65+      ┆ 8637   │\n",
            "│ null                            ┆ null                        ┆ null     ┆ null   │\n",
            "│ National Bureau of Statistics,… ┆ null                        ┆ null     ┆ null   │\n",
            "│ http://southsudan.opendatafora… ┆ null                        ┆ null     ┆ null   │\n",
            "└─────────────────────────────────┴─────────────────────────────┴──────────┴────────┘\n"
          ]
        }
      ],
      "source": [
        "# Selecting multiple columns\n",
        "print(\n",
        "    census_raw\n",
        "    .select('Region Name', 'Variable Name', 'Age Name', '2008')\n",
        ")"
      ]
    },
    {
      "cell_type": "markdown",
      "id": "f626a698",
      "metadata": {},
      "source": [
        "# Handling String Data in Columns"
      ]
    },
    {
      "cell_type": "code",
      "execution_count": 13,
      "id": "f786e7ab",
      "metadata": {},
      "outputs": [
        {
          "data": {
            "text/html": [
              "<div><style>\n",
              ".dataframe > thead > tr,\n",
              ".dataframe > tbody > tr {\n",
              "  text-align: right;\n",
              "  white-space: pre-wrap;\n",
              "}\n",
              "</style>\n",
              "<small>shape: (5, 1)</small><table border=\"1\" class=\"dataframe\"><thead><tr><th>Variable Name</th></tr><tr><td>list[str]</td></tr></thead><tbody><tr><td>[&quot;Population,&quot;, &quot;Total&quot;, &quot;(Number)&quot;]</td></tr><tr><td>[&quot;Population,&quot;, &quot;Total&quot;, &quot;(Number)&quot;]</td></tr><tr><td>[&quot;Population,&quot;, &quot;Total&quot;, &quot;(Number)&quot;]</td></tr><tr><td>[&quot;Population,&quot;, &quot;Total&quot;, &quot;(Number)&quot;]</td></tr><tr><td>[&quot;Population,&quot;, &quot;Total&quot;, &quot;(Number)&quot;]</td></tr></tbody></table></div>"
            ],
            "text/plain": [
              "shape: (5, 1)\n",
              "┌─────────────────────────────────┐\n",
              "│ Variable Name                   │\n",
              "│ ---                             │\n",
              "│ list[str]                       │\n",
              "╞═════════════════════════════════╡\n",
              "│ [\"Population,\", \"Total\", \"(Num… │\n",
              "│ [\"Population,\", \"Total\", \"(Num… │\n",
              "│ [\"Population,\", \"Total\", \"(Num… │\n",
              "│ [\"Population,\", \"Total\", \"(Num… │\n",
              "│ [\"Population,\", \"Total\", \"(Num… │\n",
              "└─────────────────────────────────┘"
            ]
          },
          "execution_count": 13,
          "metadata": {},
          "output_type": "execute_result"
        }
      ],
      "source": [
        "# Splitting string column values\n",
        "(\n",
        "    census_raw\n",
        "    .select(pl.col('Variable Name').str.split(' '))\n",
        "    .head(5)\n",
        ")"
      ]
    },
    {
      "cell_type": "code",
      "execution_count": 14,
      "id": "e35c83be",
      "metadata": {},
      "outputs": [
        {
          "data": {
            "text/html": [
              "<div><style>\n",
              ".dataframe > thead > tr,\n",
              ".dataframe > tbody > tr {\n",
              "  text-align: right;\n",
              "  white-space: pre-wrap;\n",
              "}\n",
              "</style>\n",
              "<small>shape: (5, 1)</small><table border=\"1\" class=\"dataframe\"><thead><tr><th>Variable Name</th></tr><tr><td>str</td></tr></thead><tbody><tr><td>&quot;Total&quot;</td></tr><tr><td>&quot;Total&quot;</td></tr><tr><td>&quot;Total&quot;</td></tr><tr><td>&quot;Total&quot;</td></tr><tr><td>&quot;Total&quot;</td></tr></tbody></table></div>"
            ],
            "text/plain": [
              "shape: (5, 1)\n",
              "┌───────────────┐\n",
              "│ Variable Name │\n",
              "│ ---           │\n",
              "│ str           │\n",
              "╞═══════════════╡\n",
              "│ Total         │\n",
              "│ Total         │\n",
              "│ Total         │\n",
              "│ Total         │\n",
              "│ Total         │\n",
              "└───────────────┘"
            ]
          },
          "execution_count": 14,
          "metadata": {},
          "output_type": "execute_result"
        }
      ],
      "source": [
        "# Next, we will keep only the middle piece\n",
        "(\n",
        "    census_raw\n",
        "    .select(pl.col('Variable Name').str.split(' ').list.get(1))\n",
        "    .head(5)\n",
        ")"
      ]
    },
    {
      "cell_type": "code",
      "execution_count": 15,
      "id": "be603eaf",
      "metadata": {},
      "outputs": [
        {
          "data": {
            "text/html": [
              "<div><style>\n",
              ".dataframe > thead > tr,\n",
              ".dataframe > tbody > tr {\n",
              "  text-align: right;\n",
              "  white-space: pre-wrap;\n",
              "}\n",
              "</style>\n",
              "<small>shape: (5, 5)</small><table border=\"1\" class=\"dataframe\"><thead><tr><th>Region Name</th><th>Variable Name</th><th>Age Name</th><th>2008</th><th>gender</th></tr><tr><td>str</td><td>str</td><td>str</td><td>i64</td><td>str</td></tr></thead><tbody><tr><td>&quot;Upper Nile&quot;</td><td>&quot;Population, Total (Number)&quot;</td><td>&quot;Total&quot;</td><td>964353</td><td>&quot;Total&quot;</td></tr><tr><td>&quot;Upper Nile&quot;</td><td>&quot;Population, Total (Number)&quot;</td><td>&quot;0 to 4&quot;</td><td>150872</td><td>&quot;Total&quot;</td></tr><tr><td>&quot;Upper Nile&quot;</td><td>&quot;Population, Total (Number)&quot;</td><td>&quot;5 to 9&quot;</td><td>151467</td><td>&quot;Total&quot;</td></tr><tr><td>&quot;Upper Nile&quot;</td><td>&quot;Population, Total (Number)&quot;</td><td>&quot;10 to 14&quot;</td><td>126140</td><td>&quot;Total&quot;</td></tr><tr><td>&quot;Upper Nile&quot;</td><td>&quot;Population, Total (Number)&quot;</td><td>&quot;15 to 19&quot;</td><td>103804</td><td>&quot;Total&quot;</td></tr></tbody></table></div>"
            ],
            "text/plain": [
              "shape: (5, 5)\n",
              "┌─────────────┬────────────────────────────┬──────────┬────────┬────────┐\n",
              "│ Region Name ┆ Variable Name              ┆ Age Name ┆ 2008   ┆ gender │\n",
              "│ ---         ┆ ---                        ┆ ---      ┆ ---    ┆ ---    │\n",
              "│ str         ┆ str                        ┆ str      ┆ i64    ┆ str    │\n",
              "╞═════════════╪════════════════════════════╪══════════╪════════╪════════╡\n",
              "│ Upper Nile  ┆ Population, Total (Number) ┆ Total    ┆ 964353 ┆ Total  │\n",
              "│ Upper Nile  ┆ Population, Total (Number) ┆ 0 to 4   ┆ 150872 ┆ Total  │\n",
              "│ Upper Nile  ┆ Population, Total (Number) ┆ 5 to 9   ┆ 151467 ┆ Total  │\n",
              "│ Upper Nile  ┆ Population, Total (Number) ┆ 10 to 14 ┆ 126140 ┆ Total  │\n",
              "│ Upper Nile  ┆ Population, Total (Number) ┆ 15 to 19 ┆ 103804 ┆ Total  │\n",
              "└─────────────┴────────────────────────────┴──────────┴────────┴────────┘"
            ]
          },
          "execution_count": 15,
          "metadata": {},
          "output_type": "execute_result"
        }
      ],
      "source": [
        "# Modifying a column in place; add a new column\n",
        "(\n",
        "    census_raw\n",
        "    .select(['Region Name', 'Variable Name', 'Age Name', '2008'])\n",
        "    .with_columns(gender=pl.col('Variable Name').str.split(' ').list.get(1))\n",
        "    .head(5)\n",
        ")"
      ]
    },
    {
      "cell_type": "code",
      "execution_count": 16,
      "id": "711432d3",
      "metadata": {},
      "outputs": [
        {
          "data": {
            "text/html": [
              "<div><style>\n",
              ".dataframe > thead > tr,\n",
              ".dataframe > tbody > tr {\n",
              "  text-align: right;\n",
              "  white-space: pre-wrap;\n",
              "}\n",
              "</style>\n",
              "<small>shape: (5, 5)</small><table border=\"1\" class=\"dataframe\"><thead><tr><th>Region Name</th><th>Variable Name</th><th>Age Name</th><th>2008</th><th>gender</th></tr><tr><td>str</td><td>str</td><td>str</td><td>i64</td><td>str</td></tr></thead><tbody><tr><td>&quot;Upper Nile&quot;</td><td>&quot;Population, Total (Number)&quot;</td><td>&quot;Total&quot;</td><td>964353</td><td>&quot;Total&quot;</td></tr><tr><td>&quot;Upper Nile&quot;</td><td>&quot;Population, Total (Number)&quot;</td><td>&quot;0 to 4&quot;</td><td>150872</td><td>&quot;Total&quot;</td></tr><tr><td>&quot;Upper Nile&quot;</td><td>&quot;Population, Total (Number)&quot;</td><td>&quot;5 to 9&quot;</td><td>151467</td><td>&quot;Total&quot;</td></tr><tr><td>&quot;Upper Nile&quot;</td><td>&quot;Population, Total (Number)&quot;</td><td>&quot;10 to 14&quot;</td><td>126140</td><td>&quot;Total&quot;</td></tr><tr><td>&quot;Upper Nile&quot;</td><td>&quot;Population, Total (Number)&quot;</td><td>&quot;15 to 19&quot;</td><td>103804</td><td>&quot;Total&quot;</td></tr></tbody></table></div>"
            ],
            "text/plain": [
              "shape: (5, 5)\n",
              "┌─────────────┬────────────────────────────┬──────────┬────────┬────────┐\n",
              "│ Region Name ┆ Variable Name              ┆ Age Name ┆ 2008   ┆ gender │\n",
              "│ ---         ┆ ---                        ┆ ---      ┆ ---    ┆ ---    │\n",
              "│ str         ┆ str                        ┆ str      ┆ i64    ┆ str    │\n",
              "╞═════════════╪════════════════════════════╪══════════╪════════╪════════╡\n",
              "│ Upper Nile  ┆ Population, Total (Number) ┆ Total    ┆ 964353 ┆ Total  │\n",
              "│ Upper Nile  ┆ Population, Total (Number) ┆ 0 to 4   ┆ 150872 ┆ Total  │\n",
              "│ Upper Nile  ┆ Population, Total (Number) ┆ 5 to 9   ┆ 151467 ┆ Total  │\n",
              "│ Upper Nile  ┆ Population, Total (Number) ┆ 10 to 14 ┆ 126140 ┆ Total  │\n",
              "│ Upper Nile  ┆ Population, Total (Number) ┆ 15 to 19 ┆ 103804 ┆ Total  │\n",
              "└─────────────┴────────────────────────────┴──────────┴────────┴────────┘"
            ]
          },
          "execution_count": 16,
          "metadata": {},
          "output_type": "execute_result"
        }
      ],
      "source": [
        "# Using index access to get the desired element\n",
        "(\n",
        "    census_raw\n",
        "    .select(['Region Name', 'Variable Name', 'Age Name', '2008'])\n",
        "    .with_columns(gender=pl.col('Variable Name').str.split(' ').list[1])\n",
        "    .head(5)\n",
        ")"
      ]
    },
    {
      "cell_type": "markdown",
      "id": "39611368",
      "metadata": {},
      "source": [
        "## Replacing String Patterns"
      ]
    },
    {
      "cell_type": "code",
      "execution_count": 17,
      "id": "0314dbf2",
      "metadata": {},
      "outputs": [
        {
          "data": {
            "text/html": [
              "<div><style>\n",
              ".dataframe > thead > tr,\n",
              ".dataframe > tbody > tr {\n",
              "  text-align: right;\n",
              "  white-space: pre-wrap;\n",
              "}\n",
              "</style>\n",
              "<small>shape: (5, 1)</small><table border=\"1\" class=\"dataframe\"><thead><tr><th>Variable Name</th></tr><tr><td>str</td></tr></thead><tbody><tr><td>&quot; Total (Number)&quot;</td></tr><tr><td>&quot; Total (Number)&quot;</td></tr><tr><td>&quot; Total (Number)&quot;</td></tr><tr><td>&quot; Total (Number)&quot;</td></tr><tr><td>&quot; Total (Number)&quot;</td></tr></tbody></table></div>"
            ],
            "text/plain": [
              "shape: (5, 1)\n",
              "┌─────────────────┐\n",
              "│ Variable Name   │\n",
              "│ ---             │\n",
              "│ str             │\n",
              "╞═════════════════╡\n",
              "│  Total (Number) │\n",
              "│  Total (Number) │\n",
              "│  Total (Number) │\n",
              "│  Total (Number) │\n",
              "│  Total (Number) │\n",
              "└─────────────────┘"
            ]
          },
          "execution_count": 17,
          "metadata": {},
          "output_type": "execute_result"
        }
      ],
      "source": [
        "# Replacing a pattern with blank\n",
        "(\n",
        "    census_raw\n",
        "    .select(pl.col('Variable Name').str.replace('Population,', ''))\n",
        "    .head(5)\n",
        ")"
      ]
    },
    {
      "cell_type": "code",
      "execution_count": 18,
      "id": "847c9190",
      "metadata": {},
      "outputs": [
        {
          "data": {
            "text/html": [
              "<div><style>\n",
              ".dataframe > thead > tr,\n",
              ".dataframe > tbody > tr {\n",
              "  text-align: right;\n",
              "  white-space: pre-wrap;\n",
              "}\n",
              "</style>\n",
              "<small>shape: (5, 5)</small><table border=\"1\" class=\"dataframe\"><thead><tr><th>Region Name</th><th>Variable Name</th><th>Age Name</th><th>2008</th><th>gender</th></tr><tr><td>str</td><td>str</td><td>str</td><td>i64</td><td>str</td></tr></thead><tbody><tr><td>&quot;Upper Nile&quot;</td><td>&quot;Population, Total (Number)&quot;</td><td>&quot;Total&quot;</td><td>964353</td><td>&quot; Total &quot;</td></tr><tr><td>&quot;Upper Nile&quot;</td><td>&quot;Population, Total (Number)&quot;</td><td>&quot;0 to 4&quot;</td><td>150872</td><td>&quot; Total &quot;</td></tr><tr><td>&quot;Upper Nile&quot;</td><td>&quot;Population, Total (Number)&quot;</td><td>&quot;5 to 9&quot;</td><td>151467</td><td>&quot; Total &quot;</td></tr><tr><td>&quot;Upper Nile&quot;</td><td>&quot;Population, Total (Number)&quot;</td><td>&quot;10 to 14&quot;</td><td>126140</td><td>&quot; Total &quot;</td></tr><tr><td>&quot;Upper Nile&quot;</td><td>&quot;Population, Total (Number)&quot;</td><td>&quot;15 to 19&quot;</td><td>103804</td><td>&quot; Total &quot;</td></tr></tbody></table></div>"
            ],
            "text/plain": [
              "shape: (5, 5)\n",
              "┌─────────────┬────────────────────────────┬──────────┬────────┬─────────┐\n",
              "│ Region Name ┆ Variable Name              ┆ Age Name ┆ 2008   ┆ gender  │\n",
              "│ ---         ┆ ---                        ┆ ---      ┆ ---    ┆ ---     │\n",
              "│ str         ┆ str                        ┆ str      ┆ i64    ┆ str     │\n",
              "╞═════════════╪════════════════════════════╪══════════╪════════╪═════════╡\n",
              "│ Upper Nile  ┆ Population, Total (Number) ┆ Total    ┆ 964353 ┆  Total  │\n",
              "│ Upper Nile  ┆ Population, Total (Number) ┆ 0 to 4   ┆ 150872 ┆  Total  │\n",
              "│ Upper Nile  ┆ Population, Total (Number) ┆ 5 to 9   ┆ 151467 ┆  Total  │\n",
              "│ Upper Nile  ┆ Population, Total (Number) ┆ 10 to 14 ┆ 126140 ┆  Total  │\n",
              "│ Upper Nile  ┆ Population, Total (Number) ┆ 15 to 19 ┆ 103804 ┆  Total  │\n",
              "└─────────────┴────────────────────────────┴──────────┴────────┴─────────┘"
            ]
          },
          "execution_count": 18,
          "metadata": {},
          "output_type": "execute_result"
        }
      ],
      "source": [
        "# Replacing a pattern with blank\n",
        "(\n",
        "    census_raw\n",
        "    .select(['Region Name', 'Variable Name', 'Age Name', '2008'])\n",
        "    .with_columns(gender=pl.col('Variable Name').str.replace('Population,', ''))\n",
        "    .with_columns(gender=pl.col('gender').str.replace('\\\\(Number\\\\)', ''))\n",
        "    .head(5)\n",
        ")"
      ]
    },
    {
      "cell_type": "code",
      "execution_count": 19,
      "id": "220f3277",
      "metadata": {},
      "outputs": [
        {
          "data": {
            "text/html": [
              "<div><style>\n",
              ".dataframe > thead > tr,\n",
              ".dataframe > tbody > tr {\n",
              "  text-align: right;\n",
              "  white-space: pre-wrap;\n",
              "}\n",
              "</style>\n",
              "<small>shape: (5, 5)</small><table border=\"1\" class=\"dataframe\"><thead><tr><th>Region Name</th><th>Variable Name</th><th>Age Name</th><th>2008</th><th>gender</th></tr><tr><td>str</td><td>str</td><td>str</td><td>i64</td><td>str</td></tr></thead><tbody><tr><td>&quot;Upper Nile&quot;</td><td>&quot;Population, Total (Number)&quot;</td><td>&quot;Total&quot;</td><td>964353</td><td>&quot;Total&quot;</td></tr><tr><td>&quot;Upper Nile&quot;</td><td>&quot;Population, Total (Number)&quot;</td><td>&quot;0 to 4&quot;</td><td>150872</td><td>&quot;Total&quot;</td></tr><tr><td>&quot;Upper Nile&quot;</td><td>&quot;Population, Total (Number)&quot;</td><td>&quot;5 to 9&quot;</td><td>151467</td><td>&quot;Total&quot;</td></tr><tr><td>&quot;Upper Nile&quot;</td><td>&quot;Population, Total (Number)&quot;</td><td>&quot;10 to 14&quot;</td><td>126140</td><td>&quot;Total&quot;</td></tr><tr><td>&quot;Upper Nile&quot;</td><td>&quot;Population, Total (Number)&quot;</td><td>&quot;15 to 19&quot;</td><td>103804</td><td>&quot;Total&quot;</td></tr></tbody></table></div>"
            ],
            "text/plain": [
              "shape: (5, 5)\n",
              "┌─────────────┬────────────────────────────┬──────────┬────────┬────────┐\n",
              "│ Region Name ┆ Variable Name              ┆ Age Name ┆ 2008   ┆ gender │\n",
              "│ ---         ┆ ---                        ┆ ---      ┆ ---    ┆ ---    │\n",
              "│ str         ┆ str                        ┆ str      ┆ i64    ┆ str    │\n",
              "╞═════════════╪════════════════════════════╪══════════╪════════╪════════╡\n",
              "│ Upper Nile  ┆ Population, Total (Number) ┆ Total    ┆ 964353 ┆ Total  │\n",
              "│ Upper Nile  ┆ Population, Total (Number) ┆ 0 to 4   ┆ 150872 ┆ Total  │\n",
              "│ Upper Nile  ┆ Population, Total (Number) ┆ 5 to 9   ┆ 151467 ┆ Total  │\n",
              "│ Upper Nile  ┆ Population, Total (Number) ┆ 10 to 14 ┆ 126140 ┆ Total  │\n",
              "│ Upper Nile  ┆ Population, Total (Number) ┆ 15 to 19 ┆ 103804 ┆ Total  │\n",
              "└─────────────┴────────────────────────────┴──────────┴────────┴────────┘"
            ]
          },
          "execution_count": 19,
          "metadata": {},
          "output_type": "execute_result"
        }
      ],
      "source": [
        "# Using str.strip to remove white spaces\n",
        "(\n",
        "    census_raw\n",
        "    .select(['Region Name', 'Variable Name', 'Age Name', '2008'])\n",
        "    .with_columns(gender=pl.col('Variable Name').str.replace('Population,', ''))\n",
        "    .with_columns(gender=pl.col('gender').str.replace('\\\\(Number\\\\)', ''))\n",
        "    .with_columns(gender=pl.col('gender').str.strip_chars())\n",
        "    .head(5)\n",
        ")"
      ]
    },
    {
      "cell_type": "code",
      "execution_count": 20,
      "id": "614b3b1d",
      "metadata": {},
      "outputs": [
        {
          "data": {
            "text/html": [
              "<div><style>\n",
              ".dataframe > thead > tr,\n",
              ".dataframe > tbody > tr {\n",
              "  text-align: right;\n",
              "  white-space: pre-wrap;\n",
              "}\n",
              "</style>\n",
              "<small>shape: (5, 5)</small><table border=\"1\" class=\"dataframe\"><thead><tr><th>Region Name</th><th>Variable Name</th><th>Age Name</th><th>2008</th><th>gender</th></tr><tr><td>str</td><td>str</td><td>str</td><td>i64</td><td>str</td></tr></thead><tbody><tr><td>&quot;Upper Nile&quot;</td><td>&quot;Population, Total (Number)&quot;</td><td>&quot;Total&quot;</td><td>964353</td><td>&quot;Total&quot;</td></tr><tr><td>&quot;Upper Nile&quot;</td><td>&quot;Population, Total (Number)&quot;</td><td>&quot;0 to 4&quot;</td><td>150872</td><td>&quot;Total&quot;</td></tr><tr><td>&quot;Upper Nile&quot;</td><td>&quot;Population, Total (Number)&quot;</td><td>&quot;5 to 9&quot;</td><td>151467</td><td>&quot;Total&quot;</td></tr><tr><td>&quot;Upper Nile&quot;</td><td>&quot;Population, Total (Number)&quot;</td><td>&quot;10 to 14&quot;</td><td>126140</td><td>&quot;Total&quot;</td></tr><tr><td>&quot;Upper Nile&quot;</td><td>&quot;Population, Total (Number)&quot;</td><td>&quot;15 to 19&quot;</td><td>103804</td><td>&quot;Total&quot;</td></tr></tbody></table></div>"
            ],
            "text/plain": [
              "shape: (5, 5)\n",
              "┌─────────────┬────────────────────────────┬──────────┬────────┬────────┐\n",
              "│ Region Name ┆ Variable Name              ┆ Age Name ┆ 2008   ┆ gender │\n",
              "│ ---         ┆ ---                        ┆ ---      ┆ ---    ┆ ---    │\n",
              "│ str         ┆ str                        ┆ str      ┆ i64    ┆ str    │\n",
              "╞═════════════╪════════════════════════════╪══════════╪════════╪════════╡\n",
              "│ Upper Nile  ┆ Population, Total (Number) ┆ Total    ┆ 964353 ┆ Total  │\n",
              "│ Upper Nile  ┆ Population, Total (Number) ┆ 0 to 4   ┆ 150872 ┆ Total  │\n",
              "│ Upper Nile  ┆ Population, Total (Number) ┆ 5 to 9   ┆ 151467 ┆ Total  │\n",
              "│ Upper Nile  ┆ Population, Total (Number) ┆ 10 to 14 ┆ 126140 ┆ Total  │\n",
              "│ Upper Nile  ┆ Population, Total (Number) ┆ 15 to 19 ┆ 103804 ┆ Total  │\n",
              "└─────────────┴────────────────────────────┴──────────┴────────┴────────┘"
            ]
          },
          "execution_count": 20,
          "metadata": {},
          "output_type": "execute_result"
        }
      ],
      "source": [
        "# Using str.replace_many()\n",
        "(\n",
        "    census_raw\n",
        "    .select(['Region Name', 'Variable Name', 'Age Name', '2008'])\n",
        "    .with_columns(\n",
        "        gender=pl.col('Variable Name')\n",
        "        .str.replace_many(['Population, ', ' (Number)'], '',)\n",
        "    )\n",
        "    .head()\n",
        ")"
      ]
    },
    {
      "cell_type": "code",
      "execution_count": 21,
      "id": "15571285",
      "metadata": {},
      "outputs": [
        {
          "data": {
            "text/html": [
              "<div><style>\n",
              ".dataframe > thead > tr,\n",
              ".dataframe > tbody > tr {\n",
              "  text-align: right;\n",
              "  white-space: pre-wrap;\n",
              "}\n",
              "</style>\n",
              "<small>shape: (5, 5)</small><table border=\"1\" class=\"dataframe\"><thead><tr><th>Region Name</th><th>Variable Name</th><th>Age Name</th><th>2008</th><th>category</th></tr><tr><td>str</td><td>str</td><td>str</td><td>i64</td><td>str</td></tr></thead><tbody><tr><td>&quot;Upper Nile&quot;</td><td>&quot;Population, Total (Number)&quot;</td><td>&quot;Total&quot;</td><td>964353</td><td>&quot;Total&quot;</td></tr><tr><td>&quot;Upper Nile&quot;</td><td>&quot;Population, Total (Number)&quot;</td><td>&quot;0 to 4&quot;</td><td>150872</td><td>&quot;0-14&quot;</td></tr><tr><td>&quot;Upper Nile&quot;</td><td>&quot;Population, Total (Number)&quot;</td><td>&quot;5 to 9&quot;</td><td>151467</td><td>&quot;0-14&quot;</td></tr><tr><td>&quot;Upper Nile&quot;</td><td>&quot;Population, Total (Number)&quot;</td><td>&quot;10 to 14&quot;</td><td>126140</td><td>&quot;0-14&quot;</td></tr><tr><td>&quot;Upper Nile&quot;</td><td>&quot;Population, Total (Number)&quot;</td><td>&quot;15 to 19&quot;</td><td>103804</td><td>&quot;15-24&quot;</td></tr></tbody></table></div>"
            ],
            "text/plain": [
              "shape: (5, 5)\n",
              "┌─────────────┬────────────────────────────┬──────────┬────────┬──────────┐\n",
              "│ Region Name ┆ Variable Name              ┆ Age Name ┆ 2008   ┆ category │\n",
              "│ ---         ┆ ---                        ┆ ---      ┆ ---    ┆ ---      │\n",
              "│ str         ┆ str                        ┆ str      ┆ i64    ┆ str      │\n",
              "╞═════════════╪════════════════════════════╪══════════╪════════╪══════════╡\n",
              "│ Upper Nile  ┆ Population, Total (Number) ┆ Total    ┆ 964353 ┆ Total    │\n",
              "│ Upper Nile  ┆ Population, Total (Number) ┆ 0 to 4   ┆ 150872 ┆ 0-14     │\n",
              "│ Upper Nile  ┆ Population, Total (Number) ┆ 5 to 9   ┆ 151467 ┆ 0-14     │\n",
              "│ Upper Nile  ┆ Population, Total (Number) ┆ 10 to 14 ┆ 126140 ┆ 0-14     │\n",
              "│ Upper Nile  ┆ Population, Total (Number) ┆ 15 to 19 ┆ 103804 ┆ 15-24    │\n",
              "└─────────────┴────────────────────────────┴──────────┴────────┴──────────┘"
            ]
          },
          "execution_count": 21,
          "metadata": {},
          "output_type": "execute_result"
        }
      ],
      "source": [
        "# Modifying the Age Name column\n",
        "old_cats = ['0 to 4', '5 to 9', '10 to 14', \n",
        "            '15 to 19', '20 to 24', \n",
        "            '25 to 29', '30 to 34', \n",
        "            '35 to 39', '40 to 44',\n",
        "            '45 to 49', '50 to 54'\n",
        "            '55 to 59', '60 to 64',\n",
        "            '65+'\n",
        "            ]\n",
        "new_cats = ['0-14', '0-14', '0-14',\n",
        "            '15-24', '15-24',\n",
        "            '25-34', '25-34',\n",
        "            '35-44', '35-44'\n",
        "            '45-54', '45-54',\n",
        "            '55-64', '55-64',\n",
        "            '65 and above'\n",
        "            ]\n",
        "\n",
        "(\n",
        "    census_raw\n",
        "    .select(['Region Name', 'Variable Name', 'Age Name', '2008'])\n",
        "    .with_columns(category=pl.col('Age Name').str.replace_many(old_cats, new_cats))\n",
        "    .head(5)\n",
        ")"
      ]
    },
    {
      "cell_type": "code",
      "execution_count": 22,
      "id": "627dc087",
      "metadata": {},
      "outputs": [
        {
          "data": {
            "text/html": [
              "<div><style>\n",
              ".dataframe > thead > tr,\n",
              ".dataframe > tbody > tr {\n",
              "  text-align: right;\n",
              "  white-space: pre-wrap;\n",
              "}\n",
              "</style>\n",
              "<small>shape: (5, 5)</small><table border=\"1\" class=\"dataframe\"><thead><tr><th>Region Name</th><th>Variable Name</th><th>Age Name</th><th>2008</th><th>category</th></tr><tr><td>str</td><td>str</td><td>str</td><td>i64</td><td>str</td></tr></thead><tbody><tr><td>&quot;Upper Nile&quot;</td><td>&quot;Population, Total (Number)&quot;</td><td>&quot;Total&quot;</td><td>964353</td><td>&quot;Total&quot;</td></tr><tr><td>&quot;Upper Nile&quot;</td><td>&quot;Population, Total (Number)&quot;</td><td>&quot;0 to 4&quot;</td><td>150872</td><td>&quot;0-14&quot;</td></tr><tr><td>&quot;Upper Nile&quot;</td><td>&quot;Population, Total (Number)&quot;</td><td>&quot;5 to 9&quot;</td><td>151467</td><td>&quot;0-14&quot;</td></tr><tr><td>&quot;Upper Nile&quot;</td><td>&quot;Population, Total (Number)&quot;</td><td>&quot;10 to 14&quot;</td><td>126140</td><td>&quot;0-14&quot;</td></tr><tr><td>&quot;Upper Nile&quot;</td><td>&quot;Population, Total (Number)&quot;</td><td>&quot;15 to 19&quot;</td><td>103804</td><td>&quot;15-24&quot;</td></tr></tbody></table></div>"
            ],
            "text/plain": [
              "shape: (5, 5)\n",
              "┌─────────────┬────────────────────────────┬──────────┬────────┬──────────┐\n",
              "│ Region Name ┆ Variable Name              ┆ Age Name ┆ 2008   ┆ category │\n",
              "│ ---         ┆ ---                        ┆ ---      ┆ ---    ┆ ---      │\n",
              "│ str         ┆ str                        ┆ str      ┆ i64    ┆ str      │\n",
              "╞═════════════╪════════════════════════════╪══════════╪════════╪══════════╡\n",
              "│ Upper Nile  ┆ Population, Total (Number) ┆ Total    ┆ 964353 ┆ Total    │\n",
              "│ Upper Nile  ┆ Population, Total (Number) ┆ 0 to 4   ┆ 150872 ┆ 0-14     │\n",
              "│ Upper Nile  ┆ Population, Total (Number) ┆ 5 to 9   ┆ 151467 ┆ 0-14     │\n",
              "│ Upper Nile  ┆ Population, Total (Number) ┆ 10 to 14 ┆ 126140 ┆ 0-14     │\n",
              "│ Upper Nile  ┆ Population, Total (Number) ┆ 15 to 19 ┆ 103804 ┆ 15-24    │\n",
              "└─────────────┴────────────────────────────┴──────────┴────────┴──────────┘"
            ]
          },
          "execution_count": 22,
          "metadata": {},
          "output_type": "execute_result"
        }
      ],
      "source": [
        "# Using the .replace()\n",
        "old_cats = ['0 to 4', '5 to 9', '10 to 14', \n",
        "            '15 to 19', '20 to 24', \n",
        "            '25 to 29', '30 to 34', \n",
        "            '35 to 39', '40 to 44',\n",
        "            '45 to 49', '50 to 54',\n",
        "            '55 to 59', '60 to 64',\n",
        "            '65+'\n",
        "            ]\n",
        "new_cats = ['0-14', '0-14', '0-14',\n",
        "            '15-24', '15-24',\n",
        "            '25-34', '25-34',\n",
        "            '35-44', '35-44',\n",
        "            '45-54', '45-54',\n",
        "            '55-64', '55-64',\n",
        "            '65 and above'\n",
        "            ]\n",
        "(\n",
        "    census_raw\n",
        "    .select(['Region Name', 'Variable Name', 'Age Name', '2008'])\n",
        "    .with_columns(category=pl.col('Age Name').replace(old_cats, new_cats))\n",
        "    .head(5)\n",
        ")"
      ]
    },
    {
      "cell_type": "code",
      "execution_count": 23,
      "id": "fb6b146c",
      "metadata": {},
      "outputs": [
        {
          "data": {
            "text/html": [
              "<div><style>\n",
              ".dataframe > thead > tr,\n",
              ".dataframe > tbody > tr {\n",
              "  text-align: right;\n",
              "  white-space: pre-wrap;\n",
              "}\n",
              "</style>\n",
              "<small>shape: (5, 5)</small><table border=\"1\" class=\"dataframe\"><thead><tr><th>Region Name</th><th>Variable Name</th><th>Age Name</th><th>2008</th><th>category</th></tr><tr><td>str</td><td>str</td><td>str</td><td>i64</td><td>str</td></tr></thead><tbody><tr><td>&quot;Upper Nile&quot;</td><td>&quot;Population, Total (Number)&quot;</td><td>&quot;Total&quot;</td><td>964353</td><td>&quot;Total&quot;</td></tr><tr><td>&quot;Upper Nile&quot;</td><td>&quot;Population, Total (Number)&quot;</td><td>&quot;0 to 4&quot;</td><td>150872</td><td>&quot;0-14&quot;</td></tr><tr><td>&quot;Upper Nile&quot;</td><td>&quot;Population, Total (Number)&quot;</td><td>&quot;5 to 9&quot;</td><td>151467</td><td>&quot;0-14&quot;</td></tr><tr><td>&quot;Upper Nile&quot;</td><td>&quot;Population, Total (Number)&quot;</td><td>&quot;10 to 14&quot;</td><td>126140</td><td>&quot;0-14&quot;</td></tr><tr><td>&quot;Upper Nile&quot;</td><td>&quot;Population, Total (Number)&quot;</td><td>&quot;15 to 19&quot;</td><td>103804</td><td>&quot;15-24&quot;</td></tr></tbody></table></div>"
            ],
            "text/plain": [
              "shape: (5, 5)\n",
              "┌─────────────┬────────────────────────────┬──────────┬────────┬──────────┐\n",
              "│ Region Name ┆ Variable Name              ┆ Age Name ┆ 2008   ┆ category │\n",
              "│ ---         ┆ ---                        ┆ ---      ┆ ---    ┆ ---      │\n",
              "│ str         ┆ str                        ┆ str      ┆ i64    ┆ str      │\n",
              "╞═════════════╪════════════════════════════╪══════════╪════════╪══════════╡\n",
              "│ Upper Nile  ┆ Population, Total (Number) ┆ Total    ┆ 964353 ┆ Total    │\n",
              "│ Upper Nile  ┆ Population, Total (Number) ┆ 0 to 4   ┆ 150872 ┆ 0-14     │\n",
              "│ Upper Nile  ┆ Population, Total (Number) ┆ 5 to 9   ┆ 151467 ┆ 0-14     │\n",
              "│ Upper Nile  ┆ Population, Total (Number) ┆ 10 to 14 ┆ 126140 ┆ 0-14     │\n",
              "│ Upper Nile  ┆ Population, Total (Number) ┆ 15 to 19 ┆ 103804 ┆ 15-24    │\n",
              "└─────────────┴────────────────────────────┴──────────┴────────┴──────────┘"
            ]
          },
          "execution_count": 23,
          "metadata": {},
          "output_type": "execute_result"
        }
      ],
      "source": [
        "# Using the dictionary\n",
        "age_mapping = {\n",
        "    '0 to 4': '0-14',\n",
        "    '5 to 9': '0-14',\n",
        "    '10 to 14': '0-14',\n",
        "    '15 to 19': '15-24',\n",
        "    '20 to 24': '15-24',\n",
        "    '25 to 29': '25-34',\n",
        "    '30 to 34': '25-34',\n",
        "    '35 to 39': '35-44',\n",
        "    '40 to 44': '35-44',\n",
        "    '45 to 49': '45-54',\n",
        "    '50 to 54': '45-54',\n",
        "    '55 to 59': '55-64',\n",
        "    '60 to 64': '55-64',\n",
        "    '65+': '65 and above',\n",
        "}\n",
        "(\n",
        "    census_raw\n",
        "    .select(['Region Name', 'Variable Name', 'Age Name', '2008'])\n",
        "    .with_columns(category=pl.col(\"Age Name\").replace(age_mapping))\n",
        "    .head(5)\n",
        ")"
      ]
    },
    {
      "cell_type": "markdown",
      "id": "45210d0b",
      "metadata": {},
      "source": [
        "## Filtering: Selecting Rows"
      ]
    },
    {
      "cell_type": "code",
      "execution_count": 24,
      "id": "faea9f51",
      "metadata": {},
      "outputs": [
        {
          "data": {
            "text/html": [
              "<div><style>\n",
              ".dataframe > thead > tr,\n",
              ".dataframe > tbody > tr {\n",
              "  text-align: right;\n",
              "  white-space: pre-wrap;\n",
              "}\n",
              "</style>\n",
              "<small>shape: (5, 4)</small><table border=\"1\" class=\"dataframe\"><thead><tr><th>Region Name</th><th>Variable Name</th><th>Age Name</th><th>2008</th></tr><tr><td>str</td><td>str</td><td>str</td><td>i64</td></tr></thead><tbody><tr><td>&quot;Upper Nile&quot;</td><td>&quot;Population, Total (Number)&quot;</td><td>&quot;Total&quot;</td><td>964353</td></tr><tr><td>&quot;Upper Nile&quot;</td><td>&quot;Population, Male (Number)&quot;</td><td>&quot;Total&quot;</td><td>525430</td></tr><tr><td>&quot;Upper Nile&quot;</td><td>&quot;Population, Female (Number)&quot;</td><td>&quot;Total&quot;</td><td>438923</td></tr><tr><td>&quot;Jonglei&quot;</td><td>&quot;Population, Total (Number)&quot;</td><td>&quot;Total&quot;</td><td>1358602</td></tr><tr><td>&quot;Jonglei&quot;</td><td>&quot;Population, Male (Number)&quot;</td><td>&quot;Total&quot;</td><td>734327</td></tr></tbody></table></div>"
            ],
            "text/plain": [
              "shape: (5, 4)\n",
              "┌─────────────┬─────────────────────────────┬──────────┬─────────┐\n",
              "│ Region Name ┆ Variable Name               ┆ Age Name ┆ 2008    │\n",
              "│ ---         ┆ ---                         ┆ ---      ┆ ---     │\n",
              "│ str         ┆ str                         ┆ str      ┆ i64     │\n",
              "╞═════════════╪═════════════════════════════╪══════════╪═════════╡\n",
              "│ Upper Nile  ┆ Population, Total (Number)  ┆ Total    ┆ 964353  │\n",
              "│ Upper Nile  ┆ Population, Male (Number)   ┆ Total    ┆ 525430  │\n",
              "│ Upper Nile  ┆ Population, Female (Number) ┆ Total    ┆ 438923  │\n",
              "│ Jonglei     ┆ Population, Total (Number)  ┆ Total    ┆ 1358602 │\n",
              "│ Jonglei     ┆ Population, Male (Number)   ┆ Total    ┆ 734327  │\n",
              "└─────────────┴─────────────────────────────┴──────────┴─────────┘"
            ]
          },
          "execution_count": 24,
          "metadata": {},
          "output_type": "execute_result"
        }
      ],
      "source": [
        "# Filtering data: removing unwanted rows\n",
        "(\n",
        "    census_raw\n",
        "    .select(['Region Name', 'Variable Name', 'Age Name', '2008'])\n",
        "    .filter(pl.col('Age Name') == 'Total')\n",
        "    .head(5)\n",
        ")\n"
      ]
    },
    {
      "cell_type": "code",
      "execution_count": 25,
      "id": "8148fac8",
      "metadata": {},
      "outputs": [
        {
          "data": {
            "text/html": [
              "<div><style>\n",
              ".dataframe > thead > tr,\n",
              ".dataframe > tbody > tr {\n",
              "  text-align: right;\n",
              "  white-space: pre-wrap;\n",
              "}\n",
              "</style>\n",
              "<small>shape: (5, 4)</small><table border=\"1\" class=\"dataframe\"><thead><tr><th>Region Name</th><th>Variable Name</th><th>Age Name</th><th>2008</th></tr><tr><td>str</td><td>str</td><td>str</td><td>i64</td></tr></thead><tbody><tr><td>&quot;Central Equatoria&quot;</td><td>&quot;Population, Female (Number)&quot;</td><td>&quot;Total&quot;</td><td>521835</td></tr><tr><td>&quot;Upper Nile&quot;</td><td>&quot;Population, Female (Number)&quot;</td><td>&quot;Total&quot;</td><td>438923</td></tr><tr><td>&quot;Upper Nile&quot;</td><td>&quot;Population, Male (Number)&quot;</td><td>&quot;Total&quot;</td><td>525430</td></tr><tr><td>&quot;Western Bahr el Ghazal&quot;</td><td>&quot;Population, Female (Number)&quot;</td><td>&quot;Total&quot;</td><td>156391</td></tr><tr><td>&quot;Western Equatoria&quot;</td><td>&quot;Population, Female (Number)&quot;</td><td>&quot;Total&quot;</td><td>300586</td></tr></tbody></table></div>"
            ],
            "text/plain": [
              "shape: (5, 4)\n",
              "┌────────────────────────┬─────────────────────────────┬──────────┬────────┐\n",
              "│ Region Name            ┆ Variable Name               ┆ Age Name ┆ 2008   │\n",
              "│ ---                    ┆ ---                         ┆ ---      ┆ ---    │\n",
              "│ str                    ┆ str                         ┆ str      ┆ i64    │\n",
              "╞════════════════════════╪═════════════════════════════╪══════════╪════════╡\n",
              "│ Central Equatoria      ┆ Population, Female (Number) ┆ Total    ┆ 521835 │\n",
              "│ Upper Nile             ┆ Population, Female (Number) ┆ Total    ┆ 438923 │\n",
              "│ Upper Nile             ┆ Population, Male (Number)   ┆ Total    ┆ 525430 │\n",
              "│ Western Bahr el Ghazal ┆ Population, Female (Number) ┆ Total    ┆ 156391 │\n",
              "│ Western Equatoria      ┆ Population, Female (Number) ┆ Total    ┆ 300586 │\n",
              "└────────────────────────┴─────────────────────────────┴──────────┴────────┘"
            ]
          },
          "execution_count": 25,
          "metadata": {},
          "output_type": "execute_result"
        }
      ],
      "source": [
        "# Filtering data: removing unwanted rows\n",
        "(\n",
        "    census_raw\n",
        "    .select([\"Region Name\", \"Variable Name\", \"Age Name\", \"2008\"])\n",
        "    .filter(pl.col('Age Name') == 'Total')\n",
        "    .sample(5)\n",
        ")"
      ]
    },
    {
      "cell_type": "code",
      "execution_count": 26,
      "id": "10e80f35",
      "metadata": {},
      "outputs": [
        {
          "data": {
            "text/html": [
              "<div><style>\n",
              ".dataframe > thead > tr,\n",
              ".dataframe > tbody > tr {\n",
              "  text-align: right;\n",
              "  white-space: pre-wrap;\n",
              "}\n",
              "</style>\n",
              "<small>shape: (5, 4)</small><table border=\"1\" class=\"dataframe\"><thead><tr><th>Region Name</th><th>Variable Name</th><th>Age Name</th><th>2008</th></tr><tr><td>str</td><td>str</td><td>str</td><td>i64</td></tr></thead><tbody><tr><td>&quot;Western Equatoria&quot;</td><td>&quot;Population, Female (Number)&quot;</td><td>&quot;Total&quot;</td><td>300586</td></tr><tr><td>&quot;Lakes&quot;</td><td>&quot;Population, Male (Number)&quot;</td><td>&quot;Total&quot;</td><td>365880</td></tr><tr><td>&quot;Central Equatoria&quot;</td><td>&quot;Population, Total (Number)&quot;</td><td>&quot;Total&quot;</td><td>1103557</td></tr><tr><td>&quot;Western Equatoria&quot;</td><td>&quot;Population, Male (Number)&quot;</td><td>&quot;Total&quot;</td><td>318443</td></tr><tr><td>&quot;Warrap&quot;</td><td>&quot;Population, Female (Number)&quot;</td><td>&quot;Total&quot;</td><td>502194</td></tr></tbody></table></div>"
            ],
            "text/plain": [
              "shape: (5, 4)\n",
              "┌───────────────────┬─────────────────────────────┬──────────┬─────────┐\n",
              "│ Region Name       ┆ Variable Name               ┆ Age Name ┆ 2008    │\n",
              "│ ---               ┆ ---                         ┆ ---      ┆ ---     │\n",
              "│ str               ┆ str                         ┆ str      ┆ i64     │\n",
              "╞═══════════════════╪═════════════════════════════╪══════════╪═════════╡\n",
              "│ Western Equatoria ┆ Population, Female (Number) ┆ Total    ┆ 300586  │\n",
              "│ Lakes             ┆ Population, Male (Number)   ┆ Total    ┆ 365880  │\n",
              "│ Central Equatoria ┆ Population, Total (Number)  ┆ Total    ┆ 1103557 │\n",
              "│ Western Equatoria ┆ Population, Male (Number)   ┆ Total    ┆ 318443  │\n",
              "│ Warrap            ┆ Population, Female (Number) ┆ Total    ┆ 502194  │\n",
              "└───────────────────┴─────────────────────────────┴──────────┴─────────┘"
            ]
          },
          "execution_count": 26,
          "metadata": {},
          "output_type": "execute_result"
        }
      ],
      "source": [
        "# Multiple conditions\n",
        "(\n",
        "    census_raw\n",
        "    .select(['Region Name', 'Variable Name', 'Age Name', '2008'])\n",
        "    .filter((pl.col('Age Name') == 'Total') | (pl.col('Variable Name') == 'Total'))\n",
        "    .sample(n=5, seed=254)\n",
        ")"
      ]
    },
    {
      "cell_type": "code",
      "execution_count": 27,
      "id": "41fa0a3a",
      "metadata": {},
      "outputs": [
        {
          "name": "stdout",
          "output_type": "stream",
          "text": [
            "shape: (280, 4)\n",
            "┌───────────────────┬───────┬────────┬──────────────┐\n",
            "│ Region Name       ┆ 2008  ┆ gender ┆ category     │\n",
            "│ ---               ┆ ---   ┆ ---    ┆ ---          │\n",
            "│ str               ┆ i64   ┆ str    ┆ str          │\n",
            "╞═══════════════════╪═══════╪════════╪══════════════╡\n",
            "│ Upper Nile        ┆ 82690 ┆ Male   ┆ 0-14         │\n",
            "│ Upper Nile        ┆ 83744 ┆ Male   ┆ 0-14         │\n",
            "│ Upper Nile        ┆ 71027 ┆ Male   ┆ 0-14         │\n",
            "│ Upper Nile        ┆ 57387 ┆ Male   ┆ 15-24        │\n",
            "│ Upper Nile        ┆ 42521 ┆ Male   ┆ 15-24        │\n",
            "│ …                 ┆ …     ┆ …      ┆ …            │\n",
            "│ Eastern Equatoria ┆ 13727 ┆ Female ┆ 45-54        │\n",
            "│ Eastern Equatoria ┆ 9482  ┆ Female ┆ 45-54        │\n",
            "│ Eastern Equatoria ┆ 5740  ┆ Female ┆ 55-64        │\n",
            "│ Eastern Equatoria ┆ 5274  ┆ Female ┆ 55-64        │\n",
            "│ Eastern Equatoria ┆ 8637  ┆ Female ┆ 65 and above │\n",
            "└───────────────────┴───────┴────────┴──────────────┘\n"
          ]
        }
      ],
      "source": [
        "# Selecting desired rows\n",
        "old_cats = ['0 to 4', '5 to 9', '10 to 14', \n",
        "            '15 to 19', '20 to 24', \n",
        "            '25 to 29', '30 to 34', \n",
        "            '35 to 39', '40 to 44',\n",
        "            '45 to 49', '50 to 54',\n",
        "            '55 to 59', '60 to 64',\n",
        "            '65+'\n",
        "            ]\n",
        "new_cats = ['0-14', '0-14', '0-14',\n",
        "            '15-24', '15-24',\n",
        "            '25-34', '25-34',\n",
        "            '35-44', '35-44',\n",
        "            '45-54', '45-54',\n",
        "            '55-64', '55-64',\n",
        "            '65 and above'\n",
        "            ]\n",
        "print(\n",
        "    census_raw\n",
        "    .select(cs.ends_with('Name'), '2008')\n",
        "    .with_columns(\n",
        "        gender=pl.col('Variable Name').str.replace_many(['Population, ', ' (Number)'], '',),\n",
        "        category=pl.col('Age Name').replace(old_cats, new_cats)\n",
        "    )\n",
        "    .select(pl.col('*').exclude(['Variable Name', 'Age Name']))\n",
        "    .filter(~((pl.col('gender') == 'Total') | (pl.col('category') == 'Total')))\n",
        ")"
      ]
    },
    {
      "cell_type": "code",
      "execution_count": 28,
      "id": "90a2cccc",
      "metadata": {},
      "outputs": [
        {
          "data": {
            "text/html": [
              "<div><style>\n",
              ".dataframe > thead > tr,\n",
              ".dataframe > tbody > tr {\n",
              "  text-align: right;\n",
              "  white-space: pre-wrap;\n",
              "}\n",
              "</style>\n",
              "<small>shape: (280, 4)</small><table border=\"1\" class=\"dataframe\"><thead><tr><th>Region Name</th><th>2008</th><th>gender</th><th>category</th></tr><tr><td>str</td><td>i64</td><td>str</td><td>str</td></tr></thead><tbody><tr><td>&quot;Upper Nile&quot;</td><td>82690</td><td>&quot;Male&quot;</td><td>&quot;0-14&quot;</td></tr><tr><td>&quot;Upper Nile&quot;</td><td>83744</td><td>&quot;Male&quot;</td><td>&quot;0-14&quot;</td></tr><tr><td>&quot;Upper Nile&quot;</td><td>71027</td><td>&quot;Male&quot;</td><td>&quot;0-14&quot;</td></tr><tr><td>&quot;Upper Nile&quot;</td><td>57387</td><td>&quot;Male&quot;</td><td>&quot;15-24&quot;</td></tr><tr><td>&quot;Upper Nile&quot;</td><td>42521</td><td>&quot;Male&quot;</td><td>&quot;15-24&quot;</td></tr><tr><td>&hellip;</td><td>&hellip;</td><td>&hellip;</td><td>&hellip;</td></tr><tr><td>&quot;Eastern Equatoria&quot;</td><td>13727</td><td>&quot;Female&quot;</td><td>&quot;45-54&quot;</td></tr><tr><td>&quot;Eastern Equatoria&quot;</td><td>9482</td><td>&quot;Female&quot;</td><td>&quot;45-54&quot;</td></tr><tr><td>&quot;Eastern Equatoria&quot;</td><td>5740</td><td>&quot;Female&quot;</td><td>&quot;55-64&quot;</td></tr><tr><td>&quot;Eastern Equatoria&quot;</td><td>5274</td><td>&quot;Female&quot;</td><td>&quot;55-64&quot;</td></tr><tr><td>&quot;Eastern Equatoria&quot;</td><td>8637</td><td>&quot;Female&quot;</td><td>&quot;65 and above&quot;</td></tr></tbody></table></div>"
            ],
            "text/plain": [
              "shape: (280, 4)\n",
              "┌───────────────────┬───────┬────────┬──────────────┐\n",
              "│ Region Name       ┆ 2008  ┆ gender ┆ category     │\n",
              "│ ---               ┆ ---   ┆ ---    ┆ ---          │\n",
              "│ str               ┆ i64   ┆ str    ┆ str          │\n",
              "╞═══════════════════╪═══════╪════════╪══════════════╡\n",
              "│ Upper Nile        ┆ 82690 ┆ Male   ┆ 0-14         │\n",
              "│ Upper Nile        ┆ 83744 ┆ Male   ┆ 0-14         │\n",
              "│ Upper Nile        ┆ 71027 ┆ Male   ┆ 0-14         │\n",
              "│ Upper Nile        ┆ 57387 ┆ Male   ┆ 15-24        │\n",
              "│ Upper Nile        ┆ 42521 ┆ Male   ┆ 15-24        │\n",
              "│ …                 ┆ …     ┆ …      ┆ …            │\n",
              "│ Eastern Equatoria ┆ 13727 ┆ Female ┆ 45-54        │\n",
              "│ Eastern Equatoria ┆ 9482  ┆ Female ┆ 45-54        │\n",
              "│ Eastern Equatoria ┆ 5740  ┆ Female ┆ 55-64        │\n",
              "│ Eastern Equatoria ┆ 5274  ┆ Female ┆ 55-64        │\n",
              "│ Eastern Equatoria ┆ 8637  ┆ Female ┆ 65 and above │\n",
              "└───────────────────┴───────┴────────┴──────────────┘"
            ]
          },
          "execution_count": 28,
          "metadata": {},
          "output_type": "execute_result"
        }
      ],
      "source": [
        "# We could have accomplished the above this way\n",
        "(\n",
        "    census_raw\n",
        "    .select(cs.ends_with('Name'), '2008')\n",
        "    .with_columns(\n",
        "        gender=pl.col('Variable Name').str.replace_many(['Population, ', ' (Number)'], '',),\n",
        "        category=pl.col('Age Name').replace(old_cats, new_cats)\n",
        "    )\n",
        "    .select(pl.col('*').exclude(['Variable Name', 'Age Name']))\n",
        "    .filter(((pl.col('gender') != 'Total') & (pl.col('category') != 'Total')))\n",
        "    # .sample(n=5, seed=254)\n",
        ")"
      ]
    },
    {
      "cell_type": "code",
      "execution_count": 29,
      "id": "2087f8ca",
      "metadata": {},
      "outputs": [
        {
          "data": {
            "text/html": [
              "<div><style>\n",
              ".dataframe > thead > tr,\n",
              ".dataframe > tbody > tr {\n",
              "  text-align: right;\n",
              "  white-space: pre-wrap;\n",
              "}\n",
              "</style>\n",
              "<small>shape: (3, 4)</small><table border=\"1\" class=\"dataframe\"><thead><tr><th>Region Name</th><th>Variable Name</th><th>Age Name</th><th>2008</th></tr><tr><td>str</td><td>str</td><td>str</td><td>i64</td></tr></thead><tbody><tr><td>null</td><td>null</td><td>null</td><td>null</td></tr><tr><td>&quot;National Bureau of Statistics,…</td><td>null</td><td>null</td><td>null</td></tr><tr><td>&quot;http://southsudan.opendatafora…</td><td>null</td><td>null</td><td>null</td></tr></tbody></table></div>"
            ],
            "text/plain": [
              "shape: (3, 4)\n",
              "┌─────────────────────────────────┬───────────────┬──────────┬──────┐\n",
              "│ Region Name                     ┆ Variable Name ┆ Age Name ┆ 2008 │\n",
              "│ ---                             ┆ ---           ┆ ---      ┆ ---  │\n",
              "│ str                             ┆ str           ┆ str      ┆ i64  │\n",
              "╞═════════════════════════════════╪═══════════════╪══════════╪══════╡\n",
              "│ null                            ┆ null          ┆ null     ┆ null │\n",
              "│ National Bureau of Statistics,… ┆ null          ┆ null     ┆ null │\n",
              "│ http://southsudan.opendatafora… ┆ null          ┆ null     ┆ null │\n",
              "└─────────────────────────────────┴───────────────┴──────────┴──────┘"
            ]
          },
          "execution_count": 29,
          "metadata": {},
          "output_type": "execute_result"
        }
      ],
      "source": [
        "# Extracting rows with missing values\n",
        "(\n",
        "    census_raw\n",
        "    .select(['Region Name', 'Variable Name', 'Age Name', '2008'])\n",
        "    .filter(pl.col('Age Name').is_null())\n",
        ")"
      ]
    },
    {
      "cell_type": "code",
      "execution_count": 30,
      "id": "0c21634a",
      "metadata": {},
      "outputs": [
        {
          "data": {
            "text/html": [
              "<div><style>\n",
              ".dataframe > thead > tr,\n",
              ".dataframe > tbody > tr {\n",
              "  text-align: right;\n",
              "  white-space: pre-wrap;\n",
              "}\n",
              "</style>\n",
              "<small>shape: (450, 4)</small><table border=\"1\" class=\"dataframe\"><thead><tr><th>Region Name</th><th>Variable Name</th><th>Age Name</th><th>2008</th></tr><tr><td>str</td><td>str</td><td>str</td><td>i64</td></tr></thead><tbody><tr><td>&quot;Upper Nile&quot;</td><td>&quot;Population, Total (Number)&quot;</td><td>&quot;Total&quot;</td><td>964353</td></tr><tr><td>&quot;Upper Nile&quot;</td><td>&quot;Population, Total (Number)&quot;</td><td>&quot;0 to 4&quot;</td><td>150872</td></tr><tr><td>&quot;Upper Nile&quot;</td><td>&quot;Population, Total (Number)&quot;</td><td>&quot;5 to 9&quot;</td><td>151467</td></tr><tr><td>&quot;Upper Nile&quot;</td><td>&quot;Population, Total (Number)&quot;</td><td>&quot;10 to 14&quot;</td><td>126140</td></tr><tr><td>&quot;Upper Nile&quot;</td><td>&quot;Population, Total (Number)&quot;</td><td>&quot;15 to 19&quot;</td><td>103804</td></tr><tr><td>&hellip;</td><td>&hellip;</td><td>&hellip;</td><td>&hellip;</td></tr><tr><td>&quot;Eastern Equatoria&quot;</td><td>&quot;Population, Female (Number)&quot;</td><td>&quot;45 to 49&quot;</td><td>13727</td></tr><tr><td>&quot;Eastern Equatoria&quot;</td><td>&quot;Population, Female (Number)&quot;</td><td>&quot;50 to 54&quot;</td><td>9482</td></tr><tr><td>&quot;Eastern Equatoria&quot;</td><td>&quot;Population, Female (Number)&quot;</td><td>&quot;55 to 59&quot;</td><td>5740</td></tr><tr><td>&quot;Eastern Equatoria&quot;</td><td>&quot;Population, Female (Number)&quot;</td><td>&quot;60 to 64&quot;</td><td>5274</td></tr><tr><td>&quot;Eastern Equatoria&quot;</td><td>&quot;Population, Female (Number)&quot;</td><td>&quot;65+&quot;</td><td>8637</td></tr></tbody></table></div>"
            ],
            "text/plain": [
              "shape: (450, 4)\n",
              "┌───────────────────┬─────────────────────────────┬──────────┬────────┐\n",
              "│ Region Name       ┆ Variable Name               ┆ Age Name ┆ 2008   │\n",
              "│ ---               ┆ ---                         ┆ ---      ┆ ---    │\n",
              "│ str               ┆ str                         ┆ str      ┆ i64    │\n",
              "╞═══════════════════╪═════════════════════════════╪══════════╪════════╡\n",
              "│ Upper Nile        ┆ Population, Total (Number)  ┆ Total    ┆ 964353 │\n",
              "│ Upper Nile        ┆ Population, Total (Number)  ┆ 0 to 4   ┆ 150872 │\n",
              "│ Upper Nile        ┆ Population, Total (Number)  ┆ 5 to 9   ┆ 151467 │\n",
              "│ Upper Nile        ┆ Population, Total (Number)  ┆ 10 to 14 ┆ 126140 │\n",
              "│ Upper Nile        ┆ Population, Total (Number)  ┆ 15 to 19 ┆ 103804 │\n",
              "│ …                 ┆ …                           ┆ …        ┆ …      │\n",
              "│ Eastern Equatoria ┆ Population, Female (Number) ┆ 45 to 49 ┆ 13727  │\n",
              "│ Eastern Equatoria ┆ Population, Female (Number) ┆ 50 to 54 ┆ 9482   │\n",
              "│ Eastern Equatoria ┆ Population, Female (Number) ┆ 55 to 59 ┆ 5740   │\n",
              "│ Eastern Equatoria ┆ Population, Female (Number) ┆ 60 to 64 ┆ 5274   │\n",
              "│ Eastern Equatoria ┆ Population, Female (Number) ┆ 65+      ┆ 8637   │\n",
              "└───────────────────┴─────────────────────────────┴──────────┴────────┘"
            ]
          },
          "execution_count": 30,
          "metadata": {},
          "output_type": "execute_result"
        }
      ],
      "source": [
        "# Removing rows with missing values - by negating the condition\n",
        "(\n",
        "    census_raw\n",
        "    .select(['Region Name', 'Variable Name', 'Age Name', '2008'])\n",
        "    .filter(~pl.col('Age Name').is_null())\n",
        ")"
      ]
    },
    {
      "cell_type": "code",
      "execution_count": 31,
      "id": "0eef7e20",
      "metadata": {},
      "outputs": [
        {
          "data": {
            "text/html": [
              "<div><style>\n",
              ".dataframe > thead > tr,\n",
              ".dataframe > tbody > tr {\n",
              "  text-align: right;\n",
              "  white-space: pre-wrap;\n",
              "}\n",
              "</style>\n",
              "<small>shape: (450, 4)</small><table border=\"1\" class=\"dataframe\"><thead><tr><th>Region Name</th><th>Variable Name</th><th>Age Name</th><th>2008</th></tr><tr><td>str</td><td>str</td><td>str</td><td>i64</td></tr></thead><tbody><tr><td>&quot;Upper Nile&quot;</td><td>&quot;Population, Total (Number)&quot;</td><td>&quot;Total&quot;</td><td>964353</td></tr><tr><td>&quot;Upper Nile&quot;</td><td>&quot;Population, Total (Number)&quot;</td><td>&quot;0 to 4&quot;</td><td>150872</td></tr><tr><td>&quot;Upper Nile&quot;</td><td>&quot;Population, Total (Number)&quot;</td><td>&quot;5 to 9&quot;</td><td>151467</td></tr><tr><td>&quot;Upper Nile&quot;</td><td>&quot;Population, Total (Number)&quot;</td><td>&quot;10 to 14&quot;</td><td>126140</td></tr><tr><td>&quot;Upper Nile&quot;</td><td>&quot;Population, Total (Number)&quot;</td><td>&quot;15 to 19&quot;</td><td>103804</td></tr><tr><td>&hellip;</td><td>&hellip;</td><td>&hellip;</td><td>&hellip;</td></tr><tr><td>&quot;Eastern Equatoria&quot;</td><td>&quot;Population, Female (Number)&quot;</td><td>&quot;45 to 49&quot;</td><td>13727</td></tr><tr><td>&quot;Eastern Equatoria&quot;</td><td>&quot;Population, Female (Number)&quot;</td><td>&quot;50 to 54&quot;</td><td>9482</td></tr><tr><td>&quot;Eastern Equatoria&quot;</td><td>&quot;Population, Female (Number)&quot;</td><td>&quot;55 to 59&quot;</td><td>5740</td></tr><tr><td>&quot;Eastern Equatoria&quot;</td><td>&quot;Population, Female (Number)&quot;</td><td>&quot;60 to 64&quot;</td><td>5274</td></tr><tr><td>&quot;Eastern Equatoria&quot;</td><td>&quot;Population, Female (Number)&quot;</td><td>&quot;65+&quot;</td><td>8637</td></tr></tbody></table></div>"
            ],
            "text/plain": [
              "shape: (450, 4)\n",
              "┌───────────────────┬─────────────────────────────┬──────────┬────────┐\n",
              "│ Region Name       ┆ Variable Name               ┆ Age Name ┆ 2008   │\n",
              "│ ---               ┆ ---                         ┆ ---      ┆ ---    │\n",
              "│ str               ┆ str                         ┆ str      ┆ i64    │\n",
              "╞═══════════════════╪═════════════════════════════╪══════════╪════════╡\n",
              "│ Upper Nile        ┆ Population, Total (Number)  ┆ Total    ┆ 964353 │\n",
              "│ Upper Nile        ┆ Population, Total (Number)  ┆ 0 to 4   ┆ 150872 │\n",
              "│ Upper Nile        ┆ Population, Total (Number)  ┆ 5 to 9   ┆ 151467 │\n",
              "│ Upper Nile        ┆ Population, Total (Number)  ┆ 10 to 14 ┆ 126140 │\n",
              "│ Upper Nile        ┆ Population, Total (Number)  ┆ 15 to 19 ┆ 103804 │\n",
              "│ …                 ┆ …                           ┆ …        ┆ …      │\n",
              "│ Eastern Equatoria ┆ Population, Female (Number) ┆ 45 to 49 ┆ 13727  │\n",
              "│ Eastern Equatoria ┆ Population, Female (Number) ┆ 50 to 54 ┆ 9482   │\n",
              "│ Eastern Equatoria ┆ Population, Female (Number) ┆ 55 to 59 ┆ 5740   │\n",
              "│ Eastern Equatoria ┆ Population, Female (Number) ┆ 60 to 64 ┆ 5274   │\n",
              "│ Eastern Equatoria ┆ Population, Female (Number) ┆ 65+      ┆ 8637   │\n",
              "└───────────────────┴─────────────────────────────┴──────────┴────────┘"
            ]
          },
          "execution_count": 31,
          "metadata": {},
          "output_type": "execute_result"
        }
      ],
      "source": [
        "# Removing rows with missing values - using .is_not_null() method\n",
        "(\n",
        "    census_raw\n",
        "    .select(['Region Name', 'Variable Name', 'Age Name', '2008'])\n",
        "    .filter(pl.col('Age Name').is_not_null())\n",
        ")"
      ]
    },
    {
      "cell_type": "code",
      "execution_count": 32,
      "id": "c09bb3c9",
      "metadata": {},
      "outputs": [
        {
          "data": {
            "text/html": [
              "<div><style>\n",
              ".dataframe > thead > tr,\n",
              ".dataframe > tbody > tr {\n",
              "  text-align: right;\n",
              "  white-space: pre-wrap;\n",
              "}\n",
              "</style>\n",
              "<small>shape: (450, 4)</small><table border=\"1\" class=\"dataframe\"><thead><tr><th>Region Name</th><th>Variable Name</th><th>Age Name</th><th>2008</th></tr><tr><td>str</td><td>str</td><td>str</td><td>i64</td></tr></thead><tbody><tr><td>&quot;Upper Nile&quot;</td><td>&quot;Population, Total (Number)&quot;</td><td>&quot;Total&quot;</td><td>964353</td></tr><tr><td>&quot;Upper Nile&quot;</td><td>&quot;Population, Total (Number)&quot;</td><td>&quot;0 to 4&quot;</td><td>150872</td></tr><tr><td>&quot;Upper Nile&quot;</td><td>&quot;Population, Total (Number)&quot;</td><td>&quot;5 to 9&quot;</td><td>151467</td></tr><tr><td>&quot;Upper Nile&quot;</td><td>&quot;Population, Total (Number)&quot;</td><td>&quot;10 to 14&quot;</td><td>126140</td></tr><tr><td>&quot;Upper Nile&quot;</td><td>&quot;Population, Total (Number)&quot;</td><td>&quot;15 to 19&quot;</td><td>103804</td></tr><tr><td>&hellip;</td><td>&hellip;</td><td>&hellip;</td><td>&hellip;</td></tr><tr><td>&quot;Eastern Equatoria&quot;</td><td>&quot;Population, Female (Number)&quot;</td><td>&quot;45 to 49&quot;</td><td>13727</td></tr><tr><td>&quot;Eastern Equatoria&quot;</td><td>&quot;Population, Female (Number)&quot;</td><td>&quot;50 to 54&quot;</td><td>9482</td></tr><tr><td>&quot;Eastern Equatoria&quot;</td><td>&quot;Population, Female (Number)&quot;</td><td>&quot;55 to 59&quot;</td><td>5740</td></tr><tr><td>&quot;Eastern Equatoria&quot;</td><td>&quot;Population, Female (Number)&quot;</td><td>&quot;60 to 64&quot;</td><td>5274</td></tr><tr><td>&quot;Eastern Equatoria&quot;</td><td>&quot;Population, Female (Number)&quot;</td><td>&quot;65+&quot;</td><td>8637</td></tr></tbody></table></div>"
            ],
            "text/plain": [
              "shape: (450, 4)\n",
              "┌───────────────────┬─────────────────────────────┬──────────┬────────┐\n",
              "│ Region Name       ┆ Variable Name               ┆ Age Name ┆ 2008   │\n",
              "│ ---               ┆ ---                         ┆ ---      ┆ ---    │\n",
              "│ str               ┆ str                         ┆ str      ┆ i64    │\n",
              "╞═══════════════════╪═════════════════════════════╪══════════╪════════╡\n",
              "│ Upper Nile        ┆ Population, Total (Number)  ┆ Total    ┆ 964353 │\n",
              "│ Upper Nile        ┆ Population, Total (Number)  ┆ 0 to 4   ┆ 150872 │\n",
              "│ Upper Nile        ┆ Population, Total (Number)  ┆ 5 to 9   ┆ 151467 │\n",
              "│ Upper Nile        ┆ Population, Total (Number)  ┆ 10 to 14 ┆ 126140 │\n",
              "│ Upper Nile        ┆ Population, Total (Number)  ┆ 15 to 19 ┆ 103804 │\n",
              "│ …                 ┆ …                           ┆ …        ┆ …      │\n",
              "│ Eastern Equatoria ┆ Population, Female (Number) ┆ 45 to 49 ┆ 13727  │\n",
              "│ Eastern Equatoria ┆ Population, Female (Number) ┆ 50 to 54 ┆ 9482   │\n",
              "│ Eastern Equatoria ┆ Population, Female (Number) ┆ 55 to 59 ┆ 5740   │\n",
              "│ Eastern Equatoria ┆ Population, Female (Number) ┆ 60 to 64 ┆ 5274   │\n",
              "│ Eastern Equatoria ┆ Population, Female (Number) ┆ 65+      ┆ 8637   │\n",
              "└───────────────────┴─────────────────────────────┴──────────┴────────┘"
            ]
          },
          "execution_count": 32,
          "metadata": {},
          "output_type": "execute_result"
        }
      ],
      "source": [
        "# Removing rows with missing values - using .drop_null() method\n",
        "(\n",
        "    census_raw\n",
        "    .select(['Region Name', 'Variable Name', 'Age Name', '2008'])\n",
        "    .drop_nulls()\n",
        ")"
      ]
    },
    {
      "cell_type": "markdown",
      "id": "681462c5",
      "metadata": {},
      "source": [
        "## Using the .when() Method\n",
        "We can also use the .when() method to relabel or replace row values. This code snippet illustrates how to add new column 'former_region' with the .when() function."
      ]
    },
    {
      "cell_type": "code",
      "execution_count": 33,
      "id": "b37e7492",
      "metadata": {},
      "outputs": [
        {
          "name": "stdout",
          "output_type": "stream",
          "text": [
            "shape: (450, 5)\n",
            "┌───────────────────┬─────────────────────────────┬──────────┬────────┬────────────────────┐\n",
            "│ Region Name       ┆ Variable Name               ┆ Age Name ┆ 2008   ┆ former_region      │\n",
            "│ ---               ┆ ---                         ┆ ---      ┆ ---    ┆ ---                │\n",
            "│ str               ┆ str                         ┆ str      ┆ i64    ┆ str                │\n",
            "╞═══════════════════╪═════════════════════════════╪══════════╪════════╪════════════════════╡\n",
            "│ Upper Nile        ┆ Population, Total (Number)  ┆ Total    ┆ 964353 ┆ Greater Upper Nile │\n",
            "│ Upper Nile        ┆ Population, Total (Number)  ┆ 0 to 4   ┆ 150872 ┆ Greater Upper Nile │\n",
            "│ Upper Nile        ┆ Population, Total (Number)  ┆ 5 to 9   ┆ 151467 ┆ Greater Upper Nile │\n",
            "│ Upper Nile        ┆ Population, Total (Number)  ┆ 10 to 14 ┆ 126140 ┆ Greater Upper Nile │\n",
            "│ Upper Nile        ┆ Population, Total (Number)  ┆ 15 to 19 ┆ 103804 ┆ Greater Upper Nile │\n",
            "│ …                 ┆ …                           ┆ …        ┆ …      ┆ …                  │\n",
            "│ Eastern Equatoria ┆ Population, Female (Number) ┆ 45 to 49 ┆ 13727  ┆ Greater Equatoria  │\n",
            "│ Eastern Equatoria ┆ Population, Female (Number) ┆ 50 to 54 ┆ 9482   ┆ Greater Equatoria  │\n",
            "│ Eastern Equatoria ┆ Population, Female (Number) ┆ 55 to 59 ┆ 5740   ┆ Greater Equatoria  │\n",
            "│ Eastern Equatoria ┆ Population, Female (Number) ┆ 60 to 64 ┆ 5274   ┆ Greater Equatoria  │\n",
            "│ Eastern Equatoria ┆ Population, Female (Number) ┆ 65+      ┆ 8637   ┆ Greater Equatoria  │\n",
            "└───────────────────┴─────────────────────────────┴──────────┴────────┴────────────────────┘\n"
          ]
        }
      ],
      "source": [
        "# Relabeling string values with .when() method\n",
        "print(\n",
        "    census_raw\n",
        "    .select(['Region Name', 'Variable Name', 'Age Name', '2008'])\n",
        "    .drop_nulls()\n",
        "    .with_columns(former_region=pl.when(pl.col('Region Name').is_in(['Upper Nile', 'Unity', 'Jonglei']))\n",
        "                                .then(pl.lit('Greater Upper Nile'))\n",
        "                                .when(pl.col('Region Name').str.ends_with('Equatoria'))\n",
        "                                .then(pl.lit('Greater Equatoria'))\n",
        "                                .when(pl.col('Region Name').str.contains('Ghazal'))\n",
        "                                .then(pl.lit('Greater Bahr el Ghazal'))\n",
        "                                .otherwise(pl.lit('Greater Bahr el Ghazal'))\n",
        "    )\n",
        ")"
      ]
    },
    {
      "cell_type": "markdown",
      "id": "1ce198e4",
      "metadata": {},
      "source": [
        "## Renaming Columns"
      ]
    },
    {
      "cell_type": "code",
      "execution_count": 34,
      "id": "1d233694",
      "metadata": {},
      "outputs": [
        {
          "name": "stdout",
          "output_type": "stream",
          "text": [
            "shape: (450, 5)\n",
            "┌───────────────────┬─────────────────────────────┬──────────────┬────────────┬────────────────────┐\n",
            "│ state             ┆ gender                      ┆ age_category ┆ population ┆ former_region      │\n",
            "│ ---               ┆ ---                         ┆ ---          ┆ ---        ┆ ---                │\n",
            "│ str               ┆ str                         ┆ str          ┆ i64        ┆ str                │\n",
            "╞═══════════════════╪═════════════════════════════╪══════════════╪════════════╪════════════════════╡\n",
            "│ Upper Nile        ┆ Population, Total (Number)  ┆ Total        ┆ 964353     ┆ Greater Upper Nile │\n",
            "│ Upper Nile        ┆ Population, Total (Number)  ┆ 0 to 4       ┆ 150872     ┆ Greater Upper Nile │\n",
            "│ Upper Nile        ┆ Population, Total (Number)  ┆ 5 to 9       ┆ 151467     ┆ Greater Upper Nile │\n",
            "│ Upper Nile        ┆ Population, Total (Number)  ┆ 10 to 14     ┆ 126140     ┆ Greater Upper Nile │\n",
            "│ Upper Nile        ┆ Population, Total (Number)  ┆ 15 to 19     ┆ 103804     ┆ Greater Upper Nile │\n",
            "│ …                 ┆ …                           ┆ …            ┆ …          ┆ …                  │\n",
            "│ Eastern Equatoria ┆ Population, Female (Number) ┆ 45 to 49     ┆ 13727      ┆ Greater Equatoria  │\n",
            "│ Eastern Equatoria ┆ Population, Female (Number) ┆ 50 to 54     ┆ 9482       ┆ Greater Equatoria  │\n",
            "│ Eastern Equatoria ┆ Population, Female (Number) ┆ 55 to 59     ┆ 5740       ┆ Greater Equatoria  │\n",
            "│ Eastern Equatoria ┆ Population, Female (Number) ┆ 60 to 64     ┆ 5274       ┆ Greater Equatoria  │\n",
            "│ Eastern Equatoria ┆ Population, Female (Number) ┆ 65+          ┆ 8637       ┆ Greater Equatoria  │\n",
            "└───────────────────┴─────────────────────────────┴──────────────┴────────────┴────────────────────┘\n"
          ]
        }
      ],
      "source": [
        "# Renaming columns\n",
        "print(\n",
        "    census_raw\n",
        "    .select(['Region Name', 'Variable Name', 'Age Name', '2008'])\n",
        "    .drop_nulls()\n",
        "    .with_columns(former_region=pl.when(pl.col('Region Name').is_in(['Upper Nile', 'Unity', 'Jonglei']))\n",
        "                                .then(pl.lit('Greater Upper Nile'))\n",
        "                                .when(pl.col('Region Name').str.ends_with('Equatoria'))\n",
        "                                .then(pl.lit('Greater Equatoria'))\n",
        "                                .when(pl.col('Region Name').str.contains('Ghazal'))\n",
        "                                .then(pl.lit('Greater Bahr el Ghazal'))\n",
        "                                .otherwise(pl.lit('Greater Bahr el Ghazal'))\n",
        "    )\n",
        "    .rename({'Region Name': 'state',\n",
        "            'Variable Name': 'gender',\n",
        "            'Age Name': 'age_category',\n",
        "            '2008': 'population',\n",
        "    })\n",
        ")"
      ]
    },
    {
      "cell_type": "code",
      "execution_count": 35,
      "id": "01595438",
      "metadata": {},
      "outputs": [
        {
          "name": "stdout",
          "output_type": "stream",
          "text": [
            "shape: (450, 4)\n",
            "┌───────────────────┬─────────────────────────────┬──────────┬────────┐\n",
            "│ region_name       ┆ variable_name               ┆ age_name ┆ 2008   │\n",
            "│ ---               ┆ ---                         ┆ ---      ┆ ---    │\n",
            "│ str               ┆ str                         ┆ str      ┆ i64    │\n",
            "╞═══════════════════╪═════════════════════════════╪══════════╪════════╡\n",
            "│ Upper Nile        ┆ Population, Total (Number)  ┆ Total    ┆ 964353 │\n",
            "│ Upper Nile        ┆ Population, Total (Number)  ┆ 0 to 4   ┆ 150872 │\n",
            "│ Upper Nile        ┆ Population, Total (Number)  ┆ 5 to 9   ┆ 151467 │\n",
            "│ Upper Nile        ┆ Population, Total (Number)  ┆ 10 to 14 ┆ 126140 │\n",
            "│ Upper Nile        ┆ Population, Total (Number)  ┆ 15 to 19 ┆ 103804 │\n",
            "│ …                 ┆ …                           ┆ …        ┆ …      │\n",
            "│ Eastern Equatoria ┆ Population, Female (Number) ┆ 45 to 49 ┆ 13727  │\n",
            "│ Eastern Equatoria ┆ Population, Female (Number) ┆ 50 to 54 ┆ 9482   │\n",
            "│ Eastern Equatoria ┆ Population, Female (Number) ┆ 55 to 59 ┆ 5740   │\n",
            "│ Eastern Equatoria ┆ Population, Female (Number) ┆ 60 to 64 ┆ 5274   │\n",
            "│ Eastern Equatoria ┆ Population, Female (Number) ┆ 65+      ┆ 8637   │\n",
            "└───────────────────┴─────────────────────────────┴──────────┴────────┘\n"
          ]
        }
      ],
      "source": [
        "# Transforming column names\n",
        "print(\n",
        "    census_raw\n",
        "    .select(['Region Name', 'Variable Name', 'Age Name', '2008'])\n",
        "    .drop_nulls()\n",
        "    .rename(lambda c: c.lower().replace(' ', '_'))\n",
        ")"
      ]
    },
    {
      "cell_type": "markdown",
      "id": "962c9753",
      "metadata": {},
      "source": [
        "# Putting It Together\n",
        "In the upcoming code snippets, I will consolidate all the steps and elaborate on the methods I have not yet covered."
      ]
    },
    {
      "cell_type": "code",
      "execution_count": 36,
      "id": "54ae5b5e",
      "metadata": {},
      "outputs": [
        {
          "name": "stdout",
          "output_type": "stream",
          "text": [
            "shape: (140, 5)\n",
            "┌────────────────────────┬────────────────────────┬────────┬──────────────┬────────┐\n",
            "│ former_region          ┆ state                  ┆ gender ┆ category     ┆ total  │\n",
            "│ ---                    ┆ ---                    ┆ ---    ┆ ---          ┆ ---    │\n",
            "│ str                    ┆ str                    ┆ str    ┆ str          ┆ i64    │\n",
            "╞════════════════════════╪════════════════════════╪════════╪══════════════╪════════╡\n",
            "│ Greater Upper Nile     ┆ Jonglei                ┆ Male   ┆ 0-14         ┆ 338443 │\n",
            "│ Greater Upper Nile     ┆ Jonglei                ┆ Female ┆ 0-14         ┆ 263646 │\n",
            "│ Greater Equatoria      ┆ Central Equatoria      ┆ Male   ┆ 0-14         ┆ 242247 │\n",
            "│ Greater Upper Nile     ┆ Upper Nile             ┆ Male   ┆ 0-14         ┆ 237461 │\n",
            "│ Greater Bahr el Ghazal ┆ Warrap                 ┆ Male   ┆ 0-14         ┆ 230854 │\n",
            "│ …                      ┆ …                      ┆ …      ┆ …            ┆ …      │\n",
            "│ Greater Bahr el Ghazal ┆ Lakes                  ┆ Female ┆ 65 and above ┆ 6396   │\n",
            "│ Greater Bahr el Ghazal ┆ Western Bahr el Ghazal ┆ Male   ┆ 55-64        ┆ 4981   │\n",
            "│ Greater Bahr el Ghazal ┆ Western Bahr el Ghazal ┆ Male   ┆ 65 and above ┆ 4171   │\n",
            "│ Greater Bahr el Ghazal ┆ Western Bahr el Ghazal ┆ Female ┆ 55-64        ┆ 4079   │\n",
            "│ Greater Bahr el Ghazal ┆ Western Bahr el Ghazal ┆ Female ┆ 65 and above ┆ 3527   │\n",
            "└────────────────────────┴────────────────────────┴────────┴──────────────┴────────┘\n"
          ]
        }
      ],
      "source": [
        "# Selecting desired rows\n",
        "old_cats = ['0 to 4', '5 to 9', '10 to 14', \n",
        "            '15 to 19', '20 to 24', \n",
        "            '25 to 29', '30 to 34', \n",
        "            '35 to 39', '40 to 44',\n",
        "            '45 to 49', '50 to 54',\n",
        "            '55 to 59', '60 to 64',\n",
        "            '65+'\n",
        "            ]\n",
        "new_cats = ['0-14', '0-14', '0-14',\n",
        "            '15-24', '15-24',\n",
        "            '25-34', '25-34',\n",
        "            '35-44', '35-44',\n",
        "            '45-54', '45-54',\n",
        "            '55-64', '55-64',\n",
        "            '65 and above'\n",
        "            ]\n",
        "print(\n",
        "    census_raw\n",
        "    .select(cs.ends_with('Name'), '2008')\n",
        "    .with_columns(\n",
        "        gender=pl.col('Variable Name').str.replace_many(['Population, ', ' (Number)'], '',),\n",
        "        category=pl.col('Age Name').replace(old_cats, new_cats)\n",
        "    )\n",
        "    .select(pl.col('*').exclude(['Variable Name', 'Age Name']))\n",
        "    .filter(~((pl.col('gender') == 'Total') | (pl.col('category') == 'Total')))\n",
        "     .drop_nulls()\n",
        "    .rename({'Region Name': 'state', '2008': 'population'})\n",
        "    .with_columns(former_region=pl.when(pl.col('state').is_in(['Upper Nile', 'Unity', 'Jonglei']))\n",
        "                                .then(pl.lit('Greater Upper Nile'))\n",
        "                                .when(pl.col('state').str.ends_with('Equatoria'))\n",
        "                                .then(pl.lit('Greater Equatoria'))\n",
        "                                .when(pl.col('state').str.contains('Ghazal'))\n",
        "                                .then(pl.lit('Greater Bahr el Ghazal'))\n",
        "                                .otherwise(pl.lit('Greater Bahr el Ghazal'))\n",
        "    )\n",
        "    .group_by(['former_region', 'state', 'gender', 'category'])\n",
        "    .agg(total=pl.col('population').sum())\n",
        "    .sort('total', descending=True)\n",
        ")\n"
      ]
    },
    {
      "cell_type": "markdown",
      "id": "7cbe47f0",
      "metadata": {},
      "source": [
        "# Converting the Code into a Function"
      ]
    },
    {
      "cell_type": "code",
      "execution_count": 37,
      "id": "34c3823a",
      "metadata": {},
      "outputs": [],
      "source": [
        "# Write a function for cleaning and transforming South Sudan census data\n",
        "def tweak_census(df, grouping_cols, condition):\n",
        "    \"\"\"\n",
        "    Cleans and transforms South Sudan census data.\n",
        "\n",
        "    This function processes a DataFrame containing South Sudan census data by:\n",
        "    - Selecting relevant columns\n",
        "    - Renaming and recategorizing age groups\n",
        "    - Filtering rows based on a given condition\n",
        "    - Handling null values\n",
        "    - Renaming columns for clarity\n",
        "    - Adding a new column to categorize regions\n",
        "    - Grouping data by specified columns\n",
        "    - Aggregating population counts\n",
        "    - Sorting the results in descending order of total population\n",
        "\n",
        "    Parameters:\n",
        "    df (pl.DataFrame): The input DataFrame containing South Sudan census data.\n",
        "    grouping_cols (list): A list of column names to group by.\n",
        "    condition (pl.Expr): A condition to filter the DataFrame.\n",
        "\n",
        "    Returns:\n",
        "    pl.DataFrame: A transformed DataFrame with aggregated population counts, grouped by specified columns, and sorted by total population.\n",
        "    \"\"\"\n",
        "    old_cats = ['0 to 4', '5 to 9', '10 to 14', \n",
        "                '15 to 19', '20 to 24', \n",
        "                '25 to 29', '30 to 34', \n",
        "                '35 to 39', '40 to 44',\n",
        "                '45 to 49', '50 to 54',\n",
        "                '55 to 59', '60 to 64',\n",
        "                '65+'\n",
        "               ]\n",
        "    new_cats = ['0-14', '0-14', '0-14',\n",
        "                '15-24', '15-24',\n",
        "                '25-34', '25-34',\n",
        "                '35-44', '35-44',\n",
        "                '45-54', '45-54',\n",
        "                '55-64', '55-64',\n",
        "                '65 and above'\n",
        "               ]\n",
        "    return (\n",
        "        df\n",
        "        .select(cs.ends_with('Name'), '2008')\n",
        "        .with_columns(\n",
        "            gender=pl.col('Variable Name').str.replace_many(['Population, ', ' (Number)'], ''),\n",
        "            category=pl.col('Age Name').replace(old_cats, new_cats)\n",
        "        )\n",
        "        .select(pl.col('*').exclude(['Variable Name', 'Age Name']))\n",
        "        .filter(condition)\n",
        "        .drop_nulls()\n",
        "        .rename({'Region Name': 'state', '2008': 'population'})\n",
        "        .with_columns(former_region=pl.when(pl.col('state').is_in(['Upper Nile', 'Unity', 'Jonglei']))\n",
        "                                    .then(pl.lit('Greater Upper Nile'))\n",
        "                                    .when(pl.col('state').str.ends_with('Equatoria'))\n",
        "                                    .then(pl.lit('Greater Equatoria'))\n",
        "                                    .when(pl.col('state').str.contains('Ghazal'))\n",
        "                                    .then(pl.lit('Greater Bahr el Ghazal'))\n",
        "                                    .otherwise(pl.lit('Greater Bahr el Ghazal'))\n",
        "        )\n",
        "        .group_by(grouping_cols)\n",
        "        .agg(total=pl.col('population').sum())\n",
        "        .sort('total', descending=True)\n",
        "    )   "
      ]
    },
    {
      "cell_type": "code",
      "execution_count": 38,
      "id": "e2b647bd",
      "metadata": {},
      "outputs": [
        {
          "name": "stdout",
          "output_type": "stream",
          "text": [
            "shape: (140, 5)\n",
            "┌────────────────────────┬────────────────────────┬────────┬──────────────┬────────┐\n",
            "│ former_region          ┆ state                  ┆ gender ┆ category     ┆ total  │\n",
            "│ ---                    ┆ ---                    ┆ ---    ┆ ---          ┆ ---    │\n",
            "│ str                    ┆ str                    ┆ str    ┆ str          ┆ i64    │\n",
            "╞════════════════════════╪════════════════════════╪════════╪══════════════╪════════╡\n",
            "│ Greater Upper Nile     ┆ Jonglei                ┆ Male   ┆ 0-14         ┆ 338443 │\n",
            "│ Greater Upper Nile     ┆ Jonglei                ┆ Female ┆ 0-14         ┆ 263646 │\n",
            "│ Greater Equatoria      ┆ Central Equatoria      ┆ Male   ┆ 0-14         ┆ 242247 │\n",
            "│ Greater Upper Nile     ┆ Upper Nile             ┆ Male   ┆ 0-14         ┆ 237461 │\n",
            "│ Greater Bahr el Ghazal ┆ Warrap                 ┆ Male   ┆ 0-14         ┆ 230854 │\n",
            "│ …                      ┆ …                      ┆ …      ┆ …            ┆ …      │\n",
            "│ Greater Bahr el Ghazal ┆ Lakes                  ┆ Female ┆ 65 and above ┆ 6396   │\n",
            "│ Greater Bahr el Ghazal ┆ Western Bahr el Ghazal ┆ Male   ┆ 55-64        ┆ 4981   │\n",
            "│ Greater Bahr el Ghazal ┆ Western Bahr el Ghazal ┆ Male   ┆ 65 and above ┆ 4171   │\n",
            "│ Greater Bahr el Ghazal ┆ Western Bahr el Ghazal ┆ Female ┆ 55-64        ┆ 4079   │\n",
            "│ Greater Bahr el Ghazal ┆ Western Bahr el Ghazal ┆ Female ┆ 65 and above ┆ 3527   │\n",
            "└────────────────────────┴────────────────────────┴────────┴──────────────┴────────┘\n"
          ]
        }
      ],
      "source": [
        "# Test the new function\n",
        "print(\n",
        "    tweak_census(\n",
        "    census_raw, \n",
        "    grouping_cols=['former_region', 'state', 'gender', 'category'], \n",
        "    condition=~((pl.col('gender') == 'Total') | (pl.col('category') == 'Total')) \n",
        "    )\n",
        ")"
      ]
    },
    {
      "cell_type": "markdown",
      "id": "a58028ad",
      "metadata": {},
      "source": [
        "# Tabulating Data with the Great Tables Package"
      ]
    },
    {
      "cell_type": "code",
      "execution_count": 48,
      "id": "46eb6592",
      "metadata": {},
      "outputs": [
        {
          "name": "stdout",
          "output_type": "stream",
          "text": [
            "shape: (10, 4)\n",
            "┌────────────────────────┬─────────────────────────┬────────┬────────┐\n",
            "│ former_region          ┆ state                   ┆ Male   ┆ Female │\n",
            "│ ---                    ┆ ---                     ┆ ---    ┆ ---    │\n",
            "│ str                    ┆ str                     ┆ i64    ┆ i64    │\n",
            "╞════════════════════════╪═════════════════════════╪════════╪════════╡\n",
            "│ Greater Upper Nile     ┆ Jonglei                 ┆ 734327 ┆ 624275 │\n",
            "│ Greater Equatoria      ┆ Central Equatoria       ┆ 581722 ┆ 521835 │\n",
            "│ Greater Upper Nile     ┆ Upper Nile              ┆ 525430 ┆ 438923 │\n",
            "│ Greater Bahr el Ghazal ┆ Warrap                  ┆ 470734 ┆ 502194 │\n",
            "│ Greater Equatoria      ┆ Eastern Equatoria       ┆ 465187 ┆ 440974 │\n",
            "│ Greater Bahr el Ghazal ┆ Northern Bahr el Ghazal ┆ 348290 ┆ 372608 │\n",
            "│ Greater Bahr el Ghazal ┆ Lakes                   ┆ 365880 ┆ 329850 │\n",
            "│ Greater Equatoria      ┆ Western Equatoria       ┆ 318443 ┆ 300586 │\n",
            "│ Greater Upper Nile     ┆ Unity                   ┆ 300247 ┆ 285554 │\n",
            "│ Greater Bahr el Ghazal ┆ Western Bahr el Ghazal  ┆ 177040 ┆ 156391 │\n",
            "└────────────────────────┴─────────────────────────┴────────┴────────┘\n"
          ]
        }
      ],
      "source": [
        "# Summarize data by state\n",
        "state = (\n",
        "    tweak_census(\n",
        "    census_raw, \n",
        "    grouping_cols=['former_region', 'state', 'gender', 'category'], \n",
        "    condition=~((pl.col('gender') == 'Total') | (pl.col('category') == 'Total')) \n",
        "    )\n",
        "    .group_by(['former_region', 'state', 'gender'])\n",
        "    .agg(total=pl.col('total').sum())\n",
        "    .sort('total', descending=True)\n",
        "    .pivot(index=['former_region', 'state'], columns='gender', values='total')\n",
        ")\n",
        "\n",
        "# Dispay output\n",
        "print(state)"
      ]
    },
    {
      "cell_type": "code",
      "execution_count": 55,
      "id": "0200222d",
      "metadata": {},
      "outputs": [
        {
          "data": {
            "text/html": [
              "<div id=\"wgriyywame\" style=\"padding-left:0px;padding-right:0px;padding-top:10px;padding-bottom:10px;overflow-x:auto;overflow-y:auto;width:auto;height:auto;\">\n",
              "<style>\n",
              "#wgriyywame table {\n",
              "          font-family: -apple-system, BlinkMacSystemFont, 'Segoe UI', Roboto, Oxygen, Ubuntu, Cantarell, 'Helvetica Neue', 'Fira Sans', 'Droid Sans', Arial, sans-serif;\n",
              "          -webkit-font-smoothing: antialiased;\n",
              "          -moz-osx-font-smoothing: grayscale;\n",
              "        }\n",
              "\n",
              "#wgriyywame thead, tbody, tfoot, tr, td, th { border-style: none !important; }\n",
              " tr { background-color: transparent !important; }\n",
              "#wgriyywame p { margin: 0 !important; padding: 0 !important; }\n",
              " #wgriyywame .gt_table { display: table !important; border-collapse: collapse !important; line-height: normal !important; margin-left: auto !important; margin-right: auto !important; color: #333333 !important; font-size: 16px !important; font-weight: normal !important; font-style: normal !important; background-color: #FFFFFF !important; width: auto !important; border-top-style: solid !important; border-top-width: 2px !important; border-top-color: #A8A8A8 !important; border-right-style: none !important; border-right-width: 2px !important; border-right-color: #D3D3D3 !important; border-bottom-style: solid !important; border-bottom-width: 2px !important; border-bottom-color: #A8A8A8 !important; border-left-style: none !important; border-left-width: 2px !important; border-left-color: #D3D3D3 !important; }\n",
              " #wgriyywame .gt_caption { padding-top: 4px !important; padding-bottom: 4px !important; }\n",
              " #wgriyywame .gt_title { color: #333333 !important; font-size: 125% !important; font-weight: initial !important; padding-top: 4px !important; padding-bottom: 4px !important; padding-left: 5px !important; padding-right: 5px !important; border-bottom-color: #FFFFFF !important; border-bottom-width: 0 !important; }\n",
              " #wgriyywame .gt_subtitle { color: #333333 !important; font-size: 85% !important; font-weight: initial !important; padding-top: 3px !important; padding-bottom: 5px !important; padding-left: 5px !important; padding-right: 5px !important; border-top-color: #FFFFFF !important; border-top-width: 0 !important; }\n",
              " #wgriyywame .gt_heading { background-color: #FFFFFF !important; text-align: left !important; border-bottom-color: #FFFFFF !important; border-left-style: none !important; border-left-width: 1px !important; border-left-color: #D3D3D3 !important; border-right-style: none !important; border-right-width: 1px !important; border-right-color: #D3D3D3 !important; }\n",
              " #wgriyywame .gt_bottom_border { border-bottom-style: solid !important; border-bottom-width: 2px !important; border-bottom-color: #D3D3D3 !important; }\n",
              " #wgriyywame .gt_col_headings { border-top-style: solid !important; border-top-width: 2px !important; border-top-color: #D3D3D3 !important; border-bottom-style: solid !important; border-bottom-width: 2px !important; border-bottom-color: #D3D3D3 !important; border-left-style: none !important; border-left-width: 1px !important; border-left-color: #D3D3D3 !important; border-right-style: none !important; border-right-width: 1px !important; border-right-color: #D3D3D3 !important; }\n",
              " #wgriyywame .gt_col_heading { color: #333333 !important; background-color: #FFFFFF !important; font-size: 100% !important; font-weight: normal !important; text-transform: inherit !important; border-left-style: none !important; border-left-width: 1px !important; border-left-color: #D3D3D3 !important; border-right-style: none !important; border-right-width: 1px !important; border-right-color: #D3D3D3 !important; vertical-align: bottom !important; padding-top: 5px !important; padding-bottom: 5px !important; padding-left: 5px !important; padding-right: 5px !important; overflow-x: hidden !important; }\n",
              " #wgriyywame .gt_column_spanner_outer { color: #333333 !important; background-color: #FFFFFF !important; font-size: 100% !important; font-weight: normal !important; text-transform: inherit !important; padding-top: 0 !important; padding-bottom: 0 !important; padding-left: 4px !important; padding-right: 4px !important; }\n",
              " #wgriyywame .gt_column_spanner_outer:first-child { padding-left: 0 !important; }\n",
              " #wgriyywame .gt_column_spanner_outer:last-child { padding-right: 0 !important; }\n",
              " #wgriyywame .gt_column_spanner { border-bottom-style: solid !important; border-bottom-width: 2px !important; border-bottom-color: #D3D3D3 !important; vertical-align: bottom !important; padding-top: 5px !important; padding-bottom: 5px !important; overflow-x: hidden !important; display: inline-block !important; width: 100% !important; }\n",
              " #wgriyywame .gt_spanner_row { border-bottom-style: hidden !important; }\n",
              " #wgriyywame .gt_group_heading { padding-top: 8px !important; padding-bottom: 8px !important; padding-left: 5px !important; padding-right: 5px !important; color: #333333 !important; background-color: #FFFFFF !important; font-size: 100% !important; font-weight: initial !important; text-transform: inherit !important; border-top-style: solid !important; border-top-width: 2px !important; border-top-color: #D3D3D3 !important; border-bottom-style: solid !important; border-bottom-width: 2px !important; border-bottom-color: #D3D3D3 !important; border-left-style: none !important; border-left-width: 1px !important; border-left-color: #D3D3D3 !important; border-right-style: none !important; border-right-width: 1px !important; border-right-color: #D3D3D3 !important; vertical-align: middle !important; text-align: left !important; }\n",
              " #wgriyywame .gt_empty_group_heading { padding: 0.5px !important; color: #333333 !important; background-color: #FFFFFF !important; font-size: 100% !important; font-weight: initial !important; border-top-style: solid !important; border-top-width: 2px !important; border-top-color: #D3D3D3 !important; border-bottom-style: solid !important; border-bottom-width: 2px !important; border-bottom-color: #D3D3D3 !important; vertical-align: middle !important; }\n",
              " #wgriyywame .gt_from_md> :first-child { margin-top: 0 !important; }\n",
              " #wgriyywame .gt_from_md> :last-child { margin-bottom: 0 !important; }\n",
              " #wgriyywame .gt_row { padding-top: 8px !important; padding-bottom: 8px !important; padding-left: 5px !important; padding-right: 5px !important; margin: 10px !important; border-top-style: solid !important; border-top-width: 1px !important; border-top-color: #D3D3D3 !important; border-left-style: none !important; border-left-width: 1px !important; border-left-color: #D3D3D3 !important; border-right-style: none !important; border-right-width: 1px !important; border-right-color: #D3D3D3 !important; vertical-align: middle !important; overflow-x: hidden !important; }\n",
              " #wgriyywame .gt_stub { color: #333333 !important; background-color: #FFFFFF !important; font-size: 100% !important; font-weight: initial !important; text-transform: inherit !important; border-right-style: solid !important; border-right-width: 2px !important; border-right-color: #D3D3D3 !important; padding-left: 5px !important; padding-right: 5px !important; }\n",
              " #wgriyywame .gt_stub_row_group { color: #333333 !important; background-color: #FFFFFF !important; font-size: 100% !important; font-weight: initial !important; text-transform: inherit !important; border-right-style: solid !important; border-right-width: 2px !important; border-right-color: #D3D3D3 !important; padding-left: 5px !important; padding-right: 5px !important; vertical-align: top !important; }\n",
              " #wgriyywame .gt_row_group_first td { border-top-width: 2px !important; }\n",
              " #wgriyywame .gt_row_group_first th { border-top-width: 2px !important; }\n",
              " #wgriyywame .gt_table_body { border-top-style: solid !important; border-top-width: 2px !important; border-top-color: #D3D3D3 !important; border-bottom-style: solid !important; border-bottom-width: 2px !important; border-bottom-color: #D3D3D3 !important; }\n",
              " #wgriyywame .gt_sourcenotes { color: #333333 !important; background-color: #FFFFFF !important; border-bottom-style: none !important; border-bottom-width: 2px !important; border-bottom-color: #D3D3D3 !important; border-left-style: none !important; border-left-width: 2px !important; border-left-color: #D3D3D3 !important; border-right-style: none !important; border-right-width: 2px !important; border-right-color: #D3D3D3 !important; }\n",
              " #wgriyywame .gt_sourcenote { font-size: 90% !important; padding-top: 4px !important; padding-bottom: 4px !important; padding-left: 5px !important; padding-right: 5px !important; text-align: left !important; }\n",
              " #wgriyywame .gt_left { text-align: left !important; }\n",
              " #wgriyywame .gt_center { text-align: center !important; }\n",
              " #wgriyywame .gt_right { text-align: right !important; font-variant-numeric: tabular-nums !important; }\n",
              " #wgriyywame .gt_font_normal { font-weight: normal !important; }\n",
              " #wgriyywame .gt_font_bold { font-weight: bold !important; }\n",
              " #wgriyywame .gt_font_italic { font-style: italic !important; }\n",
              " #wgriyywame .gt_super { font-size: 65% !important; }\n",
              " #wgriyywame .gt_footnote_marks { font-size: 75% !important; vertical-align: 0.4em !important; position: initial !important; }\n",
              " #wgriyywame .gt_asterisk { font-size: 100% !important; vertical-align: 0 !important; }\n",
              " \n",
              "</style>\n",
              "<table class=\"gt_table\" data-quarto-disable-processing=\"false\" data-quarto-bootstrap=\"false\">\n",
              "<thead class=\"gt_header\">\n",
              "  <tr>\n",
              "    <th colspan=\"3\" class=\"gt_heading gt_title gt_font_normal\">Jonglei State leads with over 13.6 million persons</th>\n",
              "  </tr>\n",
              "  <tr>\n",
              "    <th colspan=\"3\" class=\"gt_heading gt_subtitle gt_font_normal gt_bottom_border\">Western Bahr el Ghazal State has the lowest <br>population according to the 2008 census</th>\n",
              "  </tr>\n",
              "</thead>\n",
              "<tr class=\"gt_col_headings\">\n",
              "  <th class=\"gt_col_heading gt_columns_bottom_border gt_left\" rowspan=\"1\" colspan=\"1\" scope=\"col\" id=\"\"></th>\n",
              "  <th class=\"gt_col_heading gt_columns_bottom_border gt_right\" rowspan=\"1\" colspan=\"1\" scope=\"col\" id=\"Male\">Male</th>\n",
              "  <th class=\"gt_col_heading gt_columns_bottom_border gt_right\" rowspan=\"1\" colspan=\"1\" scope=\"col\" id=\"Female\">Female</th>\n",
              "</tr>\n",
              "<tbody class=\"gt_table_body\">\n",
              "<tr>\n",
              "<tr class=gt_group_heading_row>  <th class=\"gt_group_heading\" colspan=\"3\">Greater Upper Nile</th></tr>\n",
              "  <th class=\"gt_row gt_left gt_stub\">Jonglei</th>\n",
              "  <td class=\"gt_row gt_right\">734,327</td>\n",
              "  <td class=\"gt_row gt_right\">624,275</td>\n",
              "</tr>\n",
              "<tr>\n",
              "  <th class=\"gt_row gt_left gt_stub\">Upper Nile</th>\n",
              "  <td class=\"gt_row gt_right\">525,430</td>\n",
              "  <td class=\"gt_row gt_right\">438,923</td>\n",
              "</tr>\n",
              "<tr>\n",
              "  <th class=\"gt_row gt_left gt_stub\">Unity</th>\n",
              "  <td class=\"gt_row gt_right\">300,247</td>\n",
              "  <td class=\"gt_row gt_right\">285,554</td>\n",
              "</tr>\n",
              "<tr>\n",
              "<tr class=gt_group_heading_row>  <th class=\"gt_group_heading\" colspan=\"3\">Greater Equatoria</th></tr>\n",
              "  <th class=\"gt_row gt_left gt_stub\">Central Equatoria</th>\n",
              "  <td class=\"gt_row gt_right\">581,722</td>\n",
              "  <td class=\"gt_row gt_right\">521,835</td>\n",
              "</tr>\n",
              "<tr>\n",
              "  <th class=\"gt_row gt_left gt_stub\">Eastern Equatoria</th>\n",
              "  <td class=\"gt_row gt_right\">465,187</td>\n",
              "  <td class=\"gt_row gt_right\">440,974</td>\n",
              "</tr>\n",
              "<tr>\n",
              "  <th class=\"gt_row gt_left gt_stub\">Western Equatoria</th>\n",
              "  <td class=\"gt_row gt_right\">318,443</td>\n",
              "  <td class=\"gt_row gt_right\">300,586</td>\n",
              "</tr>\n",
              "<tr>\n",
              "<tr class=gt_group_heading_row>  <th class=\"gt_group_heading\" colspan=\"3\">Greater Bahr el Ghazal</th></tr>\n",
              "  <th class=\"gt_row gt_left gt_stub\">Warrap</th>\n",
              "  <td class=\"gt_row gt_right\">470,734</td>\n",
              "  <td class=\"gt_row gt_right\">502,194</td>\n",
              "</tr>\n",
              "<tr>\n",
              "  <th class=\"gt_row gt_left gt_stub\">Northern Bahr el Ghazal</th>\n",
              "  <td class=\"gt_row gt_right\">348,290</td>\n",
              "  <td class=\"gt_row gt_right\">372,608</td>\n",
              "</tr>\n",
              "<tr>\n",
              "  <th class=\"gt_row gt_left gt_stub\">Lakes</th>\n",
              "  <td class=\"gt_row gt_right\">365,880</td>\n",
              "  <td class=\"gt_row gt_right\">329,850</td>\n",
              "</tr>\n",
              "<tr>\n",
              "  <th class=\"gt_row gt_left gt_stub\">Western Bahr el Ghazal</th>\n",
              "  <td class=\"gt_row gt_right\">177,040</td>\n",
              "  <td class=\"gt_row gt_right\">156,391</td>\n",
              "</tr>\n",
              "</tbody>\n",
              "  <tfoot class=\"gt_sourcenotes\">\n",
              "  \n",
              "  <tr>\n",
              "    <td class=\"gt_sourcenote\" colspan=\"3\"><a href=\"http://southsudan.opendataforafrica.org/fvjqdpe/population-by-age-and-sex-2008-south-sudan\"><strong>2008 Census: National Bureau of Statistics, South Sudan</strong></a></td>\n",
              "  </tr>\n",
              "\n",
              "</tfoot>\n",
              "\n",
              "</table>\n",
              "\n",
              "</div>\n",
              "        "
            ],
            "text/plain": [
              "GT(_tbl_data=shape: (10, 4)\n",
              "┌────────────────────────┬─────────────────────────┬────────┬────────┐\n",
              "│ former_region          ┆ state                   ┆ Male   ┆ Female │\n",
              "│ ---                    ┆ ---                     ┆ ---    ┆ ---    │\n",
              "│ str                    ┆ str                     ┆ i64    ┆ i64    │\n",
              "╞════════════════════════╪═════════════════════════╪════════╪════════╡\n",
              "│ Greater Upper Nile     ┆ Jonglei                 ┆ 734327 ┆ 624275 │\n",
              "│ Greater Equatoria      ┆ Central Equatoria       ┆ 581722 ┆ 521835 │\n",
              "│ Greater Upper Nile     ┆ Upper Nile              ┆ 525430 ┆ 438923 │\n",
              "│ Greater Bahr el Ghazal ┆ Warrap                  ┆ 470734 ┆ 502194 │\n",
              "│ Greater Equatoria      ┆ Eastern Equatoria       ┆ 465187 ┆ 440974 │\n",
              "│ Greater Bahr el Ghazal ┆ Northern Bahr el Ghazal ┆ 348290 ┆ 372608 │\n",
              "│ Greater Bahr el Ghazal ┆ Lakes                   ┆ 365880 ┆ 329850 │\n",
              "│ Greater Equatoria      ┆ Western Equatoria       ┆ 318443 ┆ 300586 │\n",
              "│ Greater Upper Nile     ┆ Unity                   ┆ 300247 ┆ 285554 │\n",
              "│ Greater Bahr el Ghazal ┆ Western Bahr el Ghazal  ┆ 177040 ┆ 156391 │\n",
              "└────────────────────────┴─────────────────────────┴────────┴────────┘, _body=<great_tables._gt_data.Body object at 0x105449340>, _boxhead=Boxhead([ColInfo(var='former_region', type=<ColInfoTypeEnum.row_group: 3>, column_label='former_region', column_align='left', column_width=None), ColInfo(var='state', type=<ColInfoTypeEnum.stub: 2>, column_label='State', column_align='left', column_width=None), ColInfo(var='Male', type=<ColInfoTypeEnum.default: 1>, column_label='Male', column_align='right', column_width=None), ColInfo(var='Female', type=<ColInfoTypeEnum.default: 1>, column_label='Female', column_align='right', column_width=None)]), _stub=Stub([RowInfo(rownum_i=0, group_id='Greater Upper Nile', rowname='Jonglei', group_label=None, built=False), RowInfo(rownum_i=1, group_id='Greater Equatoria', rowname='Central Equatoria', group_label=None, built=False), RowInfo(rownum_i=2, group_id='Greater Upper Nile', rowname='Upper Nile', group_label=None, built=False), RowInfo(rownum_i=3, group_id='Greater Bahr el Ghazal', rowname='Warrap', group_label=None, built=False), RowInfo(rownum_i=4, group_id='Greater Equatoria', rowname='Eastern Equatoria', group_label=None, built=False), RowInfo(rownum_i=5, group_id='Greater Bahr el Ghazal', rowname='Northern Bahr el Ghazal', group_label=None, built=False), RowInfo(rownum_i=6, group_id='Greater Bahr el Ghazal', rowname='Lakes', group_label=None, built=False), RowInfo(rownum_i=7, group_id='Greater Equatoria', rowname='Western Equatoria', group_label=None, built=False), RowInfo(rownum_i=8, group_id='Greater Upper Nile', rowname='Unity', group_label=None, built=False), RowInfo(rownum_i=9, group_id='Greater Bahr el Ghazal', rowname='Western Bahr el Ghazal', group_label=None, built=False)]), _row_groups=['Greater Upper Nile', 'Greater Equatoria', 'Greater Bahr el Ghazal'], _group_rows=GroupRows([GroupRowInfo(group_id='Greater Upper Nile', group_label=None, indices=[0, 2, 8], has_summary_rows=False, summary_row_side=None), GroupRowInfo(group_id='Greater Equatoria', group_label=None, indices=[1, 4, 7], has_summary_rows=False, summary_row_side=None), GroupRowInfo(group_id='Greater Bahr el Ghazal', group_label=None, indices=[3, 5, 6, 9], has_summary_rows=False, summary_row_side=None)]), _spanners=Spanners([]), _heading=Heading(title='Jonglei State leads with over 13.6 million persons', subtitle=Text(text='Western Bahr el Ghazal State has the lowest <br>population according to the 2008 census', type='from_markdown'), preheader=None), _stubhead=None, _source_notes=[Text(text='<a href=\"http://southsudan.opendataforafrica.org/fvjqdpe/population-by-age-and-sex-2008-south-sudan\"><strong>2008 Census: National Bureau of Statistics, South Sudan</strong></a>', type='html')], _footnotes=[], _styles=[], _locale=<great_tables._gt_data.Locale object at 0x121c5e7e0>, _formats=[<great_tables._gt_data.FormatInfo object at 0x121cbe2d0>], _substitutions=[], _options=Options(table_id=OptionsInfo(scss=False, category='table', type='value', value=None), table_caption=OptionsInfo(scss=False, category='table', type='value', value=None), table_width=OptionsInfo(scss=True, category='table', type='px', value='auto'), table_layout=OptionsInfo(scss=True, category='table', type='value', value='fixed'), table_margin_left=OptionsInfo(scss=True, category='table', type='px', value='auto'), table_margin_right=OptionsInfo(scss=True, category='table', type='px', value='auto'), table_background_color=OptionsInfo(scss=True, category='table', type='value', value='#FFFFFF'), table_font_names=OptionsInfo(scss=False, category='table', type='values', value=['-apple-system', 'BlinkMacSystemFont', 'Segoe UI', 'Roboto', 'Oxygen', 'Ubuntu', 'Cantarell', 'Helvetica Neue', 'Fira Sans', 'Droid Sans', 'Arial', 'sans-serif']), table_font_size=OptionsInfo(scss=True, category='table', type='px', value='16px'), table_font_weight=OptionsInfo(scss=True, category='table', type='value', value='normal'), table_font_style=OptionsInfo(scss=True, category='table', type='value', value='normal'), table_font_color=OptionsInfo(scss=True, category='table', type='value', value='#333333'), table_font_color_light=OptionsInfo(scss=True, category='table', type='value', value='#FFFFFF'), table_border_top_include=OptionsInfo(scss=False, category='table', type='boolean', value=True), table_border_top_style=OptionsInfo(scss=True, category='table', type='value', value='solid'), table_border_top_width=OptionsInfo(scss=True, category='table', type='px', value='2px'), table_border_top_color=OptionsInfo(scss=True, category='table', type='value', value='#A8A8A8'), table_border_right_style=OptionsInfo(scss=True, category='table', type='value', value='none'), table_border_right_width=OptionsInfo(scss=True, category='table', type='px', value='2px'), table_border_right_color=OptionsInfo(scss=True, category='table', type='value', value='#D3D3D3'), table_border_bottom_include=OptionsInfo(scss=False, category='table', type='boolean', value=True), table_border_bottom_style=OptionsInfo(scss=True, category='table', type='value', value='solid'), table_border_bottom_width=OptionsInfo(scss=True, category='table', type='px', value='2px'), table_border_bottom_color=OptionsInfo(scss=True, category='table', type='value', value='#A8A8A8'), table_border_left_style=OptionsInfo(scss=True, category='table', type='value', value='none'), table_border_left_width=OptionsInfo(scss=True, category='table', type='px', value='2px'), table_border_left_color=OptionsInfo(scss=True, category='table', type='value', value='#D3D3D3'), heading_background_color=OptionsInfo(scss=True, category='heading', type='value', value=None), heading_align=OptionsInfo(scss=True, category='heading', type='value', value='left'), heading_title_font_size=OptionsInfo(scss=True, category='heading', type='px', value='125%'), heading_title_font_weight=OptionsInfo(scss=True, category='heading', type='value', value='initial'), heading_subtitle_font_size=OptionsInfo(scss=True, category='heading', type='px', value='85%'), heading_subtitle_font_weight=OptionsInfo(scss=True, category='heading', type='value', value='initial'), heading_padding=OptionsInfo(scss=True, category='heading', type='px', value='4px'), heading_padding_horizontal=OptionsInfo(scss=True, category='heading', type='px', value='5px'), heading_border_bottom_style=OptionsInfo(scss=True, category='heading', type='value', value='solid'), heading_border_bottom_width=OptionsInfo(scss=True, category='heading', type='px', value='2px'), heading_border_bottom_color=OptionsInfo(scss=True, category='heading', type='value', value='#D3D3D3'), heading_border_lr_style=OptionsInfo(scss=True, category='heading', type='value', value='none'), heading_border_lr_width=OptionsInfo(scss=True, category='heading', type='px', value='1px'), heading_border_lr_color=OptionsInfo(scss=True, category='heading', type='value', value='#D3D3D3'), column_labels_background_color=OptionsInfo(scss=True, category='column_labels', type='value', value=None), column_labels_font_size=OptionsInfo(scss=True, category='column_labels', type='px', value='100%'), column_labels_font_weight=OptionsInfo(scss=True, category='column_labels', type='value', value='normal'), column_labels_text_transform=OptionsInfo(scss=True, category='column_labels', type='value', value='inherit'), column_labels_padding=OptionsInfo(scss=True, category='column_labels', type='px', value='5px'), column_labels_padding_horizontal=OptionsInfo(scss=True, category='column_labels', type='px', value='5px'), column_labels_vlines_style=OptionsInfo(scss=True, category='table_body', type='value', value='none'), column_labels_vlines_width=OptionsInfo(scss=True, category='table_body', type='px', value='1px'), column_labels_vlines_color=OptionsInfo(scss=True, category='table_body', type='value', value='#D3D3D3'), column_labels_border_top_style=OptionsInfo(scss=True, category='column_labels', type='value', value='solid'), column_labels_border_top_width=OptionsInfo(scss=True, category='column_labels', type='px', value='2px'), column_labels_border_top_color=OptionsInfo(scss=True, category='column_labels', type='value', value='#D3D3D3'), column_labels_border_bottom_style=OptionsInfo(scss=True, category='column_labels', type='value', value='solid'), column_labels_border_bottom_width=OptionsInfo(scss=True, category='column_labels', type='px', value='2px'), column_labels_border_bottom_color=OptionsInfo(scss=True, category='column_labels', type='value', value='#D3D3D3'), column_labels_border_lr_style=OptionsInfo(scss=True, category='column_labels', type='value', value='none'), column_labels_border_lr_width=OptionsInfo(scss=True, category='column_labels', type='px', value='1px'), column_labels_border_lr_color=OptionsInfo(scss=True, category='column_labels', type='value', value='#D3D3D3'), column_labels_hidden=OptionsInfo(scss=False, category='column_labels', type='boolean', value=False), row_group_background_color=OptionsInfo(scss=True, category='row_group', type='value', value=None), row_group_font_size=OptionsInfo(scss=True, category='row_group', type='px', value='100%'), row_group_font_weight=OptionsInfo(scss=True, category='row_group', type='value', value='initial'), row_group_text_transform=OptionsInfo(scss=True, category='row_group', type='value', value='inherit'), row_group_padding=OptionsInfo(scss=True, category='row_group', type='px', value='8px'), row_group_padding_horizontal=OptionsInfo(scss=True, category='row_group', type='px', value='5px'), row_group_border_top_style=OptionsInfo(scss=True, category='row_group', type='value', value='solid'), row_group_border_top_width=OptionsInfo(scss=True, category='row_group', type='px', value='2px'), row_group_border_top_color=OptionsInfo(scss=True, category='row_group', type='value', value='#D3D3D3'), row_group_border_right_style=OptionsInfo(scss=True, category='row_group', type='value', value='none'), row_group_border_right_width=OptionsInfo(scss=True, category='row_group', type='px', value='1px'), row_group_border_right_color=OptionsInfo(scss=True, category='row_group', type='value', value='#D3D3D3'), row_group_border_bottom_style=OptionsInfo(scss=True, category='row_group', type='value', value='solid'), row_group_border_bottom_width=OptionsInfo(scss=True, category='row_group', type='px', value='2px'), row_group_border_bottom_color=OptionsInfo(scss=True, category='row_group', type='value', value='#D3D3D3'), row_group_border_left_style=OptionsInfo(scss=True, category='row_group', type='value', value='none'), row_group_border_left_width=OptionsInfo(scss=True, category='row_group', type='px', value='1px'), row_group_border_left_color=OptionsInfo(scss=True, category='row_group', type='value', value='#D3D3D3'), row_group_as_column=OptionsInfo(scss=False, category='row_group', type='boolean', value=False), table_body_hlines_style=OptionsInfo(scss=True, category='table_body', type='value', value='solid'), table_body_hlines_width=OptionsInfo(scss=True, category='table_body', type='px', value='1px'), table_body_hlines_color=OptionsInfo(scss=True, category='table_body', type='value', value='#D3D3D3'), table_body_vlines_style=OptionsInfo(scss=True, category='table_body', type='value', value='none'), table_body_vlines_width=OptionsInfo(scss=True, category='table_body', type='px', value='1px'), table_body_vlines_color=OptionsInfo(scss=True, category='table_body', type='value', value='#D3D3D3'), table_body_border_top_style=OptionsInfo(scss=True, category='table_body', type='value', value='solid'), table_body_border_top_width=OptionsInfo(scss=True, category='table_body', type='px', value='2px'), table_body_border_top_color=OptionsInfo(scss=True, category='table_body', type='value', value='#D3D3D3'), table_body_border_bottom_style=OptionsInfo(scss=True, category='table_body', type='value', value='solid'), table_body_border_bottom_width=OptionsInfo(scss=True, category='table_body', type='px', value='2px'), table_body_border_bottom_color=OptionsInfo(scss=True, category='table_body', type='value', value='#D3D3D3'), data_row_padding=OptionsInfo(scss=True, category='data_row', type='px', value='8px'), data_row_padding_horizontal=OptionsInfo(scss=True, category='data_row', type='px', value='5px'), stub_background_color=OptionsInfo(scss=True, category='stub', type='value', value=None), stub_font_size=OptionsInfo(scss=True, category='stub', type='px', value='100%'), stub_font_weight=OptionsInfo(scss=True, category='stub', type='value', value='initial'), stub_text_transform=OptionsInfo(scss=True, category='stub', type='value', value='inherit'), stub_border_style=OptionsInfo(scss=True, category='stub', type='value', value='solid'), stub_border_width=OptionsInfo(scss=True, category='stub', type='px', value='2px'), stub_border_color=OptionsInfo(scss=True, category='stub', type='value', value='#D3D3D3'), stub_row_group_background_color=OptionsInfo(scss=True, category='stub', type='value', value=None), stub_row_group_font_size=OptionsInfo(scss=True, category='stub', type='px', value='100%'), stub_row_group_font_weight=OptionsInfo(scss=True, category='stub', type='value', value='initial'), stub_row_group_text_transform=OptionsInfo(scss=True, category='stub', type='value', value='inherit'), stub_row_group_border_style=OptionsInfo(scss=True, category='stub', type='value', value='solid'), stub_row_group_border_width=OptionsInfo(scss=True, category='stub', type='px', value='2px'), stub_row_group_border_color=OptionsInfo(scss=True, category='stub', type='value', value='#D3D3D3'), source_notes_padding=OptionsInfo(scss=True, category='source_notes', type='px', value='4px'), source_notes_padding_horizontal=OptionsInfo(scss=True, category='source_notes', type='px', value='5px'), source_notes_background_color=OptionsInfo(scss=True, category='source_notes', type='value', value=None), source_notes_font_size=OptionsInfo(scss=True, category='source_notes', type='px', value='90%'), source_notes_border_bottom_style=OptionsInfo(scss=True, category='source_notes', type='value', value='none'), source_notes_border_bottom_width=OptionsInfo(scss=True, category='source_notes', type='px', value='2px'), source_notes_border_bottom_color=OptionsInfo(scss=True, category='source_notes', type='value', value='#D3D3D3'), source_notes_border_lr_style=OptionsInfo(scss=True, category='source_notes', type='value', value='none'), source_notes_border_lr_width=OptionsInfo(scss=True, category='source_notes', type='px', value='2px'), source_notes_border_lr_color=OptionsInfo(scss=True, category='source_notes', type='value', value='#D3D3D3'), source_notes_multiline=OptionsInfo(scss=False, category='source_notes', type='boolean', value=True), source_notes_sep=OptionsInfo(scss=False, category='source_notes', type='value', value=' '), container_width=OptionsInfo(scss=False, category='container', type='px', value='auto'), container_height=OptionsInfo(scss=False, category='container', type='px', value='auto'), container_padding_x=OptionsInfo(scss=False, category='container', type='px', value='0px'), container_padding_y=OptionsInfo(scss=False, category='container', type='px', value='10px'), container_overflow_x=OptionsInfo(scss=False, category='container', type='overflow', value='auto'), container_overflow_y=OptionsInfo(scss=False, category='container', type='overflow', value='auto'), quarto_disable_processing=OptionsInfo(scss=False, category='quarto', type='logical', value=False), quarto_use_bootstrap=OptionsInfo(scss=False, category='quarto', type='logical', value=False)), _has_built=False)"
            ]
          },
          "execution_count": 55,
          "metadata": {},
          "output_type": "execute_result"
        }
      ],
      "source": [
        "# Tabulate state data frame\n",
        "(\n",
        "    GT(state, rowname_col='state', groupname_col='former_region')\n",
        "    .tab_header(\n",
        "        title='Jonglei State leads with over 13.6 million persons',\n",
        "        subtitle=md(\n",
        "            'Western Bahr el Ghazal State has the lowest <br>population according to the 2008 census'\n",
        "        )\n",
        "    )\n",
        "    .fmt_integer(columns=cs.integer(), use_seps=True)\n",
        "    .opt_align_table_header(align=\"left\")\n",
        "    .cols_label(state='State')\n",
        "    .tab_source_note(source_note=html('<a href=\"http://southsudan.opendataforafrica.org/fvjqdpe/population-by-age-and-sex-2008-south-sudan\"><strong>2008 Census: National Bureau of Statistics, South Sudan</strong></a>'))\n",
        ")"
      ]
    },
    {
      "cell_type": "code",
      "execution_count": 54,
      "id": "3096d758",
      "metadata": {},
      "outputs": [],
      "source": [
        "# Save gt table as a png file\n",
        "# GT.save(st_obj, file='img/state.png')"
      ]
    }
  ],
  "metadata": {
    "kernelspec": {
      "display_name": "po-env",
      "language": "python",
      "name": "python3"
    },
    "language_info": {
      "codemirror_mode": {
        "name": "ipython",
        "version": 3
      },
      "file_extension": ".py",
      "mimetype": "text/x-python",
      "name": "python",
      "nbconvert_exporter": "python",
      "pygments_lexer": "ipython3",
      "version": "3.12.3"
    }
  },
  "nbformat": 4,
  "nbformat_minor": 5
}
