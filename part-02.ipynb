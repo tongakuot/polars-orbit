{
 "cells": [
  {
   "cell_type": "code",
   "execution_count": 216,
   "metadata": {},
   "outputs": [
    {
     "data": {
      "text/plain": [
       "'0.20.31'"
      ]
     },
     "execution_count": 216,
     "metadata": {},
     "output_type": "execute_result"
    }
   ],
   "source": [
    "# Load Libraries\n",
    "import polars as pl \n",
    "import polars.selectors as cs \n",
    "\n",
    "pl.__version__"
   ]
  },
  {
   "cell_type": "markdown",
   "metadata": {},
   "source": [
    "## Aggregations with Polars"
   ]
  },
  {
   "cell_type": "code",
   "execution_count": 3,
   "metadata": {},
   "outputs": [
    {
     "name": "stdout",
     "output_type": "stream",
     "text": [
      "shape: (4, 5)\n",
      "┌────────┬──────┬──────────────┬─────────┬─────────┐\n",
      "│ name   ┆ math ┆ data science ┆ english ┆ swahili │\n",
      "│ ---    ┆ ---  ┆ ---          ┆ ---     ┆ ---     │\n",
      "│ str    ┆ i64  ┆ i64          ┆ i64     ┆ i64     │\n",
      "╞════════╪══════╪══════════════╪═════════╪═════════╡\n",
      "│ Atong  ┆ 99   ┆ 92           ┆ 81      ┆ 94      │\n",
      "│ Deng   ┆ 98   ┆ null         ┆ 83      ┆ 92      │\n",
      "│ Nyapal ┆ 95   ┆ 99           ┆ 75      ┆ 99      │\n",
      "│ Ayen   ┆ 90   ┆ 88           ┆ 89      ┆ 98      │\n",
      "└────────┴──────┴──────────────┴─────────┴─────────┘\n"
     ]
    }
   ],
   "source": [
    "student_grades = pl.DataFrame(\n",
    "    {'name':['Atong', 'Deng', 'Nyapal', 'Ayen'],\n",
    "    'math':[99, 98, 95, 90],\n",
    "    'data science':[92, None, 99, 88],\n",
    "    'english':[81, 83, 75, 89],\n",
    "    'swahili':[94, 92, 99, 98]\n",
    "    })\n",
    "\n",
    "# Inspect the data\n",
    "print(student_grades)"
   ]
  },
  {
   "cell_type": "code",
   "execution_count": 4,
   "metadata": {},
   "outputs": [
    {
     "name": "stdout",
     "output_type": "stream",
     "text": [
      "shape: (4, 5)\n",
      "┌──────────────────┬──────────────────┬────────────────┬───────┬───────────┐\n",
      "│ scores           ┆ ordered_scores   ┆ trimmed_scores ┆ total ┆ avg_score │\n",
      "│ ---              ┆ ---              ┆ ---            ┆ ---   ┆ ---       │\n",
      "│ list[i64]        ┆ list[i64]        ┆ list[i64]      ┆ i64   ┆ i64       │\n",
      "╞══════════════════╪══════════════════╪════════════════╪═══════╪═══════════╡\n",
      "│ [99, 92, … 94]   ┆ [81, 92, … 99]   ┆ [94, 99]       ┆ 193   ┆ 81        │\n",
      "│ [98, null, … 92] ┆ [null, 83, … 98] ┆ [92, 98]       ┆ 190   ┆ 83        │\n",
      "│ [95, 99, … 99]   ┆ [75, 95, … 99]   ┆ [99, 99]       ┆ 198   ┆ 75        │\n",
      "│ [90, 88, … 98]   ┆ [88, 89, … 98]   ┆ [90, 98]       ┆ 188   ┆ 88        │\n",
      "└──────────────────┴──────────────────┴────────────────┴───────┴───────────┘\n"
     ]
    }
   ],
   "source": [
    "# Identifying and Removing the lowest two grades\n",
    "print(\n",
    "    student_grades\n",
    "    .select(scores=pl.concat_list(cs.integer(),))\n",
    "    .with_columns(ordered_scores=pl.col('scores').list.sort())\n",
    "    .with_columns(trimmed_scores=pl.col('ordered_scores').list.slice(2, 4))\n",
    "    .with_columns(total=pl.col('trimmed_scores').list.sum())\n",
    "    .with_columns(avg_score=pl.col('scores').list.mean())\n",
    "    .with_columns(avg_score=pl.col('scores').list.max())\n",
    "    .with_columns(avg_score=pl.col('scores').list.min())\n",
    ")"
   ]
  },
  {
   "cell_type": "code",
   "execution_count": 5,
   "metadata": {},
   "outputs": [
    {
     "name": "stdout",
     "output_type": "stream",
     "text": [
      "shape: (5, 14)\n",
      "┌────────────┬────────────┬────────────┬───────┬───┬───────────┬───────────┬───────────┬───────────┐\n",
      "│ Sector     ┆ Community  ┆ Category   ┆ Crime ┆ … ┆ Calgary   ┆ Ward Boun ┆ Ward Boun ┆ City      │\n",
      "│ ---        ┆ Name       ┆ ---        ┆ Count ┆   ┆ Communiti ┆ daries    ┆ daries    ┆ Quadrants │\n",
      "│ str        ┆ ---        ┆ str        ┆ ---   ┆   ┆ es        ┆ 2013-2017 ┆ ---       ┆ ---       │\n",
      "│            ┆ str        ┆            ┆ i64   ┆   ┆ ---       ┆ ---       ┆ i64       ┆ i64       │\n",
      "│            ┆            ┆            ┆       ┆   ┆ i64       ┆ i64       ┆           ┆           │\n",
      "╞════════════╪════════════╪════════════╪═══════╪═══╪═══════════╪═══════════╪═══════════╪═══════════╡\n",
      "│ NORTHWEST  ┆ 02E        ┆ Violence   ┆ 1     ┆ … ┆ 204       ┆ 10        ┆ 3         ┆ 2         │\n",
      "│            ┆            ┆ 'Other'    ┆       ┆   ┆           ┆           ┆           ┆           │\n",
      "│            ┆            ┆ (Non-domes ┆       ┆   ┆           ┆           ┆           ┆           │\n",
      "│            ┆            ┆ ti…        ┆       ┆   ┆           ┆           ┆           ┆           │\n",
      "│ SOUTHEAST  ┆ 12A        ┆ Theft OF   ┆ 2     ┆ … ┆ 226       ┆ 8         ┆ 4         ┆ 3         │\n",
      "│            ┆            ┆ Vehicle    ┆       ┆   ┆           ┆           ┆           ┆           │\n",
      "│ SOUTHEAST  ┆ 12J        ┆ Theft OF   ┆ 1     ┆ … ┆ 205       ┆ 8         ┆ 4         ┆ 3         │\n",
      "│            ┆            ┆ Vehicle    ┆       ┆   ┆           ┆           ┆           ┆           │\n",
      "│ NORTHEAST  ┆ ABBEYDALE  ┆ Assault    ┆ 1     ┆ … ┆ 94        ┆ 3         ┆ 12        ┆ 4         │\n",
      "│            ┆            ┆ (Non-domes ┆       ┆   ┆           ┆           ┆           ┆           │\n",
      "│            ┆            ┆ tic)       ┆       ┆   ┆           ┆           ┆           ┆           │\n",
      "│ NORTHEAST  ┆ ABBEYDALE  ┆ Break &    ┆ 2     ┆ … ┆ 94        ┆ 3         ┆ 12        ┆ 4         │\n",
      "│            ┆            ┆ Enter -    ┆       ┆   ┆           ┆           ┆           ┆           │\n",
      "│            ┆            ┆ Commercial ┆       ┆   ┆           ┆           ┆           ┆           │\n",
      "└────────────┴────────────┴────────────┴───────┴───┴───────────┴───────────┴───────────┴───────────┘\n"
     ]
    }
   ],
   "source": [
    "# Importing dataset\n",
    "url = 'https://raw.githubusercontent.com/tongakuot/alierwai-datastudio/main/case-studies/posts/2023/10/18/Community_Crime_Statistics.csv'\n",
    "\n",
    "crime_raw = pl.read_csv(url)\n",
    "\n",
    "# inspect the first 5 rows\n",
    "print(crime_raw.head())"
   ]
  },
  {
   "cell_type": "code",
   "execution_count": 6,
   "metadata": {},
   "outputs": [
    {
     "data": {
      "text/plain": [
       "['Sector',\n",
       " 'Community Name',\n",
       " 'Category',\n",
       " 'Crime Count',\n",
       " 'Date',\n",
       " 'Year',\n",
       " 'Month',\n",
       " 'ID',\n",
       " 'Resident Count',\n",
       " 'Community Center Point',\n",
       " 'Calgary Communities',\n",
       " 'Ward Boundaries 2013-2017',\n",
       " 'Ward Boundaries',\n",
       " 'City Quadrants']"
      ]
     },
     "execution_count": 6,
     "metadata": {},
     "output_type": "execute_result"
    }
   ],
   "source": [
    "# Pull out column names\n",
    "list(crime_raw.columns)"
   ]
  },
  {
   "cell_type": "code",
   "execution_count": 7,
   "metadata": {},
   "outputs": [
    {
     "name": "stdout",
     "output_type": "stream",
     "text": [
      "shape: (79_982, 7)\n",
      "┌───────────┬──────────────────────────┬────────────────────┬─────────────┬─────────┬──────┬───────┐\n",
      "│ sector    ┆ community_name           ┆ category           ┆ crime_count ┆ date    ┆ year ┆ month │\n",
      "│ ---       ┆ ---                      ┆ ---                ┆ ---         ┆ ---     ┆ ---  ┆ ---   │\n",
      "│ str       ┆ str                      ┆ str                ┆ i64         ┆ str     ┆ i64  ┆ str   │\n",
      "╞═══════════╪══════════════════════════╪════════════════════╪═════════════╪═════════╪══════╪═══════╡\n",
      "│ EAST      ┆ FOREST HEIGHTS           ┆ Street Robbery     ┆ 1           ┆ 2017/08 ┆ 2017 ┆ AUG   │\n",
      "│ NORTH     ┆ NORTH HAVEN              ┆ Theft OF Vehicle   ┆ 1           ┆ 2017/11 ┆ 2017 ┆ NOV   │\n",
      "│ WEST      ┆ GLAMORGAN                ┆ Street Robbery     ┆ 1           ┆ 2017/06 ┆ 2017 ┆ JUN   │\n",
      "│ NORTHWEST ┆ BRENTWOOD                ┆ Assault            ┆ 1           ┆ 2017/06 ┆ 2017 ┆ JUN   │\n",
      "│           ┆                          ┆ (Non-domestic)     ┆             ┆         ┆      ┆       │\n",
      "│ CENTRE    ┆ BEL-AIRE                 ┆ Theft OF Vehicle   ┆ 1           ┆ 2017/11 ┆ 2017 ┆ NOV   │\n",
      "│ …         ┆ …                        ┆ …                  ┆ …           ┆ …       ┆ …    ┆ …     │\n",
      "│ EAST      ┆ FOREST LAWN              ┆ Violence  'Other'  ┆ 6           ┆ 2023/02 ┆ 2023 ┆ FEB   │\n",
      "│           ┆                          ┆ (Non-domesti…      ┆             ┆         ┆      ┆       │\n",
      "│ CENTRE    ┆ DOWNTOWN COMMERCIAL CORE ┆ Violence Other     ┆ 10          ┆ 2023/03 ┆ 2023 ┆ MAR   │\n",
      "│           ┆                          ┆ (Non-domestic)     ┆             ┆         ┆      ┆       │\n",
      "│ EAST      ┆ FOREST LAWN INDUSTRIAL   ┆ Theft FROM Vehicle ┆ null        ┆ 2023/05 ┆ 2023 ┆ MAY   │\n",
      "│ CENTRE    ┆ DOWNTOWN COMMERCIAL CORE ┆ Violence  'Other'  ┆ 10          ┆ 2023/03 ┆ 2023 ┆ MAR   │\n",
      "│           ┆                          ┆ (Non-domesti…      ┆             ┆         ┆      ┆       │\n",
      "│ NORTH     ┆ BEDDINGTON HEIGHTS       ┆ Violence Other     ┆ 3           ┆ 2023/01 ┆ 2023 ┆ JAN   │\n",
      "│           ┆                          ┆ (Non-domestic)     ┆             ┆         ┆      ┆       │\n",
      "└───────────┴──────────────────────────┴────────────────────┴─────────────┴─────────┴──────┴───────┘\n"
     ]
    }
   ],
   "source": [
    "# clean & transform crime data\n",
    "crime_df = (\n",
    "    crime_raw\n",
    "    .select(['Sector', 'Community Name', 'Category',\n",
    "             'Crime Count', 'Date', 'Year', 'Month'])\n",
    "    # .select(pl.all().name.to_lowercase())\n",
    "    .rename(lambda col: col.lower().replace(' ', '_'))\n",
    "    .sort('year')\n",
    ")\n",
    "\n",
    "# inspect the first 5 rows\n",
    "print(crime_df)"
   ]
  },
  {
   "cell_type": "code",
   "execution_count": 8,
   "metadata": {},
   "outputs": [
    {
     "name": "stdout",
     "output_type": "stream",
     "text": [
      "shape: (5, 12)\n",
      "┌───────────┬────────────┬───────────┬───────────┬───┬─────────┬───────────┬───────────┬───────────┐\n",
      "│ sector    ┆ community_ ┆ category  ┆ crime_cou ┆ … ┆ month_2 ┆ year_mont ┆ year_mont ┆ starts_wi │\n",
      "│ ---       ┆ name       ┆ ---       ┆ nt        ┆   ┆ ---     ┆ h         ┆ h_day     ┆ th_number │\n",
      "│ str       ┆ ---        ┆ str       ┆ ---       ┆   ┆ i8      ┆ ---       ┆ ---       ┆ ---       │\n",
      "│           ┆ str        ┆           ┆ i64       ┆   ┆         ┆ str       ┆ str       ┆ bool      │\n",
      "╞═══════════╪════════════╪═══════════╪═══════════╪═══╪═════════╪═══════════╪═══════════╪═══════════╡\n",
      "│ Northeast ┆ Abbeydale  ┆ Break-ins ┆ 1         ┆ … ┆ 8       ┆ 2017-08   ┆ 2017-08-0 ┆ false     │\n",
      "│           ┆            ┆ - Commerc ┆           ┆   ┆         ┆           ┆ 1         ┆           │\n",
      "│           ┆            ┆ ial       ┆           ┆   ┆         ┆           ┆           ┆           │\n",
      "│ Northeast ┆ Abbeydale  ┆ Non-domes ┆ 1         ┆ … ┆ 8       ┆ 2017-08   ┆ 2017-08-0 ┆ false     │\n",
      "│           ┆            ┆ tic       ┆           ┆   ┆         ┆           ┆ 1         ┆           │\n",
      "│           ┆            ┆ Violence  ┆           ┆   ┆         ┆           ┆           ┆           │\n",
      "│ Northeast ┆ Abbeydale  ┆ Break-ins ┆ 1         ┆ … ┆ 9       ┆ 2017-09   ┆ 2017-09-0 ┆ false     │\n",
      "│           ┆            ┆ - Other   ┆           ┆   ┆         ┆           ┆ 1         ┆           │\n",
      "│           ┆            ┆ premises  ┆           ┆   ┆         ┆           ┆           ┆           │\n",
      "│ Northeast ┆ Abbeydale  ┆ Break-ins ┆ 1         ┆ … ┆ 10      ┆ 2017-10   ┆ 2017-10-0 ┆ false     │\n",
      "│           ┆            ┆ - Residen ┆           ┆   ┆         ┆           ┆ 1         ┆           │\n",
      "│           ┆            ┆ tial      ┆           ┆   ┆         ┆           ┆           ┆           │\n",
      "│ Northeast ┆ Abbeydale  ┆ Non-domes ┆ 1         ┆ … ┆ 8       ┆ 2017-08   ┆ 2017-08-0 ┆ false     │\n",
      "│           ┆            ┆ tic       ┆           ┆   ┆         ┆           ┆ 1         ┆           │\n",
      "│           ┆            ┆ Violence  ┆           ┆   ┆         ┆           ┆           ┆           │\n",
      "└───────────┴────────────┴───────────┴───────────┴───┴─────────┴───────────┴───────────┴───────────┘\n"
     ]
    }
   ],
   "source": [
    "# Clean & transform - sector, community name, category and date columns\n",
    "cat_mappings = {\n",
    "    \"Assault (non-domestic)\": \"Non-domestic Violence\",\n",
    "    \"Break & Enter - Other Premises\": \"Break-ins - Other premises\",\n",
    "    \"Break & Enter - Dwelling\": \"Break-ins - Residential\",\n",
    "    \"Break & Enter - Commercial\": \"Break-ins - Commercial\",\n",
    "    \"Violence Other (non-domestic)\": \"Non-domestic Violence\",\n",
    "    \"Violence\\xa0 'other' (non-domestic)\": \"Non-domestic Violence\",\n",
    "    \"Commercial Robbery\": \"Robbery - Commercial\",\n",
    "    \"Theft Of Vehicle\": \"Theft of Vehicle\",\n",
    "    \"Theft From Vehicle\": \"Theft from Vehicle\",\n",
    "    \"Street Robbery\": \"Robbery - Street\"\n",
    "}\n",
    "\n",
    "crime_cleaned = (\n",
    "    crime_df    \n",
    "    .with_columns(cs.string().str.to_titlecase())\n",
    "    .with_columns(date=pl.col('date').str.to_datetime('%Y/%m').cast(pl.Datetime))\n",
    "    .with_columns(\n",
    "        year_2=pl.col('date').dt.year(),\n",
    "        month_2=pl.col('date').dt.month(),\n",
    "        year_month=pl.col('date').dt.strftime('%Y-%m'),\n",
    "        year_month_day=pl.col('date').dt.strftime('%Y-%m-%d'),\n",
    "        category=pl.col('category').str.strip_chars().replace(cat_mappings)\n",
    "    )\n",
    "    .with_columns(starts_with_number=pl.col('community_name').str.contains(r'^(\\d+)'))\n",
    "    .sort('community_name')\n",
    "    .filter(~pl.col('starts_with_number'))\n",
    ")\n",
    "\n",
    "# inspect the first 3 rows\n",
    "print(crime_cleaned.head())"
   ]
  },
  {
   "cell_type": "code",
   "execution_count": 9,
   "metadata": {},
   "outputs": [
    {
     "name": "stdout",
     "output_type": "stream",
     "text": [
      "shape: (8, 1)\n",
      "┌────────────────────────────┐\n",
      "│ category                   │\n",
      "│ ---                        │\n",
      "│ str                        │\n",
      "╞════════════════════════════╡\n",
      "│ Robbery - Commercial       │\n",
      "│ Non-domestic Violence      │\n",
      "│ Theft of Vehicle           │\n",
      "│ Break-ins - Other premises │\n",
      "│ Break-ins - Residential    │\n",
      "│ Break-ins - Commercial     │\n",
      "│ Theft from Vehicle         │\n",
      "│ Robbery - Street           │\n",
      "└────────────────────────────┘\n"
     ]
    }
   ],
   "source": [
    "# clean & transform - category\n",
    "print(\n",
    "    crime_cleaned\n",
    "    .select('category')\n",
    "    .unique()\n",
    ")\n",
    "\n"
   ]
  },
  {
   "cell_type": "code",
   "execution_count": 10,
   "metadata": {},
   "outputs": [
    {
     "name": "stdout",
     "output_type": "stream",
     "text": [
      "shape: (5, 13)\n",
      "┌───────────┬────────────┬────────────┬────────────┬───┬────────────┬───────────┬───────────┬──────┐\n",
      "│ sector    ┆ community_ ┆ category   ┆ crime_coun ┆ … ┆ year_month ┆ year_mont ┆ starts_wi ┆ aa   │\n",
      "│ ---       ┆ name       ┆ ---        ┆ t          ┆   ┆ ---        ┆ h_day     ┆ th_number ┆ ---  │\n",
      "│ str       ┆ ---        ┆ str        ┆ ---        ┆   ┆ str        ┆ ---       ┆ ---       ┆ bool │\n",
      "│           ┆ str        ┆            ┆ i64        ┆   ┆            ┆ str       ┆ bool      ┆      │\n",
      "╞═══════════╪════════════╪════════════╪════════════╪═══╪════════════╪═══════════╪═══════════╪══════╡\n",
      "│ Northwest ┆ 01b        ┆ Theft from ┆ 1          ┆ … ┆ 2017-07    ┆ 2017-07-0 ┆ true      ┆ true │\n",
      "│           ┆            ┆ Vehicle    ┆            ┆   ┆            ┆ 1         ┆           ┆      │\n",
      "│ Northwest ┆ 01b        ┆ Theft from ┆ 1          ┆ … ┆ 2017-11    ┆ 2017-11-0 ┆ true      ┆ true │\n",
      "│           ┆            ┆ Vehicle    ┆            ┆   ┆            ┆ 1         ┆           ┆      │\n",
      "│ Northwest ┆ 01b        ┆ Theft from ┆ 1          ┆ … ┆ 2017-08    ┆ 2017-08-0 ┆ true      ┆ true │\n",
      "│           ┆            ┆ Vehicle    ┆            ┆   ┆            ┆ 1         ┆           ┆      │\n",
      "│ Northwest ┆ 01b        ┆ Theft from ┆ 1          ┆ … ┆ 2018-01    ┆ 2018-01-0 ┆ true      ┆ true │\n",
      "│           ┆            ┆ Vehicle    ┆            ┆   ┆            ┆ 1         ┆           ┆      │\n",
      "│ Northwest ┆ 01b        ┆ Theft from ┆ 1          ┆ … ┆ 2018-02    ┆ 2018-02-0 ┆ true      ┆ true │\n",
      "│           ┆            ┆ Vehicle    ┆            ┆   ┆            ┆ 1         ┆           ┆      │\n",
      "└───────────┴────────────┴────────────┴────────────┴───┴────────────┴───────────┴───────────┴──────┘\n"
     ]
    }
   ],
   "source": [
    "# transforming category column with pl.when() method\n",
    "crime_data = (\n",
    "    crime_df    \n",
    "    .with_columns(cs.string().str.to_titlecase())\n",
    "    .with_columns(date=pl.col('date').str.to_datetime('%Y/%m').cast(pl.Datetime))\n",
    "    .with_columns(\n",
    "        year_2=pl.col('date').dt.year(),\n",
    "        month_2=pl.col('date').dt.month(),\n",
    "        year_month=pl.col('date').dt.strftime('%Y-%m'),\n",
    "        year_month_day=pl.col('date').dt.strftime('%Y-%m-%d')\n",
    "    )\n",
    "    .with_columns(\n",
    "        category=pl.when(pl.col('category').str.contains('Violence|Assault'))\n",
    "        .then(pl.lit('Non-domestic Violence'))\n",
    "        .when(pl.col('category').str.ends_with('Premises'))\n",
    "        .then(pl.lit('Break-ins - Other premises'))\n",
    "        .when(pl.col('category').str.ends_with('Dwelling'))\n",
    "        .then(pl.lit('Break-ins - Residential'))\n",
    "        .when(pl.col('category').str.ends_with('Commercial'))\n",
    "        .then(pl.lit('Break-ins - Commercial'))\n",
    "        .when(pl.col('category').str.starts_with('Commercial'))\n",
    "        .then(pl.lit('Robbery - Commercial'))\n",
    "        .when(pl.col('category').str.starts_with('Street'))\n",
    "        .then(pl.lit('Robbery - Street'))\n",
    "        .when(pl.col('category').str.starts_with('Theft From'))\n",
    "        .then(pl.lit('Theft from Vehicle'))\n",
    "        .otherwise(pl.lit('Theft of Vehicle'))\n",
    "    )\n",
    "    .with_columns(starts_with_number=pl.col('community_name').str.extract(r'^(\\d+)', 1).is_not_null())\n",
    "    .with_columns(aa=pl.col('community_name').str.contains(r'^(\\d+)'))\n",
    "    .sort('community_name')\n",
    ")\n",
    "\n",
    "# inspect the first 3 rows\n",
    "print(crime_data.head())"
   ]
  },
  {
   "cell_type": "code",
   "execution_count": 11,
   "metadata": {},
   "outputs": [
    {
     "name": "stdout",
     "output_type": "stream",
     "text": [
      "shape: (8, 1)\n",
      "┌────────────────────────────┐\n",
      "│ category                   │\n",
      "│ ---                        │\n",
      "│ str                        │\n",
      "╞════════════════════════════╡\n",
      "│ Theft from Vehicle         │\n",
      "│ Theft of Vehicle           │\n",
      "│ Robbery - Street           │\n",
      "│ Break-ins - Residential    │\n",
      "│ Robbery - Commercial       │\n",
      "│ Break-ins - Commercial     │\n",
      "│ Non-domestic Violence      │\n",
      "│ Break-ins - Other premises │\n",
      "└────────────────────────────┘\n"
     ]
    }
   ],
   "source": [
    "# Clean & transform - category\n",
    "print(\n",
    "    crime_data\n",
    "    .select('category')\n",
    "    .unique()\n",
    ")\n"
   ]
  },
  {
   "cell_type": "code",
   "execution_count": 173,
   "metadata": {},
   "outputs": [],
   "source": [
    "# Tweaking auto data\n",
    "@pl.StringCache()\n",
    "def tweak_crime_data(df):\n",
    "        \"\"\"\n",
    "        Cleans and transforms crime data for analysis.\n",
    "    \n",
    "        This function processes a DataFrame containing crime data by performing the following steps:\n",
    "        1. Selects relevant columns and renames them to lowercase.\n",
    "        2. Renames specific columns to more descriptive names.\n",
    "        3. Converts string columns to title case.\n",
    "        4. Converts the 'date' column to a datetime object and extracts year and month information.\n",
    "        5. Maps specific crime categories to standardized categories.\n",
    "        6. Identifies and flags rows where the community name starts with a number.\n",
    "        7. Sorts the DataFrame by 'community_name' and 'year'.\n",
    "        8. Filters out rows where the community name starts with a number.\n",
    "        9. Selects and returns the final set of relevant columns for analysis.\n",
    "    \n",
    "        Args:\n",
    "            df (pl.DataFrame): The input DataFrame containing crime data with columns 'Sector', 'Community Name', 'Category', 'Crime Count', and 'Date'.\n",
    "    \n",
    "        Returns:\n",
    "            pl.DataFrame: A cleaned and transformed DataFrame with relevant columns for analysis.\n",
    "        \"\"\"\n",
    "        cat_mappings = {\n",
    "        \"Assault (non-domestic)\": \"Non-domestic Violence\",\n",
    "        \"Break & Enter - Other Premises\": \"Break-ins - Other premises\",\n",
    "        \"Break & Enter - Dwelling\": \"Break-ins - Residential\",\n",
    "        \"Break & Enter - Commercial\": \"Break-ins - Commercial\",\n",
    "        \"Violence Other (non-domestic)\": \"Non-domestic Violence\",\n",
    "        \"Violence\\xa0 'other' (non-domestic)\": \"Non-domestic Violence\",\n",
    "        \"Commercial Robbery\": \"Robbery - Commercial\",\n",
    "        \"Theft Of Vehicle\": \"Theft of Vehicle\",\n",
    "        \"Theft From Vehicle\": \"Theft from Vehicle\",\n",
    "        \"Street Robbery\": \"Robbery - Street\"\n",
    "        }\n",
    "\n",
    "        return(\n",
    "            df   \n",
    "            .select('Sector', 'Community Name', 'Category', 'Crime Count', 'Date')\n",
    "            .rename(lambda col: col.lower().replace(' ', '_'))\n",
    "            .with_columns(cs.string().str.to_titlecase())\n",
    "            .with_columns(date=pl.col('date').str.to_datetime('%Y/%m').cast(pl.Datetime))\n",
    "            .with_columns(\n",
    "                year=pl.col('date').dt.year(),\n",
    "                month=pl.col('date').dt.month(),\n",
    "                year_month=pl.col('date').dt.strftime('%Y-%m'),\n",
    "                category=pl.col('category').str.strip_chars().replace(cat_mappings)\n",
    "            )\n",
    "           .with_columns(\n",
    "               starts_with_number=pl.col('community_name').str.contains(r'^(\\d+)')\n",
    "           )\n",
    "           .sort(['community_name', 'year', 'category'])\n",
    "           .filter(~pl.col('starts_with_number') & pl.col('sector').is_not_null())\n",
    "           .select('sector', 'community_name', 'category', 'crime_count', 'year_month', 'year', 'month')\n",
    "        )\n"
   ]
  },
  {
   "cell_type": "code",
   "execution_count": 174,
   "metadata": {},
   "outputs": [
    {
     "name": "stdout",
     "output_type": "stream",
     "text": [
      "shape: (78_775, 7)\n",
      "┌───────────┬────────────────┬────────────────────────┬─────────────┬────────────┬──────┬───────┐\n",
      "│ sector    ┆ community_name ┆ category               ┆ crime_count ┆ year_month ┆ year ┆ month │\n",
      "│ ---       ┆ ---            ┆ ---                    ┆ ---         ┆ ---        ┆ ---  ┆ ---   │\n",
      "│ str       ┆ str            ┆ str                    ┆ i64         ┆ str        ┆ i32  ┆ i8    │\n",
      "╞═══════════╪════════════════╪════════════════════════╪═════════════╪════════════╪══════╪═══════╡\n",
      "│ Northeast ┆ Abbeydale      ┆ Break-ins - Commercial ┆ 1           ┆ 2017-08    ┆ 2017 ┆ 8     │\n",
      "│ Northeast ┆ Abbeydale      ┆ Break-ins - Commercial ┆ 1           ┆ 2017-06    ┆ 2017 ┆ 6     │\n",
      "│ Northeast ┆ Abbeydale      ┆ Break-ins - Commercial ┆ 2           ┆ 2017-09    ┆ 2017 ┆ 9     │\n",
      "│ Northeast ┆ Abbeydale      ┆ Break-ins - Other      ┆ 1           ┆ 2017-08    ┆ 2017 ┆ 8     │\n",
      "│           ┆                ┆ premises               ┆             ┆            ┆      ┆       │\n",
      "│ Northeast ┆ Abbeydale      ┆ Break-ins - Other      ┆ 1           ┆ 2017-01    ┆ 2017 ┆ 1     │\n",
      "│           ┆                ┆ premises               ┆             ┆            ┆      ┆       │\n",
      "│ …         ┆ …              ┆ …                      ┆ …           ┆ …          ┆ …    ┆ …     │\n",
      "│ South     ┆ Yorkville      ┆ Theft of Vehicle       ┆ 2           ┆ 2022-04    ┆ 2022 ┆ 4     │\n",
      "│ South     ┆ Yorkville      ┆ Theft of Vehicle       ┆ 1           ┆ 2022-01    ┆ 2022 ┆ 1     │\n",
      "│ South     ┆ Yorkville      ┆ Theft from Vehicle     ┆ 1           ┆ 2023-02    ┆ 2023 ┆ 2     │\n",
      "│ South     ┆ Yorkville      ┆ Theft from Vehicle     ┆ 1           ┆ 2023-06    ┆ 2023 ┆ 6     │\n",
      "│ South     ┆ Yorkville      ┆ Theft of Vehicle       ┆ 1           ┆ 2023-03    ┆ 2023 ┆ 3     │\n",
      "└───────────┴────────────────┴────────────────────────┴─────────────┴────────────┴──────┴───────┘\n"
     ]
    }
   ],
   "source": [
    "# Let's our new function\n",
    "print(tweak_crime_data(crime_raw))"
   ]
  },
  {
   "cell_type": "code",
   "execution_count": 175,
   "metadata": {},
   "outputs": [
    {
     "name": "stdout",
     "output_type": "stream",
     "text": [
      "shape: (5, 7)\n",
      "┌───────────┬────────────────┬────────────────────────┬─────────────┬────────────┬──────┬───────┐\n",
      "│ sector    ┆ community_name ┆ category               ┆ crime_count ┆ year_month ┆ year ┆ month │\n",
      "│ ---       ┆ ---            ┆ ---                    ┆ ---         ┆ ---        ┆ ---  ┆ ---   │\n",
      "│ str       ┆ str            ┆ str                    ┆ i64         ┆ str        ┆ i32  ┆ i8    │\n",
      "╞═══════════╪════════════════╪════════════════════════╪═════════════╪════════════╪══════╪═══════╡\n",
      "│ Centre    ┆ Inglewood      ┆ Non-domestic Violence  ┆ 3           ┆ 2021-05    ┆ 2021 ┆ 5     │\n",
      "│ West      ┆ Glenbrook      ┆ Break-ins - Other      ┆ 1           ┆ 2021-03    ┆ 2021 ┆ 3     │\n",
      "│           ┆                ┆ premises               ┆             ┆            ┆      ┆       │\n",
      "│ Northwest ┆ Silver Springs ┆ Break-ins - Commercial ┆ 2           ┆ 2022-05    ┆ 2022 ┆ 5     │\n",
      "│ Northeast ┆ South Airways  ┆ Theft of Vehicle       ┆ 2           ┆ 2019-03    ┆ 2019 ┆ 3     │\n",
      "│ North     ┆ Evanston       ┆ Theft from Vehicle     ┆ 1           ┆ 2019-09    ┆ 2019 ┆ 9     │\n",
      "└───────────┴────────────────┴────────────────────────┴─────────────┴────────────┴──────┴───────┘\n"
     ]
    }
   ],
   "source": [
    "# clean and transform crime data with the new function \n",
    "df = tweak_crime_data(crime_raw)\n",
    "print(df.sample(5))"
   ]
  },
  {
   "cell_type": "code",
   "execution_count": 176,
   "metadata": {},
   "outputs": [
    {
     "name": "stdout",
     "output_type": "stream",
     "text": [
      "shape: (8, 2)\n",
      "┌────────────────────────────┬───────┐\n",
      "│ category                   ┆ total │\n",
      "│ ---                        ┆ ---   │\n",
      "│ str                        ┆ i64   │\n",
      "╞════════════════════════════╪═══════╡\n",
      "│ Theft from Vehicle         ┆ 81141 │\n",
      "│ Non-domestic Violence      ┆ 45395 │\n",
      "│ Theft of Vehicle           ┆ 35563 │\n",
      "│ Break-ins - Commercial     ┆ 28969 │\n",
      "│ Break-ins - Other premises ┆ 13753 │\n",
      "│ Break-ins - Residential    ┆ 13520 │\n",
      "│ Robbery - Street           ┆ 3930  │\n",
      "│ Robbery - Commercial       ┆ 2229  │\n",
      "└────────────────────────────┴───────┘\n"
     ]
    }
   ],
   "source": [
    "aa =(\n",
    "    df\n",
    "    .group_by('category')\n",
    "    .agg(total=pl.col('crime_count').sum())\n",
    "    .sort(['total', 'category'], descending=True)\n",
    ")\n",
    "\n",
    "print(aa)"
   ]
  },
  {
   "cell_type": "code",
   "execution_count": 177,
   "metadata": {},
   "outputs": [
    {
     "data": {
      "image/png": "[encoded data removed]"
     },
     "metadata": {
      "image/png": {
       "height": 480,
       "width": 640
      }
     },
     "output_type": "display_data"
    }
   ],
   "source": [
    "from plotnine import *\n",
    "cats = ['Theft from Vehicle', \n",
    "        'Non-domestic Violence',\n",
    "        'Theft of Vehicle', \n",
    "        'Break-ins - Commercial',\n",
    "        'Break-ins - Other premises',\n",
    "        'Break-ins - Residential',\n",
    "        'Robbery - Street',\n",
    "        'Robbery - Commercial']\n",
    "(\n",
    "    ggplot(aa, aes('category', 'total'))\n",
    "    + geom_col()\n",
    "    + scale_x_discrete(limits=cats,  expand=[0.01, 0.01])\n",
    "    + scale_y_continuous(limits=[0, 100_000],  expand=[0.01, 0.01])\n",
    "    + geom_label(aes(label='total'), nudge_y=3500, size=8)\n",
    "    + labs(\n",
    "        x='',\n",
    "        y='Crime Frequency',\n",
    "        title='Calgary Crime Activities by Category'\n",
    "    )\n",
    "     + theme_tufte()\n",
    "    + theme(\n",
    "        plot_title=element_text(color='grey', size=20, ha='left'),\n",
    "        axis_title_y=element_text(color='gray'),\n",
    "        axis_text_x=element_text(rotation=30, hjust=1)\n",
    "    )\n",
    "   \n",
    ")\n"
   ]
  },
  {
   "cell_type": "code",
   "execution_count": 178,
   "metadata": {},
   "outputs": [
    {
     "name": "stdout",
     "output_type": "stream",
     "text": [
      "shape: (5, 7)\n",
      "┌───────────┬────────────────┬────────────────────────┬─────────────┬────────────┬──────┬───────┐\n",
      "│ sector    ┆ community_name ┆ category               ┆ crime_count ┆ year_month ┆ year ┆ month │\n",
      "│ ---       ┆ ---            ┆ ---                    ┆ ---         ┆ ---        ┆ ---  ┆ ---   │\n",
      "│ str       ┆ str            ┆ str                    ┆ i64         ┆ str        ┆ i32  ┆ i8    │\n",
      "╞═══════════╪════════════════╪════════════════════════╪═════════════╪════════════╪══════╪═══════╡\n",
      "│ Northeast ┆ Abbeydale      ┆ Break-ins - Commercial ┆ 1           ┆ 2017-08    ┆ 2017 ┆ 8     │\n",
      "│ Northeast ┆ Abbeydale      ┆ Break-ins - Commercial ┆ 1           ┆ 2017-06    ┆ 2017 ┆ 6     │\n",
      "│ Northeast ┆ Abbeydale      ┆ Break-ins - Commercial ┆ 2           ┆ 2017-09    ┆ 2017 ┆ 9     │\n",
      "│ Northeast ┆ Abbeydale      ┆ Break-ins - Other      ┆ 1           ┆ 2017-08    ┆ 2017 ┆ 8     │\n",
      "│           ┆                ┆ premises               ┆             ┆            ┆      ┆       │\n",
      "│ Northeast ┆ Abbeydale      ┆ Break-ins - Other      ┆ 1           ┆ 2017-01    ┆ 2017 ┆ 1     │\n",
      "│           ┆                ┆ premises               ┆             ┆            ┆      ┆       │\n",
      "└───────────┴────────────────┴────────────────────────┴─────────────┴────────────┴──────┴───────┘\n"
     ]
    }
   ],
   "source": [
    "# Let's our new function\n",
    "cc = tweak_crime_data(crime_raw)\n",
    "\n",
    "# inspect the first 5 rows\n",
    "print(cc.head(5))"
   ]
  },
  {
   "cell_type": "code",
   "execution_count": 179,
   "metadata": {},
   "outputs": [
    {
     "name": "stdout",
     "output_type": "stream",
     "text": [
      "shape: (5, 7)\n",
      "┌────────┬────────────────┬────────────────────┬─────────────┬────────────┬──────┬───────┐\n",
      "│ sector ┆ community_name ┆ category           ┆ crime_count ┆ year_month ┆ year ┆ month │\n",
      "│ ---    ┆ ---            ┆ ---                ┆ ---         ┆ ---        ┆ ---  ┆ ---   │\n",
      "│ str    ┆ str            ┆ str                ┆ i64         ┆ str        ┆ i32  ┆ i8    │\n",
      "╞════════╪════════════════╪════════════════════╪═════════════╪════════════╪══════╪═══════╡\n",
      "│ South  ┆ Yorkville      ┆ Theft of Vehicle   ┆ 2           ┆ 2022-04    ┆ 2022 ┆ 4     │\n",
      "│ South  ┆ Yorkville      ┆ Theft of Vehicle   ┆ 1           ┆ 2022-01    ┆ 2022 ┆ 1     │\n",
      "│ South  ┆ Yorkville      ┆ Theft from Vehicle ┆ 1           ┆ 2023-02    ┆ 2023 ┆ 2     │\n",
      "│ South  ┆ Yorkville      ┆ Theft from Vehicle ┆ 1           ┆ 2023-06    ┆ 2023 ┆ 6     │\n",
      "│ South  ┆ Yorkville      ┆ Theft of Vehicle   ┆ 1           ┆ 2023-03    ┆ 2023 ┆ 3     │\n",
      "└────────┴────────────────┴────────────────────┴─────────────┴────────────┴──────┴───────┘\n"
     ]
    }
   ],
   "source": [
    "# inspect the last 5 rows\n",
    "print(cc.tail(5))"
   ]
  },
  {
   "cell_type": "code",
   "execution_count": 164,
   "metadata": {},
   "outputs": [
    {
     "name": "stdout",
     "output_type": "stream",
     "text": [
      "shape: (5, 5)\n",
      "┌───────────┬──────────────────┬───────────────────────────────┬─────────────┬─────────┐\n",
      "│ sector    ┆ community_name   ┆ category                      ┆ crime_count ┆ date    │\n",
      "│ ---       ┆ ---              ┆ ---                           ┆ ---         ┆ ---     │\n",
      "│ str       ┆ str              ┆ str                           ┆ i64         ┆ str     │\n",
      "╞═══════════╪══════════════════╪═══════════════════════════════╪═════════════╪═════════╡\n",
      "│ Centre    ┆ Richmond         ┆ Theft Of Vehicle              ┆ 9           ┆ 2020/09 │\n",
      "│ Northwest ┆ Arbour Lake      ┆ Break & Enter - Commercial    ┆ 3           ┆ 2017/04 │\n",
      "│ North     ┆ Huntington Hills ┆ Theft Of Vehicle              ┆ 4           ┆ 2017/11 │\n",
      "│ Southeast ┆ Riverbend        ┆ Violence Other (non-domestic) ┆ 1           ┆ 2018/04 │\n",
      "│ West      ┆ Rosscarrock      ┆ Street Robbery                ┆ 1           ┆ 2022/12 │\n",
      "└───────────┴──────────────────┴───────────────────────────────┴─────────────┴─────────┘\n"
     ]
    }
   ],
   "source": [
    "# Transforming string values\n",
    "cc_raw = (\n",
    "    crime_raw\n",
    "    # Selecting columns of interest\n",
    "    .select('Sector', 'Community Name', 'Category', 'Crime Count', 'Date')\n",
    "    # Converting column names to snake_case\n",
    "    .rename(lambda col: col.lower().replace(' ', '_'))\n",
    "    # Capitalizing string column values\n",
    "    .with_columns(cs.string().str.to_titlecase())\n",
    ")\n",
    "\n",
    "# inspect random rows\n",
    "print(cc_raw.sample(n=5, seed=254))"
   ]
  },
  {
   "cell_type": "code",
   "execution_count": 180,
   "metadata": {},
   "outputs": [
    {
     "name": "stdout",
     "output_type": "stream",
     "text": [
      "shape: (1_166, 5)\n",
      "┌───────────┬────────────────┬─────────────────────────────────┬─────────────┬─────────┐\n",
      "│ sector    ┆ community_name ┆ category                        ┆ crime_count ┆ date    │\n",
      "│ ---       ┆ ---            ┆ ---                             ┆ ---         ┆ ---     │\n",
      "│ str       ┆ str            ┆ str                             ┆ i64         ┆ str     │\n",
      "╞═══════════╪════════════════╪═════════════════════════════════╪═════════════╪═════════╡\n",
      "│ Northwest ┆ 02e            ┆ Violence  'other' (non-domesti… ┆ 1           ┆ 2022/04 │\n",
      "│ Southeast ┆ 12a            ┆ Theft Of Vehicle                ┆ 2           ┆ 2022/04 │\n",
      "│ Southeast ┆ 12j            ┆ Theft Of Vehicle                ┆ 1           ┆ 2022/04 │\n",
      "│ null      ┆ 05c            ┆ Theft Of Vehicle                ┆ 1           ┆ 2018/10 │\n",
      "│ null      ┆ 03i            ┆ Theft From Vehicle              ┆ 1           ┆ 2018/02 │\n",
      "│ …         ┆ …              ┆ …                               ┆ …           ┆ …       │\n",
      "│ Northwest ┆ 02e            ┆ Assault (non-domestic)          ┆ 4           ┆ 2020/07 │\n",
      "│ Southeast ┆ 12a            ┆ Break & Enter - Commercial      ┆ 3           ┆ 2020/10 │\n",
      "│ Northwest ┆ 02e            ┆ Assault (non-domestic)          ┆ 5           ┆ 2017/02 │\n",
      "│ Southeast ┆ 12a            ┆ Break & Enter - Commercial      ┆ 3           ┆ 2018/03 │\n",
      "│ Northwest ┆ 02e            ┆ Assault (non-domestic)          ┆ 7           ┆ 2018/06 │\n",
      "└───────────┴────────────────┴─────────────────────────────────┴─────────────┴─────────┘\n"
     ]
    }
   ],
   "source": [
    "# Filtering with Expressions\n",
    "starts_with_number = pl.col('community_name').str.contains(r'^(\\d+)')\n",
    "print(\n",
    "    cc_raw\n",
    "    .filter(starts_with_number)\n",
    ")"
   ]
  },
  {
   "cell_type": "code",
   "execution_count": 183,
   "metadata": {},
   "outputs": [
    {
     "name": "stdout",
     "output_type": "stream",
     "text": [
      "shape: (78_816, 5)\n",
      "┌───────────┬──────────────────────────┬────────────────────────────────┬─────────────┬─────────┐\n",
      "│ sector    ┆ community_name           ┆ category                       ┆ crime_count ┆ date    │\n",
      "│ ---       ┆ ---                      ┆ ---                            ┆ ---         ┆ ---     │\n",
      "│ str       ┆ str                      ┆ str                            ┆ i64         ┆ str     │\n",
      "╞═══════════╪══════════════════════════╪════════════════════════════════╪═════════════╪═════════╡\n",
      "│ Northeast ┆ Abbeydale                ┆ Assault (non-domestic)         ┆ 1           ┆ 2022/04 │\n",
      "│ Northeast ┆ Abbeydale                ┆ Break & Enter - Commercial     ┆ 2           ┆ 2022/04 │\n",
      "│ Northeast ┆ Abbeydale                ┆ Break & Enter - Other Premises ┆ 1           ┆ 2022/04 │\n",
      "│ Northeast ┆ Abbeydale                ┆ Theft From Vehicle             ┆ 5           ┆ 2022/04 │\n",
      "│ Northeast ┆ Abbeydale                ┆ Theft Of Vehicle               ┆ 4           ┆ 2022/04 │\n",
      "│ …         ┆ …                        ┆ …                              ┆ …           ┆ …       │\n",
      "│ Centre    ┆ Manchester               ┆ Theft From Vehicle             ┆ 4           ┆ 2018/12 │\n",
      "│ Centre    ┆ Downtown Commercial Core ┆ Break & Enter - Commercial     ┆ 27          ┆ 2021/01 │\n",
      "│ Centre    ┆ Shaganappi               ┆ Break & Enter - Commercial     ┆ 3           ┆ 2018/05 │\n",
      "│ Centre    ┆ Cliff Bungalow           ┆ Theft From Vehicle             ┆ 8           ┆ 2020/10 │\n",
      "│ Northwest ┆ Dalhousie                ┆ Assault (non-domestic)         ┆ 3           ┆ 2022/06 │\n",
      "└───────────┴──────────────────────────┴────────────────────────────────┴─────────────┴─────────┘\n"
     ]
    }
   ],
   "source": [
    "# Excluding community names that start with at least a digit\n",
    "starts_with_number = pl.col('community_name').str.contains(r'^(\\d+)')\n",
    "print(\n",
    "    cc_raw\n",
    "    .filter(~starts_with_number)\n",
    ")"
   ]
  },
  {
   "cell_type": "code",
   "execution_count": 217,
   "metadata": {},
   "outputs": [
    {
     "name": "stdout",
     "output_type": "stream",
     "text": [
      "shape: (692, 5)\n",
      "┌───────────┬────────────────┬─────────────────────────────────┬─────────────┬─────────┐\n",
      "│ sector    ┆ community_name ┆ category                        ┆ crime_count ┆ date    │\n",
      "│ ---       ┆ ---            ┆ ---                             ┆ ---         ┆ ---     │\n",
      "│ str       ┆ str            ┆ str                             ┆ i64         ┆ str     │\n",
      "╞═══════════╪════════════════╪═════════════════════════════════╪═════════════╪═════════╡\n",
      "│ Southeast ┆ Section 23     ┆ Assault (non-domestic)          ┆ 1           ┆ 2022/04 │\n",
      "│ Southeast ┆ Section 23     ┆ Theft Of Vehicle                ┆ 1           ┆ 2022/04 │\n",
      "│ North     ┆ Stoney 1       ┆ Theft From Vehicle              ┆ 2           ┆ 2022/04 │\n",
      "│ North     ┆ Stoney 1       ┆ Violence  'other' (non-domesti… ┆ 1           ┆ 2022/04 │\n",
      "│ Northeast ┆ Stoney 2       ┆ Break & Enter - Other Premises  ┆ 1           ┆ 2022/04 │\n",
      "│ …         ┆ …              ┆ …                               ┆ …           ┆ …       │\n",
      "│ Northeast ┆ Stoney 3       ┆ Theft From Vehicle              ┆ 4           ┆ 2020/08 │\n",
      "│ Northeast ┆ Stoney 3       ┆ Theft From Vehicle              ┆ 3           ┆ 2021/08 │\n",
      "│ Northeast ┆ Stoney 3       ┆ Break & Enter - Commercial      ┆ 5           ┆ 2020/03 │\n",
      "│ Northeast ┆ Stoney 2       ┆ Theft From Vehicle              ┆ 11          ┆ 2020/02 │\n",
      "│ North     ┆ Stoney 1       ┆ Break & Enter - Commercial      ┆ 3           ┆ 2020/07 │\n",
      "└───────────┴────────────────┴─────────────────────────────────┴─────────────┴─────────┘\n"
     ]
    }
   ],
   "source": [
    "# Filtering with the crime count column\n",
    "ends_with_number = pl.col('community_name').str.contains(r'(\\d+)$')\n",
    "print(\n",
    "    cc_raw\n",
    "    .filter(ends_with_number)\n",
    ")"
   ]
  },
  {
   "cell_type": "code",
   "execution_count": 201,
   "metadata": {},
   "outputs": [
    {
     "name": "stdout",
     "output_type": "stream",
     "text": [
      "shape: (79_290, 5)\n",
      "┌───────────┬──────────────────────────┬─────────────────────────────────┬─────────────┬─────────┐\n",
      "│ sector    ┆ community_name           ┆ category                        ┆ crime_count ┆ date    │\n",
      "│ ---       ┆ ---                      ┆ ---                             ┆ ---         ┆ ---     │\n",
      "│ str       ┆ str                      ┆ str                             ┆ i64         ┆ str     │\n",
      "╞═══════════╪══════════════════════════╪═════════════════════════════════╪═════════════╪═════════╡\n",
      "│ Northwest ┆ 02e                      ┆ Violence  'other' (non-domesti… ┆ 1           ┆ 2022/04 │\n",
      "│ Southeast ┆ 12a                      ┆ Theft Of Vehicle                ┆ 2           ┆ 2022/04 │\n",
      "│ Southeast ┆ 12j                      ┆ Theft Of Vehicle                ┆ 1           ┆ 2022/04 │\n",
      "│ Northeast ┆ Abbeydale                ┆ Assault (non-domestic)          ┆ 1           ┆ 2022/04 │\n",
      "│ Northeast ┆ Abbeydale                ┆ Break & Enter - Commercial      ┆ 2           ┆ 2022/04 │\n",
      "│ …         ┆ …                        ┆ …                               ┆ …           ┆ …       │\n",
      "│ Centre    ┆ Manchester               ┆ Theft From Vehicle              ┆ 4           ┆ 2018/12 │\n",
      "│ Centre    ┆ Downtown Commercial Core ┆ Break & Enter - Commercial      ┆ 27          ┆ 2021/01 │\n",
      "│ Centre    ┆ Shaganappi               ┆ Break & Enter - Commercial      ┆ 3           ┆ 2018/05 │\n",
      "│ Centre    ┆ Cliff Bungalow           ┆ Theft From Vehicle              ┆ 8           ┆ 2020/10 │\n",
      "│ Northwest ┆ Dalhousie                ┆ Assault (non-domestic)          ┆ 3           ┆ 2022/06 │\n",
      "└───────────┴──────────────────────────┴─────────────────────────────────┴─────────────┴─────────┘\n"
     ]
    }
   ],
   "source": [
    "# Filtering with the crime count column\n",
    "ends_with_number = pl.col('community_name').str.contains(r'(\\d)$')\n",
    "print(\n",
    "    cc_raw\n",
    "    .filter(~ends_with_number)\n",
    ")"
   ]
  },
  {
   "cell_type": "code",
   "execution_count": 226,
   "metadata": {},
   "outputs": [
    {
     "name": "stdout",
     "output_type": "stream",
     "text": [
      "shape: (1_858, 5)\n",
      "┌───────────┬────────────────┬─────────────────────────────────┬─────────────┬─────────┐\n",
      "│ sector    ┆ community_name ┆ category                        ┆ crime_count ┆ date    │\n",
      "│ ---       ┆ ---            ┆ ---                             ┆ ---         ┆ ---     │\n",
      "│ str       ┆ str            ┆ str                             ┆ i64         ┆ str     │\n",
      "╞═══════════╪════════════════╪═════════════════════════════════╪═════════════╪═════════╡\n",
      "│ Northwest ┆ 02e            ┆ Violence  'other' (non-domesti… ┆ 1           ┆ 2022/04 │\n",
      "│ Southeast ┆ 12a            ┆ Theft Of Vehicle                ┆ 2           ┆ 2022/04 │\n",
      "│ Southeast ┆ 12j            ┆ Theft Of Vehicle                ┆ 1           ┆ 2022/04 │\n",
      "│ null      ┆ 05c            ┆ Theft Of Vehicle                ┆ 1           ┆ 2018/10 │\n",
      "│ null      ┆ 03i            ┆ Theft From Vehicle              ┆ 1           ┆ 2018/02 │\n",
      "│ …         ┆ …              ┆ …                               ┆ …           ┆ …       │\n",
      "│ Northeast ┆ Stoney 3       ┆ Theft From Vehicle              ┆ 3           ┆ 2021/08 │\n",
      "│ Northwest ┆ 02e            ┆ Assault (non-domestic)          ┆ 7           ┆ 2018/06 │\n",
      "│ Northeast ┆ Stoney 3       ┆ Break & Enter - Commercial      ┆ 5           ┆ 2020/03 │\n",
      "│ Northeast ┆ Stoney 2       ┆ Theft From Vehicle              ┆ 11          ┆ 2020/02 │\n",
      "│ North     ┆ Stoney 1       ┆ Break & Enter - Commercial      ┆ 3           ┆ 2020/07 │\n",
      "└───────────┴────────────────┴─────────────────────────────────┴─────────────┴─────────┘\n"
     ]
    }
   ],
   "source": [
    "# Filtering with the crime count column\n",
    "ends_with_number = pl.col('community_name').str.contains(r'(\\d)$')\n",
    "print(\n",
    "    cc_raw\n",
    "    .filter(starts_with_number | ends_with_number)\n",
    ")"
   ]
  },
  {
   "cell_type": "code",
   "execution_count": 227,
   "metadata": {},
   "outputs": [
    {
     "name": "stdout",
     "output_type": "stream",
     "text": [
      "shape: (78_124, 5)\n",
      "┌───────────┬──────────────────────────┬────────────────────────────────┬─────────────┬─────────┐\n",
      "│ sector    ┆ community_name           ┆ category                       ┆ crime_count ┆ date    │\n",
      "│ ---       ┆ ---                      ┆ ---                            ┆ ---         ┆ ---     │\n",
      "│ str       ┆ str                      ┆ str                            ┆ i64         ┆ str     │\n",
      "╞═══════════╪══════════════════════════╪════════════════════════════════╪═════════════╪═════════╡\n",
      "│ Northeast ┆ Abbeydale                ┆ Assault (non-domestic)         ┆ 1           ┆ 2022/04 │\n",
      "│ Northeast ┆ Abbeydale                ┆ Break & Enter - Commercial     ┆ 2           ┆ 2022/04 │\n",
      "│ Northeast ┆ Abbeydale                ┆ Break & Enter - Other Premises ┆ 1           ┆ 2022/04 │\n",
      "│ Northeast ┆ Abbeydale                ┆ Theft From Vehicle             ┆ 5           ┆ 2022/04 │\n",
      "│ Northeast ┆ Abbeydale                ┆ Theft Of Vehicle               ┆ 4           ┆ 2022/04 │\n",
      "│ …         ┆ …                        ┆ …                              ┆ …           ┆ …       │\n",
      "│ Centre    ┆ Manchester               ┆ Theft From Vehicle             ┆ 4           ┆ 2018/12 │\n",
      "│ Centre    ┆ Downtown Commercial Core ┆ Break & Enter - Commercial     ┆ 27          ┆ 2021/01 │\n",
      "│ Centre    ┆ Shaganappi               ┆ Break & Enter - Commercial     ┆ 3           ┆ 2018/05 │\n",
      "│ Centre    ┆ Cliff Bungalow           ┆ Theft From Vehicle             ┆ 8           ┆ 2020/10 │\n",
      "│ Northwest ┆ Dalhousie                ┆ Assault (non-domestic)         ┆ 3           ┆ 2022/06 │\n",
      "└───────────┴──────────────────────────┴────────────────────────────────┴─────────────┴─────────┘\n"
     ]
    }
   ],
   "source": [
    "# Filtering with the crime count column\n",
    "ends_with_number = pl.col('community_name').str.contains(r'(\\d)$')\n",
    "print(\n",
    "    cc_raw\n",
    "    .filter(~(starts_with_number | ends_with_number))\n",
    ")"
   ]
  },
  {
   "cell_type": "code",
   "execution_count": 228,
   "metadata": {},
   "outputs": [
    {
     "name": "stdout",
     "output_type": "stream",
     "text": [
      "shape: (1_870, 5)\n",
      "┌───────────┬────────────────┬─────────────────────────────────┬─────────────┬─────────┐\n",
      "│ sector    ┆ community_name ┆ category                        ┆ crime_count ┆ date    │\n",
      "│ ---       ┆ ---            ┆ ---                             ┆ ---         ┆ ---     │\n",
      "│ str       ┆ str            ┆ str                             ┆ i64         ┆ str     │\n",
      "╞═══════════╪════════════════╪═════════════════════════════════╪═════════════╪═════════╡\n",
      "│ Northwest ┆ 02e            ┆ Violence  'other' (non-domesti… ┆ 1           ┆ 2022/04 │\n",
      "│ Southeast ┆ 12a            ┆ Theft Of Vehicle                ┆ 2           ┆ 2022/04 │\n",
      "│ Southeast ┆ 12j            ┆ Theft Of Vehicle                ┆ 1           ┆ 2022/04 │\n",
      "│ null      ┆ 05c            ┆ Theft Of Vehicle                ┆ 1           ┆ 2018/10 │\n",
      "│ null      ┆ 03i            ┆ Theft From Vehicle              ┆ 1           ┆ 2018/02 │\n",
      "│ …         ┆ …              ┆ …                               ┆ …           ┆ …       │\n",
      "│ Northeast ┆ Stoney 3       ┆ Theft From Vehicle              ┆ 3           ┆ 2021/08 │\n",
      "│ Northwest ┆ 02e            ┆ Assault (non-domestic)          ┆ 7           ┆ 2018/06 │\n",
      "│ Northeast ┆ Stoney 3       ┆ Break & Enter - Commercial      ┆ 5           ┆ 2020/03 │\n",
      "│ Northeast ┆ Stoney 2       ┆ Theft From Vehicle              ┆ 11          ┆ 2020/02 │\n",
      "│ North     ┆ Stoney 1       ┆ Break & Enter - Commercial      ┆ 3           ┆ 2020/07 │\n",
      "└───────────┴────────────────┴─────────────────────────────────┴─────────────┴─────────┘\n"
     ]
    }
   ],
   "source": [
    "# Filtering with the crime count column\n",
    "contains_a_number = pl.col('community_name').str.contains(r'(\\d+)')\n",
    "print(\n",
    "    cc_raw\n",
    "    .filter(contains_a_number)\n",
    ")"
   ]
  },
  {
   "cell_type": "code",
   "execution_count": 187,
   "metadata": {},
   "outputs": [
    {
     "name": "stdout",
     "output_type": "stream",
     "text": [
      "shape: (26_821, 5)\n",
      "┌───────────┬──────────────────────────────┬────────────────────────────┬─────────────┬─────────┐\n",
      "│ sector    ┆ community_name               ┆ category                   ┆ crime_count ┆ date    │\n",
      "│ ---       ┆ ---                          ┆ ---                        ┆ ---         ┆ ---     │\n",
      "│ str       ┆ str                          ┆ str                        ┆ i64         ┆ str     │\n",
      "╞═══════════╪══════════════════════════════╪════════════════════════════╪═════════════╪═════════╡\n",
      "│ Northeast ┆ Abbeydale                    ┆ Theft From Vehicle         ┆ 5           ┆ 2022/04 │\n",
      "│ Northeast ┆ Abbeydale                    ┆ Theft Of Vehicle           ┆ 4           ┆ 2022/04 │\n",
      "│ South     ┆ Acadia                       ┆ Break & Enter - Commercial ┆ 3           ┆ 2022/04 │\n",
      "│ East      ┆ Albert Park/radisson Heights ┆ Assault (non-domestic)     ┆ 5           ┆ 2022/04 │\n",
      "│ East      ┆ Albert Park/radisson Heights ┆ Theft From Vehicle         ┆ 9           ┆ 2022/04 │\n",
      "│ …         ┆ …                            ┆ …                          ┆ …           ┆ …       │\n",
      "│ Centre    ┆ Manchester                   ┆ Theft From Vehicle         ┆ 4           ┆ 2018/12 │\n",
      "│ Centre    ┆ Downtown Commercial Core     ┆ Break & Enter - Commercial ┆ 27          ┆ 2021/01 │\n",
      "│ Centre    ┆ Shaganappi                   ┆ Break & Enter - Commercial ┆ 3           ┆ 2018/05 │\n",
      "│ Centre    ┆ Cliff Bungalow               ┆ Theft From Vehicle         ┆ 8           ┆ 2020/10 │\n",
      "│ Northwest ┆ Dalhousie                    ┆ Assault (non-domestic)     ┆ 3           ┆ 2022/06 │\n",
      "└───────────┴──────────────────────────────┴────────────────────────────┴─────────────┴─────────┘\n"
     ]
    }
   ],
   "source": [
    "# Filtering with the crime count column\n",
    "starts_with_number = pl.col('community_name').str.contains(r'^(\\d+)')\n",
    "print(\n",
    "    cc_raw\n",
    "    .filter(~starts_with_number & (pl.col('crime_count') >= 3))\n",
    ")"
   ]
  },
  {
   "cell_type": "code",
   "execution_count": 190,
   "metadata": {},
   "outputs": [
    {
     "name": "stdout",
     "output_type": "stream",
     "text": [
      "shape: (5, 5)\n",
      "┌───────────┬──────────────────┬────────────────────────────┬─────────────┬─────────┐\n",
      "│ sector    ┆ community_name   ┆ category                   ┆ crime_count ┆ date    │\n",
      "│ ---       ┆ ---              ┆ ---                        ┆ ---         ┆ ---     │\n",
      "│ str       ┆ str              ┆ str                        ┆ i64         ┆ str     │\n",
      "╞═══════════╪══════════════════╪════════════════════════════╪═════════════╪═════════╡\n",
      "│ Northeast ┆ Marlborough Park ┆ Assault (non-domestic)     ┆ 3           ┆ 2020/10 │\n",
      "│ West      ┆ Spruce Cliff     ┆ Theft From Vehicle         ┆ 3           ┆ 2020/03 │\n",
      "│ Northeast ┆ Sunridge         ┆ Break & Enter - Commercial ┆ 3           ┆ 2018/11 │\n",
      "│ Centre    ┆ Shaganappi       ┆ Break & Enter - Commercial ┆ 3           ┆ 2018/05 │\n",
      "│ Northwest ┆ Dalhousie        ┆ Assault (non-domestic)     ┆ 3           ┆ 2022/06 │\n",
      "└───────────┴──────────────────┴────────────────────────────┴─────────────┴─────────┘\n"
     ]
    }
   ],
   "source": [
    "# Filtering with the crime count column\n",
    "starts_with_number = pl.col('community_name').str.contains(r'^(\\d+)')\n",
    "print(\n",
    "    cc_raw\n",
    "    .filter(~starts_with_number & (pl.col('crime_count').is_between(1, 3)))\n",
    "    .sort('crime_count')\n",
    "    .tail()\n",
    ")"
   ]
  },
  {
   "cell_type": "code",
   "execution_count": 205,
   "metadata": {},
   "outputs": [
    {
     "name": "stdout",
     "output_type": "stream",
     "text": [
      "shape: (78_775, 7)\n",
      "┌───────────┬────────────────┬────────────────────────┬─────────────┬────────────┬──────┬───────┐\n",
      "│ sector    ┆ community_name ┆ category               ┆ crime_count ┆ year_month ┆ year ┆ month │\n",
      "│ ---       ┆ ---            ┆ ---                    ┆ ---         ┆ ---        ┆ ---  ┆ ---   │\n",
      "│ str       ┆ str            ┆ str                    ┆ i64         ┆ str        ┆ i32  ┆ i8    │\n",
      "╞═══════════╪════════════════╪════════════════════════╪═════════════╪════════════╪══════╪═══════╡\n",
      "│ Northeast ┆ Abbeydale      ┆ Break-ins - Commercial ┆ 1           ┆ 2017-08    ┆ 2017 ┆ 8     │\n",
      "│ Northeast ┆ Abbeydale      ┆ Break-ins - Commercial ┆ 1           ┆ 2017-06    ┆ 2017 ┆ 6     │\n",
      "│ Northeast ┆ Abbeydale      ┆ Break-ins - Commercial ┆ 2           ┆ 2017-09    ┆ 2017 ┆ 9     │\n",
      "│ Northeast ┆ Abbeydale      ┆ Break-ins - Other      ┆ 1           ┆ 2017-08    ┆ 2017 ┆ 8     │\n",
      "│           ┆                ┆ premises               ┆             ┆            ┆      ┆       │\n",
      "│ Northeast ┆ Abbeydale      ┆ Break-ins - Other      ┆ 1           ┆ 2017-01    ┆ 2017 ┆ 1     │\n",
      "│           ┆                ┆ premises               ┆             ┆            ┆      ┆       │\n",
      "│ …         ┆ …              ┆ …                      ┆ …           ┆ …          ┆ …    ┆ …     │\n",
      "│ South     ┆ Yorkville      ┆ Theft of Vehicle       ┆ 2           ┆ 2022-04    ┆ 2022 ┆ 4     │\n",
      "│ South     ┆ Yorkville      ┆ Theft of Vehicle       ┆ 1           ┆ 2022-01    ┆ 2022 ┆ 1     │\n",
      "│ South     ┆ Yorkville      ┆ Theft from Vehicle     ┆ 1           ┆ 2023-02    ┆ 2023 ┆ 2     │\n",
      "│ South     ┆ Yorkville      ┆ Theft from Vehicle     ┆ 1           ┆ 2023-06    ┆ 2023 ┆ 6     │\n",
      "│ South     ┆ Yorkville      ┆ Theft of Vehicle       ┆ 1           ┆ 2023-03    ┆ 2023 ┆ 3     │\n",
      "└───────────┴────────────────┴────────────────────────┴─────────────┴────────────┴──────┴───────┘\n"
     ]
    }
   ],
   "source": [
    "# Clean and transform the data with tweak_crime_data function\n",
    "cc = tweak_crime_data(crime_raw)\n",
    "\n",
    "# inspect the first 5 rows\n",
    "print(cc)"
   ]
  },
  {
   "cell_type": "code",
   "execution_count": 206,
   "metadata": {},
   "outputs": [
    {
     "name": "stdout",
     "output_type": "stream",
     "text": [
      "shape: (22_872, 7)\n",
      "┌───────────┬────────────────┬────────────────────────┬─────────────┬────────────┬──────┬───────┐\n",
      "│ sector    ┆ community_name ┆ category               ┆ crime_count ┆ year_month ┆ year ┆ month │\n",
      "│ ---       ┆ ---            ┆ ---                    ┆ ---         ┆ ---        ┆ ---  ┆ ---   │\n",
      "│ str       ┆ str            ┆ str                    ┆ i64         ┆ str        ┆ i32  ┆ i8    │\n",
      "╞═══════════╪════════════════╪════════════════════════╪═════════════╪════════════╪══════╪═══════╡\n",
      "│ Northeast ┆ Abbeydale      ┆ Break-ins - Commercial ┆ 1           ┆ 2022-10    ┆ 2022 ┆ 10    │\n",
      "│ Northeast ┆ Abbeydale      ┆ Break-ins - Commercial ┆ 1           ┆ 2022-06    ┆ 2022 ┆ 6     │\n",
      "│ Northeast ┆ Abbeydale      ┆ Break-ins - Commercial ┆ 2           ┆ 2022-04    ┆ 2022 ┆ 4     │\n",
      "│ Northeast ┆ Abbeydale      ┆ Break-ins - Other      ┆ 1           ┆ 2022-06    ┆ 2022 ┆ 6     │\n",
      "│           ┆                ┆ premises               ┆             ┆            ┆      ┆       │\n",
      "│ Northeast ┆ Abbeydale      ┆ Break-ins - Other      ┆ 2           ┆ 2022-08    ┆ 2022 ┆ 8     │\n",
      "│           ┆                ┆ premises               ┆             ┆            ┆      ┆       │\n",
      "│ …         ┆ …              ┆ …                      ┆ …           ┆ …          ┆ …    ┆ …     │\n",
      "│ South     ┆ Yorkville      ┆ Theft of Vehicle       ┆ 2           ┆ 2022-04    ┆ 2022 ┆ 4     │\n",
      "│ South     ┆ Yorkville      ┆ Theft of Vehicle       ┆ 1           ┆ 2022-01    ┆ 2022 ┆ 1     │\n",
      "│ South     ┆ Yorkville      ┆ Theft from Vehicle     ┆ 1           ┆ 2023-02    ┆ 2023 ┆ 2     │\n",
      "│ South     ┆ Yorkville      ┆ Theft from Vehicle     ┆ 1           ┆ 2023-06    ┆ 2023 ┆ 6     │\n",
      "│ South     ┆ Yorkville      ┆ Theft of Vehicle       ┆ 1           ┆ 2023-03    ┆ 2023 ┆ 3     │\n",
      "└───────────┴────────────────┴────────────────────────┴─────────────┴────────────┴──────┴───────┘\n"
     ]
    }
   ],
   "source": [
    "# Filtering with dates\n",
    "print(\n",
    "    cc\n",
    "    .filter(pl.col('year') > 2021)\n",
    ")"
   ]
  },
  {
   "cell_type": "code",
   "execution_count": 207,
   "metadata": {},
   "outputs": [
    {
     "name": "stdout",
     "output_type": "stream",
     "text": [
      "shape: (35_895, 7)\n",
      "┌───────────┬────────────────┬────────────────────────┬─────────────┬────────────┬──────┬───────┐\n",
      "│ sector    ┆ community_name ┆ category               ┆ crime_count ┆ year_month ┆ year ┆ month │\n",
      "│ ---       ┆ ---            ┆ ---                    ┆ ---         ┆ ---        ┆ ---  ┆ ---   │\n",
      "│ str       ┆ str            ┆ str                    ┆ i64         ┆ str        ┆ i32  ┆ i8    │\n",
      "╞═══════════╪════════════════╪════════════════════════╪═════════════╪════════════╪══════╪═══════╡\n",
      "│ Northeast ┆ Abbeydale      ┆ Break-ins - Commercial ┆ 1           ┆ 2020-10    ┆ 2020 ┆ 10    │\n",
      "│ Northeast ┆ Abbeydale      ┆ Break-ins - Other      ┆ 1           ┆ 2020-02    ┆ 2020 ┆ 2     │\n",
      "│           ┆                ┆ premises               ┆             ┆            ┆      ┆       │\n",
      "│ Northeast ┆ Abbeydale      ┆ Break-ins - Other      ┆ 1           ┆ 2020-04    ┆ 2020 ┆ 4     │\n",
      "│           ┆                ┆ premises               ┆             ┆            ┆      ┆       │\n",
      "│ Northeast ┆ Abbeydale      ┆ Break-ins - Other      ┆ 1           ┆ 2020-08    ┆ 2020 ┆ 8     │\n",
      "│           ┆                ┆ premises               ┆             ┆            ┆      ┆       │\n",
      "│ Northeast ┆ Abbeydale      ┆ Break-ins - Other      ┆ 2           ┆ 2020-03    ┆ 2020 ┆ 3     │\n",
      "│           ┆                ┆ premises               ┆             ┆            ┆      ┆       │\n",
      "│ …         ┆ …              ┆ …                      ┆ …           ┆ …          ┆ …    ┆ …     │\n",
      "│ South     ┆ Yorkville      ┆ Theft from Vehicle     ┆ 2           ┆ 2022-12    ┆ 2022 ┆ 12    │\n",
      "│ South     ┆ Yorkville      ┆ Theft from Vehicle     ┆ 1           ┆ 2022-11    ┆ 2022 ┆ 11    │\n",
      "│ South     ┆ Yorkville      ┆ Theft of Vehicle       ┆ 1           ┆ 2022-09    ┆ 2022 ┆ 9     │\n",
      "│ South     ┆ Yorkville      ┆ Theft of Vehicle       ┆ 2           ┆ 2022-04    ┆ 2022 ┆ 4     │\n",
      "│ South     ┆ Yorkville      ┆ Theft of Vehicle       ┆ 1           ┆ 2022-01    ┆ 2022 ┆ 1     │\n",
      "└───────────┴────────────────┴────────────────────────┴─────────────┴────────────┴──────┴───────┘\n"
     ]
    }
   ],
   "source": [
    "# Filtering with dates\n",
    "print(\n",
    "    cc\n",
    "    .filter(pl.col('year') > 2019, pl.col('year') < 2023)\n",
    ")"
   ]
  },
  {
   "cell_type": "code",
   "execution_count": 218,
   "metadata": {},
   "outputs": [
    {
     "name": "stdout",
     "output_type": "stream",
     "text": [
      "shape: (35_895, 7)\n",
      "┌───────────┬────────────────┬────────────────────────┬─────────────┬────────────┬──────┬───────┐\n",
      "│ sector    ┆ community_name ┆ category               ┆ crime_count ┆ year_month ┆ year ┆ month │\n",
      "│ ---       ┆ ---            ┆ ---                    ┆ ---         ┆ ---        ┆ ---  ┆ ---   │\n",
      "│ str       ┆ str            ┆ str                    ┆ i64         ┆ str        ┆ i32  ┆ i8    │\n",
      "╞═══════════╪════════════════╪════════════════════════╪═════════════╪════════════╪══════╪═══════╡\n",
      "│ Northeast ┆ Abbeydale      ┆ Break-ins - Commercial ┆ 1           ┆ 2020-10    ┆ 2020 ┆ 10    │\n",
      "│ Northeast ┆ Abbeydale      ┆ Break-ins - Other      ┆ 1           ┆ 2020-02    ┆ 2020 ┆ 2     │\n",
      "│           ┆                ┆ premises               ┆             ┆            ┆      ┆       │\n",
      "│ Northeast ┆ Abbeydale      ┆ Break-ins - Other      ┆ 1           ┆ 2020-04    ┆ 2020 ┆ 4     │\n",
      "│           ┆                ┆ premises               ┆             ┆            ┆      ┆       │\n",
      "│ Northeast ┆ Abbeydale      ┆ Break-ins - Other      ┆ 1           ┆ 2020-08    ┆ 2020 ┆ 8     │\n",
      "│           ┆                ┆ premises               ┆             ┆            ┆      ┆       │\n",
      "│ Northeast ┆ Abbeydale      ┆ Break-ins - Other      ┆ 2           ┆ 2020-03    ┆ 2020 ┆ 3     │\n",
      "│           ┆                ┆ premises               ┆             ┆            ┆      ┆       │\n",
      "│ …         ┆ …              ┆ …                      ┆ …           ┆ …          ┆ …    ┆ …     │\n",
      "│ South     ┆ Yorkville      ┆ Theft from Vehicle     ┆ 2           ┆ 2022-12    ┆ 2022 ┆ 12    │\n",
      "│ South     ┆ Yorkville      ┆ Theft from Vehicle     ┆ 1           ┆ 2022-11    ┆ 2022 ┆ 11    │\n",
      "│ South     ┆ Yorkville      ┆ Theft of Vehicle       ┆ 1           ┆ 2022-09    ┆ 2022 ┆ 9     │\n",
      "│ South     ┆ Yorkville      ┆ Theft of Vehicle       ┆ 2           ┆ 2022-04    ┆ 2022 ┆ 4     │\n",
      "│ South     ┆ Yorkville      ┆ Theft of Vehicle       ┆ 1           ┆ 2022-01    ┆ 2022 ┆ 1     │\n",
      "└───────────┴────────────────┴────────────────────────┴─────────────┴────────────┴──────┴───────┘\n"
     ]
    }
   ],
   "source": [
    "# Filtering with dates\n",
    "print(\n",
    "    cc\n",
    "    .filter((pl.col('year') > 2019) & (pl.col('year') < 2023))\n",
    ")"
   ]
  },
  {
   "cell_type": "code",
   "execution_count": 214,
   "metadata": {},
   "outputs": [
    {
     "name": "stdout",
     "output_type": "stream",
     "text": [
      "shape: (5_516, 7)\n",
      "┌───────────┬────────────────┬───────────────────────────┬─────────────┬────────────┬──────┬───────┐\n",
      "│ sector    ┆ community_name ┆ category                  ┆ crime_count ┆ year_month ┆ year ┆ month │\n",
      "│ ---       ┆ ---            ┆ ---                       ┆ ---         ┆ ---        ┆ ---  ┆ ---   │\n",
      "│ str       ┆ str            ┆ str                       ┆ i64         ┆ str        ┆ i32  ┆ i8    │\n",
      "╞═══════════╪════════════════╪═══════════════════════════╪═════════════╪════════════╪══════╪═══════╡\n",
      "│ Northeast ┆ Abbeydale      ┆ Break-ins - Other         ┆ 1           ┆ 2023-01    ┆ 2023 ┆ 1     │\n",
      "│           ┆                ┆ premises                  ┆             ┆            ┆      ┆       │\n",
      "│ Northeast ┆ Abbeydale      ┆ Break-ins - Residential   ┆ 1           ┆ 2023-03    ┆ 2023 ┆ 3     │\n",
      "│ Northeast ┆ Abbeydale      ┆ Break-ins - Residential   ┆ 1           ┆ 2023-05    ┆ 2023 ┆ 5     │\n",
      "│ Northeast ┆ Abbeydale      ┆ Break-ins - Residential   ┆ 2           ┆ 2023-04    ┆ 2023 ┆ 4     │\n",
      "│ Northeast ┆ Abbeydale      ┆ Non-domestic Violence     ┆ 1           ┆ 2023-03    ┆ 2023 ┆ 3     │\n",
      "│ …         ┆ …              ┆ …                         ┆ …           ┆ …          ┆ …    ┆ …     │\n",
      "│ South     ┆ Woodlands      ┆ Theft of Vehicle          ┆ 1           ┆ 2023-05    ┆ 2023 ┆ 5     │\n",
      "│ South     ┆ Woodlands      ┆ Theft of Vehicle          ┆ 1           ┆ 2023-02    ┆ 2023 ┆ 2     │\n",
      "│ South     ┆ Woodlands      ┆ Theft of Vehicle          ┆ 1           ┆ 2023-04    ┆ 2023 ┆ 4     │\n",
      "│ South     ┆ Yorkville      ┆ Theft from Vehicle        ┆ 1           ┆ 2023-02    ┆ 2023 ┆ 2     │\n",
      "│ South     ┆ Yorkville      ┆ Theft of Vehicle          ┆ 1           ┆ 2023-03    ┆ 2023 ┆ 3     │\n",
      "└───────────┴────────────────┴───────────────────────────┴─────────────┴────────────┴──────┴───────┘\n"
     ]
    }
   ],
   "source": [
    "# Filtering with dates\n",
    "print(\n",
    "    cc\n",
    "    .filter(pl.col('year') == 2023, pl.col('month').is_between(1, 5))\n",
    ")"
   ]
  },
  {
   "cell_type": "code",
   "execution_count": 215,
   "metadata": {},
   "outputs": [
    {
     "name": "stdout",
     "output_type": "stream",
     "text": [
      "shape: (5_516, 7)\n",
      "┌───────────┬────────────────┬───────────────────────────┬─────────────┬────────────┬──────┬───────┐\n",
      "│ sector    ┆ community_name ┆ category                  ┆ crime_count ┆ year_month ┆ year ┆ month │\n",
      "│ ---       ┆ ---            ┆ ---                       ┆ ---         ┆ ---        ┆ ---  ┆ ---   │\n",
      "│ str       ┆ str            ┆ str                       ┆ i64         ┆ str        ┆ i32  ┆ i8    │\n",
      "╞═══════════╪════════════════╪═══════════════════════════╪═════════════╪════════════╪══════╪═══════╡\n",
      "│ Northeast ┆ Abbeydale      ┆ Break-ins - Other         ┆ 1           ┆ 2023-01    ┆ 2023 ┆ 1     │\n",
      "│           ┆                ┆ premises                  ┆             ┆            ┆      ┆       │\n",
      "│ Northeast ┆ Abbeydale      ┆ Break-ins - Residential   ┆ 1           ┆ 2023-03    ┆ 2023 ┆ 3     │\n",
      "│ Northeast ┆ Abbeydale      ┆ Break-ins - Residential   ┆ 1           ┆ 2023-05    ┆ 2023 ┆ 5     │\n",
      "│ Northeast ┆ Abbeydale      ┆ Break-ins - Residential   ┆ 2           ┆ 2023-04    ┆ 2023 ┆ 4     │\n",
      "│ Northeast ┆ Abbeydale      ┆ Non-domestic Violence     ┆ 1           ┆ 2023-03    ┆ 2023 ┆ 3     │\n",
      "│ …         ┆ …              ┆ …                         ┆ …           ┆ …          ┆ …    ┆ …     │\n",
      "│ South     ┆ Woodlands      ┆ Theft of Vehicle          ┆ 1           ┆ 2023-05    ┆ 2023 ┆ 5     │\n",
      "│ South     ┆ Woodlands      ┆ Theft of Vehicle          ┆ 1           ┆ 2023-02    ┆ 2023 ┆ 2     │\n",
      "│ South     ┆ Woodlands      ┆ Theft of Vehicle          ┆ 1           ┆ 2023-04    ┆ 2023 ┆ 4     │\n",
      "│ South     ┆ Yorkville      ┆ Theft from Vehicle        ┆ 1           ┆ 2023-02    ┆ 2023 ┆ 2     │\n",
      "│ South     ┆ Yorkville      ┆ Theft of Vehicle          ┆ 1           ┆ 2023-03    ┆ 2023 ┆ 3     │\n",
      "└───────────┴────────────────┴───────────────────────────┴─────────────┴────────────┴──────┴───────┘\n"
     ]
    }
   ],
   "source": [
    "# Filtering with dates\n",
    "print(\n",
    "    cc\n",
    "    .filter((pl.col('year') == 2023) & (pl.col('month').is_between(1, 5)))\n",
    ")"
   ]
  },
  {
   "cell_type": "code",
   "execution_count": 229,
   "metadata": {},
   "outputs": [
    {
     "name": "stdout",
     "output_type": "stream",
     "text": [
      "shape: (12_530, 7)\n",
      "┌───────────┬────────────────┬──────────────────┬─────────────┬────────────┬──────┬───────┐\n",
      "│ sector    ┆ community_name ┆ category         ┆ crime_count ┆ year_month ┆ year ┆ month │\n",
      "│ ---       ┆ ---            ┆ ---              ┆ ---         ┆ ---        ┆ ---  ┆ ---   │\n",
      "│ str       ┆ str            ┆ str              ┆ i64         ┆ str        ┆ i32  ┆ i8    │\n",
      "╞═══════════╪════════════════╪══════════════════╪═════════════╪════════════╪══════╪═══════╡\n",
      "│ Northeast ┆ Abbeydale      ┆ Theft of Vehicle ┆ 5           ┆ 2017-08    ┆ 2017 ┆ 8     │\n",
      "│ Northeast ┆ Abbeydale      ┆ Theft of Vehicle ┆ 3           ┆ 2017-09    ┆ 2017 ┆ 9     │\n",
      "│ Northeast ┆ Abbeydale      ┆ Theft of Vehicle ┆ 7           ┆ 2017-03    ┆ 2017 ┆ 3     │\n",
      "│ Northeast ┆ Abbeydale      ┆ Theft of Vehicle ┆ 6           ┆ 2017-05    ┆ 2017 ┆ 5     │\n",
      "│ Northeast ┆ Abbeydale      ┆ Theft of Vehicle ┆ 3           ┆ 2017-02    ┆ 2017 ┆ 2     │\n",
      "│ …         ┆ …              ┆ …                ┆ …           ┆ …          ┆ …    ┆ …     │\n",
      "│ South     ┆ Yorkville      ┆ Theft of Vehicle ┆ 1           ┆ 2020-08    ┆ 2020 ┆ 8     │\n",
      "│ South     ┆ Yorkville      ┆ Theft of Vehicle ┆ 1           ┆ 2022-09    ┆ 2022 ┆ 9     │\n",
      "│ South     ┆ Yorkville      ┆ Theft of Vehicle ┆ 2           ┆ 2022-04    ┆ 2022 ┆ 4     │\n",
      "│ South     ┆ Yorkville      ┆ Theft of Vehicle ┆ 1           ┆ 2022-01    ┆ 2022 ┆ 1     │\n",
      "│ South     ┆ Yorkville      ┆ Theft of Vehicle ┆ 1           ┆ 2023-03    ┆ 2023 ┆ 3     │\n",
      "└───────────┴────────────────┴──────────────────┴─────────────┴────────────┴──────┴───────┘\n"
     ]
    }
   ],
   "source": [
    "# Filtering the data with the keywords\n",
    "print(\n",
    "    cc\n",
    "    .filter(pl.col('category') == 'Theft of Vehicle')\n",
    ")"
   ]
  },
  {
   "cell_type": "code",
   "execution_count": 232,
   "metadata": {},
   "outputs": [
    {
     "name": "stdout",
     "output_type": "stream",
     "text": [
      "shape: (28_616, 7)\n",
      "┌───────────┬────────────────┬────────────────────┬─────────────┬────────────┬──────┬───────┐\n",
      "│ sector    ┆ community_name ┆ category           ┆ crime_count ┆ year_month ┆ year ┆ month │\n",
      "│ ---       ┆ ---            ┆ ---                ┆ ---         ┆ ---        ┆ ---  ┆ ---   │\n",
      "│ str       ┆ str            ┆ str                ┆ i64         ┆ str        ┆ i32  ┆ i8    │\n",
      "╞═══════════╪════════════════╪════════════════════╪═════════════╪════════════╪══════╪═══════╡\n",
      "│ Northeast ┆ Abbeydale      ┆ Theft from Vehicle ┆ 4           ┆ 2017-10    ┆ 2017 ┆ 10    │\n",
      "│ Northeast ┆ Abbeydale      ┆ Theft from Vehicle ┆ 6           ┆ 2017-05    ┆ 2017 ┆ 5     │\n",
      "│ Northeast ┆ Abbeydale      ┆ Theft from Vehicle ┆ 1           ┆ 2017-03    ┆ 2017 ┆ 3     │\n",
      "│ Northeast ┆ Abbeydale      ┆ Theft from Vehicle ┆ 6           ┆ 2017-09    ┆ 2017 ┆ 9     │\n",
      "│ Northeast ┆ Abbeydale      ┆ Theft from Vehicle ┆ 4           ┆ 2017-01    ┆ 2017 ┆ 1     │\n",
      "│ …         ┆ …              ┆ …                  ┆ …           ┆ …          ┆ …    ┆ …     │\n",
      "│ South     ┆ Yorkville      ┆ Theft of Vehicle   ┆ 2           ┆ 2022-04    ┆ 2022 ┆ 4     │\n",
      "│ South     ┆ Yorkville      ┆ Theft of Vehicle   ┆ 1           ┆ 2022-01    ┆ 2022 ┆ 1     │\n",
      "│ South     ┆ Yorkville      ┆ Theft from Vehicle ┆ 1           ┆ 2023-02    ┆ 2023 ┆ 2     │\n",
      "│ South     ┆ Yorkville      ┆ Theft from Vehicle ┆ 1           ┆ 2023-06    ┆ 2023 ┆ 6     │\n",
      "│ South     ┆ Yorkville      ┆ Theft of Vehicle   ┆ 1           ┆ 2023-03    ┆ 2023 ┆ 3     │\n",
      "└───────────┴────────────────┴────────────────────┴─────────────┴────────────┴──────┴───────┘\n"
     ]
    }
   ],
   "source": [
    "# Filtering the data with the keywords\n",
    "print(\n",
    "    cc\n",
    "    .filter(pl.col('category').str.contains('Theft'))\n",
    ")"
   ]
  },
  {
   "cell_type": "code",
   "execution_count": 233,
   "metadata": {},
   "outputs": [
    {
     "name": "stdout",
     "output_type": "stream",
     "text": [
      "shape: (53_285, 7)\n",
      "┌───────────┬────────────────┬────────────────────────┬─────────────┬────────────┬──────┬───────┐\n",
      "│ sector    ┆ community_name ┆ category               ┆ crime_count ┆ year_month ┆ year ┆ month │\n",
      "│ ---       ┆ ---            ┆ ---                    ┆ ---         ┆ ---        ┆ ---  ┆ ---   │\n",
      "│ str       ┆ str            ┆ str                    ┆ i64         ┆ str        ┆ i32  ┆ i8    │\n",
      "╞═══════════╪════════════════╪════════════════════════╪═════════════╪════════════╪══════╪═══════╡\n",
      "│ Northeast ┆ Abbeydale      ┆ Break-ins - Commercial ┆ 1           ┆ 2017-08    ┆ 2017 ┆ 8     │\n",
      "│ Northeast ┆ Abbeydale      ┆ Break-ins - Commercial ┆ 1           ┆ 2017-06    ┆ 2017 ┆ 6     │\n",
      "│ Northeast ┆ Abbeydale      ┆ Break-ins - Commercial ┆ 2           ┆ 2017-09    ┆ 2017 ┆ 9     │\n",
      "│ Northeast ┆ Abbeydale      ┆ Break-ins - Other      ┆ 1           ┆ 2017-08    ┆ 2017 ┆ 8     │\n",
      "│           ┆                ┆ premises               ┆             ┆            ┆      ┆       │\n",
      "│ Northeast ┆ Abbeydale      ┆ Break-ins - Other      ┆ 1           ┆ 2017-01    ┆ 2017 ┆ 1     │\n",
      "│           ┆                ┆ premises               ┆             ┆            ┆      ┆       │\n",
      "│ …         ┆ …              ┆ …                      ┆ …           ┆ …          ┆ …    ┆ …     │\n",
      "│ South     ┆ Yorkville      ┆ Theft of Vehicle       ┆ 2           ┆ 2022-04    ┆ 2022 ┆ 4     │\n",
      "│ South     ┆ Yorkville      ┆ Theft of Vehicle       ┆ 1           ┆ 2022-01    ┆ 2022 ┆ 1     │\n",
      "│ South     ┆ Yorkville      ┆ Theft from Vehicle     ┆ 1           ┆ 2023-02    ┆ 2023 ┆ 2     │\n",
      "│ South     ┆ Yorkville      ┆ Theft from Vehicle     ┆ 1           ┆ 2023-06    ┆ 2023 ┆ 6     │\n",
      "│ South     ┆ Yorkville      ┆ Theft of Vehicle       ┆ 1           ┆ 2023-03    ┆ 2023 ┆ 3     │\n",
      "└───────────┴────────────────┴────────────────────────┴─────────────┴────────────┴──────┴───────┘\n"
     ]
    }
   ],
   "source": [
    "# Filtering the data with the keywords\n",
    "print(\n",
    "    cc\n",
    "    .filter(pl.col('category').str.contains(r'Theft|Break'))\n",
    ")"
   ]
  },
  {
   "cell_type": "code",
   "execution_count": 236,
   "metadata": {},
   "outputs": [
    {
     "name": "stdout",
     "output_type": "stream",
     "text": [
      "shape: (28_616, 7)\n",
      "┌───────────┬────────────────┬────────────────────┬─────────────┬────────────┬──────┬───────┐\n",
      "│ sector    ┆ community_name ┆ category           ┆ crime_count ┆ year_month ┆ year ┆ month │\n",
      "│ ---       ┆ ---            ┆ ---                ┆ ---         ┆ ---        ┆ ---  ┆ ---   │\n",
      "│ str       ┆ str            ┆ str                ┆ i64         ┆ str        ┆ i32  ┆ i8    │\n",
      "╞═══════════╪════════════════╪════════════════════╪═════════════╪════════════╪══════╪═══════╡\n",
      "│ Northeast ┆ Abbeydale      ┆ Theft from Vehicle ┆ 4           ┆ 2017-10    ┆ 2017 ┆ 10    │\n",
      "│ Northeast ┆ Abbeydale      ┆ Theft from Vehicle ┆ 6           ┆ 2017-05    ┆ 2017 ┆ 5     │\n",
      "│ Northeast ┆ Abbeydale      ┆ Theft from Vehicle ┆ 1           ┆ 2017-03    ┆ 2017 ┆ 3     │\n",
      "│ Northeast ┆ Abbeydale      ┆ Theft from Vehicle ┆ 6           ┆ 2017-09    ┆ 2017 ┆ 9     │\n",
      "│ Northeast ┆ Abbeydale      ┆ Theft from Vehicle ┆ 4           ┆ 2017-01    ┆ 2017 ┆ 1     │\n",
      "│ …         ┆ …              ┆ …                  ┆ …           ┆ …          ┆ …    ┆ …     │\n",
      "│ South     ┆ Yorkville      ┆ Theft of Vehicle   ┆ 2           ┆ 2022-04    ┆ 2022 ┆ 4     │\n",
      "│ South     ┆ Yorkville      ┆ Theft of Vehicle   ┆ 1           ┆ 2022-01    ┆ 2022 ┆ 1     │\n",
      "│ South     ┆ Yorkville      ┆ Theft from Vehicle ┆ 1           ┆ 2023-02    ┆ 2023 ┆ 2     │\n",
      "│ South     ┆ Yorkville      ┆ Theft from Vehicle ┆ 1           ┆ 2023-06    ┆ 2023 ┆ 6     │\n",
      "│ South     ┆ Yorkville      ┆ Theft of Vehicle   ┆ 1           ┆ 2023-03    ┆ 2023 ┆ 3     │\n",
      "└───────────┴────────────────┴────────────────────┴─────────────┴────────────┴──────┴───────┘\n"
     ]
    }
   ],
   "source": [
    "# Filtering the data with the keywords\n",
    "print(\n",
    "    cc\n",
    "    .filter(pl.col('category').str.ends_with('Vehicle'))\n",
    ")"
   ]
  },
  {
   "cell_type": "code",
   "execution_count": 237,
   "metadata": {},
   "outputs": [
    {
     "name": "stdout",
     "output_type": "stream",
     "text": [
      "shape: (28_616, 7)\n",
      "┌───────────┬────────────────┬────────────────────┬─────────────┬────────────┬──────┬───────┐\n",
      "│ sector    ┆ community_name ┆ category           ┆ crime_count ┆ year_month ┆ year ┆ month │\n",
      "│ ---       ┆ ---            ┆ ---                ┆ ---         ┆ ---        ┆ ---  ┆ ---   │\n",
      "│ str       ┆ str            ┆ str                ┆ i64         ┆ str        ┆ i32  ┆ i8    │\n",
      "╞═══════════╪════════════════╪════════════════════╪═════════════╪════════════╪══════╪═══════╡\n",
      "│ Northeast ┆ Abbeydale      ┆ Theft from Vehicle ┆ 4           ┆ 2017-10    ┆ 2017 ┆ 10    │\n",
      "│ Northeast ┆ Abbeydale      ┆ Theft from Vehicle ┆ 6           ┆ 2017-05    ┆ 2017 ┆ 5     │\n",
      "│ Northeast ┆ Abbeydale      ┆ Theft from Vehicle ┆ 1           ┆ 2017-03    ┆ 2017 ┆ 3     │\n",
      "│ Northeast ┆ Abbeydale      ┆ Theft from Vehicle ┆ 6           ┆ 2017-09    ┆ 2017 ┆ 9     │\n",
      "│ Northeast ┆ Abbeydale      ┆ Theft from Vehicle ┆ 4           ┆ 2017-01    ┆ 2017 ┆ 1     │\n",
      "│ …         ┆ …              ┆ …                  ┆ …           ┆ …          ┆ …    ┆ …     │\n",
      "│ South     ┆ Yorkville      ┆ Theft of Vehicle   ┆ 2           ┆ 2022-04    ┆ 2022 ┆ 4     │\n",
      "│ South     ┆ Yorkville      ┆ Theft of Vehicle   ┆ 1           ┆ 2022-01    ┆ 2022 ┆ 1     │\n",
      "│ South     ┆ Yorkville      ┆ Theft from Vehicle ┆ 1           ┆ 2023-02    ┆ 2023 ┆ 2     │\n",
      "│ South     ┆ Yorkville      ┆ Theft from Vehicle ┆ 1           ┆ 2023-06    ┆ 2023 ┆ 6     │\n",
      "│ South     ┆ Yorkville      ┆ Theft of Vehicle   ┆ 1           ┆ 2023-03    ┆ 2023 ┆ 3     │\n",
      "└───────────┴────────────────┴────────────────────┴─────────────┴────────────┴──────┴───────┘\n"
     ]
    }
   ],
   "source": [
    "# Filtering the data with the keywords\n",
    "print(\n",
    "    cc\n",
    "    .filter(pl.col('category').str.starts_with('Theft'))\n",
    ")"
   ]
  },
  {
   "cell_type": "code",
   "execution_count": null,
   "metadata": {},
   "outputs": [],
   "source": []
  }
 ],
 "metadata": {
  "kernelspec": {
   "display_name": "po-env",
   "language": "python",
   "name": "python3"
  },
  "language_info": {
   "codemirror_mode": {
    "name": "ipython",
    "version": 3
   },
   "file_extension": ".py",
   "mimetype": "text/x-python",
   "name": "python",
   "nbconvert_exporter": "python",
   "pygments_lexer": "ipython3",
   "version": "3.12.3"
  }
 },
 "nbformat": 4,
 "nbformat_minor": 2
}
